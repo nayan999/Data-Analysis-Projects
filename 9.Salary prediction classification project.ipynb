{
 "cells": [
  {
   "cell_type": "markdown",
   "id": "7166d8f8",
   "metadata": {
    "papermill": {
     "duration": 0.052845,
     "end_time": "2022-05-21T09:09:26.001078",
     "exception": false,
     "start_time": "2022-05-21T09:09:25.948233",
     "status": "completed"
    },
    "tags": []
   },
   "source": [
    "# <b>1 <span style='color:#0386f7de'>|</span> Introduction</b>\n",
    "![](https://bankingfiles.com/wp-content/uploads/2019/09/190208-stock-money-fanned-out-ew-317p_fa445b2f6f3e86a3ffa18707e6a8adcb.fit-760w.jpg)\n",
    "### Context\n",
    "Salary Classification from various aspects (education, marital-status, occupation, race, and somemore..)\n",
    "### Objective\n",
    "Our goal here is to understand the data as much as possible , comparing different models of different companies, asking some\n",
    "questions that will allow us to understand the data beter and predict if the salary whether less than 50K or greater than 50K ?\n",
    "### Explanation of the variables of the dataset\n",
    "1. age : continuous.\n",
    "2. workclass:  a general term to represent the employment status of an individual\n",
    "    - Private, Self-emp-not-inc, Self-emp-inc, Federal-gov, Local-gov, State-gov, Without-pay, Never-worked.\n",
    "3. fnlwgt:  this is the number of people that census believes the entry represents\n",
    "    - continuous.\n",
    "4. education: Preschool , 1st-4th , 5th-6th , 7th-8th , 9th , 10th , 11th , 12th , HS-grad , Prof-school , Assoc-acdm , Assoc-voc , Some-college , Bachelors , Masters , Doctorate\n",
    "5. education-num: a number that describe your education status from preschool to doctorate.\n",
    "6. marital-status: marital status of an individual. Married-civ-spouse corresponds to a civilian spouse while Married-AF-spouse is a spouse in the Armed Forces.\n",
    "- Married-civ-spouse, Divorced, Never-married, Separated, Widowed, Married-spouse-absent, Married-AF-spouse.\n",
    "7. occupation: Tech-support, Craft-repair, Other-service, Sales, Exec-managerial, Prof-specialty, Handlers-cleaners, Machine-op-inspct, Adm-clerical, Farming-fishing, Transport-moving, Priv-house-serv, Protective-serv, Armed-Forces.\n",
    "8. relationship: represents what this individual is relative to other\n",
    "    - Wife, Own-child, Husband, Not-in-family, Other-relative, Unmarried.\n",
    "9. race: White, Asian-Pac-Islander, Amer-Indian-Eskimo, Other, Black.\n",
    "10. sex: Female, Male.\n",
    "11. capital-gain: continuous.\n",
    "12. capital-loss: continuous.\n",
    "13. hours-per-week: continuous.\n",
    "14. native-country: United-States, Cambodia, England, Puerto-Rico, Canada, Germany, Outlying-US(Guam-USVI-etc), India, Japan, Greece, South, China, Cuba, Iran, Honduras, Philippines, Italy, Poland, Jamaica, Vietnam, Mexico, Portugal, Ireland, France, Dominican-Republic, Laos, Ecuador, Taiwan, Haiti, Columbia, Hungary, Guatemala, Nicaragua, Scotland, Thailand, Yugoslavia, El-Salvador, Trinadad&Tobago, Peru, Hong, Holand-Netherlands.\n",
    "15. salary: <=50K or >50K"
   ]
  },
  {
   "cell_type": "markdown",
   "id": "0cee487d",
   "metadata": {
    "papermill": {
     "duration": 0.048918,
     "end_time": "2022-05-21T09:09:26.098211",
     "exception": false,
     "start_time": "2022-05-21T09:09:26.049293",
     "status": "completed"
    },
    "tags": []
   },
   "source": [
    "# <b>2 <span style ='color:#0386f7de'>|</span> Importing Libraries</b>"
   ]
  },
  {
   "cell_type": "code",
   "execution_count": 30,
   "id": "c056dc83",
   "metadata": {
    "execution": {
     "iopub.execute_input": "2022-05-21T09:09:26.199939Z",
     "iopub.status.busy": "2022-05-21T09:09:26.199017Z",
     "iopub.status.idle": "2022-05-21T09:09:27.994399Z",
     "shell.execute_reply": "2022-05-21T09:09:27.993060Z"
    },
    "papermill": {
     "duration": 1.849486,
     "end_time": "2022-05-21T09:09:27.997394",
     "exception": false,
     "start_time": "2022-05-21T09:09:26.147908",
     "status": "completed"
    },
    "tags": []
   },
   "outputs": [],
   "source": [
    "import pandas as pd \n",
    "import numpy as np\n",
    "import matplotlib.pyplot as plt\n",
    "import seaborn as sns\n",
    "from numpy import percentile\n",
    "sns.set_style(\"whitegrid\")\n",
    "from sklearn.ensemble import RandomForestClassifier, AdaBoostClassifier,GradientBoostingClassifier, ExtraTreesClassifier, VotingClassifier\n",
    "from sklearn.discriminant_analysis import LinearDiscriminantAnalysis\n",
    "from sklearn.linear_model import LogisticRegression\n",
    "from sklearn.neighbors import KNeighborsClassifier\n",
    "from sklearn.tree import DecisionTreeClassifier\n",
    "from sklearn.neural_network import MLPClassifier\n",
    "from sklearn.neighbors import KNeighborsClassifier\n",
    "from sklearn.svm import SVC\n",
    "from sklearn.model_selection import GridSearchCV, cross_val_score,StratifiedKFold, learning_curve,RandomizedSearchCV\n",
    "import warnings \n",
    "warnings.filterwarnings('ignore')\n",
    "from sklearn.metrics import accuracy_score, confusion_matrix, classification_report\n",
    "from sklearn.model_selection import cross_val_predict\n"
   ]
  },
  {
   "cell_type": "markdown",
   "id": "16f43f5f",
   "metadata": {
    "papermill": {
     "duration": 0.04962,
     "end_time": "2022-05-21T09:09:28.099225",
     "exception": false,
     "start_time": "2022-05-21T09:09:28.049605",
     "status": "completed"
    },
    "tags": []
   },
   "source": [
    "# <b>3 <span style ='color:#0386f7de'>|</span> Loading the data</b>"
   ]
  },
  {
   "cell_type": "code",
   "execution_count": 2,
   "id": "8731a771",
   "metadata": {
    "execution": {
     "iopub.execute_input": "2022-05-21T09:09:28.199812Z",
     "iopub.status.busy": "2022-05-21T09:09:28.199430Z",
     "iopub.status.idle": "2022-05-21T09:09:28.372384Z",
     "shell.execute_reply": "2022-05-21T09:09:28.371343Z"
    },
    "papermill": {
     "duration": 0.226713,
     "end_time": "2022-05-21T09:09:28.374865",
     "exception": false,
     "start_time": "2022-05-21T09:09:28.148152",
     "status": "completed"
    },
    "tags": []
   },
   "outputs": [
    {
     "data": {
      "text/html": [
       "<div>\n",
       "<style scoped>\n",
       "    .dataframe tbody tr th:only-of-type {\n",
       "        vertical-align: middle;\n",
       "    }\n",
       "\n",
       "    .dataframe tbody tr th {\n",
       "        vertical-align: top;\n",
       "    }\n",
       "\n",
       "    .dataframe thead th {\n",
       "        text-align: right;\n",
       "    }\n",
       "</style>\n",
       "<table border=\"1\" class=\"dataframe\">\n",
       "  <thead>\n",
       "    <tr style=\"text-align: right;\">\n",
       "      <th></th>\n",
       "      <th>age</th>\n",
       "      <th>workclass</th>\n",
       "      <th>fnlwgt</th>\n",
       "      <th>education</th>\n",
       "      <th>education-num</th>\n",
       "      <th>marital-status</th>\n",
       "      <th>occupation</th>\n",
       "      <th>relationship</th>\n",
       "      <th>race</th>\n",
       "      <th>sex</th>\n",
       "      <th>capital-gain</th>\n",
       "      <th>capital-loss</th>\n",
       "      <th>hours-per-week</th>\n",
       "      <th>native-country</th>\n",
       "      <th>salary</th>\n",
       "    </tr>\n",
       "  </thead>\n",
       "  <tbody>\n",
       "    <tr>\n",
       "      <th>0</th>\n",
       "      <td>39</td>\n",
       "      <td>State-gov</td>\n",
       "      <td>77516</td>\n",
       "      <td>Bachelors</td>\n",
       "      <td>13</td>\n",
       "      <td>Never-married</td>\n",
       "      <td>Adm-clerical</td>\n",
       "      <td>Not-in-family</td>\n",
       "      <td>White</td>\n",
       "      <td>Male</td>\n",
       "      <td>2174</td>\n",
       "      <td>0</td>\n",
       "      <td>40</td>\n",
       "      <td>United-States</td>\n",
       "      <td>&lt;=50K</td>\n",
       "    </tr>\n",
       "    <tr>\n",
       "      <th>1</th>\n",
       "      <td>50</td>\n",
       "      <td>Self-emp-not-inc</td>\n",
       "      <td>83311</td>\n",
       "      <td>Bachelors</td>\n",
       "      <td>13</td>\n",
       "      <td>Married-civ-spouse</td>\n",
       "      <td>Exec-managerial</td>\n",
       "      <td>Husband</td>\n",
       "      <td>White</td>\n",
       "      <td>Male</td>\n",
       "      <td>0</td>\n",
       "      <td>0</td>\n",
       "      <td>13</td>\n",
       "      <td>United-States</td>\n",
       "      <td>&lt;=50K</td>\n",
       "    </tr>\n",
       "    <tr>\n",
       "      <th>2</th>\n",
       "      <td>38</td>\n",
       "      <td>Private</td>\n",
       "      <td>215646</td>\n",
       "      <td>HS-grad</td>\n",
       "      <td>9</td>\n",
       "      <td>Divorced</td>\n",
       "      <td>Handlers-cleaners</td>\n",
       "      <td>Not-in-family</td>\n",
       "      <td>White</td>\n",
       "      <td>Male</td>\n",
       "      <td>0</td>\n",
       "      <td>0</td>\n",
       "      <td>40</td>\n",
       "      <td>United-States</td>\n",
       "      <td>&lt;=50K</td>\n",
       "    </tr>\n",
       "    <tr>\n",
       "      <th>3</th>\n",
       "      <td>53</td>\n",
       "      <td>Private</td>\n",
       "      <td>234721</td>\n",
       "      <td>11th</td>\n",
       "      <td>7</td>\n",
       "      <td>Married-civ-spouse</td>\n",
       "      <td>Handlers-cleaners</td>\n",
       "      <td>Husband</td>\n",
       "      <td>Black</td>\n",
       "      <td>Male</td>\n",
       "      <td>0</td>\n",
       "      <td>0</td>\n",
       "      <td>40</td>\n",
       "      <td>United-States</td>\n",
       "      <td>&lt;=50K</td>\n",
       "    </tr>\n",
       "    <tr>\n",
       "      <th>4</th>\n",
       "      <td>28</td>\n",
       "      <td>Private</td>\n",
       "      <td>338409</td>\n",
       "      <td>Bachelors</td>\n",
       "      <td>13</td>\n",
       "      <td>Married-civ-spouse</td>\n",
       "      <td>Prof-specialty</td>\n",
       "      <td>Wife</td>\n",
       "      <td>Black</td>\n",
       "      <td>Female</td>\n",
       "      <td>0</td>\n",
       "      <td>0</td>\n",
       "      <td>40</td>\n",
       "      <td>Cuba</td>\n",
       "      <td>&lt;=50K</td>\n",
       "    </tr>\n",
       "    <tr>\n",
       "      <th>...</th>\n",
       "      <td>...</td>\n",
       "      <td>...</td>\n",
       "      <td>...</td>\n",
       "      <td>...</td>\n",
       "      <td>...</td>\n",
       "      <td>...</td>\n",
       "      <td>...</td>\n",
       "      <td>...</td>\n",
       "      <td>...</td>\n",
       "      <td>...</td>\n",
       "      <td>...</td>\n",
       "      <td>...</td>\n",
       "      <td>...</td>\n",
       "      <td>...</td>\n",
       "      <td>...</td>\n",
       "    </tr>\n",
       "    <tr>\n",
       "      <th>32556</th>\n",
       "      <td>27</td>\n",
       "      <td>Private</td>\n",
       "      <td>257302</td>\n",
       "      <td>Assoc-acdm</td>\n",
       "      <td>12</td>\n",
       "      <td>Married-civ-spouse</td>\n",
       "      <td>Tech-support</td>\n",
       "      <td>Wife</td>\n",
       "      <td>White</td>\n",
       "      <td>Female</td>\n",
       "      <td>0</td>\n",
       "      <td>0</td>\n",
       "      <td>38</td>\n",
       "      <td>United-States</td>\n",
       "      <td>&lt;=50K</td>\n",
       "    </tr>\n",
       "    <tr>\n",
       "      <th>32557</th>\n",
       "      <td>40</td>\n",
       "      <td>Private</td>\n",
       "      <td>154374</td>\n",
       "      <td>HS-grad</td>\n",
       "      <td>9</td>\n",
       "      <td>Married-civ-spouse</td>\n",
       "      <td>Machine-op-inspct</td>\n",
       "      <td>Husband</td>\n",
       "      <td>White</td>\n",
       "      <td>Male</td>\n",
       "      <td>0</td>\n",
       "      <td>0</td>\n",
       "      <td>40</td>\n",
       "      <td>United-States</td>\n",
       "      <td>&gt;50K</td>\n",
       "    </tr>\n",
       "    <tr>\n",
       "      <th>32558</th>\n",
       "      <td>58</td>\n",
       "      <td>Private</td>\n",
       "      <td>151910</td>\n",
       "      <td>HS-grad</td>\n",
       "      <td>9</td>\n",
       "      <td>Widowed</td>\n",
       "      <td>Adm-clerical</td>\n",
       "      <td>Unmarried</td>\n",
       "      <td>White</td>\n",
       "      <td>Female</td>\n",
       "      <td>0</td>\n",
       "      <td>0</td>\n",
       "      <td>40</td>\n",
       "      <td>United-States</td>\n",
       "      <td>&lt;=50K</td>\n",
       "    </tr>\n",
       "    <tr>\n",
       "      <th>32559</th>\n",
       "      <td>22</td>\n",
       "      <td>Private</td>\n",
       "      <td>201490</td>\n",
       "      <td>HS-grad</td>\n",
       "      <td>9</td>\n",
       "      <td>Never-married</td>\n",
       "      <td>Adm-clerical</td>\n",
       "      <td>Own-child</td>\n",
       "      <td>White</td>\n",
       "      <td>Male</td>\n",
       "      <td>0</td>\n",
       "      <td>0</td>\n",
       "      <td>20</td>\n",
       "      <td>United-States</td>\n",
       "      <td>&lt;=50K</td>\n",
       "    </tr>\n",
       "    <tr>\n",
       "      <th>32560</th>\n",
       "      <td>52</td>\n",
       "      <td>Self-emp-inc</td>\n",
       "      <td>287927</td>\n",
       "      <td>HS-grad</td>\n",
       "      <td>9</td>\n",
       "      <td>Married-civ-spouse</td>\n",
       "      <td>Exec-managerial</td>\n",
       "      <td>Wife</td>\n",
       "      <td>White</td>\n",
       "      <td>Female</td>\n",
       "      <td>15024</td>\n",
       "      <td>0</td>\n",
       "      <td>40</td>\n",
       "      <td>United-States</td>\n",
       "      <td>&gt;50K</td>\n",
       "    </tr>\n",
       "  </tbody>\n",
       "</table>\n",
       "<p>32561 rows × 15 columns</p>\n",
       "</div>"
      ],
      "text/plain": [
       "       age          workclass  fnlwgt    education  education-num  \\\n",
       "0       39          State-gov   77516    Bachelors             13   \n",
       "1       50   Self-emp-not-inc   83311    Bachelors             13   \n",
       "2       38            Private  215646      HS-grad              9   \n",
       "3       53            Private  234721         11th              7   \n",
       "4       28            Private  338409    Bachelors             13   \n",
       "...    ...                ...     ...          ...            ...   \n",
       "32556   27            Private  257302   Assoc-acdm             12   \n",
       "32557   40            Private  154374      HS-grad              9   \n",
       "32558   58            Private  151910      HS-grad              9   \n",
       "32559   22            Private  201490      HS-grad              9   \n",
       "32560   52       Self-emp-inc  287927      HS-grad              9   \n",
       "\n",
       "            marital-status          occupation    relationship    race  \\\n",
       "0            Never-married        Adm-clerical   Not-in-family   White   \n",
       "1       Married-civ-spouse     Exec-managerial         Husband   White   \n",
       "2                 Divorced   Handlers-cleaners   Not-in-family   White   \n",
       "3       Married-civ-spouse   Handlers-cleaners         Husband   Black   \n",
       "4       Married-civ-spouse      Prof-specialty            Wife   Black   \n",
       "...                    ...                 ...             ...     ...   \n",
       "32556   Married-civ-spouse        Tech-support            Wife   White   \n",
       "32557   Married-civ-spouse   Machine-op-inspct         Husband   White   \n",
       "32558              Widowed        Adm-clerical       Unmarried   White   \n",
       "32559        Never-married        Adm-clerical       Own-child   White   \n",
       "32560   Married-civ-spouse     Exec-managerial            Wife   White   \n",
       "\n",
       "           sex  capital-gain  capital-loss  hours-per-week  native-country  \\\n",
       "0         Male          2174             0              40   United-States   \n",
       "1         Male             0             0              13   United-States   \n",
       "2         Male             0             0              40   United-States   \n",
       "3         Male             0             0              40   United-States   \n",
       "4       Female             0             0              40            Cuba   \n",
       "...        ...           ...           ...             ...             ...   \n",
       "32556   Female             0             0              38   United-States   \n",
       "32557     Male             0             0              40   United-States   \n",
       "32558   Female             0             0              40   United-States   \n",
       "32559     Male             0             0              20   United-States   \n",
       "32560   Female         15024             0              40   United-States   \n",
       "\n",
       "       salary  \n",
       "0       <=50K  \n",
       "1       <=50K  \n",
       "2       <=50K  \n",
       "3       <=50K  \n",
       "4       <=50K  \n",
       "...       ...  \n",
       "32556   <=50K  \n",
       "32557    >50K  \n",
       "32558   <=50K  \n",
       "32559   <=50K  \n",
       "32560    >50K  \n",
       "\n",
       "[32561 rows x 15 columns]"
      ]
     },
     "execution_count": 2,
     "metadata": {},
     "output_type": "execute_result"
    }
   ],
   "source": [
    "df = pd.read_csv('D:\\Excel files\\salary prediction classification\\salary.csv')\n",
    "df"
   ]
  },
  {
   "cell_type": "markdown",
   "id": "c0eedf88",
   "metadata": {
    "papermill": {
     "duration": 0.049711,
     "end_time": "2022-05-21T09:09:28.475125",
     "exception": false,
     "start_time": "2022-05-21T09:09:28.425414",
     "status": "completed"
    },
    "tags": []
   },
   "source": [
    "# <b>4 <span style ='color:#0386f7de'>|</span> Cleaning the data</b>"
   ]
  },
  {
   "cell_type": "markdown",
   "id": "b7527cf4",
   "metadata": {
    "papermill": {
     "duration": 0.049713,
     "end_time": "2022-05-21T09:09:28.574990",
     "exception": false,
     "start_time": "2022-05-21T09:09:28.525277",
     "status": "completed"
    },
    "tags": []
   },
   "source": [
    "<div style=\"color:white;display:fill;border-radius:8px;\n",
    "            background-color:#363c40de;font-size:150%;\n",
    "            font-family:Nexa;letter-spacing:0.5px\">\n",
    "    <p style=\"padding: 8px;color:white;\"><b>4.1 | Basic data cleaning</b></p>\n",
    "</div>\n",
    "<div style=\"color:white;display:fill;border-radius:8px"
   ]
  },
  {
   "cell_type": "code",
   "execution_count": 3,
   "id": "35d8b30d",
   "metadata": {
    "execution": {
     "iopub.execute_input": "2022-05-21T09:09:28.678386Z",
     "iopub.status.busy": "2022-05-21T09:09:28.678024Z",
     "iopub.status.idle": "2022-05-21T09:09:28.712750Z",
     "shell.execute_reply": "2022-05-21T09:09:28.712006Z"
    },
    "papermill": {
     "duration": 0.09,
     "end_time": "2022-05-21T09:09:28.714932",
     "exception": false,
     "start_time": "2022-05-21T09:09:28.624932",
     "status": "completed"
    },
    "tags": []
   },
   "outputs": [
    {
     "data": {
      "text/plain": [
       "age                  73\n",
       "workclass             9\n",
       "fnlwgt            21648\n",
       "education            16\n",
       "education-num        16\n",
       "marital-status        7\n",
       "occupation           15\n",
       "relationship          6\n",
       "race                  5\n",
       "sex                   2\n",
       "capital-gain        119\n",
       "capital-loss         92\n",
       "hours-per-week       94\n",
       "native-country       42\n",
       "salary                2\n",
       "dtype: int64"
      ]
     },
     "execution_count": 3,
     "metadata": {},
     "output_type": "execute_result"
    }
   ],
   "source": [
    "counts = df.nunique()\n",
    "counts"
   ]
  },
  {
   "cell_type": "markdown",
   "id": "52ce2866",
   "metadata": {
    "papermill": {
     "duration": 0.050731,
     "end_time": "2022-05-21T09:09:28.816369",
     "exception": false,
     "start_time": "2022-05-21T09:09:28.765638",
     "status": "completed"
    },
    "tags": []
   },
   "source": [
    "<b>fnlwgt</b> has that number of unique values because as i said above it represnt the number of people that have the same entry"
   ]
  },
  {
   "cell_type": "code",
   "execution_count": 4,
   "id": "4291ba83",
   "metadata": {
    "execution": {
     "iopub.execute_input": "2022-05-21T09:09:28.919223Z",
     "iopub.status.busy": "2022-05-21T09:09:28.918304Z",
     "iopub.status.idle": "2022-05-21T09:09:28.964542Z",
     "shell.execute_reply": "2022-05-21T09:09:28.963787Z"
    },
    "papermill": {
     "duration": 0.100257,
     "end_time": "2022-05-21T09:09:28.966968",
     "exception": false,
     "start_time": "2022-05-21T09:09:28.866711",
     "status": "completed"
    },
    "tags": []
   },
   "outputs": [],
   "source": [
    "df.drop_duplicates(inplace=True)"
   ]
  },
  {
   "cell_type": "markdown",
   "id": "168e8e05",
   "metadata": {
    "papermill": {
     "duration": 0.051988,
     "end_time": "2022-05-21T09:09:29.069666",
     "exception": false,
     "start_time": "2022-05-21T09:09:29.017678",
     "status": "completed"
    },
    "tags": []
   },
   "source": [
    "<div style=\"color:white;display:fill;border-radius:8px;\n",
    "            background-color:#363c40de;font-size:150%;\n",
    "            font-family:Nexa;letter-spacing:0.5px\">\n",
    "    <p style=\"padding: 8px;color:white;\"><b>4.2 | Outlier Identification and Removal\n",
    "</b></p>\n",
    "</div>\n",
    "<div style=\"color:white;display:fill;border-radius:8px"
   ]
  },
  {
   "cell_type": "code",
   "execution_count": 5,
   "id": "f004a3a1",
   "metadata": {
    "execution": {
     "iopub.execute_input": "2022-05-21T09:09:29.175259Z",
     "iopub.status.busy": "2022-05-21T09:09:29.174871Z",
     "iopub.status.idle": "2022-05-21T09:09:29.180925Z",
     "shell.execute_reply": "2022-05-21T09:09:29.180134Z"
    },
    "papermill": {
     "duration": 0.061632,
     "end_time": "2022-05-21T09:09:29.182941",
     "exception": false,
     "start_time": "2022-05-21T09:09:29.121309",
     "status": "completed"
    },
    "tags": []
   },
   "outputs": [],
   "source": [
    "def remove_outlier_IQR(df):\n",
    "    num_columns = [x for x in df.columns if df[x].dtype !=object]\n",
    "    reduced_df=df[num_columns]\n",
    "    Q1=reduced_df.quantile(0.25)\n",
    "    Q3=reduced_df.quantile(0.75)\n",
    "    IQR=Q3-Q1\n",
    "    df_final_index=reduced_df[~((reduced_df<(Q1-1.5*IQR)) | (reduced_df>(Q3+1.5*IQR)))].index\n",
    "    return df.loc[df_final_index.values]"
   ]
  },
  {
   "cell_type": "code",
   "execution_count": 6,
   "id": "cc0b1050",
   "metadata": {
    "execution": {
     "iopub.execute_input": "2022-05-21T09:09:29.288913Z",
     "iopub.status.busy": "2022-05-21T09:09:29.288298Z",
     "iopub.status.idle": "2022-05-21T09:09:29.348532Z",
     "shell.execute_reply": "2022-05-21T09:09:29.347834Z"
    },
    "papermill": {
     "duration": 0.113759,
     "end_time": "2022-05-21T09:09:29.350530",
     "exception": false,
     "start_time": "2022-05-21T09:09:29.236771",
     "status": "completed"
    },
    "tags": []
   },
   "outputs": [
    {
     "data": {
      "text/html": [
       "<div>\n",
       "<style scoped>\n",
       "    .dataframe tbody tr th:only-of-type {\n",
       "        vertical-align: middle;\n",
       "    }\n",
       "\n",
       "    .dataframe tbody tr th {\n",
       "        vertical-align: top;\n",
       "    }\n",
       "\n",
       "    .dataframe thead th {\n",
       "        text-align: right;\n",
       "    }\n",
       "</style>\n",
       "<table border=\"1\" class=\"dataframe\">\n",
       "  <thead>\n",
       "    <tr style=\"text-align: right;\">\n",
       "      <th></th>\n",
       "      <th>age</th>\n",
       "      <th>workclass</th>\n",
       "      <th>fnlwgt</th>\n",
       "      <th>education</th>\n",
       "      <th>education-num</th>\n",
       "      <th>marital-status</th>\n",
       "      <th>occupation</th>\n",
       "      <th>relationship</th>\n",
       "      <th>race</th>\n",
       "      <th>sex</th>\n",
       "      <th>capital-gain</th>\n",
       "      <th>capital-loss</th>\n",
       "      <th>hours-per-week</th>\n",
       "      <th>native-country</th>\n",
       "      <th>salary</th>\n",
       "    </tr>\n",
       "  </thead>\n",
       "  <tbody>\n",
       "    <tr>\n",
       "      <th>0</th>\n",
       "      <td>39</td>\n",
       "      <td>State-gov</td>\n",
       "      <td>77516</td>\n",
       "      <td>Bachelors</td>\n",
       "      <td>13</td>\n",
       "      <td>Never-married</td>\n",
       "      <td>Adm-clerical</td>\n",
       "      <td>Not-in-family</td>\n",
       "      <td>White</td>\n",
       "      <td>Male</td>\n",
       "      <td>2174</td>\n",
       "      <td>0</td>\n",
       "      <td>40</td>\n",
       "      <td>United-States</td>\n",
       "      <td>&lt;=50K</td>\n",
       "    </tr>\n",
       "    <tr>\n",
       "      <th>1</th>\n",
       "      <td>50</td>\n",
       "      <td>Self-emp-not-inc</td>\n",
       "      <td>83311</td>\n",
       "      <td>Bachelors</td>\n",
       "      <td>13</td>\n",
       "      <td>Married-civ-spouse</td>\n",
       "      <td>Exec-managerial</td>\n",
       "      <td>Husband</td>\n",
       "      <td>White</td>\n",
       "      <td>Male</td>\n",
       "      <td>0</td>\n",
       "      <td>0</td>\n",
       "      <td>13</td>\n",
       "      <td>United-States</td>\n",
       "      <td>&lt;=50K</td>\n",
       "    </tr>\n",
       "    <tr>\n",
       "      <th>2</th>\n",
       "      <td>38</td>\n",
       "      <td>Private</td>\n",
       "      <td>215646</td>\n",
       "      <td>HS-grad</td>\n",
       "      <td>9</td>\n",
       "      <td>Divorced</td>\n",
       "      <td>Handlers-cleaners</td>\n",
       "      <td>Not-in-family</td>\n",
       "      <td>White</td>\n",
       "      <td>Male</td>\n",
       "      <td>0</td>\n",
       "      <td>0</td>\n",
       "      <td>40</td>\n",
       "      <td>United-States</td>\n",
       "      <td>&lt;=50K</td>\n",
       "    </tr>\n",
       "    <tr>\n",
       "      <th>3</th>\n",
       "      <td>53</td>\n",
       "      <td>Private</td>\n",
       "      <td>234721</td>\n",
       "      <td>11th</td>\n",
       "      <td>7</td>\n",
       "      <td>Married-civ-spouse</td>\n",
       "      <td>Handlers-cleaners</td>\n",
       "      <td>Husband</td>\n",
       "      <td>Black</td>\n",
       "      <td>Male</td>\n",
       "      <td>0</td>\n",
       "      <td>0</td>\n",
       "      <td>40</td>\n",
       "      <td>United-States</td>\n",
       "      <td>&lt;=50K</td>\n",
       "    </tr>\n",
       "    <tr>\n",
       "      <th>4</th>\n",
       "      <td>28</td>\n",
       "      <td>Private</td>\n",
       "      <td>338409</td>\n",
       "      <td>Bachelors</td>\n",
       "      <td>13</td>\n",
       "      <td>Married-civ-spouse</td>\n",
       "      <td>Prof-specialty</td>\n",
       "      <td>Wife</td>\n",
       "      <td>Black</td>\n",
       "      <td>Female</td>\n",
       "      <td>0</td>\n",
       "      <td>0</td>\n",
       "      <td>40</td>\n",
       "      <td>Cuba</td>\n",
       "      <td>&lt;=50K</td>\n",
       "    </tr>\n",
       "    <tr>\n",
       "      <th>...</th>\n",
       "      <td>...</td>\n",
       "      <td>...</td>\n",
       "      <td>...</td>\n",
       "      <td>...</td>\n",
       "      <td>...</td>\n",
       "      <td>...</td>\n",
       "      <td>...</td>\n",
       "      <td>...</td>\n",
       "      <td>...</td>\n",
       "      <td>...</td>\n",
       "      <td>...</td>\n",
       "      <td>...</td>\n",
       "      <td>...</td>\n",
       "      <td>...</td>\n",
       "      <td>...</td>\n",
       "    </tr>\n",
       "    <tr>\n",
       "      <th>32556</th>\n",
       "      <td>27</td>\n",
       "      <td>Private</td>\n",
       "      <td>257302</td>\n",
       "      <td>Assoc-acdm</td>\n",
       "      <td>12</td>\n",
       "      <td>Married-civ-spouse</td>\n",
       "      <td>Tech-support</td>\n",
       "      <td>Wife</td>\n",
       "      <td>White</td>\n",
       "      <td>Female</td>\n",
       "      <td>0</td>\n",
       "      <td>0</td>\n",
       "      <td>38</td>\n",
       "      <td>United-States</td>\n",
       "      <td>&lt;=50K</td>\n",
       "    </tr>\n",
       "    <tr>\n",
       "      <th>32557</th>\n",
       "      <td>40</td>\n",
       "      <td>Private</td>\n",
       "      <td>154374</td>\n",
       "      <td>HS-grad</td>\n",
       "      <td>9</td>\n",
       "      <td>Married-civ-spouse</td>\n",
       "      <td>Machine-op-inspct</td>\n",
       "      <td>Husband</td>\n",
       "      <td>White</td>\n",
       "      <td>Male</td>\n",
       "      <td>0</td>\n",
       "      <td>0</td>\n",
       "      <td>40</td>\n",
       "      <td>United-States</td>\n",
       "      <td>&gt;50K</td>\n",
       "    </tr>\n",
       "    <tr>\n",
       "      <th>32558</th>\n",
       "      <td>58</td>\n",
       "      <td>Private</td>\n",
       "      <td>151910</td>\n",
       "      <td>HS-grad</td>\n",
       "      <td>9</td>\n",
       "      <td>Widowed</td>\n",
       "      <td>Adm-clerical</td>\n",
       "      <td>Unmarried</td>\n",
       "      <td>White</td>\n",
       "      <td>Female</td>\n",
       "      <td>0</td>\n",
       "      <td>0</td>\n",
       "      <td>40</td>\n",
       "      <td>United-States</td>\n",
       "      <td>&lt;=50K</td>\n",
       "    </tr>\n",
       "    <tr>\n",
       "      <th>32559</th>\n",
       "      <td>22</td>\n",
       "      <td>Private</td>\n",
       "      <td>201490</td>\n",
       "      <td>HS-grad</td>\n",
       "      <td>9</td>\n",
       "      <td>Never-married</td>\n",
       "      <td>Adm-clerical</td>\n",
       "      <td>Own-child</td>\n",
       "      <td>White</td>\n",
       "      <td>Male</td>\n",
       "      <td>0</td>\n",
       "      <td>0</td>\n",
       "      <td>20</td>\n",
       "      <td>United-States</td>\n",
       "      <td>&lt;=50K</td>\n",
       "    </tr>\n",
       "    <tr>\n",
       "      <th>32560</th>\n",
       "      <td>52</td>\n",
       "      <td>Self-emp-inc</td>\n",
       "      <td>287927</td>\n",
       "      <td>HS-grad</td>\n",
       "      <td>9</td>\n",
       "      <td>Married-civ-spouse</td>\n",
       "      <td>Exec-managerial</td>\n",
       "      <td>Wife</td>\n",
       "      <td>White</td>\n",
       "      <td>Female</td>\n",
       "      <td>15024</td>\n",
       "      <td>0</td>\n",
       "      <td>40</td>\n",
       "      <td>United-States</td>\n",
       "      <td>&gt;50K</td>\n",
       "    </tr>\n",
       "  </tbody>\n",
       "</table>\n",
       "<p>32537 rows × 15 columns</p>\n",
       "</div>"
      ],
      "text/plain": [
       "       age          workclass  fnlwgt    education  education-num  \\\n",
       "0       39          State-gov   77516    Bachelors             13   \n",
       "1       50   Self-emp-not-inc   83311    Bachelors             13   \n",
       "2       38            Private  215646      HS-grad              9   \n",
       "3       53            Private  234721         11th              7   \n",
       "4       28            Private  338409    Bachelors             13   \n",
       "...    ...                ...     ...          ...            ...   \n",
       "32556   27            Private  257302   Assoc-acdm             12   \n",
       "32557   40            Private  154374      HS-grad              9   \n",
       "32558   58            Private  151910      HS-grad              9   \n",
       "32559   22            Private  201490      HS-grad              9   \n",
       "32560   52       Self-emp-inc  287927      HS-grad              9   \n",
       "\n",
       "            marital-status          occupation    relationship    race  \\\n",
       "0            Never-married        Adm-clerical   Not-in-family   White   \n",
       "1       Married-civ-spouse     Exec-managerial         Husband   White   \n",
       "2                 Divorced   Handlers-cleaners   Not-in-family   White   \n",
       "3       Married-civ-spouse   Handlers-cleaners         Husband   Black   \n",
       "4       Married-civ-spouse      Prof-specialty            Wife   Black   \n",
       "...                    ...                 ...             ...     ...   \n",
       "32556   Married-civ-spouse        Tech-support            Wife   White   \n",
       "32557   Married-civ-spouse   Machine-op-inspct         Husband   White   \n",
       "32558              Widowed        Adm-clerical       Unmarried   White   \n",
       "32559        Never-married        Adm-clerical       Own-child   White   \n",
       "32560   Married-civ-spouse     Exec-managerial            Wife   White   \n",
       "\n",
       "           sex  capital-gain  capital-loss  hours-per-week  native-country  \\\n",
       "0         Male          2174             0              40   United-States   \n",
       "1         Male             0             0              13   United-States   \n",
       "2         Male             0             0              40   United-States   \n",
       "3         Male             0             0              40   United-States   \n",
       "4       Female             0             0              40            Cuba   \n",
       "...        ...           ...           ...             ...             ...   \n",
       "32556   Female             0             0              38   United-States   \n",
       "32557     Male             0             0              40   United-States   \n",
       "32558   Female             0             0              40   United-States   \n",
       "32559     Male             0             0              20   United-States   \n",
       "32560   Female         15024             0              40   United-States   \n",
       "\n",
       "       salary  \n",
       "0       <=50K  \n",
       "1       <=50K  \n",
       "2       <=50K  \n",
       "3       <=50K  \n",
       "4       <=50K  \n",
       "...       ...  \n",
       "32556   <=50K  \n",
       "32557    >50K  \n",
       "32558   <=50K  \n",
       "32559   <=50K  \n",
       "32560    >50K  \n",
       "\n",
       "[32537 rows x 15 columns]"
      ]
     },
     "execution_count": 6,
     "metadata": {},
     "output_type": "execute_result"
    }
   ],
   "source": [
    "df= remove_outlier_IQR(df)\n",
    "df"
   ]
  },
  {
   "cell_type": "markdown",
   "id": "86916f49",
   "metadata": {
    "papermill": {
     "duration": 0.052943,
     "end_time": "2022-05-21T09:09:29.453853",
     "exception": false,
     "start_time": "2022-05-21T09:09:29.400910",
     "status": "completed"
    },
    "tags": []
   },
   "source": [
    "<div style=\"color:white;display:fill;border-radius:8px;\n",
    "            background-color:#363c40de;font-size:150%;\n",
    "            font-family:Nexa;letter-spacing:0.5px\">\n",
    "    <p style=\"padding: 8px;color:white;\"><b>4.3 | Mark and Remove Missing Data\n",
    "</b></p>\n",
    "</div>\n",
    "<div style=\"color:white;display:fill;border-radius:8px"
   ]
  },
  {
   "cell_type": "code",
   "execution_count": 7,
   "id": "ad38a756",
   "metadata": {
    "execution": {
     "iopub.execute_input": "2022-05-21T09:09:29.558697Z",
     "iopub.status.busy": "2022-05-21T09:09:29.558062Z",
     "iopub.status.idle": "2022-05-21T09:09:29.579819Z",
     "shell.execute_reply": "2022-05-21T09:09:29.578770Z"
    },
    "papermill": {
     "duration": 0.077395,
     "end_time": "2022-05-21T09:09:29.582110",
     "exception": false,
     "start_time": "2022-05-21T09:09:29.504715",
     "status": "completed"
    },
    "tags": []
   },
   "outputs": [
    {
     "data": {
      "text/plain": [
       "age               0\n",
       "workclass         0\n",
       "fnlwgt            0\n",
       "education         0\n",
       "education-num     0\n",
       "marital-status    0\n",
       "occupation        0\n",
       "relationship      0\n",
       "race              0\n",
       "sex               0\n",
       "capital-gain      0\n",
       "capital-loss      0\n",
       "hours-per-week    0\n",
       "native-country    0\n",
       "salary            0\n",
       "dtype: int64"
      ]
     },
     "execution_count": 7,
     "metadata": {},
     "output_type": "execute_result"
    }
   ],
   "source": [
    "df.isna().sum()"
   ]
  },
  {
   "cell_type": "markdown",
   "id": "c1892dbf",
   "metadata": {
    "papermill": {
     "duration": 0.052,
     "end_time": "2022-05-21T09:09:29.686483",
     "exception": false,
     "start_time": "2022-05-21T09:09:29.634483",
     "status": "completed"
    },
    "tags": []
   },
   "source": [
    "#### Sounds clean !"
   ]
  },
  {
   "cell_type": "markdown",
   "id": "61d1abfb",
   "metadata": {
    "papermill": {
     "duration": 0.053549,
     "end_time": "2022-05-21T09:09:29.903827",
     "exception": false,
     "start_time": "2022-05-21T09:09:29.850278",
     "status": "completed"
    },
    "tags": []
   },
   "source": [
    "<div style=\"color:white;display:fill;border-radius:8px;\n",
    "            background-color:#363c40de;font-size:150%;\n",
    "            font-family:Nexa;letter-spacing:0.5px\">\n",
    "    <p style=\"padding: 8px;color:white;\"><b>5.1 | Does the older get more money ?\n",
    "</b></p>\n",
    "</div>\n",
    "<div style=\"color:white;display:fill;border-radius:8px"
   ]
  },
  {
   "cell_type": "code",
   "execution_count": 8,
   "id": "1d575a27",
   "metadata": {
    "execution": {
     "iopub.execute_input": "2022-05-21T09:09:30.027591Z",
     "iopub.status.busy": "2022-05-21T09:09:30.026909Z",
     "iopub.status.idle": "2022-05-21T09:09:30.592481Z",
     "shell.execute_reply": "2022-05-21T09:09:30.591470Z"
    },
    "papermill": {
     "duration": 0.635715,
     "end_time": "2022-05-21T09:09:30.594985",
     "exception": false,
     "start_time": "2022-05-21T09:09:29.959270",
     "status": "completed"
    },
    "tags": []
   },
   "outputs": [
    {
     "data": {
      "image/png": "[encoded data removed]",
      "text/plain": [
       "<Figure size 1008x576 with 1 Axes>"
      ]
     },
     "metadata": {},
     "output_type": "display_data"
    }
   ],
   "source": [
    "plt.figure(figsize=(14,8))\n",
    "sns.kdeplot(data = df , x = 'age' ,hue='salary')\n",
    "plt.show()"
   ]
  },
  {
   "cell_type": "markdown",
   "id": "26d2bf07",
   "metadata": {
    "papermill": {
     "duration": 0.055707,
     "end_time": "2022-05-21T09:09:30.717141",
     "exception": false,
     "start_time": "2022-05-21T09:09:30.661434",
     "status": "completed"
    },
    "tags": []
   },
   "source": [
    "### what do you see and dose that make sence?\n",
    "- not exactly, In the early twenties people start making more money till the peak at the forties, then starting gaining less money\n",
    "\n",
    "### related questions ?\n",
    "1. what is the jobs of those who are 80 years old ?\n",
    "2. what is the jobs of those who are less than 20 years old and making more than 50K ?"
   ]
  },
  {
   "cell_type": "code",
   "execution_count": 9,
   "id": "ff25c869",
   "metadata": {
    "execution": {
     "iopub.execute_input": "2022-05-21T09:09:30.826907Z",
     "iopub.status.busy": "2022-05-21T09:09:30.826550Z",
     "iopub.status.idle": "2022-05-21T09:09:30.848172Z",
     "shell.execute_reply": "2022-05-21T09:09:30.847256Z"
    },
    "papermill": {
     "duration": 0.078782,
     "end_time": "2022-05-21T09:09:30.850480",
     "exception": false,
     "start_time": "2022-05-21T09:09:30.771698",
     "status": "completed"
    },
    "tags": []
   },
   "outputs": [
    {
     "data": {
      "text/html": [
       "<div>\n",
       "<style scoped>\n",
       "    .dataframe tbody tr th:only-of-type {\n",
       "        vertical-align: middle;\n",
       "    }\n",
       "\n",
       "    .dataframe tbody tr th {\n",
       "        vertical-align: top;\n",
       "    }\n",
       "\n",
       "    .dataframe thead th {\n",
       "        text-align: right;\n",
       "    }\n",
       "</style>\n",
       "<table border=\"1\" class=\"dataframe\">\n",
       "  <thead>\n",
       "    <tr style=\"text-align: right;\">\n",
       "      <th></th>\n",
       "      <th>age</th>\n",
       "      <th>workclass</th>\n",
       "      <th>fnlwgt</th>\n",
       "      <th>education</th>\n",
       "      <th>education-num</th>\n",
       "      <th>marital-status</th>\n",
       "      <th>occupation</th>\n",
       "      <th>relationship</th>\n",
       "      <th>race</th>\n",
       "      <th>sex</th>\n",
       "      <th>capital-gain</th>\n",
       "      <th>capital-loss</th>\n",
       "      <th>hours-per-week</th>\n",
       "      <th>native-country</th>\n",
       "      <th>salary</th>\n",
       "    </tr>\n",
       "  </thead>\n",
       "  <tbody>\n",
       "    <tr>\n",
       "      <th>3777</th>\n",
       "      <td>80</td>\n",
       "      <td>Private</td>\n",
       "      <td>87518</td>\n",
       "      <td>Some-college</td>\n",
       "      <td>10</td>\n",
       "      <td>Never-married</td>\n",
       "      <td>Prof-specialty</td>\n",
       "      <td>Not-in-family</td>\n",
       "      <td>White</td>\n",
       "      <td>Male</td>\n",
       "      <td>0</td>\n",
       "      <td>1816</td>\n",
       "      <td>60</td>\n",
       "      <td>United-States</td>\n",
       "      <td>&lt;=50K</td>\n",
       "    </tr>\n",
       "    <tr>\n",
       "      <th>5370</th>\n",
       "      <td>90</td>\n",
       "      <td>Local-gov</td>\n",
       "      <td>227796</td>\n",
       "      <td>Masters</td>\n",
       "      <td>14</td>\n",
       "      <td>Married-civ-spouse</td>\n",
       "      <td>Exec-managerial</td>\n",
       "      <td>Husband</td>\n",
       "      <td>White</td>\n",
       "      <td>Male</td>\n",
       "      <td>20051</td>\n",
       "      <td>0</td>\n",
       "      <td>60</td>\n",
       "      <td>United-States</td>\n",
       "      <td>&gt;50K</td>\n",
       "    </tr>\n",
       "    <tr>\n",
       "      <th>5406</th>\n",
       "      <td>90</td>\n",
       "      <td>Private</td>\n",
       "      <td>51744</td>\n",
       "      <td>Masters</td>\n",
       "      <td>14</td>\n",
       "      <td>Never-married</td>\n",
       "      <td>Exec-managerial</td>\n",
       "      <td>Not-in-family</td>\n",
       "      <td>Black</td>\n",
       "      <td>Male</td>\n",
       "      <td>0</td>\n",
       "      <td>0</td>\n",
       "      <td>50</td>\n",
       "      <td>United-States</td>\n",
       "      <td>&gt;50K</td>\n",
       "    </tr>\n",
       "    <tr>\n",
       "      <th>6232</th>\n",
       "      <td>90</td>\n",
       "      <td>Self-emp-not-inc</td>\n",
       "      <td>155981</td>\n",
       "      <td>Bachelors</td>\n",
       "      <td>13</td>\n",
       "      <td>Married-civ-spouse</td>\n",
       "      <td>Prof-specialty</td>\n",
       "      <td>Husband</td>\n",
       "      <td>White</td>\n",
       "      <td>Male</td>\n",
       "      <td>10566</td>\n",
       "      <td>0</td>\n",
       "      <td>50</td>\n",
       "      <td>United-States</td>\n",
       "      <td>&lt;=50K</td>\n",
       "    </tr>\n",
       "    <tr>\n",
       "      <th>7481</th>\n",
       "      <td>83</td>\n",
       "      <td>Private</td>\n",
       "      <td>195507</td>\n",
       "      <td>HS-grad</td>\n",
       "      <td>9</td>\n",
       "      <td>Widowed</td>\n",
       "      <td>Protective-serv</td>\n",
       "      <td>Not-in-family</td>\n",
       "      <td>White</td>\n",
       "      <td>Male</td>\n",
       "      <td>0</td>\n",
       "      <td>0</td>\n",
       "      <td>55</td>\n",
       "      <td>United-States</td>\n",
       "      <td>&lt;=50K</td>\n",
       "    </tr>\n",
       "    <tr>\n",
       "      <th>7720</th>\n",
       "      <td>84</td>\n",
       "      <td>Private</td>\n",
       "      <td>241065</td>\n",
       "      <td>Masters</td>\n",
       "      <td>14</td>\n",
       "      <td>Never-married</td>\n",
       "      <td>Prof-specialty</td>\n",
       "      <td>Not-in-family</td>\n",
       "      <td>White</td>\n",
       "      <td>Male</td>\n",
       "      <td>0</td>\n",
       "      <td>0</td>\n",
       "      <td>66</td>\n",
       "      <td>United-States</td>\n",
       "      <td>&lt;=50K</td>\n",
       "    </tr>\n",
       "    <tr>\n",
       "      <th>8806</th>\n",
       "      <td>90</td>\n",
       "      <td>Private</td>\n",
       "      <td>87372</td>\n",
       "      <td>Prof-school</td>\n",
       "      <td>15</td>\n",
       "      <td>Married-civ-spouse</td>\n",
       "      <td>Prof-specialty</td>\n",
       "      <td>Husband</td>\n",
       "      <td>White</td>\n",
       "      <td>Male</td>\n",
       "      <td>20051</td>\n",
       "      <td>0</td>\n",
       "      <td>72</td>\n",
       "      <td>United-States</td>\n",
       "      <td>&gt;50K</td>\n",
       "    </tr>\n",
       "    <tr>\n",
       "      <th>10545</th>\n",
       "      <td>90</td>\n",
       "      <td>Private</td>\n",
       "      <td>175491</td>\n",
       "      <td>HS-grad</td>\n",
       "      <td>9</td>\n",
       "      <td>Married-civ-spouse</td>\n",
       "      <td>Craft-repair</td>\n",
       "      <td>Husband</td>\n",
       "      <td>White</td>\n",
       "      <td>Male</td>\n",
       "      <td>9386</td>\n",
       "      <td>0</td>\n",
       "      <td>50</td>\n",
       "      <td>Ecuador</td>\n",
       "      <td>&gt;50K</td>\n",
       "    </tr>\n",
       "    <tr>\n",
       "      <th>11996</th>\n",
       "      <td>90</td>\n",
       "      <td>Private</td>\n",
       "      <td>40388</td>\n",
       "      <td>Bachelors</td>\n",
       "      <td>13</td>\n",
       "      <td>Never-married</td>\n",
       "      <td>Exec-managerial</td>\n",
       "      <td>Not-in-family</td>\n",
       "      <td>White</td>\n",
       "      <td>Male</td>\n",
       "      <td>0</td>\n",
       "      <td>0</td>\n",
       "      <td>55</td>\n",
       "      <td>United-States</td>\n",
       "      <td>&lt;=50K</td>\n",
       "    </tr>\n",
       "    <tr>\n",
       "      <th>12830</th>\n",
       "      <td>81</td>\n",
       "      <td>Private</td>\n",
       "      <td>201398</td>\n",
       "      <td>Masters</td>\n",
       "      <td>14</td>\n",
       "      <td>Widowed</td>\n",
       "      <td>Prof-specialty</td>\n",
       "      <td>Unmarried</td>\n",
       "      <td>White</td>\n",
       "      <td>Male</td>\n",
       "      <td>0</td>\n",
       "      <td>0</td>\n",
       "      <td>60</td>\n",
       "      <td>?</td>\n",
       "      <td>&lt;=50K</td>\n",
       "    </tr>\n",
       "    <tr>\n",
       "      <th>15356</th>\n",
       "      <td>90</td>\n",
       "      <td>Private</td>\n",
       "      <td>90523</td>\n",
       "      <td>HS-grad</td>\n",
       "      <td>9</td>\n",
       "      <td>Widowed</td>\n",
       "      <td>Transport-moving</td>\n",
       "      <td>Unmarried</td>\n",
       "      <td>White</td>\n",
       "      <td>Male</td>\n",
       "      <td>0</td>\n",
       "      <td>0</td>\n",
       "      <td>99</td>\n",
       "      <td>United-States</td>\n",
       "      <td>&lt;=50K</td>\n",
       "    </tr>\n",
       "    <tr>\n",
       "      <th>20463</th>\n",
       "      <td>85</td>\n",
       "      <td>Self-emp-not-inc</td>\n",
       "      <td>166027</td>\n",
       "      <td>HS-grad</td>\n",
       "      <td>9</td>\n",
       "      <td>Widowed</td>\n",
       "      <td>Sales</td>\n",
       "      <td>Not-in-family</td>\n",
       "      <td>White</td>\n",
       "      <td>Female</td>\n",
       "      <td>0</td>\n",
       "      <td>0</td>\n",
       "      <td>50</td>\n",
       "      <td>United-States</td>\n",
       "      <td>&lt;=50K</td>\n",
       "    </tr>\n",
       "    <tr>\n",
       "      <th>23459</th>\n",
       "      <td>83</td>\n",
       "      <td>Self-emp-inc</td>\n",
       "      <td>240150</td>\n",
       "      <td>10th</td>\n",
       "      <td>6</td>\n",
       "      <td>Married-civ-spouse</td>\n",
       "      <td>Farming-fishing</td>\n",
       "      <td>Husband</td>\n",
       "      <td>White</td>\n",
       "      <td>Male</td>\n",
       "      <td>20051</td>\n",
       "      <td>0</td>\n",
       "      <td>50</td>\n",
       "      <td>United-States</td>\n",
       "      <td>&gt;50K</td>\n",
       "    </tr>\n",
       "    <tr>\n",
       "      <th>24280</th>\n",
       "      <td>82</td>\n",
       "      <td>Self-emp-inc</td>\n",
       "      <td>130329</td>\n",
       "      <td>7th-8th</td>\n",
       "      <td>4</td>\n",
       "      <td>Married-civ-spouse</td>\n",
       "      <td>Farming-fishing</td>\n",
       "      <td>Husband</td>\n",
       "      <td>White</td>\n",
       "      <td>Male</td>\n",
       "      <td>0</td>\n",
       "      <td>0</td>\n",
       "      <td>50</td>\n",
       "      <td>United-States</td>\n",
       "      <td>&lt;=50K</td>\n",
       "    </tr>\n",
       "    <tr>\n",
       "      <th>24395</th>\n",
       "      <td>83</td>\n",
       "      <td>Self-emp-inc</td>\n",
       "      <td>153183</td>\n",
       "      <td>Bachelors</td>\n",
       "      <td>13</td>\n",
       "      <td>Married-civ-spouse</td>\n",
       "      <td>Exec-managerial</td>\n",
       "      <td>Husband</td>\n",
       "      <td>White</td>\n",
       "      <td>Male</td>\n",
       "      <td>0</td>\n",
       "      <td>2392</td>\n",
       "      <td>55</td>\n",
       "      <td>United-States</td>\n",
       "      <td>&gt;50K</td>\n",
       "    </tr>\n",
       "    <tr>\n",
       "      <th>24560</th>\n",
       "      <td>81</td>\n",
       "      <td>Private</td>\n",
       "      <td>98116</td>\n",
       "      <td>Bachelors</td>\n",
       "      <td>13</td>\n",
       "      <td>Widowed</td>\n",
       "      <td>Sales</td>\n",
       "      <td>Not-in-family</td>\n",
       "      <td>White</td>\n",
       "      <td>Male</td>\n",
       "      <td>0</td>\n",
       "      <td>0</td>\n",
       "      <td>50</td>\n",
       "      <td>United-States</td>\n",
       "      <td>&gt;50K</td>\n",
       "    </tr>\n",
       "  </tbody>\n",
       "</table>\n",
       "</div>"
      ],
      "text/plain": [
       "       age          workclass  fnlwgt      education  education-num  \\\n",
       "3777    80            Private   87518   Some-college             10   \n",
       "5370    90          Local-gov  227796        Masters             14   \n",
       "5406    90            Private   51744        Masters             14   \n",
       "6232    90   Self-emp-not-inc  155981      Bachelors             13   \n",
       "7481    83            Private  195507        HS-grad              9   \n",
       "7720    84            Private  241065        Masters             14   \n",
       "8806    90            Private   87372    Prof-school             15   \n",
       "10545   90            Private  175491        HS-grad              9   \n",
       "11996   90            Private   40388      Bachelors             13   \n",
       "12830   81            Private  201398        Masters             14   \n",
       "15356   90            Private   90523        HS-grad              9   \n",
       "20463   85   Self-emp-not-inc  166027        HS-grad              9   \n",
       "23459   83       Self-emp-inc  240150           10th              6   \n",
       "24280   82       Self-emp-inc  130329        7th-8th              4   \n",
       "24395   83       Self-emp-inc  153183      Bachelors             13   \n",
       "24560   81            Private   98116      Bachelors             13   \n",
       "\n",
       "            marital-status         occupation    relationship    race  \\\n",
       "3777         Never-married     Prof-specialty   Not-in-family   White   \n",
       "5370    Married-civ-spouse    Exec-managerial         Husband   White   \n",
       "5406         Never-married    Exec-managerial   Not-in-family   Black   \n",
       "6232    Married-civ-spouse     Prof-specialty         Husband   White   \n",
       "7481               Widowed    Protective-serv   Not-in-family   White   \n",
       "7720         Never-married     Prof-specialty   Not-in-family   White   \n",
       "8806    Married-civ-spouse     Prof-specialty         Husband   White   \n",
       "10545   Married-civ-spouse       Craft-repair         Husband   White   \n",
       "11996        Never-married    Exec-managerial   Not-in-family   White   \n",
       "12830              Widowed     Prof-specialty       Unmarried   White   \n",
       "15356              Widowed   Transport-moving       Unmarried   White   \n",
       "20463              Widowed              Sales   Not-in-family   White   \n",
       "23459   Married-civ-spouse    Farming-fishing         Husband   White   \n",
       "24280   Married-civ-spouse    Farming-fishing         Husband   White   \n",
       "24395   Married-civ-spouse    Exec-managerial         Husband   White   \n",
       "24560              Widowed              Sales   Not-in-family   White   \n",
       "\n",
       "           sex  capital-gain  capital-loss  hours-per-week  native-country  \\\n",
       "3777      Male             0          1816              60   United-States   \n",
       "5370      Male         20051             0              60   United-States   \n",
       "5406      Male             0             0              50   United-States   \n",
       "6232      Male         10566             0              50   United-States   \n",
       "7481      Male             0             0              55   United-States   \n",
       "7720      Male             0             0              66   United-States   \n",
       "8806      Male         20051             0              72   United-States   \n",
       "10545     Male          9386             0              50         Ecuador   \n",
       "11996     Male             0             0              55   United-States   \n",
       "12830     Male             0             0              60               ?   \n",
       "15356     Male             0             0              99   United-States   \n",
       "20463   Female             0             0              50   United-States   \n",
       "23459     Male         20051             0              50   United-States   \n",
       "24280     Male             0             0              50   United-States   \n",
       "24395     Male             0          2392              55   United-States   \n",
       "24560     Male             0             0              50   United-States   \n",
       "\n",
       "       salary  \n",
       "3777    <=50K  \n",
       "5370     >50K  \n",
       "5406     >50K  \n",
       "6232    <=50K  \n",
       "7481    <=50K  \n",
       "7720    <=50K  \n",
       "8806     >50K  \n",
       "10545    >50K  \n",
       "11996   <=50K  \n",
       "12830   <=50K  \n",
       "15356   <=50K  \n",
       "20463   <=50K  \n",
       "23459    >50K  \n",
       "24280   <=50K  \n",
       "24395    >50K  \n",
       "24560    >50K  "
      ]
     },
     "execution_count": 9,
     "metadata": {},
     "output_type": "execute_result"
    }
   ],
   "source": [
    "df_old = df[(df.age >= 80)&(df['hours-per-week'] >=50)]\n",
    "df_old"
   ]
  },
  {
   "cell_type": "markdown",
   "id": "d103f11c",
   "metadata": {
    "papermill": {
     "duration": 0.058096,
     "end_time": "2022-05-21T09:09:30.962054",
     "exception": false,
     "start_time": "2022-05-21T09:09:30.903958",
     "status": "completed"
    },
    "tags": []
   },
   "source": [
    "#### Insight\n",
    "- Opss ,We can see that the data has missing values  \n",
    "- that dose not make sence to be more than 80 and being able to work more than 50 house per week!! "
   ]
  },
  {
   "cell_type": "code",
   "execution_count": 10,
   "id": "b0565432",
   "metadata": {
    "execution": {
     "iopub.execute_input": "2022-05-21T09:09:31.081177Z",
     "iopub.status.busy": "2022-05-21T09:09:31.080885Z",
     "iopub.status.idle": "2022-05-21T09:09:31.110285Z",
     "shell.execute_reply": "2022-05-21T09:09:31.109285Z"
    },
    "papermill": {
     "duration": 0.092676,
     "end_time": "2022-05-21T09:09:31.112469",
     "exception": false,
     "start_time": "2022-05-21T09:09:31.019793",
     "status": "completed"
    },
    "tags": []
   },
   "outputs": [
    {
     "data": {
      "text/plain": [
       "age                  0\n",
       "workclass         1836\n",
       "fnlwgt               0\n",
       "education            0\n",
       "education-num        0\n",
       "marital-status       0\n",
       "occupation        1843\n",
       "relationship         0\n",
       "race                 0\n",
       "sex                  0\n",
       "capital-gain         0\n",
       "capital-loss         0\n",
       "hours-per-week       0\n",
       "native-country     582\n",
       "salary               0\n",
       "dtype: int64"
      ]
     },
     "execution_count": 10,
     "metadata": {},
     "output_type": "execute_result"
    }
   ],
   "source": [
    "df.replace(' ?' , np.nan ,inplace=True)\n",
    "df.isna().sum()"
   ]
  },
  {
   "cell_type": "code",
   "execution_count": 11,
   "id": "76d9f907",
   "metadata": {
    "execution": {
     "iopub.execute_input": "2022-05-21T09:09:31.223310Z",
     "iopub.status.busy": "2022-05-21T09:09:31.222629Z",
     "iopub.status.idle": "2022-05-21T09:09:31.248628Z",
     "shell.execute_reply": "2022-05-21T09:09:31.247795Z"
    },
    "papermill": {
     "duration": 0.083774,
     "end_time": "2022-05-21T09:09:31.250990",
     "exception": false,
     "start_time": "2022-05-21T09:09:31.167216",
     "status": "completed"
    },
    "tags": []
   },
   "outputs": [],
   "source": [
    "df.occupation.fillna(value='Other-service' , inplace=True)\n",
    "df['native-country'].fillna(value='Other-country' , inplace=True)\n",
    "df.workclass.fillna(value='Other' , inplace=True)\n",
    "df.drop(df.loc[df_old.index].index,axis=0,inplace=True)"
   ]
  },
  {
   "cell_type": "code",
   "execution_count": 12,
   "id": "de2ba461",
   "metadata": {
    "execution": {
     "iopub.execute_input": "2022-05-21T09:09:31.361045Z",
     "iopub.status.busy": "2022-05-21T09:09:31.360442Z",
     "iopub.status.idle": "2022-05-21T09:09:31.379102Z",
     "shell.execute_reply": "2022-05-21T09:09:31.378351Z"
    },
    "papermill": {
     "duration": 0.076127,
     "end_time": "2022-05-21T09:09:31.381161",
     "exception": false,
     "start_time": "2022-05-21T09:09:31.305034",
     "status": "completed"
    },
    "tags": []
   },
   "outputs": [
    {
     "data": {
      "text/html": [
       "<div>\n",
       "<style scoped>\n",
       "    .dataframe tbody tr th:only-of-type {\n",
       "        vertical-align: middle;\n",
       "    }\n",
       "\n",
       "    .dataframe tbody tr th {\n",
       "        vertical-align: top;\n",
       "    }\n",
       "\n",
       "    .dataframe thead th {\n",
       "        text-align: right;\n",
       "    }\n",
       "</style>\n",
       "<table border=\"1\" class=\"dataframe\">\n",
       "  <thead>\n",
       "    <tr style=\"text-align: right;\">\n",
       "      <th></th>\n",
       "      <th>age</th>\n",
       "      <th>workclass</th>\n",
       "      <th>fnlwgt</th>\n",
       "      <th>education</th>\n",
       "      <th>education-num</th>\n",
       "      <th>marital-status</th>\n",
       "      <th>occupation</th>\n",
       "      <th>relationship</th>\n",
       "      <th>race</th>\n",
       "      <th>sex</th>\n",
       "      <th>capital-gain</th>\n",
       "      <th>capital-loss</th>\n",
       "      <th>hours-per-week</th>\n",
       "      <th>native-country</th>\n",
       "      <th>salary</th>\n",
       "    </tr>\n",
       "  </thead>\n",
       "  <tbody>\n",
       "    <tr>\n",
       "      <th>7741</th>\n",
       "      <td>19</td>\n",
       "      <td>Private</td>\n",
       "      <td>323605</td>\n",
       "      <td>7th-8th</td>\n",
       "      <td>4</td>\n",
       "      <td>Never-married</td>\n",
       "      <td>Other-service</td>\n",
       "      <td>Not-in-family</td>\n",
       "      <td>White</td>\n",
       "      <td>Male</td>\n",
       "      <td>0</td>\n",
       "      <td>0</td>\n",
       "      <td>60</td>\n",
       "      <td>United-States</td>\n",
       "      <td>&gt;50K</td>\n",
       "    </tr>\n",
       "    <tr>\n",
       "      <th>22910</th>\n",
       "      <td>19</td>\n",
       "      <td>Other</td>\n",
       "      <td>200790</td>\n",
       "      <td>12th</td>\n",
       "      <td>8</td>\n",
       "      <td>Married-civ-spouse</td>\n",
       "      <td>Other-service</td>\n",
       "      <td>Other-relative</td>\n",
       "      <td>White</td>\n",
       "      <td>Female</td>\n",
       "      <td>15024</td>\n",
       "      <td>0</td>\n",
       "      <td>40</td>\n",
       "      <td>United-States</td>\n",
       "      <td>&gt;50K</td>\n",
       "    </tr>\n",
       "  </tbody>\n",
       "</table>\n",
       "</div>"
      ],
      "text/plain": [
       "       age workclass  fnlwgt education  education-num       marital-status  \\\n",
       "7741    19   Private  323605   7th-8th              4        Never-married   \n",
       "22910   19     Other  200790      12th              8   Married-civ-spouse   \n",
       "\n",
       "           occupation     relationship    race      sex  capital-gain  \\\n",
       "7741    Other-service    Not-in-family   White     Male             0   \n",
       "22910   Other-service   Other-relative   White   Female         15024   \n",
       "\n",
       "       capital-loss  hours-per-week  native-country salary  \n",
       "7741              0              60   United-States   >50K  \n",
       "22910             0              40   United-States   >50K  "
      ]
     },
     "execution_count": 12,
     "metadata": {},
     "output_type": "execute_result"
    }
   ],
   "source": [
    "df_young = df[(df.age <=20)&(df['salary'] ==' >50K')]\n",
    "df_young"
   ]
  },
  {
   "cell_type": "markdown",
   "id": "c798114a",
   "metadata": {
    "papermill": {
     "duration": 0.055193,
     "end_time": "2022-05-21T09:09:31.490238",
     "exception": false,
     "start_time": "2022-05-21T09:09:31.435045",
     "status": "completed"
    },
    "tags": []
   },
   "source": [
    "- because we don't have enough info about that occupation that give to 19 years-old more than 50K per year , iwill consider these two rows outliers"
   ]
  },
  {
   "cell_type": "code",
   "execution_count": 13,
   "id": "e980d9df",
   "metadata": {
    "execution": {
     "iopub.execute_input": "2022-05-21T09:09:31.600243Z",
     "iopub.status.busy": "2022-05-21T09:09:31.599524Z",
     "iopub.status.idle": "2022-05-21T09:09:31.610549Z",
     "shell.execute_reply": "2022-05-21T09:09:31.609274Z"
    },
    "papermill": {
     "duration": 0.069091,
     "end_time": "2022-05-21T09:09:31.613082",
     "exception": false,
     "start_time": "2022-05-21T09:09:31.543991",
     "status": "completed"
    },
    "tags": []
   },
   "outputs": [],
   "source": [
    "df.drop(df.loc[df_young.index].index,axis=0,inplace=True)"
   ]
  },
  {
   "cell_type": "markdown",
   "id": "3b103863",
   "metadata": {
    "papermill": {
     "duration": 0.057365,
     "end_time": "2022-05-21T09:09:31.726051",
     "exception": false,
     "start_time": "2022-05-21T09:09:31.668686",
     "status": "completed"
    },
    "tags": []
   },
   "source": [
    "<div style=\"color:white;display:fill;border-radius:8px;\n",
    "            background-color:#363c40de;font-size:150%;\n",
    "            font-family:Nexa;letter-spacing:0.5px\">\n",
    "    <p style=\"padding: 8px;color:white;\"><b>5.2 | Does more education means more money ?\n",
    "</b></p>\n",
    "</div>\n",
    "<div style=\"color:white;display:fill;border-radius:8px"
   ]
  },
  {
   "cell_type": "code",
   "execution_count": 14,
   "id": "3f216216",
   "metadata": {
    "execution": {
     "iopub.execute_input": "2022-05-21T09:09:31.836018Z",
     "iopub.status.busy": "2022-05-21T09:09:31.835362Z",
     "iopub.status.idle": "2022-05-21T09:09:32.226924Z",
     "shell.execute_reply": "2022-05-21T09:09:32.225846Z"
    },
    "papermill": {
     "duration": 0.449332,
     "end_time": "2022-05-21T09:09:32.229248",
     "exception": false,
     "start_time": "2022-05-21T09:09:31.779916",
     "status": "completed"
    },
    "tags": []
   },
   "outputs": [
    {
     "data": {
      "image/png": "[encoded data removed]",
      "text/plain": [
       "<Figure size 1008x576 with 1 Axes>"
      ]
     },
     "metadata": {},
     "output_type": "display_data"
    }
   ],
   "source": [
    "plt.figure(figsize=(14,8))\n",
    "sns.countplot(data =df , x = 'education-num', hue = 'salary')\n",
    "plt.show()"
   ]
  },
  {
   "cell_type": "markdown",
   "id": "dbfdab60",
   "metadata": {
    "papermill": {
     "duration": 0.054617,
     "end_time": "2022-05-21T09:09:32.340293",
     "exception": false,
     "start_time": "2022-05-21T09:09:32.285676",
     "status": "completed"
    },
    "tags": []
   },
   "source": [
    "#### Insight\n",
    "- that is true but you have to wait till reach educations-num 14(Bachelors) "
   ]
  },
  {
   "cell_type": "markdown",
   "id": "74eb50af",
   "metadata": {
    "papermill": {
     "duration": 0.054803,
     "end_time": "2022-05-21T09:09:32.452077",
     "exception": false,
     "start_time": "2022-05-21T09:09:32.397274",
     "status": "completed"
    },
    "tags": []
   },
   "source": [
    "<div style=\"color:white;display:fill;border-radius:8px;\n",
    "            background-color:#363c40de;font-size:150%;\n",
    "            font-family:Nexa;letter-spacing:0.5px\">\n",
    "    <p style=\"padding: 8px;color:white;\"><b>5.3 | Does being man means more money ?\n",
    "</b></p>\n",
    "</div>\n",
    "<div style=\"color:white;display:fill;border-radius:8px"
   ]
  },
  {
   "cell_type": "code",
   "execution_count": 15,
   "id": "86429519",
   "metadata": {
    "execution": {
     "iopub.execute_input": "2022-05-21T09:09:32.564558Z",
     "iopub.status.busy": "2022-05-21T09:09:32.563903Z",
     "iopub.status.idle": "2022-05-21T09:09:32.630719Z",
     "shell.execute_reply": "2022-05-21T09:09:32.629986Z"
    },
    "papermill": {
     "duration": 0.125917,
     "end_time": "2022-05-21T09:09:32.633203",
     "exception": false,
     "start_time": "2022-05-21T09:09:32.507286",
     "status": "completed"
    },
    "tags": []
   },
   "outputs": [],
   "source": [
    "df_man_women=pd.get_dummies(df , columns=[  'salary'])\n",
    "df_man_women=pd.pivot_table(df_man_women,  index='education-num',columns= 'sex',values=['salary_ <=50K' , 'salary_ >50K'],    \n",
    "               aggfunc=np.sum).reset_index()\n",
    "df_man_women['salary_ >50K'] = (df_man_women['salary_ >50K'] / (df_man_women['salary_ >50K']+ df_man_women['salary_ <=50K']))"
   ]
  },
  {
   "cell_type": "code",
   "execution_count": 16,
   "id": "9f0155ec",
   "metadata": {
    "execution": {
     "iopub.execute_input": "2022-05-21T09:09:32.748612Z",
     "iopub.status.busy": "2022-05-21T09:09:32.747509Z",
     "iopub.status.idle": "2022-05-21T09:09:33.132978Z",
     "shell.execute_reply": "2022-05-21T09:09:33.132038Z"
    },
    "papermill": {
     "duration": 0.444197,
     "end_time": "2022-05-21T09:09:33.135549",
     "exception": false,
     "start_time": "2022-05-21T09:09:32.691352",
     "status": "completed"
    },
    "tags": []
   },
   "outputs": [
    {
     "data": {
      "image/png": "[encoded data removed]",
      "text/plain": [
       "<Figure size 1008x576 with 1 Axes>"
      ]
     },
     "metadata": {},
     "output_type": "display_data"
    }
   ],
   "source": [
    "df_man_women['salary_ >50K'].plot(figsize=(14,8), kind = 'bar')\n",
    "plt.title('precentage of gender getting more than 50K to the total number of that gender')\n",
    "plt.xlabel('eduaction-num')\n",
    "plt.ylabel('percentage')\n",
    "plt.show()"
   ]
  },
  {
   "cell_type": "markdown",
   "id": "ed451c86",
   "metadata": {
    "papermill": {
     "duration": 0.055633,
     "end_time": "2022-05-21T09:09:33.247004",
     "exception": false,
     "start_time": "2022-05-21T09:09:33.191371",
     "status": "completed"
    },
    "tags": []
   },
   "source": [
    "### insight\n",
    "- Unfortunately that is true, because the percentage of male is more than female for all education number"
   ]
  },
  {
   "cell_type": "markdown",
   "id": "c4fc6bef",
   "metadata": {
    "papermill": {
     "duration": 0.055628,
     "end_time": "2022-05-21T09:09:33.358296",
     "exception": false,
     "start_time": "2022-05-21T09:09:33.302668",
     "status": "completed"
    },
    "tags": []
   },
   "source": [
    "<div style=\"color:white;display:fill;border-radius:8px;\n",
    "            background-color:#363c40de;font-size:150%;\n",
    "            font-family:Nexa;letter-spacing:0.5px\">\n",
    "    <p style=\"padding: 8px;color:white;\"><b>5.4 | which workclass that paying more money ?\n",
    "</b></p>\n",
    "</div>\n",
    "<div style=\"color:white;display:fill;border-radius:8px"
   ]
  },
  {
   "cell_type": "code",
   "execution_count": 17,
   "id": "2cf093dc",
   "metadata": {
    "execution": {
     "iopub.execute_input": "2022-05-21T09:09:33.474617Z",
     "iopub.status.busy": "2022-05-21T09:09:33.473526Z",
     "iopub.status.idle": "2022-05-21T09:09:33.808688Z",
     "shell.execute_reply": "2022-05-21T09:09:33.807530Z"
    },
    "papermill": {
     "duration": 0.397637,
     "end_time": "2022-05-21T09:09:33.812027",
     "exception": false,
     "start_time": "2022-05-21T09:09:33.414390",
     "status": "completed"
    },
    "tags": []
   },
   "outputs": [
    {
     "data": {
      "image/png": "[encoded data removed]",
      "text/plain": [
       "<Figure size 1008x576 with 1 Axes>"
      ]
     },
     "metadata": {},
     "output_type": "display_data"
    }
   ],
   "source": [
    "plt.figure(figsize=(14,8))\n",
    "sns.countplot(data =df , x = 'workclass', hue = 'salary')\n",
    "plt.show()"
   ]
  },
  {
   "cell_type": "markdown",
   "id": "1798c51b",
   "metadata": {
    "papermill": {
     "duration": 0.056109,
     "end_time": "2022-05-21T09:09:33.924962",
     "exception": false,
     "start_time": "2022-05-21T09:09:33.868853",
     "status": "completed"
    },
    "tags": []
   },
   "source": [
    "### insight\n",
    "- private sector is dominates that market"
   ]
  },
  {
   "cell_type": "markdown",
   "id": "ab7f9a71",
   "metadata": {
    "papermill": {
     "duration": 0.056616,
     "end_time": "2022-05-21T09:09:34.039418",
     "exception": false,
     "start_time": "2022-05-21T09:09:33.982802",
     "status": "completed"
    },
    "tags": []
   },
   "source": [
    "<div style=\"color:white;display:fill;border-radius:8px;\n",
    "            background-color:#363c40de;font-size:150%;\n",
    "            font-family:Nexa;letter-spacing:0.5px\">\n",
    "    <p style=\"padding: 8px;color:white;\"><b>5.5 |which race dominates the USA market ?\n",
    "</b></p>\n",
    "</div>\n",
    "<div style=\"color:white;display:fill;border-radius:8px\n"
   ]
  },
  {
   "cell_type": "code",
   "execution_count": 18,
   "id": "48a4db3b",
   "metadata": {
    "execution": {
     "iopub.execute_input": "2022-05-21T09:09:34.156309Z",
     "iopub.status.busy": "2022-05-21T09:09:34.155191Z",
     "iopub.status.idle": "2022-05-21T09:09:34.448982Z",
     "shell.execute_reply": "2022-05-21T09:09:34.447947Z"
    },
    "papermill": {
     "duration": 0.355193,
     "end_time": "2022-05-21T09:09:34.451648",
     "exception": false,
     "start_time": "2022-05-21T09:09:34.096455",
     "status": "completed"
    },
    "tags": []
   },
   "outputs": [
    {
     "data": {
      "image/png": "[encoded data removed]",
      "text/plain": [
       "<Figure size 1008x576 with 1 Axes>"
      ]
     },
     "metadata": {},
     "output_type": "display_data"
    }
   ],
   "source": [
    "plt.figure(figsize=(14,8))\n",
    "sns.countplot(data =df[df['native-country'] ==' United-States'] , x = 'race', hue = 'salary')\n",
    "plt.show()"
   ]
  },
  {
   "cell_type": "markdown",
   "id": "0ff9335a",
   "metadata": {
    "papermill": {
     "duration": 0.057729,
     "end_time": "2022-05-21T09:09:34.567263",
     "exception": false,
     "start_time": "2022-05-21T09:09:34.509534",
     "status": "completed"
    },
    "tags": []
   },
   "source": [
    "### insight\n",
    "- white race is dominates the jobs"
   ]
  },
  {
   "cell_type": "markdown",
   "id": "e944977c",
   "metadata": {
    "papermill": {
     "duration": 0.059479,
     "end_time": "2022-05-21T09:09:34.685192",
     "exception": false,
     "start_time": "2022-05-21T09:09:34.625713",
     "status": "completed"
    },
    "tags": []
   },
   "source": [
    "<div style=\"color:white;display:fill;border-radius:8px;\n",
    "            background-color:#363c40de;font-size:150%;\n",
    "            font-family:Nexa;letter-spacing:0.5px\">\n",
    "    <p style=\"padding: 8px;color:white;\"><b>5.6 |which occupation dominates ?\n",
    "</b></p>\n",
    "</div>\n",
    "<div style=\"color:white;display:fill;border-radius:8px\n"
   ]
  },
  {
   "cell_type": "code",
   "execution_count": 19,
   "id": "5ff3d6d7",
   "metadata": {
    "execution": {
     "iopub.execute_input": "2022-05-21T09:09:34.810161Z",
     "iopub.status.busy": "2022-05-21T09:09:34.809474Z",
     "iopub.status.idle": "2022-05-21T09:09:35.330160Z",
     "shell.execute_reply": "2022-05-21T09:09:35.328830Z"
    },
    "papermill": {
     "duration": 0.584064,
     "end_time": "2022-05-21T09:09:35.333136",
     "exception": false,
     "start_time": "2022-05-21T09:09:34.749072",
     "status": "completed"
    },
    "tags": []
   },
   "outputs": [
    {
     "data": {
      "image/png": "[encoded data removed]",
      "text/plain": [
       "<Figure size 1008x576 with 1 Axes>"
      ]
     },
     "metadata": {},
     "output_type": "display_data"
    }
   ],
   "source": [
    "occupation = df['occupation'].value_counts()\n",
    "plt.figure(figsize=(14,8))\n",
    "sns.barplot(x =occupation.index , y =occupation.values ,palette=\"Blues_r\" )\n",
    "plt.xticks(rotation = 45)\n",
    "plt.show()"
   ]
  },
  {
   "cell_type": "markdown",
   "id": "66ec6b9d",
   "metadata": {
    "papermill": {
     "duration": 0.060648,
     "end_time": "2022-05-21T09:09:35.453286",
     "exception": false,
     "start_time": "2022-05-21T09:09:35.392638",
     "status": "completed"
    },
    "tags": []
   },
   "source": [
    "# <b>6 <span style='color :#0386f7de'>| </span>  Data Preprocessing</b>"
   ]
  },
  {
   "cell_type": "markdown",
   "id": "4d6bfe14",
   "metadata": {
    "papermill": {
     "duration": 0.062684,
     "end_time": "2022-05-21T09:09:35.577832",
     "exception": false,
     "start_time": "2022-05-21T09:09:35.515148",
     "status": "completed"
    },
    "tags": []
   },
   "source": [
    "<div style=\"color:white;display:fill;border-radius:8px;\n",
    "            background-color:#363c40de;font-size:150%;\n",
    "            font-family:Nexa;letter-spacing:0.5px\">\n",
    "    <p style=\"padding: 8px;color:white;\"><b>6.1 | Creating Features\n",
    "</b></p>\n",
    "</div>\n",
    "<div style=\"color:white;display:fill;border-radius:8px\n"
   ]
  },
  {
   "cell_type": "code",
   "execution_count": 20,
   "id": "b92cc892",
   "metadata": {
    "execution": {
     "iopub.execute_input": "2022-05-21T09:09:35.702766Z",
     "iopub.status.busy": "2022-05-21T09:09:35.701619Z",
     "iopub.status.idle": "2022-05-21T09:09:36.334785Z",
     "shell.execute_reply": "2022-05-21T09:09:36.334113Z"
    },
    "papermill": {
     "duration": 0.696823,
     "end_time": "2022-05-21T09:09:36.337462",
     "exception": false,
     "start_time": "2022-05-21T09:09:35.640639",
     "status": "completed"
    },
    "tags": []
   },
   "outputs": [
    {
     "data": {
      "image/png": "[encoded data removed]",
      "text/plain": [
       "<Figure size 1008x504 with 2 Axes>"
      ]
     },
     "metadata": {},
     "output_type": "display_data"
    }
   ],
   "source": [
    "df['salary'] = df['salary'].map( {' >50K': 1, ' <=50K': 0} )\n",
    "df['age_education'] = df['age'] * df['education-num']\n",
    "df['education_hours'] = df['education-num'] * df['hours-per-week']\n",
    "correlation = df.corr().round(2)\n",
    "plt.figure(figsize = (14,7))\n",
    "sns.heatmap(correlation, annot = True, cmap = 'Blues')\n",
    "plt.show()"
   ]
  },
  {
   "cell_type": "markdown",
   "id": "2a715b58",
   "metadata": {
    "papermill": {
     "duration": 0.061573,
     "end_time": "2022-05-21T09:09:36.461946",
     "exception": false,
     "start_time": "2022-05-21T09:09:36.400373",
     "status": "completed"
    },
    "tags": []
   },
   "source": [
    "- Not bad!"
   ]
  },
  {
   "cell_type": "markdown",
   "id": "70261ade",
   "metadata": {
    "papermill": {
     "duration": 0.082523,
     "end_time": "2022-05-21T09:09:36.606230",
     "exception": false,
     "start_time": "2022-05-21T09:09:36.523707",
     "status": "completed"
    },
    "tags": []
   },
   "source": [
    "<div style=\"color:white;display:fill;border-radius:8px;\n",
    "            background-color:#363c40de;font-size:150%;\n",
    "            font-family:Nexa;letter-spacing:0.5px\">\n",
    "    <p style=\"padding: 8px;color:white;\"><b>6.2 | Handling Numerical Data (Normalise it)\n",
    "</b></p>\n",
    "</div>\n",
    "<div style=\"color:white;display:fill;border-radius:8px\n"
   ]
  },
  {
   "cell_type": "code",
   "execution_count": 21,
   "id": "975dfb9f",
   "metadata": {
    "execution": {
     "iopub.execute_input": "2022-05-21T09:09:36.751804Z",
     "iopub.status.busy": "2022-05-21T09:09:36.750896Z",
     "iopub.status.idle": "2022-05-21T09:09:36.778927Z",
     "shell.execute_reply": "2022-05-21T09:09:36.778003Z"
    },
    "papermill": {
     "duration": 0.096821,
     "end_time": "2022-05-21T09:09:36.781374",
     "exception": false,
     "start_time": "2022-05-21T09:09:36.684553",
     "status": "completed"
    },
    "tags": []
   },
   "outputs": [],
   "source": [
    "from sklearn.preprocessing import StandardScaler\n",
    "y = df['salary']\n",
    "df.drop('salary' ,axis = 1 , inplace=True)\n",
    "num_cols = [x for x in df.columns if df[x].dtype != 'object']\n",
    "Scaler = StandardScaler()\n",
    "df[num_cols] = Scaler.fit_transform(df[num_cols])"
   ]
  },
  {
   "cell_type": "markdown",
   "id": "1ac8e4e5",
   "metadata": {
    "papermill": {
     "duration": 0.062901,
     "end_time": "2022-05-21T09:09:36.906479",
     "exception": false,
     "start_time": "2022-05-21T09:09:36.843578",
     "status": "completed"
    },
    "tags": []
   },
   "source": []
  },
  {
   "cell_type": "markdown",
   "id": "0546812f",
   "metadata": {
    "papermill": {
     "duration": 0.064366,
     "end_time": "2022-05-21T09:09:37.033338",
     "exception": false,
     "start_time": "2022-05-21T09:09:36.968972",
     "status": "completed"
    },
    "tags": []
   },
   "source": [
    "<div style=\"color:white;display:fill;border-radius:8px;\n",
    "            background-color:#363c40de;font-size:150%;\n",
    "            font-family:Nexa;letter-spacing:0.5px\">\n",
    "    <p style=\"padding: 8px;color:white;\"><b>6.3 | Handling Categorical Data (Encoding it)\n",
    "</b></p>\n",
    "</div>\n",
    "<div style=\"color:white;display:fill;border-radius:8px"
   ]
  },
  {
   "cell_type": "markdown",
   "id": "d2eb4e3a",
   "metadata": {
    "papermill": {
     "duration": 0.062354,
     "end_time": "2022-05-21T09:09:37.157985",
     "exception": false,
     "start_time": "2022-05-21T09:09:37.095631",
     "status": "completed"
    },
    "tags": []
   },
   "source": []
  },
  {
   "cell_type": "markdown",
   "id": "cfc414f3",
   "metadata": {
    "papermill": {
     "duration": 0.064526,
     "end_time": "2022-05-21T09:09:37.288182",
     "exception": false,
     "start_time": "2022-05-21T09:09:37.223656",
     "status": "completed"
    },
    "tags": []
   },
   "source": [
    "- because the numerical variable <b> education-num </b> represnt the categorical <b> education </b> ,so i will remove the categorical one"
   ]
  },
  {
   "cell_type": "code",
   "execution_count": 22,
   "id": "33d7bcf2",
   "metadata": {
    "execution": {
     "iopub.execute_input": "2022-05-21T09:09:37.415698Z",
     "iopub.status.busy": "2022-05-21T09:09:37.415051Z",
     "iopub.status.idle": "2022-05-21T09:09:37.425930Z",
     "shell.execute_reply": "2022-05-21T09:09:37.425033Z"
    },
    "papermill": {
     "duration": 0.077148,
     "end_time": "2022-05-21T09:09:37.428474",
     "exception": false,
     "start_time": "2022-05-21T09:09:37.351326",
     "status": "completed"
    },
    "tags": []
   },
   "outputs": [],
   "source": [
    "df.drop('education' ,axis = 1 , inplace=True)"
   ]
  },
  {
   "cell_type": "code",
   "execution_count": 23,
   "id": "7cd74ebd",
   "metadata": {
    "execution": {
     "iopub.execute_input": "2022-05-21T09:09:37.554912Z",
     "iopub.status.busy": "2022-05-21T09:09:37.554213Z",
     "iopub.status.idle": "2022-05-21T09:09:37.565288Z",
     "shell.execute_reply": "2022-05-21T09:09:37.564143Z"
    },
    "papermill": {
     "duration": 0.077289,
     "end_time": "2022-05-21T09:09:37.567567",
     "exception": false,
     "start_time": "2022-05-21T09:09:37.490278",
     "status": "completed"
    },
    "tags": []
   },
   "outputs": [
    {
     "data": {
      "text/plain": [
       " United-States                 29137\n",
       " Mexico                          639\n",
       "Other-country                    581\n",
       " Philippines                     198\n",
       " Germany                         137\n",
       " Canada                          121\n",
       " Puerto-Rico                     114\n",
       " El-Salvador                     106\n",
       " India                           100\n",
       " Cuba                             95\n",
       " England                          90\n",
       " Jamaica                          81\n",
       " South                            80\n",
       " China                            75\n",
       " Italy                            73\n",
       " Dominican-Republic               70\n",
       " Vietnam                          67\n",
       " Japan                            62\n",
       " Guatemala                        62\n",
       " Poland                           60\n",
       " Columbia                         59\n",
       " Taiwan                           51\n",
       " Haiti                            44\n",
       " Iran                             43\n",
       " Portugal                         37\n",
       " Nicaragua                        34\n",
       " Peru                             31\n",
       " France                           29\n",
       " Greece                           29\n",
       " Ecuador                          27\n",
       " Ireland                          24\n",
       " Hong                             20\n",
       " Cambodia                         19\n",
       " Trinadad&Tobago                  19\n",
       " Laos                             18\n",
       " Thailand                         18\n",
       " Yugoslavia                       16\n",
       " Outlying-US(Guam-USVI-etc)       14\n",
       " Honduras                         13\n",
       " Hungary                          13\n",
       " Scotland                         12\n",
       " Holand-Netherlands                1\n",
       "Name: native-country, dtype: int64"
      ]
     },
     "execution_count": 23,
     "metadata": {},
     "output_type": "execute_result"
    }
   ],
   "source": [
    "df['native-country'].value_counts()"
   ]
  },
  {
   "cell_type": "code",
   "execution_count": 24,
   "id": "87c9a112",
   "metadata": {
    "execution": {
     "iopub.execute_input": "2022-05-21T09:09:37.694474Z",
     "iopub.status.busy": "2022-05-21T09:09:37.693836Z",
     "iopub.status.idle": "2022-05-21T09:09:37.760100Z",
     "shell.execute_reply": "2022-05-21T09:09:37.759050Z"
    },
    "papermill": {
     "duration": 0.133566,
     "end_time": "2022-05-21T09:09:37.763370",
     "exception": false,
     "start_time": "2022-05-21T09:09:37.629804",
     "status": "completed"
    },
    "scrolled": true,
    "tags": []
   },
   "outputs": [],
   "source": [
    "df['native-country'] =df['native-country'].apply(lambda x : x.strip())\n",
    "cat_col = [x for x in df.columns if df[x].dtype == 'object']\n",
    "df=pd.get_dummies(df , columns=cat_col , drop_first=True)"
   ]
  },
  {
   "cell_type": "markdown",
   "id": "080c033b",
   "metadata": {
    "papermill": {
     "duration": 0.062874,
     "end_time": "2022-05-21T09:09:37.888635",
     "exception": false,
     "start_time": "2022-05-21T09:09:37.825761",
     "status": "completed"
    },
    "tags": []
   },
   "source": [
    "# <b>7 <span style='color :#0386f7de'>| </span>  Split Dataset for Training and Testing </b>"
   ]
  },
  {
   "cell_type": "code",
   "execution_count": 25,
   "id": "a23844b1",
   "metadata": {
    "execution": {
     "iopub.execute_input": "2022-05-21T09:09:38.015953Z",
     "iopub.status.busy": "2022-05-21T09:09:38.015630Z",
     "iopub.status.idle": "2022-05-21T09:09:38.059983Z",
     "shell.execute_reply": "2022-05-21T09:09:38.058606Z"
    },
    "papermill": {
     "duration": 0.111676,
     "end_time": "2022-05-21T09:09:38.062719",
     "exception": false,
     "start_time": "2022-05-21T09:09:37.951043",
     "status": "completed"
    },
    "tags": []
   },
   "outputs": [
    {
     "name": "stdout",
     "output_type": "stream",
     "text": [
      "Shape of training feature: (26015, 87)\n",
      "Shape of testing feature: (6504, 87)\n",
      "Shape of training label: (26015,)\n",
      "Shape of training label: (6504,)\n"
     ]
    }
   ],
   "source": [
    "from sklearn.model_selection import train_test_split\n",
    "X_train, X_test, y_train, y_test = train_test_split(df , y , test_size=0.2 ,shuffle=True, random_state=41)\n",
    "\n",
    "print('Shape of training feature:', X_train.shape)\n",
    "print('Shape of testing feature:', X_test.shape)\n",
    "print('Shape of training label:', y_train.shape)\n",
    "print('Shape of training label:', y_test.shape)"
   ]
  },
  {
   "cell_type": "markdown",
   "id": "32424e32",
   "metadata": {
    "papermill": {
     "duration": 0.061786,
     "end_time": "2022-05-21T09:09:38.188369",
     "exception": false,
     "start_time": "2022-05-21T09:09:38.126583",
     "status": "completed"
    },
    "tags": []
   },
   "source": [
    "# <b>8 <span style='color :#0386f7de'>| </span> Modeling </b>"
   ]
  },
  {
   "cell_type": "markdown",
   "id": "d008775b",
   "metadata": {
    "papermill": {
     "duration": 0.061972,
     "end_time": "2022-05-21T09:09:38.313463",
     "exception": false,
     "start_time": "2022-05-21T09:09:38.251491",
     "status": "completed"
    },
    "tags": []
   },
   "source": [
    "<div style=\"color:white;display:fill;border-radius:8px;\n",
    "            background-color:#363c40de;font-size:150%;\n",
    "            font-family:Nexa;letter-spacing:0.5px\">\n",
    "    <p style=\"padding: 8px;color:white;\"><b>8.1 | Searching for the ones that fit the best\n",
    "</b></p>\n",
    "</div>\n",
    "<div style=\"color:white;display:fill;border-radius:8px\n"
   ]
  },
  {
   "cell_type": "code",
   "execution_count": 26,
   "id": "0ddbf984",
   "metadata": {
    "execution": {
     "iopub.execute_input": "2022-05-21T09:09:38.440949Z",
     "iopub.status.busy": "2022-05-21T09:09:38.440033Z",
     "iopub.status.idle": "2022-05-21T09:09:38.447180Z",
     "shell.execute_reply": "2022-05-21T09:09:38.446477Z"
    },
    "papermill": {
     "duration": 0.073141,
     "end_time": "2022-05-21T09:09:38.449287",
     "exception": false,
     "start_time": "2022-05-21T09:09:38.376146",
     "status": "completed"
    },
    "tags": []
   },
   "outputs": [],
   "source": [
    "random_state = 2\n",
    "classifiers = []\n",
    "classifiers.append(SVC(random_state=random_state))\n",
    "classifiers.append(DecisionTreeClassifier(random_state=random_state))\n",
    "classifiers.append(AdaBoostClassifier(DecisionTreeClassifier(random_state=random_state),random_state=random_state))\n",
    "classifiers.append(RandomForestClassifier(random_state=random_state))\n",
    "classifiers.append(ExtraTreesClassifier(random_state=random_state))\n",
    "classifiers.append(GradientBoostingClassifier(random_state=random_state))\n",
    "classifiers.append(LogisticRegression(random_state = random_state))"
   ]
  },
  {
   "cell_type": "code",
   "execution_count": 27,
   "id": "78a0ead3",
   "metadata": {
    "execution": {
     "iopub.execute_input": "2022-05-21T09:09:38.576577Z",
     "iopub.status.busy": "2022-05-21T09:09:38.576245Z",
     "iopub.status.idle": "2022-05-21T09:12:04.559029Z",
     "shell.execute_reply": "2022-05-21T09:12:04.557929Z"
    },
    "papermill": {
     "duration": 146.114604,
     "end_time": "2022-05-21T09:12:04.626507",
     "exception": false,
     "start_time": "2022-05-21T09:09:38.511903",
     "status": "completed"
    },
    "tags": []
   },
   "outputs": [
    {
     "data": {
      "image/png": "[encoded data removed]",
      "text/plain": [
       "<Figure size 432x288 with 1 Axes>"
      ]
     },
     "metadata": {},
     "output_type": "display_data"
    }
   ],
   "source": [
    "cv_results = []\n",
    "for classifier in classifiers :\n",
    "    cv_results.append(cross_val_score(classifier,X_train, y_train, scoring = \"accuracy\", cv =5, n_jobs=4))\n",
    "cv_means = []\n",
    "cv_std = []\n",
    "for cv_result in cv_results:\n",
    "    cv_means.append(cv_result.mean())\n",
    "    cv_std.append(cv_result.std())\n",
    "cv_res = pd.DataFrame({\"CrossValMeans\":cv_means,\"CrossValerrors\":cv_std,\"Algorithm\":[\"SVC\",\"DecisionTree\",\"AdaBoost\",\n",
    "\"RandomForest\",\"ExtraTrees\",\"GradientBoosting\",\"Logist\"]})\n",
    "g = sns.barplot(\"CrossValMeans\",\"Algorithm\",data = cv_res,palette=\"Set3\",orient = \"h\",**{'xerr':cv_std})\n",
    "g.set_xlabel(\"Mean Accuracy\")\n",
    "g = g.set_title(\"Cross validation scores\")"
   ]
  },
  {
   "cell_type": "markdown",
   "id": "276a287b",
   "metadata": {
    "papermill": {
     "duration": 0.067194,
     "end_time": "2022-05-21T09:12:04.759878",
     "exception": false,
     "start_time": "2022-05-21T09:12:04.692684",
     "status": "completed"
    },
    "tags": []
   },
   "source": [
    "<div style=\"color:white;display:fill;border-radius:8px;\n",
    "            background-color:#363c40de;font-size:150%;\n",
    "            font-family:Nexa;letter-spacing:0.5px\">\n",
    "    <p style=\"padding: 8px;color:white;\"><b>8.2 | Tuning the top 3 classifiers\n",
    "</b></p>\n",
    "</div>\n",
    "<div style=\"color:white;display:fill;border-radius:8px\n"
   ]
  },
  {
   "cell_type": "code",
   "execution_count": 34,
   "id": "8908efb7",
   "metadata": {
    "execution": {
     "iopub.execute_input": "2022-05-21T09:12:04.901183Z",
     "iopub.status.busy": "2022-05-21T09:12:04.900867Z",
     "iopub.status.idle": "2022-05-21T09:23:05.974450Z",
     "shell.execute_reply": "2022-05-21T09:23:05.973381Z"
    },
    "papermill": {
     "duration": 661.217256,
     "end_time": "2022-05-21T09:23:06.048796",
     "exception": false,
     "start_time": "2022-05-21T09:12:04.831540",
     "status": "completed"
    },
    "tags": []
   },
   "outputs": [
    {
     "name": "stdout",
     "output_type": "stream",
     "text": [
      "Fitting 5 folds for each of 10 candidates, totalling 50 fits\n"
     ]
    },
    {
     "data": {
      "text/plain": [
       "0.8670766865270035"
      ]
     },
     "execution_count": 34,
     "metadata": {},
     "output_type": "execute_result"
    }
   ],
   "source": [
    "GBC = GradientBoostingClassifier()\n",
    "gb_param_grid = {'loss' : [\"deviance\"],\n",
    "                'n_estimators' : [100,200,300],\n",
    "                'learning_rate': [0.1, 0.05, 0.01],\n",
    "                'max_depth': [4, 8],\n",
    "                'min_samples_leaf': [100,150],\n",
    "                'max_features': [0.3, 0.1]\n",
    "}\n",
    "gsGBC = RandomizedSearchCV(GBC,param_distributions = gb_param_grid, cv=5,scoring=\"accuracy\", n_jobs=-1, verbose = 1)\n",
    "gsGBC.fit(X_train, y_train)\n",
    "GBC_best = gsGBC.best_estimator_\n",
    "gsGBC.best_score_"
   ]
  },
  {
   "cell_type": "code",
   "execution_count": 36,
   "id": "78d3f392",
   "metadata": {
    "execution": {
     "iopub.execute_input": "2022-05-21T09:23:06.180102Z",
     "iopub.status.busy": "2022-05-21T09:23:06.179764Z",
     "iopub.status.idle": "2022-05-21T09:33:06.958483Z",
     "shell.execute_reply": "2022-05-21T09:33:06.957456Z"
    },
    "papermill": {
     "duration": 600.913212,
     "end_time": "2022-05-21T09:33:07.026479",
     "exception": false,
     "start_time": "2022-05-21T09:23:06.113267",
     "status": "completed"
    },
    "tags": []
   },
   "outputs": [
    {
     "name": "stdout",
     "output_type": "stream",
     "text": [
      "Fitting 5 folds for each of 10 candidates, totalling 50 fits\n"
     ]
    },
    {
     "data": {
      "text/plain": [
       "0.8606573130886026"
      ]
     },
     "execution_count": 36,
     "metadata": {},
     "output_type": "execute_result"
    }
   ],
   "source": [
    "RFC = RandomForestClassifier()\n",
    "rf_param_grid = {\"max_depth\": [None],\n",
    "    \"max_features\": [1, 3, 10],\n",
    "    \"min_samples_split\": [2, 3, 10],\n",
    "    \"min_samples_leaf\": [1, 3, 10],\n",
    "    \"bootstrap\": [False],\n",
    "    \"n_estimators\" :[100,300],\n",
    "    \"criterion\": [\"gini\"]}\n",
    "gsRFC = RandomizedSearchCV(RFC,param_distributions = rf_param_grid, cv=5,scoring=\"accuracy\", n_jobs=-1, verbose = 1)\n",
    "gsRFC.fit(X_train , y_train)\n",
    "RFC_best = gsRFC.best_estimator_\n",
    "gsRFC.best_score_"
   ]
  },
  {
   "cell_type": "code",
   "execution_count": 37,
   "id": "8891dfbf",
   "metadata": {
    "execution": {
     "iopub.execute_input": "2022-05-21T09:33:07.159495Z",
     "iopub.status.busy": "2022-05-21T09:33:07.159141Z",
     "iopub.status.idle": "2022-05-21T09:33:15.909120Z",
     "shell.execute_reply": "2022-05-21T09:33:15.907787Z"
    },
    "papermill": {
     "duration": 8.82151,
     "end_time": "2022-05-21T09:33:15.913503",
     "exception": false,
     "start_time": "2022-05-21T09:33:07.091993",
     "status": "completed"
    },
    "tags": []
   },
   "outputs": [
    {
     "name": "stdout",
     "output_type": "stream",
     "text": [
      "Fitting 5 folds for each of 10 candidates, totalling 50 fits\n"
     ]
    }
   ],
   "source": [
    "logC = LogisticRegression()\n",
    "log_param_grid={'penalty':['l2','l1'] ,\n",
    "                'dual':[True , False],\n",
    "                'C':[0.01 , 0.1 , 1 , 1, 10 ]}\n",
    "gslogC = RandomizedSearchCV(logC,param_distributions = log_param_grid, cv=5,scoring=\"accuracy\", n_jobs=-1, verbose = 1)\n",
    "gslogC.fit(X_train, y_train)\n",
    "logC_best = gslogC.best_estimator_"
   ]
  },
  {
   "cell_type": "code",
   "execution_count": 38,
   "id": "9a378779",
   "metadata": {
    "execution": {
     "iopub.execute_input": "2022-05-21T09:33:16.106200Z",
     "iopub.status.busy": "2022-05-21T09:33:16.105128Z",
     "iopub.status.idle": "2022-05-21T09:33:16.110148Z",
     "shell.execute_reply": "2022-05-21T09:33:16.109204Z"
    },
    "papermill": {
     "duration": 0.074437,
     "end_time": "2022-05-21T09:33:16.112420",
     "exception": false,
     "start_time": "2022-05-21T09:33:16.037983",
     "status": "completed"
    },
    "tags": []
   },
   "outputs": [],
   "source": [
    "chosen_classifiers = [GBC_best, logC_best,RFC_best]"
   ]
  },
  {
   "cell_type": "markdown",
   "id": "353022f8",
   "metadata": {
    "papermill": {
     "duration": 0.065046,
     "end_time": "2022-05-21T09:33:16.242875",
     "exception": false,
     "start_time": "2022-05-21T09:33:16.177829",
     "status": "completed"
    },
    "tags": []
   },
   "source": [
    "# <b>9 <span style='color :#0386f7de'>| </span> Comparison </b>"
   ]
  },
  {
   "cell_type": "code",
   "execution_count": 39,
   "id": "6fbcf20b",
   "metadata": {
    "execution": {
     "iopub.execute_input": "2022-05-21T09:33:16.375657Z",
     "iopub.status.busy": "2022-05-21T09:33:16.375305Z",
     "iopub.status.idle": "2022-05-21T09:33:16.381987Z",
     "shell.execute_reply": "2022-05-21T09:33:16.381174Z"
    },
    "papermill": {
     "duration": 0.075677,
     "end_time": "2022-05-21T09:33:16.383786",
     "exception": false,
     "start_time": "2022-05-21T09:33:16.308109",
     "status": "completed"
    },
    "tags": []
   },
   "outputs": [],
   "source": [
    "def evaluate_model(model, x_test, y_test):\n",
    "    from sklearn import metrics\n",
    "\n",
    "    # Predict Test Data \n",
    "    y_pred = model.predict(x_test)\n",
    "\n",
    "    # Calculate accuracy, precision, recall, f1-score, and kappa score\n",
    "    acc = metrics.accuracy_score(y_test, y_pred)\n",
    "    prec = metrics.precision_score(y_test, y_pred)\n",
    "    rec = metrics.recall_score(y_test, y_pred)\n",
    "    f1 = metrics.f1_score(y_test, y_pred)\n",
    "    # Calculate area under curve (AUC)\n",
    "    y_pred_proba = model.predict_proba(x_test)[:,1]\n",
    "    auc = metrics.roc_auc_score(y_test, y_pred_proba)\n",
    "\n",
    "    # Display confussion matrix\n",
    "    cm = metrics.confusion_matrix(y_test, y_pred)\n",
    "\n",
    "    return {'acc': acc, 'prec': prec, 'rec': rec, 'f1': f1,\n",
    "             'auc': auc, 'cm': cm}"
   ]
  },
  {
   "cell_type": "code",
   "execution_count": 40,
   "id": "9e82256b",
   "metadata": {
    "execution": {
     "iopub.execute_input": "2022-05-21T09:33:16.518458Z",
     "iopub.status.busy": "2022-05-21T09:33:16.517311Z",
     "iopub.status.idle": "2022-05-21T09:33:16.632618Z",
     "shell.execute_reply": "2022-05-21T09:33:16.631690Z"
    },
    "papermill": {
     "duration": 0.186031,
     "end_time": "2022-05-21T09:33:16.635379",
     "exception": false,
     "start_time": "2022-05-21T09:33:16.449348",
     "status": "completed"
    },
    "tags": []
   },
   "outputs": [
    {
     "name": "stdout",
     "output_type": "stream",
     "text": [
      "Accuracy: 0.8694649446494465\n",
      "Precision: 0.7723823975720789\n",
      "Recall: 0.6496490108487556\n",
      "F1 Score: 0.7057192374350088\n",
      "Area Under Curve: 0.9242404520312673\n",
      "Confusion Matrix:\n",
      " [[4637  300]\n",
      " [ 549 1018]]\n"
     ]
    }
   ],
   "source": [
    "GBC_eval =  evaluate_model(GBC_best, X_test, y_test)\n",
    "print('Accuracy:', GBC_eval['acc'])\n",
    "print('Precision:', GBC_eval['prec'])\n",
    "print('Recall:', GBC_eval['rec'])\n",
    "print('F1 Score:', GBC_eval['f1'])\n",
    "print('Area Under Curve:', GBC_eval['auc'])\n",
    "print('Confusion Matrix:\\n', GBC_eval['cm'])"
   ]
  },
  {
   "cell_type": "code",
   "execution_count": 41,
   "id": "20e38716",
   "metadata": {
    "execution": {
     "iopub.execute_input": "2022-05-21T09:33:16.771448Z",
     "iopub.status.busy": "2022-05-21T09:33:16.771039Z",
     "iopub.status.idle": "2022-05-21T09:33:16.827024Z",
     "shell.execute_reply": "2022-05-21T09:33:16.825831Z"
    },
    "papermill": {
     "duration": 0.127622,
     "end_time": "2022-05-21T09:33:16.830343",
     "exception": false,
     "start_time": "2022-05-21T09:33:16.702721",
     "status": "completed"
    },
    "tags": []
   },
   "outputs": [
    {
     "name": "stdout",
     "output_type": "stream",
     "text": [
      "Accuracy: 0.8510147601476015\n",
      "Precision: 0.7317829457364341\n",
      "Recall: 0.6024250159540523\n",
      "F1 Score: 0.6608330416520826\n",
      "Area Under Curve: 0.9058176417887721\n",
      "Confusion Matrix:\n",
      " [[4591  346]\n",
      " [ 623  944]]\n"
     ]
    }
   ],
   "source": [
    "logC_best_eval =  evaluate_model(logC_best, X_test, y_test)\n",
    "print('Accuracy:', logC_best_eval['acc'])\n",
    "print('Precision:', logC_best_eval['prec'])\n",
    "print('Recall:', logC_best_eval['rec'])\n",
    "print('F1 Score:', logC_best_eval['f1'])\n",
    "print('Area Under Curve:', logC_best_eval['auc'])\n",
    "print('Confusion Matrix:\\n', logC_best_eval['cm'])"
   ]
  },
  {
   "cell_type": "code",
   "execution_count": 42,
   "id": "6e99f2f5",
   "metadata": {
    "execution": {
     "iopub.execute_input": "2022-05-21T09:33:17.019039Z",
     "iopub.status.busy": "2022-05-21T09:33:17.018645Z",
     "iopub.status.idle": "2022-05-21T09:33:17.983520Z",
     "shell.execute_reply": "2022-05-21T09:33:17.982502Z"
    },
    "papermill": {
     "duration": 1.036964,
     "end_time": "2022-05-21T09:33:17.986038",
     "exception": false,
     "start_time": "2022-05-21T09:33:16.949074",
     "status": "completed"
    },
    "tags": []
   },
   "outputs": [
    {
     "name": "stdout",
     "output_type": "stream",
     "text": [
      "Accuracy: 0.861469864698647\n",
      "Precision: 0.7729508196721312\n",
      "Recall: 0.6017868538608807\n",
      "F1 Score: 0.6767133118048081\n",
      "Area Under Curve: 0.9176221540096989\n",
      "Confusion Matrix:\n",
      " [[4660  277]\n",
      " [ 624  943]]\n"
     ]
    }
   ],
   "source": [
    "RFC_best_eval =  evaluate_model(RFC_best, X_test, y_test)\n",
    "print('Accuracy:', RFC_best_eval['acc'])\n",
    "print('Precision:', RFC_best_eval['prec'])\n",
    "print('Recall:', RFC_best_eval['rec'])\n",
    "print('F1 Score:', RFC_best_eval['f1'])\n",
    "print('Area Under Curve:', RFC_best_eval['auc'])\n",
    "print('Confusion Matrix:\\n', RFC_best_eval['cm'])"
   ]
  },
  {
   "cell_type": "markdown",
   "id": "bda79366",
   "metadata": {
    "papermill": {
     "duration": 0.067382,
     "end_time": "2022-05-21T09:33:18.120274",
     "exception": false,
     "start_time": "2022-05-21T09:33:18.052892",
     "status": "completed"
    },
    "tags": []
   },
   "source": [
    "How the models fit the data ?"
   ]
  },
  {
   "cell_type": "code",
   "execution_count": 43,
   "id": "b701faa4",
   "metadata": {
    "execution": {
     "iopub.execute_input": "2022-05-21T09:33:18.254632Z",
     "iopub.status.busy": "2022-05-21T09:33:18.253952Z",
     "iopub.status.idle": "2022-05-21T09:35:14.542695Z",
     "shell.execute_reply": "2022-05-21T09:35:14.541716Z"
    },
    "papermill": {
     "duration": 116.433714,
     "end_time": "2022-05-21T09:35:14.620322",
     "exception": false,
     "start_time": "2022-05-21T09:33:18.186608",
     "status": "completed"
    },
    "tags": []
   },
   "outputs": [
    {
     "data": {
      "image/png": "[encoded data removed]",
      "text/plain": [
       "<Figure size 432x288 with 1 Axes>"
      ]
     },
     "metadata": {},
     "output_type": "display_data"
    },
    {
     "data": {
      "image/png": "[encoded data removed]",
      "text/plain": [
       "<Figure size 432x288 with 1 Axes>"
      ]
     },
     "metadata": {},
     "output_type": "display_data"
    },
    {
     "data": {
      "image/png": "[encoded data removed]",
      "text/plain": [
       "<Figure size 432x288 with 1 Axes>"
      ]
     },
     "metadata": {},
     "output_type": "display_data"
    }
   ],
   "source": [
    "def plot_learning_curve(models , X , y):\n",
    "        for model in models :\n",
    "            train_sizes , train_scores , test_scores =learning_curve(model ,X , y , n_jobs=-1 )\n",
    "            train_scores_mean = np.mean(train_scores ,axis = 1)\n",
    "            test_scores_mean = np.mean(test_scores ,axis=1)\n",
    "            plt.plot(train_sizes , train_scores_mean , 'o-' , color ='r' , label = 'Training score')\n",
    "            plt.plot(train_sizes , test_scores_mean , 'o-' , color ='g' , label = 'Cross-validation score')\n",
    "            plt.xlabel('Training set size')\n",
    "            plt.ylabel('Accuracy')\n",
    "            plt.legend()\n",
    "            plt.title(model)\n",
    "            plt.show()\n",
    "plot_learning_curve(chosen_classifiers , X_train , y_train)"
   ]
  },
  {
   "cell_type": "markdown",
   "id": "0f04675f",
   "metadata": {
    "papermill": {
     "duration": 0.073287,
     "end_time": "2022-05-21T09:35:14.767080",
     "exception": false,
     "start_time": "2022-05-21T09:35:14.693793",
     "status": "completed"
    },
    "tags": []
   },
   "source": [
    "#### insight \n",
    "    1- seems that if we added more data we will get higher accuracy\n",
    "    2-i don't know what is the logestic is doing maybe not in the mode\n",
    "    3-can you see that gab between the curves with RandomForest This means that the model performs significantly better on the training data than on the test data, which is the hall mark of an overfitting model. If you used a much larger training set"
   ]
  },
  {
   "cell_type": "markdown",
   "id": "0919427c",
   "metadata": {
    "papermill": {
     "duration": 0.074825,
     "end_time": "2022-05-21T09:35:14.916554",
     "exception": false,
     "start_time": "2022-05-21T09:35:14.841729",
     "status": "completed"
    },
    "tags": []
   },
   "source": [
    "so we could say that the <b> GradientBoostingClassifier </b> is the one "
   ]
  },
  {
   "cell_type": "markdown",
   "id": "ad8a8324",
   "metadata": {
    "papermill": {
     "duration": 0.070182,
     "end_time": "2022-05-21T09:35:15.062439",
     "exception": false,
     "start_time": "2022-05-21T09:35:14.992257",
     "status": "completed"
    },
    "tags": []
   },
   "source": [
    "if you liked that note , smach the upvote button and leave a comment"
   ]
  },
  {
   "cell_type": "code",
   "execution_count": null,
   "id": "1f80808f",
   "metadata": {
    "papermill": {
     "duration": 0.070792,
     "end_time": "2022-05-21T09:35:15.204496",
     "exception": false,
     "start_time": "2022-05-21T09:35:15.133704",
     "status": "completed"
    },
    "tags": []
   },
   "outputs": [],
   "source": []
  },
  {
   "cell_type": "code",
   "execution_count": null,
   "id": "e377dc02",
   "metadata": {},
   "outputs": [],
   "source": []
  },
  {
   "cell_type": "code",
   "execution_count": null,
   "id": "a33e100f",
   "metadata": {},
   "outputs": [],
   "source": []
  },
  {
   "cell_type": "code",
   "execution_count": null,
   "id": "dde7ef58",
   "metadata": {},
   "outputs": [],
   "source": []
  }
 ],
 "metadata": {
  "kernelspec": {
   "display_name": "Python 3 (ipykernel)",
   "language": "python",
   "name": "python3"
  },
  "language_info": {
   "codemirror_mode": {
    "name": "ipython",
    "version": 3
   },
   "file_extension": ".py",
   "mimetype": "text/x-python",
   "name": "python",
   "nbconvert_exporter": "python",
   "pygments_lexer": "ipython3",
   "version": "3.9.12"
  },
  "papermill": {
   "default_parameters": {},
   "duration": 1561.994777,
   "end_time": "2022-05-21T09:35:17.906936",
   "environment_variables": {},
   "exception": null,
   "input_path": "__notebook__.ipynb",
   "output_path": "__notebook__.ipynb",
   "parameters": {},
   "start_time": "2022-05-21T09:09:15.912159",
   "version": "2.3.4"
  }
 },
 "nbformat": 4,
 "nbformat_minor": 5
}
