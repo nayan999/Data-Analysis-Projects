{
 "cells": [
  {
   "cell_type": "code",
   "execution_count": 2,
   "id": "22126a8a",
   "metadata": {
    "_cell_guid": "b1076dfc-b9ad-4769-8c92-a6c4dae69d19",
    "_uuid": "8f2839f25d086af736a60e9eeb907d3b93b6e0e5",
    "execution": {
     "iopub.execute_input": "2022-05-30T21:50:05.120335Z",
     "iopub.status.busy": "2022-05-30T21:50:05.119741Z",
     "iopub.status.idle": "2022-05-30T21:50:06.535220Z",
     "shell.execute_reply": "2022-05-30T21:50:06.534081Z"
    },
    "papermill": {
     "duration": 1.44321,
     "end_time": "2022-05-30T21:50:06.539146",
     "exception": false,
     "start_time": "2022-05-30T21:50:05.095936",
     "status": "completed"
    },
    "tags": []
   },
   "outputs": [],
   "source": [
    "import numpy as np \n",
    "import pandas as pd \n",
    "import matplotlib.pyplot as plt\n",
    "import seaborn as sns"
   ]
  },
  {
   "cell_type": "markdown",
   "id": "9c0afbc1",
   "metadata": {
    "papermill": {
     "duration": 0.020114,
     "end_time": "2022-05-30T21:50:06.581120",
     "exception": false,
     "start_time": "2022-05-30T21:50:06.561006",
     "status": "completed"
    },
    "tags": []
   },
   "source": [
    "# Data Read"
   ]
  },
  {
   "cell_type": "code",
   "execution_count": 3,
   "id": "b3312d3f",
   "metadata": {
    "execution": {
     "iopub.execute_input": "2022-05-30T21:50:06.625152Z",
     "iopub.status.busy": "2022-05-30T21:50:06.624226Z",
     "iopub.status.idle": "2022-05-30T21:50:06.671655Z",
     "shell.execute_reply": "2022-05-30T21:50:06.670370Z"
    },
    "papermill": {
     "duration": 0.07223,
     "end_time": "2022-05-30T21:50:06.674450",
     "exception": false,
     "start_time": "2022-05-30T21:50:06.602220",
     "status": "completed"
    },
    "tags": []
   },
   "outputs": [
    {
     "data": {
      "text/html": [
       "<div>\n",
       "<style scoped>\n",
       "    .dataframe tbody tr th:only-of-type {\n",
       "        vertical-align: middle;\n",
       "    }\n",
       "\n",
       "    .dataframe tbody tr th {\n",
       "        vertical-align: top;\n",
       "    }\n",
       "\n",
       "    .dataframe thead th {\n",
       "        text-align: right;\n",
       "    }\n",
       "</style>\n",
       "<table border=\"1\" class=\"dataframe\">\n",
       "  <thead>\n",
       "    <tr style=\"text-align: right;\">\n",
       "      <th></th>\n",
       "      <th>type_school</th>\n",
       "      <th>school_accreditation</th>\n",
       "      <th>gender</th>\n",
       "      <th>interest</th>\n",
       "      <th>residence</th>\n",
       "      <th>parent_age</th>\n",
       "      <th>parent_salary</th>\n",
       "      <th>house_area</th>\n",
       "      <th>average_grades</th>\n",
       "      <th>parent_was_in_college</th>\n",
       "      <th>will_go_to_college</th>\n",
       "    </tr>\n",
       "  </thead>\n",
       "  <tbody>\n",
       "    <tr>\n",
       "      <th>0</th>\n",
       "      <td>Academic</td>\n",
       "      <td>A</td>\n",
       "      <td>Male</td>\n",
       "      <td>Less Interested</td>\n",
       "      <td>Urban</td>\n",
       "      <td>56</td>\n",
       "      <td>6950000</td>\n",
       "      <td>83.0</td>\n",
       "      <td>84.09</td>\n",
       "      <td>False</td>\n",
       "      <td>True</td>\n",
       "    </tr>\n",
       "    <tr>\n",
       "      <th>1</th>\n",
       "      <td>Academic</td>\n",
       "      <td>A</td>\n",
       "      <td>Male</td>\n",
       "      <td>Less Interested</td>\n",
       "      <td>Urban</td>\n",
       "      <td>57</td>\n",
       "      <td>4410000</td>\n",
       "      <td>76.8</td>\n",
       "      <td>86.91</td>\n",
       "      <td>False</td>\n",
       "      <td>True</td>\n",
       "    </tr>\n",
       "    <tr>\n",
       "      <th>2</th>\n",
       "      <td>Academic</td>\n",
       "      <td>B</td>\n",
       "      <td>Female</td>\n",
       "      <td>Very Interested</td>\n",
       "      <td>Urban</td>\n",
       "      <td>50</td>\n",
       "      <td>6500000</td>\n",
       "      <td>80.6</td>\n",
       "      <td>87.43</td>\n",
       "      <td>False</td>\n",
       "      <td>True</td>\n",
       "    </tr>\n",
       "    <tr>\n",
       "      <th>3</th>\n",
       "      <td>Vocational</td>\n",
       "      <td>B</td>\n",
       "      <td>Male</td>\n",
       "      <td>Very Interested</td>\n",
       "      <td>Rural</td>\n",
       "      <td>49</td>\n",
       "      <td>6600000</td>\n",
       "      <td>78.2</td>\n",
       "      <td>82.12</td>\n",
       "      <td>True</td>\n",
       "      <td>True</td>\n",
       "    </tr>\n",
       "    <tr>\n",
       "      <th>4</th>\n",
       "      <td>Academic</td>\n",
       "      <td>A</td>\n",
       "      <td>Female</td>\n",
       "      <td>Very Interested</td>\n",
       "      <td>Urban</td>\n",
       "      <td>57</td>\n",
       "      <td>5250000</td>\n",
       "      <td>75.1</td>\n",
       "      <td>86.79</td>\n",
       "      <td>False</td>\n",
       "      <td>False</td>\n",
       "    </tr>\n",
       "  </tbody>\n",
       "</table>\n",
       "</div>"
      ],
      "text/plain": [
       "  type_school school_accreditation  gender         interest residence  \\\n",
       "0    Academic                    A    Male  Less Interested     Urban   \n",
       "1    Academic                    A    Male  Less Interested     Urban   \n",
       "2    Academic                    B  Female  Very Interested     Urban   \n",
       "3  Vocational                    B    Male  Very Interested     Rural   \n",
       "4    Academic                    A  Female  Very Interested     Urban   \n",
       "\n",
       "   parent_age  parent_salary  house_area  average_grades  \\\n",
       "0          56        6950000        83.0           84.09   \n",
       "1          57        4410000        76.8           86.91   \n",
       "2          50        6500000        80.6           87.43   \n",
       "3          49        6600000        78.2           82.12   \n",
       "4          57        5250000        75.1           86.79   \n",
       "\n",
       "   parent_was_in_college  will_go_to_college  \n",
       "0                  False                True  \n",
       "1                  False                True  \n",
       "2                  False                True  \n",
       "3                   True                True  \n",
       "4                  False               False  "
      ]
     },
     "execution_count": 3,
     "metadata": {},
     "output_type": "execute_result"
    }
   ],
   "source": [
    "# Read the data \n",
    "df = pd.read_csv(r'D:\\Excel files\\go too college dataset\\data.csv')\n",
    "df.head() # Get the first five rows"
   ]
  },
  {
   "cell_type": "code",
   "execution_count": 4,
   "id": "3e2770ea",
   "metadata": {
    "execution": {
     "iopub.execute_input": "2022-05-30T21:50:06.720489Z",
     "iopub.status.busy": "2022-05-30T21:50:06.719091Z",
     "iopub.status.idle": "2022-05-30T21:50:06.728364Z",
     "shell.execute_reply": "2022-05-30T21:50:06.727170Z"
    },
    "papermill": {
     "duration": 0.034838,
     "end_time": "2022-05-30T21:50:06.731037",
     "exception": false,
     "start_time": "2022-05-30T21:50:06.696199",
     "status": "completed"
    },
    "tags": []
   },
   "outputs": [
    {
     "data": {
      "text/plain": [
       "(1000, 11)"
      ]
     },
     "execution_count": 4,
     "metadata": {},
     "output_type": "execute_result"
    }
   ],
   "source": [
    "# Know the dimensions of the data (row, column)\n",
    "df.shape"
   ]
  },
  {
   "cell_type": "code",
   "execution_count": 5,
   "id": "290385a2",
   "metadata": {
    "execution": {
     "iopub.execute_input": "2022-05-30T21:50:06.778973Z",
     "iopub.status.busy": "2022-05-30T21:50:06.778340Z",
     "iopub.status.idle": "2022-05-30T21:50:06.809847Z",
     "shell.execute_reply": "2022-05-30T21:50:06.808834Z"
    },
    "papermill": {
     "duration": 0.060664,
     "end_time": "2022-05-30T21:50:06.813765",
     "exception": false,
     "start_time": "2022-05-30T21:50:06.753101",
     "status": "completed"
    },
    "tags": []
   },
   "outputs": [
    {
     "name": "stdout",
     "output_type": "stream",
     "text": [
      "<class 'pandas.core.frame.DataFrame'>\n",
      "RangeIndex: 1000 entries, 0 to 999\n",
      "Data columns (total 11 columns):\n",
      " #   Column                 Non-Null Count  Dtype  \n",
      "---  ------                 --------------  -----  \n",
      " 0   type_school            1000 non-null   object \n",
      " 1   school_accreditation   1000 non-null   object \n",
      " 2   gender                 1000 non-null   object \n",
      " 3   interest               1000 non-null   object \n",
      " 4   residence              1000 non-null   object \n",
      " 5   parent_age             1000 non-null   int64  \n",
      " 6   parent_salary          1000 non-null   int64  \n",
      " 7   house_area             1000 non-null   float64\n",
      " 8   average_grades         1000 non-null   float64\n",
      " 9   parent_was_in_college  1000 non-null   bool   \n",
      " 10  will_go_to_college     1000 non-null   bool   \n",
      "dtypes: bool(2), float64(2), int64(2), object(5)\n",
      "memory usage: 72.4+ KB\n"
     ]
    }
   ],
   "source": [
    "# Data types and non-null values\n",
    "df.info()"
   ]
  },
  {
   "cell_type": "code",
   "execution_count": 6,
   "id": "abd38ba2",
   "metadata": {
    "execution": {
     "iopub.execute_input": "2022-05-30T21:50:06.857836Z",
     "iopub.status.busy": "2022-05-30T21:50:06.857015Z",
     "iopub.status.idle": "2022-05-30T21:50:06.869320Z",
     "shell.execute_reply": "2022-05-30T21:50:06.867778Z"
    },
    "papermill": {
     "duration": 0.037328,
     "end_time": "2022-05-30T21:50:06.871904",
     "exception": false,
     "start_time": "2022-05-30T21:50:06.834576",
     "status": "completed"
    },
    "tags": []
   },
   "outputs": [
    {
     "name": "stdout",
     "output_type": "stream",
     "text": [
      "Number of missing values:\n"
     ]
    },
    {
     "data": {
      "text/plain": [
       "type_school              0\n",
       "school_accreditation     0\n",
       "gender                   0\n",
       "interest                 0\n",
       "residence                0\n",
       "parent_age               0\n",
       "parent_salary            0\n",
       "house_area               0\n",
       "average_grades           0\n",
       "parent_was_in_college    0\n",
       "will_go_to_college       0\n",
       "dtype: int64"
      ]
     },
     "execution_count": 6,
     "metadata": {},
     "output_type": "execute_result"
    }
   ],
   "source": [
    "# Missing values in column\n",
    "print(\"Number of missing values:\")\n",
    "df.isnull().sum()"
   ]
  },
  {
   "cell_type": "code",
   "execution_count": 7,
   "id": "f86c17f6",
   "metadata": {
    "execution": {
     "iopub.execute_input": "2022-05-30T21:50:06.916715Z",
     "iopub.status.busy": "2022-05-30T21:50:06.915905Z",
     "iopub.status.idle": "2022-05-30T21:50:07.028694Z",
     "shell.execute_reply": "2022-05-30T21:50:07.027728Z"
    },
    "papermill": {
     "duration": 0.137965,
     "end_time": "2022-05-30T21:50:07.030948",
     "exception": false,
     "start_time": "2022-05-30T21:50:06.892983",
     "status": "completed"
    },
    "tags": []
   },
   "outputs": [
    {
     "data": {
      "text/html": [
       "<style type=\"text/css\">\n",
       "#T_612ba_row0_col0, #T_612ba_row0_col1, #T_612ba_row0_col2, #T_612ba_row0_col3, #T_612ba_row0_col4, #T_612ba_row0_col5, #T_612ba_row0_col6, #T_612ba_row0_col7, #T_612ba_row1_col0, #T_612ba_row2_col0, #T_612ba_row2_col1, #T_612ba_row2_col2, #T_612ba_row2_col3, #T_612ba_row2_col4, #T_612ba_row2_col5, #T_612ba_row2_col6, #T_612ba_row2_col7, #T_612ba_row3_col0, #T_612ba_row3_col1, #T_612ba_row3_col2, #T_612ba_row3_col3, #T_612ba_row3_col4, #T_612ba_row3_col5, #T_612ba_row3_col6, #T_612ba_row3_col7 {\n",
       "  background-color: #fff7fb;\n",
       "  color: #000000;\n",
       "}\n",
       "#T_612ba_row1_col1, #T_612ba_row1_col2, #T_612ba_row1_col3, #T_612ba_row1_col4, #T_612ba_row1_col5, #T_612ba_row1_col6, #T_612ba_row1_col7 {\n",
       "  background-color: #023858;\n",
       "  color: #f1f1f1;\n",
       "}\n",
       "</style>\n",
       "<table id=\"T_612ba\">\n",
       "  <thead>\n",
       "    <tr>\n",
       "      <th class=\"blank level0\" >&nbsp;</th>\n",
       "      <th id=\"T_612ba_level0_col0\" class=\"col_heading level0 col0\" >count</th>\n",
       "      <th id=\"T_612ba_level0_col1\" class=\"col_heading level0 col1\" >mean</th>\n",
       "      <th id=\"T_612ba_level0_col2\" class=\"col_heading level0 col2\" >std</th>\n",
       "      <th id=\"T_612ba_level0_col3\" class=\"col_heading level0 col3\" >min</th>\n",
       "      <th id=\"T_612ba_level0_col4\" class=\"col_heading level0 col4\" >25%</th>\n",
       "      <th id=\"T_612ba_level0_col5\" class=\"col_heading level0 col5\" >50%</th>\n",
       "      <th id=\"T_612ba_level0_col6\" class=\"col_heading level0 col6\" >75%</th>\n",
       "      <th id=\"T_612ba_level0_col7\" class=\"col_heading level0 col7\" >max</th>\n",
       "    </tr>\n",
       "  </thead>\n",
       "  <tbody>\n",
       "    <tr>\n",
       "      <th id=\"T_612ba_level0_row0\" class=\"row_heading level0 row0\" >parent_age</th>\n",
       "      <td id=\"T_612ba_row0_col0\" class=\"data row0 col0\" >1000.000000</td>\n",
       "      <td id=\"T_612ba_row0_col1\" class=\"data row0 col1\" >52.208000</td>\n",
       "      <td id=\"T_612ba_row0_col2\" class=\"data row0 col2\" >3.500427</td>\n",
       "      <td id=\"T_612ba_row0_col3\" class=\"data row0 col3\" >40.000000</td>\n",
       "      <td id=\"T_612ba_row0_col4\" class=\"data row0 col4\" >50.000000</td>\n",
       "      <td id=\"T_612ba_row0_col5\" class=\"data row0 col5\" >52.000000</td>\n",
       "      <td id=\"T_612ba_row0_col6\" class=\"data row0 col6\" >54.000000</td>\n",
       "      <td id=\"T_612ba_row0_col7\" class=\"data row0 col7\" >65.000000</td>\n",
       "    </tr>\n",
       "    <tr>\n",
       "      <th id=\"T_612ba_level0_row1\" class=\"row_heading level0 row1\" >parent_salary</th>\n",
       "      <td id=\"T_612ba_row1_col0\" class=\"data row1 col0\" >1000.000000</td>\n",
       "      <td id=\"T_612ba_row1_col1\" class=\"data row1 col1\" >5381570.000000</td>\n",
       "      <td id=\"T_612ba_row1_col2\" class=\"data row1 col2\" >1397545.909682</td>\n",
       "      <td id=\"T_612ba_row1_col3\" class=\"data row1 col3\" >1000000.000000</td>\n",
       "      <td id=\"T_612ba_row1_col4\" class=\"data row1 col4\" >4360000.000000</td>\n",
       "      <td id=\"T_612ba_row1_col5\" class=\"data row1 col5\" >5440000.000000</td>\n",
       "      <td id=\"T_612ba_row1_col6\" class=\"data row1 col6\" >6382500.000000</td>\n",
       "      <td id=\"T_612ba_row1_col7\" class=\"data row1 col7\" >10000000.000000</td>\n",
       "    </tr>\n",
       "    <tr>\n",
       "      <th id=\"T_612ba_level0_row2\" class=\"row_heading level0 row2\" >house_area</th>\n",
       "      <td id=\"T_612ba_row2_col0\" class=\"data row2 col0\" >1000.000000</td>\n",
       "      <td id=\"T_612ba_row2_col1\" class=\"data row2 col1\" >74.515300</td>\n",
       "      <td id=\"T_612ba_row2_col2\" class=\"data row2 col2\" >15.293346</td>\n",
       "      <td id=\"T_612ba_row2_col3\" class=\"data row2 col3\" >20.000000</td>\n",
       "      <td id=\"T_612ba_row2_col4\" class=\"data row2 col4\" >64.600000</td>\n",
       "      <td id=\"T_612ba_row2_col5\" class=\"data row2 col5\" >75.500000</td>\n",
       "      <td id=\"T_612ba_row2_col6\" class=\"data row2 col6\" >84.825000</td>\n",
       "      <td id=\"T_612ba_row2_col7\" class=\"data row2 col7\" >120.000000</td>\n",
       "    </tr>\n",
       "    <tr>\n",
       "      <th id=\"T_612ba_level0_row3\" class=\"row_heading level0 row3\" >average_grades</th>\n",
       "      <td id=\"T_612ba_row3_col0\" class=\"data row3 col0\" >1000.000000</td>\n",
       "      <td id=\"T_612ba_row3_col1\" class=\"data row3 col1\" >86.097200</td>\n",
       "      <td id=\"T_612ba_row3_col2\" class=\"data row3 col2\" >3.378738</td>\n",
       "      <td id=\"T_612ba_row3_col3\" class=\"data row3 col3\" >75.000000</td>\n",
       "      <td id=\"T_612ba_row3_col4\" class=\"data row3 col4\" >83.737500</td>\n",
       "      <td id=\"T_612ba_row3_col5\" class=\"data row3 col5\" >85.575000</td>\n",
       "      <td id=\"T_612ba_row3_col6\" class=\"data row3 col6\" >88.262500</td>\n",
       "      <td id=\"T_612ba_row3_col7\" class=\"data row3 col7\" >98.000000</td>\n",
       "    </tr>\n",
       "  </tbody>\n",
       "</table>\n"
      ],
      "text/plain": [
       "<pandas.io.formats.style.Styler at 0x252db258670>"
      ]
     },
     "execution_count": 7,
     "metadata": {},
     "output_type": "execute_result"
    }
   ],
   "source": [
    "# Statistic insights\n",
    "df.describe().T.style.background_gradient()"
   ]
  },
  {
   "cell_type": "code",
   "execution_count": 8,
   "id": "7a6d33b0",
   "metadata": {
    "execution": {
     "iopub.execute_input": "2022-05-30T21:50:07.075646Z",
     "iopub.status.busy": "2022-05-30T21:50:07.075134Z",
     "iopub.status.idle": "2022-05-30T21:50:07.083619Z",
     "shell.execute_reply": "2022-05-30T21:50:07.082592Z"
    },
    "papermill": {
     "duration": 0.033628,
     "end_time": "2022-05-30T21:50:07.085815",
     "exception": false,
     "start_time": "2022-05-30T21:50:07.052187",
     "status": "completed"
    },
    "tags": []
   },
   "outputs": [
    {
     "data": {
      "text/plain": [
       "Academic      609\n",
       "Vocational    391\n",
       "Name: type_school, dtype: int64"
      ]
     },
     "execution_count": 8,
     "metadata": {},
     "output_type": "execute_result"
    }
   ],
   "source": [
    "# know the values in type_school column\n",
    "df['type_school'].value_counts()"
   ]
  },
  {
   "cell_type": "code",
   "execution_count": 9,
   "id": "3355c1d3",
   "metadata": {
    "execution": {
     "iopub.execute_input": "2022-05-30T21:50:07.130843Z",
     "iopub.status.busy": "2022-05-30T21:50:07.130313Z",
     "iopub.status.idle": "2022-05-30T21:50:07.139362Z",
     "shell.execute_reply": "2022-05-30T21:50:07.138186Z"
    },
    "papermill": {
     "duration": 0.034233,
     "end_time": "2022-05-30T21:50:07.141237",
     "exception": false,
     "start_time": "2022-05-30T21:50:07.107004",
     "status": "completed"
    },
    "tags": []
   },
   "outputs": [
    {
     "data": {
      "text/plain": [
       "B    519\n",
       "A    481\n",
       "Name: school_accreditation, dtype: int64"
      ]
     },
     "execution_count": 9,
     "metadata": {},
     "output_type": "execute_result"
    }
   ],
   "source": [
    "# know the values in school_accreditation column\n",
    "df['school_accreditation'].value_counts()"
   ]
  },
  {
   "cell_type": "code",
   "execution_count": 10,
   "id": "46ccc69b",
   "metadata": {
    "execution": {
     "iopub.execute_input": "2022-05-30T21:50:07.186888Z",
     "iopub.status.busy": "2022-05-30T21:50:07.185708Z",
     "iopub.status.idle": "2022-05-30T21:50:07.195771Z",
     "shell.execute_reply": "2022-05-30T21:50:07.194618Z"
    },
    "papermill": {
     "duration": 0.035414,
     "end_time": "2022-05-30T21:50:07.198211",
     "exception": false,
     "start_time": "2022-05-30T21:50:07.162797",
     "status": "completed"
    },
    "tags": []
   },
   "outputs": [
    {
     "data": {
      "text/plain": [
       "Very Interested    324\n",
       "Uncertain          261\n",
       "Less Interested    229\n",
       "Interested         100\n",
       "Not Interested      86\n",
       "Name: interest, dtype: int64"
      ]
     },
     "execution_count": 10,
     "metadata": {},
     "output_type": "execute_result"
    }
   ],
   "source": [
    "# know the values in interest column\n",
    "df['interest'].value_counts()"
   ]
  },
  {
   "cell_type": "code",
   "execution_count": 11,
   "id": "21387192",
   "metadata": {
    "execution": {
     "iopub.execute_input": "2022-05-30T21:50:07.246423Z",
     "iopub.status.busy": "2022-05-30T21:50:07.245880Z",
     "iopub.status.idle": "2022-05-30T21:50:07.259632Z",
     "shell.execute_reply": "2022-05-30T21:50:07.258245Z"
    },
    "papermill": {
     "duration": 0.041317,
     "end_time": "2022-05-30T21:50:07.262396",
     "exception": false,
     "start_time": "2022-05-30T21:50:07.221079",
     "status": "completed"
    },
    "tags": []
   },
   "outputs": [
    {
     "data": {
      "text/plain": [
       "count    1000.000000\n",
       "mean       86.097200\n",
       "std         3.378738\n",
       "min        75.000000\n",
       "25%        83.737500\n",
       "50%        85.575000\n",
       "75%        88.262500\n",
       "max        98.000000\n",
       "Name: average_grades, dtype: float64"
      ]
     },
     "execution_count": 11,
     "metadata": {},
     "output_type": "execute_result"
    }
   ],
   "source": [
    "# Statistic insights\n",
    "df['average_grades'].describe()"
   ]
  },
  {
   "cell_type": "markdown",
   "id": "0a6e4ad7",
   "metadata": {
    "papermill": {
     "duration": 0.021215,
     "end_time": "2022-05-30T21:50:07.306437",
     "exception": false,
     "start_time": "2022-05-30T21:50:07.285222",
     "status": "completed"
    },
    "tags": []
   },
   "source": [
    "# Data visualization"
   ]
  },
  {
   "cell_type": "code",
   "execution_count": 12,
   "id": "dfbcbc07",
   "metadata": {
    "execution": {
     "iopub.execute_input": "2022-05-30T21:50:07.351354Z",
     "iopub.status.busy": "2022-05-30T21:50:07.350839Z",
     "iopub.status.idle": "2022-05-30T21:50:07.847394Z",
     "shell.execute_reply": "2022-05-30T21:50:07.845920Z"
    },
    "papermill": {
     "duration": 0.522172,
     "end_time": "2022-05-30T21:50:07.849891",
     "exception": false,
     "start_time": "2022-05-30T21:50:07.327719",
     "status": "completed"
    },
    "tags": []
   },
   "outputs": [
    {
     "data": {
      "image/png": "[encoded data removed]",
      "text/plain": [
       "<Figure size 1440x720 with 2 Axes>"
      ]
     },
     "metadata": {
      "needs_background": "light"
     },
     "output_type": "display_data"
    }
   ],
   "source": [
    "# Correlation Matrix \n",
    "plt.figure(figsize=(20,10))\n",
    "sns.heatmap(df.corr(), annot=True)\n",
    "plt.show()"
   ]
  },
  {
   "cell_type": "markdown",
   "id": "d8944387",
   "metadata": {
    "papermill": {
     "duration": 0.023035,
     "end_time": "2022-05-30T21:50:07.895199",
     "exception": false,
     "start_time": "2022-05-30T21:50:07.872164",
     "status": "completed"
    },
    "tags": []
   },
   "source": [
    "<div class=\"alert alert-block alert-info\" style=\"font-size:14px; font-family:verdana;\">\n",
    "    📌 The highest in negative correlation will be <code>parents_was_in_college - parent_age</code>, and with positive will be <code>parent_salary - in_college</code>, <code>house_area - in_college</code> and <code>average_grades - in_college</code> .\n",
    "</div>"
   ]
  },
  {
   "cell_type": "code",
   "execution_count": 13,
   "id": "6c866183",
   "metadata": {
    "execution": {
     "iopub.execute_input": "2022-05-30T21:50:07.943773Z",
     "iopub.status.busy": "2022-05-30T21:50:07.943287Z",
     "iopub.status.idle": "2022-05-30T21:50:08.559845Z",
     "shell.execute_reply": "2022-05-30T21:50:08.558800Z"
    },
    "papermill": {
     "duration": 0.644431,
     "end_time": "2022-05-30T21:50:08.562284",
     "exception": false,
     "start_time": "2022-05-30T21:50:07.917853",
     "status": "completed"
    },
    "tags": []
   },
   "outputs": [
    {
     "data": {
      "text/plain": [
       "array([[<AxesSubplot:title={'center':'parent_age'}>,\n",
       "        <AxesSubplot:title={'center':'parent_salary'}>],\n",
       "       [<AxesSubplot:title={'center':'house_area'}>,\n",
       "        <AxesSubplot:title={'center':'average_grades'}>]], dtype=object)"
      ]
     },
     "execution_count": 13,
     "metadata": {},
     "output_type": "execute_result"
    },
    {
     "data": {
      "image/png": "[encoded data removed]",
      "text/plain": [
       "<Figure size 1080x720 with 4 Axes>"
      ]
     },
     "metadata": {
      "needs_background": "light"
     },
     "output_type": "display_data"
    }
   ],
   "source": [
    "# Histogram for distribution\n",
    "df.hist(bins=10, figsize=(15, 10),grid=False,)"
   ]
  },
  {
   "cell_type": "code",
   "execution_count": 15,
   "id": "a598c627",
   "metadata": {
    "execution": {
     "iopub.execute_input": "2022-05-30T21:50:08.610786Z",
     "iopub.status.busy": "2022-05-30T21:50:08.610306Z",
     "iopub.status.idle": "2022-05-30T21:50:09.493500Z",
     "shell.execute_reply": "2022-05-30T21:50:09.492412Z"
    },
    "papermill": {
     "duration": 0.910443,
     "end_time": "2022-05-30T21:50:09.495865",
     "exception": false,
     "start_time": "2022-05-30T21:50:08.585422",
     "status": "completed"
    },
    "tags": []
   },
   "outputs": [
    {
     "data": {
      "image/png": "[encoded data removed]",
      "text/plain": [
       "<Figure size 1440x720 with 12 Axes>"
      ]
     },
     "metadata": {
      "needs_background": "light"
     },
     "output_type": "display_data"
    }
   ],
   "source": [
    "# density plot for distribution\n",
    "df.plot(kind='density', subplots=True, layout=(4,3), sharex=False, \n",
    "                     sharey=False,fontsize=12, figsize=(20,10));"
   ]
  },
  {
   "cell_type": "markdown",
   "id": "4f77cacf",
   "metadata": {
    "papermill": {
     "duration": 0.024151,
     "end_time": "2022-05-30T21:50:09.544377",
     "exception": false,
     "start_time": "2022-05-30T21:50:09.520226",
     "status": "completed"
    },
    "tags": []
   },
   "source": [
    "<div class=\"alert alert-block alert-info\" style=\"font-size:14px; font-family:verdana;\">\n",
    "    📌 Overall the distribution looks a liitle bit normal.\n",
    "</div>"
   ]
  },
  {
   "cell_type": "code",
   "execution_count": 16,
   "id": "7abcefce",
   "metadata": {
    "execution": {
     "iopub.execute_input": "2022-05-30T21:50:09.595293Z",
     "iopub.status.busy": "2022-05-30T21:50:09.594810Z",
     "iopub.status.idle": "2022-05-30T21:50:10.465927Z",
     "shell.execute_reply": "2022-05-30T21:50:10.464686Z"
    },
    "papermill": {
     "duration": 0.899927,
     "end_time": "2022-05-30T21:50:10.468693",
     "exception": false,
     "start_time": "2022-05-30T21:50:09.568766",
     "status": "completed"
    },
    "tags": []
   },
   "outputs": [
    {
     "data": {
      "text/plain": [
       "parent_age           AxesSubplot(0.125,0.71587;0.227941x0.16413)\n",
       "parent_salary     AxesSubplot(0.398529,0.71587;0.227941x0.16413)\n",
       "house_area        AxesSubplot(0.672059,0.71587;0.227941x0.16413)\n",
       "average_grades      AxesSubplot(0.125,0.518913;0.227941x0.16413)\n",
       "dtype: object"
      ]
     },
     "execution_count": 16,
     "metadata": {},
     "output_type": "execute_result"
    },
    {
     "data": {
      "image/png": "[encoded data removed]",
      "text/plain": [
       "<Figure size 1440x720 with 12 Axes>"
      ]
     },
     "metadata": {
      "needs_background": "light"
     },
     "output_type": "display_data"
    }
   ],
   "source": [
    "df.plot(kind= 'box' , subplots=True, layout=(4,3), sharex=False,\n",
    "                   sharey=False,fontsize=12,figsize=(20,10))"
   ]
  },
  {
   "cell_type": "markdown",
   "id": "882b3659",
   "metadata": {
    "papermill": {
     "duration": 0.024281,
     "end_time": "2022-05-30T21:50:10.518465",
     "exception": false,
     "start_time": "2022-05-30T21:50:10.494184",
     "status": "completed"
    },
    "tags": []
   },
   "source": [
    "<div class=\"alert alert-block alert-info\" style=\"font-size:14px; font-family:verdana;\">\n",
    "    📌 Not so many outliers, so my decision is to keep it without further cleaning.\n",
    "</div>"
   ]
  },
  {
   "cell_type": "code",
   "execution_count": 18,
   "id": "1028ca98",
   "metadata": {
    "execution": {
     "iopub.execute_input": "2022-05-30T21:50:10.570983Z",
     "iopub.status.busy": "2022-05-30T21:50:10.570147Z",
     "iopub.status.idle": "2022-05-30T21:50:10.807936Z",
     "shell.execute_reply": "2022-05-30T21:50:10.806788Z"
    },
    "papermill": {
     "duration": 0.267508,
     "end_time": "2022-05-30T21:50:10.810500",
     "exception": false,
     "start_time": "2022-05-30T21:50:10.542992",
     "status": "completed"
    },
    "tags": []
   },
   "outputs": [
    {
     "data": {
      "text/plain": [
       "[Text(0.5, 1.0, 'Residence count based on college status')]"
      ]
     },
     "execution_count": 18,
     "metadata": {},
     "output_type": "execute_result"
    },
    {
     "data": {
      "image/png": "[encoded data removed]",
      "text/plain": [
       "<Figure size 1440x720 with 1 Axes>"
      ]
     },
     "metadata": {
      "needs_background": "light"
     },
     "output_type": "display_data"
    }
   ],
   "source": [
    "plt.figure(figsize=(20,10))\n",
    "sns.countplot(x='residence', data=df, hue='will_go_to_college').set(title='Residence count based on college status')"
   ]
  },
  {
   "cell_type": "markdown",
   "id": "faea7c63",
   "metadata": {
    "papermill": {
     "duration": 0.024734,
     "end_time": "2022-05-30T21:50:10.860485",
     "exception": false,
     "start_time": "2022-05-30T21:50:10.835751",
     "status": "completed"
    },
    "tags": []
   },
   "source": [
    "<div class=\"alert alert-block alert-info\" style=\"font-size:14px; font-family:verdana;\">\n",
    "📌 Overall the <code>Urban</code> is more likely to go to college and the opposite happens in <code>Rural</code>.\n",
    "</div>"
   ]
  },
  {
   "cell_type": "code",
   "execution_count": 19,
   "id": "7cff15ff",
   "metadata": {
    "execution": {
     "iopub.execute_input": "2022-05-30T21:50:10.913104Z",
     "iopub.status.busy": "2022-05-30T21:50:10.912407Z",
     "iopub.status.idle": "2022-05-30T21:50:11.327770Z",
     "shell.execute_reply": "2022-05-30T21:50:11.326636Z"
    },
    "papermill": {
     "duration": 0.444767,
     "end_time": "2022-05-30T21:50:11.330420",
     "exception": false,
     "start_time": "2022-05-30T21:50:10.885653",
     "status": "completed"
    },
    "tags": []
   },
   "outputs": [
    {
     "data": {
      "text/plain": [
       "[Text(0.5, 1.0, 'Residence with parent salary based on college status')]"
      ]
     },
     "execution_count": 19,
     "metadata": {},
     "output_type": "execute_result"
    },
    {
     "data": {
      "image/png": "[encoded data removed]",
      "text/plain": [
       "<Figure size 1440x720 with 1 Axes>"
      ]
     },
     "metadata": {
      "needs_background": "light"
     },
     "output_type": "display_data"
    }
   ],
   "source": [
    "plt.figure(figsize=(20,10))\n",
    "sns.barplot(x='residence', y='parent_salary' ,data=df, hue='will_go_to_college').set(title='Residence with parent salary based on college status')"
   ]
  },
  {
   "cell_type": "markdown",
   "id": "59d4008d",
   "metadata": {
    "papermill": {
     "duration": 0.025605,
     "end_time": "2022-05-30T21:50:11.382427",
     "exception": false,
     "start_time": "2022-05-30T21:50:11.356822",
     "status": "completed"
    },
    "tags": []
   },
   "source": [
    "<div class=\"alert alert-block alert-info\" style=\"font-size:14px; font-family:verdana;\">\n",
    "📌 The higher the salary the more likely to go to college for both <code>Urban</code> and <code>Rural</code>.\n",
    "</div>"
   ]
  },
  {
   "cell_type": "code",
   "execution_count": 20,
   "id": "8f306452",
   "metadata": {
    "execution": {
     "iopub.execute_input": "2022-05-30T21:50:11.436213Z",
     "iopub.status.busy": "2022-05-30T21:50:11.435098Z",
     "iopub.status.idle": "2022-05-30T21:50:11.723645Z",
     "shell.execute_reply": "2022-05-30T21:50:11.722674Z"
    },
    "papermill": {
     "duration": 0.317702,
     "end_time": "2022-05-30T21:50:11.726001",
     "exception": false,
     "start_time": "2022-05-30T21:50:11.408299",
     "status": "completed"
    },
    "tags": []
   },
   "outputs": [
    {
     "data": {
      "text/plain": [
       "[Text(0.5, 1.0, 'Interest count based on college status')]"
      ]
     },
     "execution_count": 20,
     "metadata": {},
     "output_type": "execute_result"
    },
    {
     "data": {
      "image/png": "[encoded data removed]",
      "text/plain": [
       "<Figure size 1440x720 with 1 Axes>"
      ]
     },
     "metadata": {
      "needs_background": "light"
     },
     "output_type": "display_data"
    }
   ],
   "source": [
    "fig, axes = plt.subplots(figsize=(20,10))\n",
    "sns.countplot(x='interest', data=df, hue='will_go_to_college').set(title='Interest count based on college status')"
   ]
  },
  {
   "cell_type": "markdown",
   "id": "26d9183d",
   "metadata": {
    "papermill": {
     "duration": 0.027182,
     "end_time": "2022-05-30T21:50:11.780050",
     "exception": false,
     "start_time": "2022-05-30T21:50:11.752868",
     "status": "completed"
    },
    "tags": []
   },
   "source": [
    "<div class=\"alert alert-block alert-info\" style=\"font-size:14px; font-family:verdana;\">\n",
    "📌 <code>Very Interested</code> and <code>Uncertain Interest</code> are the two most categories attended the college, and <code>Less Interested</code> is the most category who does not attend the college.\n",
    "</div>"
   ]
  },
  {
   "cell_type": "code",
   "execution_count": 21,
   "id": "e71144a4",
   "metadata": {
    "execution": {
     "iopub.execute_input": "2022-05-30T21:50:11.838585Z",
     "iopub.status.busy": "2022-05-30T21:50:11.837688Z",
     "iopub.status.idle": "2022-05-30T21:50:12.079322Z",
     "shell.execute_reply": "2022-05-30T21:50:12.078301Z"
    },
    "papermill": {
     "duration": 0.272968,
     "end_time": "2022-05-30T21:50:12.081645",
     "exception": false,
     "start_time": "2022-05-30T21:50:11.808677",
     "status": "completed"
    },
    "tags": []
   },
   "outputs": [
    {
     "data": {
      "text/plain": [
       "[Text(0.5, 1.0, 'School type count based on college status')]"
      ]
     },
     "execution_count": 21,
     "metadata": {},
     "output_type": "execute_result"
    },
    {
     "data": {
      "image/png": "[encoded data removed]",
      "text/plain": [
       "<Figure size 1440x720 with 1 Axes>"
      ]
     },
     "metadata": {
      "needs_background": "light"
     },
     "output_type": "display_data"
    }
   ],
   "source": [
    "plt.figure(figsize=(20,10))\n",
    "sns.countplot(x='type_school',data=df, hue='will_go_to_college').set(title='School type count based on college status')"
   ]
  },
  {
   "cell_type": "markdown",
   "id": "96c50034",
   "metadata": {
    "papermill": {
     "duration": 0.027055,
     "end_time": "2022-05-30T21:50:12.137555",
     "exception": false,
     "start_time": "2022-05-30T21:50:12.110500",
     "status": "completed"
    },
    "tags": []
   },
   "source": [
    "<div class=\"alert alert-block alert-info\" style=\"font-size:14px; font-family:verdana;\">\n",
    "📌 The <code>Academic</code> is the most category attended the college.\n",
    "</div>"
   ]
  },
  {
   "cell_type": "code",
   "execution_count": 22,
   "id": "d0f1e924",
   "metadata": {
    "execution": {
     "iopub.execute_input": "2022-05-30T21:50:12.194410Z",
     "iopub.status.busy": "2022-05-30T21:50:12.193188Z",
     "iopub.status.idle": "2022-05-30T21:50:12.429628Z",
     "shell.execute_reply": "2022-05-30T21:50:12.428470Z"
    },
    "papermill": {
     "duration": 0.267538,
     "end_time": "2022-05-30T21:50:12.432087",
     "exception": false,
     "start_time": "2022-05-30T21:50:12.164549",
     "status": "completed"
    },
    "tags": []
   },
   "outputs": [
    {
     "data": {
      "text/plain": [
       "[Text(0.5, 1.0, 'School type count based on college status')]"
      ]
     },
     "execution_count": 22,
     "metadata": {},
     "output_type": "execute_result"
    },
    {
     "data": {
      "image/png": "[encoded data removed]",
      "text/plain": [
       "<Figure size 1440x720 with 1 Axes>"
      ]
     },
     "metadata": {
      "needs_background": "light"
     },
     "output_type": "display_data"
    }
   ],
   "source": [
    "plt.figure(figsize=(20,10))\n",
    "sns.countplot(x='gender',data=df, hue='will_go_to_college').set(title='School type count based on college status')"
   ]
  },
  {
   "cell_type": "markdown",
   "id": "d3418976",
   "metadata": {
    "papermill": {
     "duration": 0.027725,
     "end_time": "2022-05-30T21:50:12.487144",
     "exception": false,
     "start_time": "2022-05-30T21:50:12.459419",
     "status": "completed"
    },
    "tags": []
   },
   "source": [
    "<div class=\"alert alert-block alert-info\" style=\"font-size:14px; font-family:verdana;\">\n",
    "📌 <code>Females</code> are slightly higher to attend the college than <code>Males</code>.\n",
    "</div>"
   ]
  },
  {
   "cell_type": "code",
   "execution_count": 23,
   "id": "f0f24f50",
   "metadata": {
    "execution": {
     "iopub.execute_input": "2022-05-30T21:50:12.547134Z",
     "iopub.status.busy": "2022-05-30T21:50:12.546471Z",
     "iopub.status.idle": "2022-05-30T21:50:13.043299Z",
     "shell.execute_reply": "2022-05-30T21:50:13.042115Z"
    },
    "papermill": {
     "duration": 0.529592,
     "end_time": "2022-05-30T21:50:13.045713",
     "exception": false,
     "start_time": "2022-05-30T21:50:12.516121",
     "status": "completed"
    },
    "tags": []
   },
   "outputs": [
    {
     "data": {
      "text/plain": [
       "<seaborn.axisgrid.FacetGrid at 0x252e331acd0>"
      ]
     },
     "execution_count": 23,
     "metadata": {},
     "output_type": "execute_result"
    },
    {
     "data": {
      "text/plain": [
       "<Figure size 1440x720 with 0 Axes>"
      ]
     },
     "metadata": {},
     "output_type": "display_data"
    },
    {
     "data": {
      "image/png": "[encoded data removed]",
      "text/plain": [
       "<Figure size 457.875x360 with 1 Axes>"
      ]
     },
     "metadata": {
      "needs_background": "light"
     },
     "output_type": "display_data"
    }
   ],
   "source": [
    "plt.figure(figsize=(20,10))\n",
    "sns.catplot(x=\"parent_age\", y=\"residence\", hue=\"will_go_to_college\", kind=\"strip\", data=df)"
   ]
  },
  {
   "cell_type": "code",
   "execution_count": 24,
   "id": "9afa0c65",
   "metadata": {
    "execution": {
     "iopub.execute_input": "2022-05-30T21:50:13.112140Z",
     "iopub.status.busy": "2022-05-30T21:50:13.111408Z",
     "iopub.status.idle": "2022-05-30T21:50:13.363976Z",
     "shell.execute_reply": "2022-05-30T21:50:13.362649Z"
    },
    "papermill": {
     "duration": 0.290873,
     "end_time": "2022-05-30T21:50:13.366779",
     "exception": false,
     "start_time": "2022-05-30T21:50:13.075906",
     "status": "completed"
    },
    "tags": []
   },
   "outputs": [
    {
     "data": {
      "text/plain": [
       "<AxesSubplot:xlabel='parent_age', ylabel='residence'>"
      ]
     },
     "execution_count": 24,
     "metadata": {},
     "output_type": "execute_result"
    },
    {
     "data": {
      "image/png": "[encoded data removed]",
      "text/plain": [
       "<Figure size 1440x720 with 1 Axes>"
      ]
     },
     "metadata": {
      "needs_background": "light"
     },
     "output_type": "display_data"
    }
   ],
   "source": [
    "plt.figure(figsize=(20,10))\n",
    "sns.boxplot(x=\"parent_age\", y=\"residence\", hue=\"parent_was_in_college\", data=df)"
   ]
  },
  {
   "cell_type": "markdown",
   "id": "399a6c0f",
   "metadata": {
    "papermill": {
     "duration": 0.030154,
     "end_time": "2022-05-30T21:50:13.426853",
     "exception": false,
     "start_time": "2022-05-30T21:50:13.396699",
     "status": "completed"
    },
    "tags": []
   },
   "source": [
    "<div class=\"alert alert-block alert-info\" style=\"font-size:14px; font-family:verdana;\">\n",
    "📌 <code>Urban parents</code> was slightly higher to attend the college than <code>Rural parents</code>.\n",
    "</div>"
   ]
  },
  {
   "cell_type": "code",
   "execution_count": 25,
   "id": "84118917",
   "metadata": {
    "execution": {
     "iopub.execute_input": "2022-05-30T21:50:13.489444Z",
     "iopub.status.busy": "2022-05-30T21:50:13.488932Z",
     "iopub.status.idle": "2022-05-30T21:50:13.737670Z",
     "shell.execute_reply": "2022-05-30T21:50:13.736339Z"
    },
    "papermill": {
     "duration": 0.283108,
     "end_time": "2022-05-30T21:50:13.740287",
     "exception": false,
     "start_time": "2022-05-30T21:50:13.457179",
     "status": "completed"
    },
    "tags": []
   },
   "outputs": [
    {
     "data": {
      "text/plain": [
       "<AxesSubplot:xlabel='parent_salary', ylabel='residence'>"
      ]
     },
     "execution_count": 25,
     "metadata": {},
     "output_type": "execute_result"
    },
    {
     "data": {
      "image/png": "[encoded data removed]",
      "text/plain": [
       "<Figure size 1440x720 with 1 Axes>"
      ]
     },
     "metadata": {
      "needs_background": "light"
     },
     "output_type": "display_data"
    }
   ],
   "source": [
    "plt.figure(figsize=(20,10))\n",
    "sns.boxplot(x=\"parent_salary\", y=\"residence\", hue=\"parent_was_in_college\", data=df)"
   ]
  },
  {
   "cell_type": "markdown",
   "id": "b1c08485",
   "metadata": {
    "papermill": {
     "duration": 0.033332,
     "end_time": "2022-05-30T21:50:13.806326",
     "exception": false,
     "start_time": "2022-05-30T21:50:13.772994",
     "status": "completed"
    },
    "tags": []
   },
   "source": [
    "<div class=\"alert alert-block alert-info\" style=\"font-size:14px; font-family:verdana;\">\n",
    "📌 <code>Rural parents</code> was higher salery and not attended to college and the opposite for <code>Urban parents</code>.\n",
    "</div>"
   ]
  },
  {
   "cell_type": "code",
   "execution_count": 26,
   "id": "f35e98f6",
   "metadata": {
    "execution": {
     "iopub.execute_input": "2022-05-30T21:50:13.871365Z",
     "iopub.status.busy": "2022-05-30T21:50:13.870429Z",
     "iopub.status.idle": "2022-05-30T21:50:14.129445Z",
     "shell.execute_reply": "2022-05-30T21:50:14.128222Z"
    },
    "papermill": {
     "duration": 0.294544,
     "end_time": "2022-05-30T21:50:14.132144",
     "exception": false,
     "start_time": "2022-05-30T21:50:13.837600",
     "status": "completed"
    },
    "tags": []
   },
   "outputs": [
    {
     "data": {
      "text/plain": [
       "<AxesSubplot:xlabel='parent_salary', ylabel='residence'>"
      ]
     },
     "execution_count": 26,
     "metadata": {},
     "output_type": "execute_result"
    },
    {
     "data": {
      "image/png": "[encoded data removed]",
      "text/plain": [
       "<Figure size 1440x720 with 1 Axes>"
      ]
     },
     "metadata": {
      "needs_background": "light"
     },
     "output_type": "display_data"
    }
   ],
   "source": [
    "plt.figure(figsize=(20,10))\n",
    "sns.boxplot(x=\"parent_salary\", y=\"residence\", hue=\"will_go_to_college\", data=df)"
   ]
  },
  {
   "cell_type": "markdown",
   "id": "f0e3d02a",
   "metadata": {
    "papermill": {
     "duration": 0.031129,
     "end_time": "2022-05-30T21:50:14.195212",
     "exception": false,
     "start_time": "2022-05-30T21:50:14.164083",
     "status": "completed"
    },
    "tags": []
   },
   "source": [
    "<div class=\"alert alert-block alert-info\" style=\"font-size:14px; font-family:verdana;\">\n",
    "📌 The more salery in both Rural and Urban parents the more likely for child to attend the college.\n",
    "</div>"
   ]
  },
  {
   "cell_type": "code",
   "execution_count": 27,
   "id": "d8a61d2d",
   "metadata": {
    "execution": {
     "iopub.execute_input": "2022-05-30T21:50:14.262317Z",
     "iopub.status.busy": "2022-05-30T21:50:14.261101Z",
     "iopub.status.idle": "2022-05-30T21:50:14.509951Z",
     "shell.execute_reply": "2022-05-30T21:50:14.508543Z"
    },
    "papermill": {
     "duration": 0.286479,
     "end_time": "2022-05-30T21:50:14.513213",
     "exception": false,
     "start_time": "2022-05-30T21:50:14.226734",
     "status": "completed"
    },
    "tags": []
   },
   "outputs": [
    {
     "data": {
      "text/plain": [
       "<AxesSubplot:xlabel='house_area', ylabel='residence'>"
      ]
     },
     "execution_count": 27,
     "metadata": {},
     "output_type": "execute_result"
    },
    {
     "data": {
      "image/png": "[encoded data removed]",
      "text/plain": [
       "<Figure size 1440x720 with 1 Axes>"
      ]
     },
     "metadata": {
      "needs_background": "light"
     },
     "output_type": "display_data"
    }
   ],
   "source": [
    "plt.figure(figsize=(20,10))\n",
    "sns.boxplot(x=\"house_area\", y=\"residence\", hue=\"will_go_to_college\", data=df)"
   ]
  },
  {
   "cell_type": "markdown",
   "id": "d63edd60",
   "metadata": {
    "papermill": {
     "duration": 0.0314,
     "end_time": "2022-05-30T21:50:14.576470",
     "exception": false,
     "start_time": "2022-05-30T21:50:14.545070",
     "status": "completed"
    },
    "tags": []
   },
   "source": [
    "<div class=\"alert alert-block alert-info\" style=\"font-size:14px; font-family:verdana;\">\n",
    "📌 The more house area in both Rural and Urban the more likely for child to attend the college, that's means by logic the family has more salary overall.\n",
    "</div>"
   ]
  },
  {
   "cell_type": "code",
   "execution_count": 28,
   "id": "b3192687",
   "metadata": {
    "execution": {
     "iopub.execute_input": "2022-05-30T21:50:14.641926Z",
     "iopub.status.busy": "2022-05-30T21:50:14.641442Z",
     "iopub.status.idle": "2022-05-30T21:50:14.886614Z",
     "shell.execute_reply": "2022-05-30T21:50:14.885191Z"
    },
    "papermill": {
     "duration": 0.280958,
     "end_time": "2022-05-30T21:50:14.889038",
     "exception": false,
     "start_time": "2022-05-30T21:50:14.608080",
     "status": "completed"
    },
    "tags": []
   },
   "outputs": [
    {
     "data": {
      "text/plain": [
       "<AxesSubplot:xlabel='average_grades', ylabel='gender'>"
      ]
     },
     "execution_count": 28,
     "metadata": {},
     "output_type": "execute_result"
    },
    {
     "data": {
      "image/png": "[encoded data removed]",
      "text/plain": [
       "<Figure size 1440x720 with 1 Axes>"
      ]
     },
     "metadata": {
      "needs_background": "light"
     },
     "output_type": "display_data"
    }
   ],
   "source": [
    "plt.figure(figsize=(20,10))\n",
    "sns.boxplot(x=\"average_grades\", y=\"gender\", hue=\"will_go_to_college\", data=df)"
   ]
  },
  {
   "cell_type": "markdown",
   "id": "6f40af7a",
   "metadata": {
    "papermill": {
     "duration": 0.032084,
     "end_time": "2022-05-30T21:50:14.953990",
     "exception": false,
     "start_time": "2022-05-30T21:50:14.921906",
     "status": "completed"
    },
    "tags": []
   },
   "source": [
    "<div class=\"alert alert-block alert-info\" style=\"font-size:14px; font-family:verdana;\">\n",
    "📌 The more average grades in both males and females the more likely to attend college.\n",
    "</div>"
   ]
  },
  {
   "cell_type": "code",
   "execution_count": 29,
   "id": "66195a46",
   "metadata": {
    "execution": {
     "iopub.execute_input": "2022-05-30T21:50:15.024044Z",
     "iopub.status.busy": "2022-05-30T21:50:15.023519Z",
     "iopub.status.idle": "2022-05-30T21:50:15.318593Z",
     "shell.execute_reply": "2022-05-30T21:50:15.317368Z"
    },
    "papermill": {
     "duration": 0.334457,
     "end_time": "2022-05-30T21:50:15.321241",
     "exception": false,
     "start_time": "2022-05-30T21:50:14.986784",
     "status": "completed"
    },
    "tags": []
   },
   "outputs": [
    {
     "data": {
      "text/plain": [
       "<AxesSubplot:xlabel='average_grades', ylabel='Density'>"
      ]
     },
     "execution_count": 29,
     "metadata": {},
     "output_type": "execute_result"
    },
    {
     "data": {
      "image/png": "[encoded data removed]",
      "text/plain": [
       "<Figure size 1440x720 with 1 Axes>"
      ]
     },
     "metadata": {
      "needs_background": "light"
     },
     "output_type": "display_data"
    }
   ],
   "source": [
    "plt.figure(figsize=(20,10))\n",
    "sns.kdeplot(x=\"average_grades\", hue=\"will_go_to_college\", data=df)"
   ]
  },
  {
   "cell_type": "markdown",
   "id": "da905ab0",
   "metadata": {
    "papermill": {
     "duration": 0.033746,
     "end_time": "2022-05-30T21:50:15.388904",
     "exception": false,
     "start_time": "2022-05-30T21:50:15.355158",
     "status": "completed"
    },
    "tags": []
   },
   "source": [
    "<div class=\"alert alert-block alert-info\" style=\"font-size:14px; font-family:verdana;\">\n",
    "📌 The higher on average grades the more likely to attend the college.\n",
    "</div>"
   ]
  },
  {
   "cell_type": "code",
   "execution_count": 30,
   "id": "a4a3c4f4",
   "metadata": {
    "execution": {
     "iopub.execute_input": "2022-05-30T21:50:15.459613Z",
     "iopub.status.busy": "2022-05-30T21:50:15.459101Z",
     "iopub.status.idle": "2022-05-30T21:50:15.776940Z",
     "shell.execute_reply": "2022-05-30T21:50:15.776072Z"
    },
    "papermill": {
     "duration": 0.355524,
     "end_time": "2022-05-30T21:50:15.779436",
     "exception": false,
     "start_time": "2022-05-30T21:50:15.423912",
     "status": "completed"
    },
    "tags": []
   },
   "outputs": [
    {
     "data": {
      "text/plain": [
       "<AxesSubplot:xlabel='parent_age', ylabel='Density'>"
      ]
     },
     "execution_count": 30,
     "metadata": {},
     "output_type": "execute_result"
    },
    {
     "data": {
      "image/png": "[encoded data removed]",
      "text/plain": [
       "<Figure size 1440x720 with 1 Axes>"
      ]
     },
     "metadata": {
      "needs_background": "light"
     },
     "output_type": "display_data"
    }
   ],
   "source": [
    "plt.figure(figsize=(20,10))\n",
    "sns.kdeplot(x=\"parent_age\", hue=\"will_go_to_college\", data=df)"
   ]
  },
  {
   "cell_type": "markdown",
   "id": "09efd6d7",
   "metadata": {
    "papermill": {
     "duration": 0.034935,
     "end_time": "2022-05-30T21:50:15.849778",
     "exception": false,
     "start_time": "2022-05-30T21:50:15.814843",
     "status": "completed"
    },
    "tags": []
   },
   "source": [
    "<div class=\"alert alert-block alert-info\" style=\"font-size:14px; font-family:verdana;\">\n",
    "📌 Not so much effect by the age of parents for a child to attend the college.\n",
    "</div>"
   ]
  },
  {
   "cell_type": "code",
   "execution_count": 31,
   "id": "9d8330a7",
   "metadata": {
    "execution": {
     "iopub.execute_input": "2022-05-30T21:50:15.925186Z",
     "iopub.status.busy": "2022-05-30T21:50:15.924174Z",
     "iopub.status.idle": "2022-05-30T21:50:16.228833Z",
     "shell.execute_reply": "2022-05-30T21:50:16.227224Z"
    },
    "papermill": {
     "duration": 0.346301,
     "end_time": "2022-05-30T21:50:16.232105",
     "exception": false,
     "start_time": "2022-05-30T21:50:15.885804",
     "status": "completed"
    },
    "tags": []
   },
   "outputs": [
    {
     "data": {
      "text/plain": [
       "<AxesSubplot:xlabel='parent_salary', ylabel='Density'>"
      ]
     },
     "execution_count": 31,
     "metadata": {},
     "output_type": "execute_result"
    },
    {
     "data": {
      "image/png": "[encoded data removed]",
      "text/plain": [
       "<Figure size 1440x720 with 1 Axes>"
      ]
     },
     "metadata": {
      "needs_background": "light"
     },
     "output_type": "display_data"
    }
   ],
   "source": [
    "plt.figure(figsize=(20,10))\n",
    "sns.kdeplot(x=\"parent_salary\", hue=\"will_go_to_college\", data=df)"
   ]
  },
  {
   "cell_type": "markdown",
   "id": "d465597c",
   "metadata": {
    "papermill": {
     "duration": 0.037329,
     "end_time": "2022-05-30T21:50:16.309730",
     "exception": false,
     "start_time": "2022-05-30T21:50:16.272401",
     "status": "completed"
    },
    "tags": []
   },
   "source": [
    "<div class=\"alert alert-block alert-info\" style=\"font-size:14px; font-family:verdana;\">\n",
    "📌 The higher on parent's salary the more likely for the child to attend college.\n",
    "</div>"
   ]
  },
  {
   "cell_type": "code",
   "execution_count": 32,
   "id": "ab176a75",
   "metadata": {
    "execution": {
     "iopub.execute_input": "2022-05-30T21:50:16.386233Z",
     "iopub.status.busy": "2022-05-30T21:50:16.385438Z",
     "iopub.status.idle": "2022-05-30T21:50:16.678854Z",
     "shell.execute_reply": "2022-05-30T21:50:16.677588Z"
    },
    "papermill": {
     "duration": 0.335276,
     "end_time": "2022-05-30T21:50:16.681653",
     "exception": false,
     "start_time": "2022-05-30T21:50:16.346377",
     "status": "completed"
    },
    "tags": []
   },
   "outputs": [
    {
     "data": {
      "text/plain": [
       "<AxesSubplot:xlabel='house_area', ylabel='Density'>"
      ]
     },
     "execution_count": 32,
     "metadata": {},
     "output_type": "execute_result"
    },
    {
     "data": {
      "image/png": "[encoded data removed]",
      "text/plain": [
       "<Figure size 1440x720 with 1 Axes>"
      ]
     },
     "metadata": {
      "needs_background": "light"
     },
     "output_type": "display_data"
    }
   ],
   "source": [
    "plt.figure(figsize=(20,10))\n",
    "sns.kdeplot(x=\"house_area\", hue=\"will_go_to_college\", data=df)"
   ]
  },
  {
   "cell_type": "markdown",
   "id": "67383f4e",
   "metadata": {
    "papermill": {
     "duration": 0.037667,
     "end_time": "2022-05-30T21:50:16.757070",
     "exception": false,
     "start_time": "2022-05-30T21:50:16.719403",
     "status": "completed"
    },
    "tags": []
   },
   "source": [
    "<div class=\"alert alert-block alert-info\" style=\"font-size:14px; font-family:verdana;\">\n",
    "📌 The higher on house area the more likely for the child to attend college.\n",
    "</div>"
   ]
  },
  {
   "cell_type": "markdown",
   "id": "7192a5c3",
   "metadata": {
    "papermill": {
     "duration": 0.037488,
     "end_time": "2022-05-30T21:50:16.832211",
     "exception": false,
     "start_time": "2022-05-30T21:50:16.794723",
     "status": "completed"
    },
    "tags": []
   },
   "source": [
    "# Modeling"
   ]
  },
  {
   "cell_type": "code",
   "execution_count": 33,
   "id": "5aa6a5c5",
   "metadata": {
    "execution": {
     "iopub.execute_input": "2022-05-30T21:50:16.910179Z",
     "iopub.status.busy": "2022-05-30T21:50:16.909702Z",
     "iopub.status.idle": "2022-05-30T21:50:16.926775Z",
     "shell.execute_reply": "2022-05-30T21:50:16.925655Z"
    },
    "papermill": {
     "duration": 0.059288,
     "end_time": "2022-05-30T21:50:16.929358",
     "exception": false,
     "start_time": "2022-05-30T21:50:16.870070",
     "status": "completed"
    },
    "tags": []
   },
   "outputs": [
    {
     "name": "stdout",
     "output_type": "stream",
     "text": [
      "<class 'pandas.core.frame.DataFrame'>\n",
      "RangeIndex: 1000 entries, 0 to 999\n",
      "Data columns (total 11 columns):\n",
      " #   Column                 Non-Null Count  Dtype  \n",
      "---  ------                 --------------  -----  \n",
      " 0   type_school            1000 non-null   object \n",
      " 1   school_accreditation   1000 non-null   object \n",
      " 2   gender                 1000 non-null   object \n",
      " 3   interest               1000 non-null   object \n",
      " 4   residence              1000 non-null   object \n",
      " 5   parent_age             1000 non-null   int64  \n",
      " 6   parent_salary          1000 non-null   int64  \n",
      " 7   house_area             1000 non-null   float64\n",
      " 8   average_grades         1000 non-null   float64\n",
      " 9   parent_was_in_college  1000 non-null   bool   \n",
      " 10  will_go_to_college     1000 non-null   bool   \n",
      "dtypes: bool(2), float64(2), int64(2), object(5)\n",
      "memory usage: 72.4+ KB\n"
     ]
    }
   ],
   "source": [
    "df.info()"
   ]
  },
  {
   "cell_type": "code",
   "execution_count": 34,
   "id": "b79809b8",
   "metadata": {
    "execution": {
     "iopub.execute_input": "2022-05-30T21:50:17.007782Z",
     "iopub.status.busy": "2022-05-30T21:50:17.007216Z",
     "iopub.status.idle": "2022-05-30T21:50:17.016840Z",
     "shell.execute_reply": "2022-05-30T21:50:17.015578Z"
    },
    "papermill": {
     "duration": 0.051295,
     "end_time": "2022-05-30T21:50:17.018875",
     "exception": false,
     "start_time": "2022-05-30T21:50:16.967580",
     "status": "completed"
    },
    "tags": []
   },
   "outputs": [
    {
     "data": {
      "text/plain": [
       "Academic      609\n",
       "Vocational    391\n",
       "Name: type_school, dtype: int64"
      ]
     },
     "execution_count": 34,
     "metadata": {},
     "output_type": "execute_result"
    }
   ],
   "source": [
    "df['type_school'].value_counts()"
   ]
  },
  {
   "cell_type": "code",
   "execution_count": 35,
   "id": "cb8ae083",
   "metadata": {
    "execution": {
     "iopub.execute_input": "2022-05-30T21:50:17.099721Z",
     "iopub.status.busy": "2022-05-30T21:50:17.098595Z",
     "iopub.status.idle": "2022-05-30T21:50:17.108719Z",
     "shell.execute_reply": "2022-05-30T21:50:17.107578Z"
    },
    "papermill": {
     "duration": 0.053292,
     "end_time": "2022-05-30T21:50:17.111130",
     "exception": false,
     "start_time": "2022-05-30T21:50:17.057838",
     "status": "completed"
    },
    "tags": []
   },
   "outputs": [
    {
     "data": {
      "text/plain": [
       "B    519\n",
       "A    481\n",
       "Name: school_accreditation, dtype: int64"
      ]
     },
     "execution_count": 35,
     "metadata": {},
     "output_type": "execute_result"
    }
   ],
   "source": [
    "df['school_accreditation'].value_counts()"
   ]
  },
  {
   "cell_type": "code",
   "execution_count": 36,
   "id": "a670e217",
   "metadata": {
    "execution": {
     "iopub.execute_input": "2022-05-30T21:50:17.191149Z",
     "iopub.status.busy": "2022-05-30T21:50:17.190659Z",
     "iopub.status.idle": "2022-05-30T21:50:17.200648Z",
     "shell.execute_reply": "2022-05-30T21:50:17.199788Z"
    },
    "papermill": {
     "duration": 0.053548,
     "end_time": "2022-05-30T21:50:17.203380",
     "exception": false,
     "start_time": "2022-05-30T21:50:17.149832",
     "status": "completed"
    },
    "tags": []
   },
   "outputs": [
    {
     "data": {
      "text/plain": [
       "Very Interested    324\n",
       "Uncertain          261\n",
       "Less Interested    229\n",
       "Interested         100\n",
       "Not Interested      86\n",
       "Name: interest, dtype: int64"
      ]
     },
     "execution_count": 36,
     "metadata": {},
     "output_type": "execute_result"
    }
   ],
   "source": [
    "df['interest'].value_counts()"
   ]
  },
  {
   "cell_type": "code",
   "execution_count": 37,
   "id": "3307c573",
   "metadata": {
    "execution": {
     "iopub.execute_input": "2022-05-30T21:50:17.282180Z",
     "iopub.status.busy": "2022-05-30T21:50:17.281698Z",
     "iopub.status.idle": "2022-05-30T21:50:17.290493Z",
     "shell.execute_reply": "2022-05-30T21:50:17.289632Z"
    },
    "papermill": {
     "duration": 0.051082,
     "end_time": "2022-05-30T21:50:17.292550",
     "exception": false,
     "start_time": "2022-05-30T21:50:17.241468",
     "status": "completed"
    },
    "tags": []
   },
   "outputs": [
    {
     "data": {
      "text/plain": [
       "Urban    539\n",
       "Rural    461\n",
       "Name: residence, dtype: int64"
      ]
     },
     "execution_count": 37,
     "metadata": {},
     "output_type": "execute_result"
    }
   ],
   "source": [
    "df['residence'].value_counts()"
   ]
  },
  {
   "cell_type": "code",
   "execution_count": 38,
   "id": "7e80e239",
   "metadata": {
    "execution": {
     "iopub.execute_input": "2022-05-30T21:50:17.373461Z",
     "iopub.status.busy": "2022-05-30T21:50:17.372658Z",
     "iopub.status.idle": "2022-05-30T21:50:17.645371Z",
     "shell.execute_reply": "2022-05-30T21:50:17.644186Z"
    },
    "papermill": {
     "duration": 0.316253,
     "end_time": "2022-05-30T21:50:17.647945",
     "exception": false,
     "start_time": "2022-05-30T21:50:17.331692",
     "status": "completed"
    },
    "tags": []
   },
   "outputs": [
    {
     "data": {
      "text/html": [
       "<div>\n",
       "<style scoped>\n",
       "    .dataframe tbody tr th:only-of-type {\n",
       "        vertical-align: middle;\n",
       "    }\n",
       "\n",
       "    .dataframe tbody tr th {\n",
       "        vertical-align: top;\n",
       "    }\n",
       "\n",
       "    .dataframe thead th {\n",
       "        text-align: right;\n",
       "    }\n",
       "</style>\n",
       "<table border=\"1\" class=\"dataframe\">\n",
       "  <thead>\n",
       "    <tr style=\"text-align: right;\">\n",
       "      <th></th>\n",
       "      <th>type_school</th>\n",
       "      <th>school_accreditation</th>\n",
       "      <th>gender</th>\n",
       "      <th>interest</th>\n",
       "      <th>residence</th>\n",
       "      <th>parent_age</th>\n",
       "      <th>parent_salary</th>\n",
       "      <th>house_area</th>\n",
       "      <th>average_grades</th>\n",
       "      <th>parent_was_in_college</th>\n",
       "      <th>will_go_to_college</th>\n",
       "    </tr>\n",
       "  </thead>\n",
       "  <tbody>\n",
       "    <tr>\n",
       "      <th>0</th>\n",
       "      <td>0</td>\n",
       "      <td>0</td>\n",
       "      <td>0</td>\n",
       "      <td>2.0</td>\n",
       "      <td>0</td>\n",
       "      <td>56</td>\n",
       "      <td>6950000</td>\n",
       "      <td>83.0</td>\n",
       "      <td>84.09</td>\n",
       "      <td>0</td>\n",
       "      <td>1</td>\n",
       "    </tr>\n",
       "    <tr>\n",
       "      <th>1</th>\n",
       "      <td>0</td>\n",
       "      <td>0</td>\n",
       "      <td>0</td>\n",
       "      <td>2.0</td>\n",
       "      <td>0</td>\n",
       "      <td>57</td>\n",
       "      <td>4410000</td>\n",
       "      <td>76.8</td>\n",
       "      <td>86.91</td>\n",
       "      <td>0</td>\n",
       "      <td>1</td>\n",
       "    </tr>\n",
       "    <tr>\n",
       "      <th>2</th>\n",
       "      <td>0</td>\n",
       "      <td>1</td>\n",
       "      <td>1</td>\n",
       "      <td>0.0</td>\n",
       "      <td>0</td>\n",
       "      <td>50</td>\n",
       "      <td>6500000</td>\n",
       "      <td>80.6</td>\n",
       "      <td>87.43</td>\n",
       "      <td>0</td>\n",
       "      <td>1</td>\n",
       "    </tr>\n",
       "    <tr>\n",
       "      <th>3</th>\n",
       "      <td>1</td>\n",
       "      <td>1</td>\n",
       "      <td>0</td>\n",
       "      <td>0.0</td>\n",
       "      <td>1</td>\n",
       "      <td>49</td>\n",
       "      <td>6600000</td>\n",
       "      <td>78.2</td>\n",
       "      <td>82.12</td>\n",
       "      <td>1</td>\n",
       "      <td>1</td>\n",
       "    </tr>\n",
       "    <tr>\n",
       "      <th>4</th>\n",
       "      <td>0</td>\n",
       "      <td>0</td>\n",
       "      <td>1</td>\n",
       "      <td>0.0</td>\n",
       "      <td>0</td>\n",
       "      <td>57</td>\n",
       "      <td>5250000</td>\n",
       "      <td>75.1</td>\n",
       "      <td>86.79</td>\n",
       "      <td>0</td>\n",
       "      <td>0</td>\n",
       "    </tr>\n",
       "    <tr>\n",
       "      <th>...</th>\n",
       "      <td>...</td>\n",
       "      <td>...</td>\n",
       "      <td>...</td>\n",
       "      <td>...</td>\n",
       "      <td>...</td>\n",
       "      <td>...</td>\n",
       "      <td>...</td>\n",
       "      <td>...</td>\n",
       "      <td>...</td>\n",
       "      <td>...</td>\n",
       "      <td>...</td>\n",
       "    </tr>\n",
       "    <tr>\n",
       "      <th>995</th>\n",
       "      <td>1</td>\n",
       "      <td>0</td>\n",
       "      <td>1</td>\n",
       "      <td>0.0</td>\n",
       "      <td>1</td>\n",
       "      <td>49</td>\n",
       "      <td>7420000</td>\n",
       "      <td>63.6</td>\n",
       "      <td>85.99</td>\n",
       "      <td>1</td>\n",
       "      <td>1</td>\n",
       "    </tr>\n",
       "    <tr>\n",
       "      <th>996</th>\n",
       "      <td>0</td>\n",
       "      <td>1</td>\n",
       "      <td>1</td>\n",
       "      <td>2.0</td>\n",
       "      <td>1</td>\n",
       "      <td>51</td>\n",
       "      <td>7480000</td>\n",
       "      <td>84.3</td>\n",
       "      <td>89.72</td>\n",
       "      <td>1</td>\n",
       "      <td>1</td>\n",
       "    </tr>\n",
       "    <tr>\n",
       "      <th>997</th>\n",
       "      <td>1</td>\n",
       "      <td>0</td>\n",
       "      <td>0</td>\n",
       "      <td>2.0</td>\n",
       "      <td>0</td>\n",
       "      <td>49</td>\n",
       "      <td>5550000</td>\n",
       "      <td>75.2</td>\n",
       "      <td>79.56</td>\n",
       "      <td>0</td>\n",
       "      <td>1</td>\n",
       "    </tr>\n",
       "    <tr>\n",
       "      <th>998</th>\n",
       "      <td>0</td>\n",
       "      <td>1</td>\n",
       "      <td>0</td>\n",
       "      <td>1.0</td>\n",
       "      <td>1</td>\n",
       "      <td>53</td>\n",
       "      <td>5840000</td>\n",
       "      <td>105.8</td>\n",
       "      <td>87.18</td>\n",
       "      <td>1</td>\n",
       "      <td>1</td>\n",
       "    </tr>\n",
       "    <tr>\n",
       "      <th>999</th>\n",
       "      <td>0</td>\n",
       "      <td>1</td>\n",
       "      <td>0</td>\n",
       "      <td>NaN</td>\n",
       "      <td>0</td>\n",
       "      <td>50</td>\n",
       "      <td>2940000</td>\n",
       "      <td>69.1</td>\n",
       "      <td>86.13</td>\n",
       "      <td>1</td>\n",
       "      <td>0</td>\n",
       "    </tr>\n",
       "  </tbody>\n",
       "</table>\n",
       "<p>1000 rows × 11 columns</p>\n",
       "</div>"
      ],
      "text/plain": [
       "     type_school  school_accreditation  gender  interest  residence  \\\n",
       "0              0                     0       0       2.0          0   \n",
       "1              0                     0       0       2.0          0   \n",
       "2              0                     1       1       0.0          0   \n",
       "3              1                     1       0       0.0          1   \n",
       "4              0                     0       1       0.0          0   \n",
       "..           ...                   ...     ...       ...        ...   \n",
       "995            1                     0       1       0.0          1   \n",
       "996            0                     1       1       2.0          1   \n",
       "997            1                     0       0       2.0          0   \n",
       "998            0                     1       0       1.0          1   \n",
       "999            0                     1       0       NaN          0   \n",
       "\n",
       "     parent_age  parent_salary  house_area  average_grades  \\\n",
       "0            56        6950000        83.0           84.09   \n",
       "1            57        4410000        76.8           86.91   \n",
       "2            50        6500000        80.6           87.43   \n",
       "3            49        6600000        78.2           82.12   \n",
       "4            57        5250000        75.1           86.79   \n",
       "..          ...            ...         ...             ...   \n",
       "995          49        7420000        63.6           85.99   \n",
       "996          51        7480000        84.3           89.72   \n",
       "997          49        5550000        75.2           79.56   \n",
       "998          53        5840000       105.8           87.18   \n",
       "999          50        2940000        69.1           86.13   \n",
       "\n",
       "     parent_was_in_college  will_go_to_college  \n",
       "0                        0                   1  \n",
       "1                        0                   1  \n",
       "2                        0                   1  \n",
       "3                        1                   1  \n",
       "4                        0                   0  \n",
       "..                     ...                 ...  \n",
       "995                      1                   1  \n",
       "996                      1                   1  \n",
       "997                      0                   1  \n",
       "998                      1                   1  \n",
       "999                      1                   0  \n",
       "\n",
       "[1000 rows x 11 columns]"
      ]
     },
     "execution_count": 38,
     "metadata": {},
     "output_type": "execute_result"
    }
   ],
   "source": [
    "# Convert categorical column to numeric ones\n",
    "df['type_school']=df['type_school'].map({'Academic': 0,'Vocational': 1})\n",
    "df['school_accreditation']=df['school_accreditation'].map({'A': 0,'B': 1})\n",
    "df['gender']=df['gender'].map({'Male': 0,'Female': 1})\n",
    "df['interest']=df['interest'].map({'Very Interested': 0,'Uncertain': 1,'Less Interested':2,'Quiet Interested':3, 'Not Interested':4})\n",
    "df['residence']=df['residence'].map({'Urban':0,'Rural': 1})\n",
    "df[\"parent_was_in_college\"] = df[\"parent_was_in_college\"].astype(int)\n",
    "df[\"will_go_to_college\"] = df[\"will_go_to_college\"].astype(int)\n",
    "df"
   ]
  },
  {
   "cell_type": "code",
   "execution_count": 58,
   "id": "2ea98d26",
   "metadata": {},
   "outputs": [
    {
     "data": {
      "text/plain": [
       "type_school                0\n",
       "school_accreditation       0\n",
       "gender                     0\n",
       "interest                 100\n",
       "residence                  0\n",
       "parent_age                 0\n",
       "parent_salary              0\n",
       "house_area                 0\n",
       "average_grades             0\n",
       "parent_was_in_college      0\n",
       "will_go_to_college         0\n",
       "dtype: int64"
      ]
     },
     "execution_count": 58,
     "metadata": {},
     "output_type": "execute_result"
    }
   ],
   "source": [
    "df.isna().sum()"
   ]
  },
  {
   "cell_type": "code",
   "execution_count": 59,
   "id": "fc719dfd",
   "metadata": {},
   "outputs": [],
   "source": [
    "df.dropna(inplace=True)"
   ]
  },
  {
   "cell_type": "code",
   "execution_count": 60,
   "id": "3b23f998",
   "metadata": {
    "execution": {
     "iopub.execute_input": "2022-05-30T21:50:17.730141Z",
     "iopub.status.busy": "2022-05-30T21:50:17.728664Z",
     "iopub.status.idle": "2022-05-30T21:50:17.737302Z",
     "shell.execute_reply": "2022-05-30T21:50:17.736202Z"
    },
    "papermill": {
     "duration": 0.051922,
     "end_time": "2022-05-30T21:50:17.739820",
     "exception": false,
     "start_time": "2022-05-30T21:50:17.687898",
     "status": "completed"
    },
    "tags": []
   },
   "outputs": [],
   "source": [
    "X = df.drop(['will_go_to_college'], axis=1)\n",
    "y = df['will_go_to_college']"
   ]
  },
  {
   "cell_type": "code",
   "execution_count": 61,
   "id": "248cc03d",
   "metadata": {},
   "outputs": [
    {
     "data": {
      "text/html": [
       "<div>\n",
       "<style scoped>\n",
       "    .dataframe tbody tr th:only-of-type {\n",
       "        vertical-align: middle;\n",
       "    }\n",
       "\n",
       "    .dataframe tbody tr th {\n",
       "        vertical-align: top;\n",
       "    }\n",
       "\n",
       "    .dataframe thead th {\n",
       "        text-align: right;\n",
       "    }\n",
       "</style>\n",
       "<table border=\"1\" class=\"dataframe\">\n",
       "  <thead>\n",
       "    <tr style=\"text-align: right;\">\n",
       "      <th></th>\n",
       "      <th>type_school</th>\n",
       "      <th>school_accreditation</th>\n",
       "      <th>gender</th>\n",
       "      <th>interest</th>\n",
       "      <th>residence</th>\n",
       "      <th>parent_age</th>\n",
       "      <th>parent_salary</th>\n",
       "      <th>house_area</th>\n",
       "      <th>average_grades</th>\n",
       "      <th>parent_was_in_college</th>\n",
       "    </tr>\n",
       "  </thead>\n",
       "  <tbody>\n",
       "    <tr>\n",
       "      <th>0</th>\n",
       "      <td>0</td>\n",
       "      <td>0</td>\n",
       "      <td>0</td>\n",
       "      <td>2.0</td>\n",
       "      <td>0</td>\n",
       "      <td>56</td>\n",
       "      <td>6950000</td>\n",
       "      <td>83.0</td>\n",
       "      <td>84.09</td>\n",
       "      <td>0</td>\n",
       "    </tr>\n",
       "    <tr>\n",
       "      <th>1</th>\n",
       "      <td>0</td>\n",
       "      <td>0</td>\n",
       "      <td>0</td>\n",
       "      <td>2.0</td>\n",
       "      <td>0</td>\n",
       "      <td>57</td>\n",
       "      <td>4410000</td>\n",
       "      <td>76.8</td>\n",
       "      <td>86.91</td>\n",
       "      <td>0</td>\n",
       "    </tr>\n",
       "    <tr>\n",
       "      <th>2</th>\n",
       "      <td>0</td>\n",
       "      <td>1</td>\n",
       "      <td>1</td>\n",
       "      <td>0.0</td>\n",
       "      <td>0</td>\n",
       "      <td>50</td>\n",
       "      <td>6500000</td>\n",
       "      <td>80.6</td>\n",
       "      <td>87.43</td>\n",
       "      <td>0</td>\n",
       "    </tr>\n",
       "    <tr>\n",
       "      <th>3</th>\n",
       "      <td>1</td>\n",
       "      <td>1</td>\n",
       "      <td>0</td>\n",
       "      <td>0.0</td>\n",
       "      <td>1</td>\n",
       "      <td>49</td>\n",
       "      <td>6600000</td>\n",
       "      <td>78.2</td>\n",
       "      <td>82.12</td>\n",
       "      <td>1</td>\n",
       "    </tr>\n",
       "    <tr>\n",
       "      <th>4</th>\n",
       "      <td>0</td>\n",
       "      <td>0</td>\n",
       "      <td>1</td>\n",
       "      <td>0.0</td>\n",
       "      <td>0</td>\n",
       "      <td>57</td>\n",
       "      <td>5250000</td>\n",
       "      <td>75.1</td>\n",
       "      <td>86.79</td>\n",
       "      <td>0</td>\n",
       "    </tr>\n",
       "    <tr>\n",
       "      <th>...</th>\n",
       "      <td>...</td>\n",
       "      <td>...</td>\n",
       "      <td>...</td>\n",
       "      <td>...</td>\n",
       "      <td>...</td>\n",
       "      <td>...</td>\n",
       "      <td>...</td>\n",
       "      <td>...</td>\n",
       "      <td>...</td>\n",
       "      <td>...</td>\n",
       "    </tr>\n",
       "    <tr>\n",
       "      <th>994</th>\n",
       "      <td>0</td>\n",
       "      <td>1</td>\n",
       "      <td>1</td>\n",
       "      <td>2.0</td>\n",
       "      <td>0</td>\n",
       "      <td>52</td>\n",
       "      <td>3270000</td>\n",
       "      <td>65.0</td>\n",
       "      <td>85.16</td>\n",
       "      <td>0</td>\n",
       "    </tr>\n",
       "    <tr>\n",
       "      <th>995</th>\n",
       "      <td>1</td>\n",
       "      <td>0</td>\n",
       "      <td>1</td>\n",
       "      <td>0.0</td>\n",
       "      <td>1</td>\n",
       "      <td>49</td>\n",
       "      <td>7420000</td>\n",
       "      <td>63.6</td>\n",
       "      <td>85.99</td>\n",
       "      <td>1</td>\n",
       "    </tr>\n",
       "    <tr>\n",
       "      <th>996</th>\n",
       "      <td>0</td>\n",
       "      <td>1</td>\n",
       "      <td>1</td>\n",
       "      <td>2.0</td>\n",
       "      <td>1</td>\n",
       "      <td>51</td>\n",
       "      <td>7480000</td>\n",
       "      <td>84.3</td>\n",
       "      <td>89.72</td>\n",
       "      <td>1</td>\n",
       "    </tr>\n",
       "    <tr>\n",
       "      <th>997</th>\n",
       "      <td>1</td>\n",
       "      <td>0</td>\n",
       "      <td>0</td>\n",
       "      <td>2.0</td>\n",
       "      <td>0</td>\n",
       "      <td>49</td>\n",
       "      <td>5550000</td>\n",
       "      <td>75.2</td>\n",
       "      <td>79.56</td>\n",
       "      <td>0</td>\n",
       "    </tr>\n",
       "    <tr>\n",
       "      <th>998</th>\n",
       "      <td>0</td>\n",
       "      <td>1</td>\n",
       "      <td>0</td>\n",
       "      <td>1.0</td>\n",
       "      <td>1</td>\n",
       "      <td>53</td>\n",
       "      <td>5840000</td>\n",
       "      <td>105.8</td>\n",
       "      <td>87.18</td>\n",
       "      <td>1</td>\n",
       "    </tr>\n",
       "  </tbody>\n",
       "</table>\n",
       "<p>900 rows × 10 columns</p>\n",
       "</div>"
      ],
      "text/plain": [
       "     type_school  school_accreditation  gender  interest  residence  \\\n",
       "0              0                     0       0       2.0          0   \n",
       "1              0                     0       0       2.0          0   \n",
       "2              0                     1       1       0.0          0   \n",
       "3              1                     1       0       0.0          1   \n",
       "4              0                     0       1       0.0          0   \n",
       "..           ...                   ...     ...       ...        ...   \n",
       "994            0                     1       1       2.0          0   \n",
       "995            1                     0       1       0.0          1   \n",
       "996            0                     1       1       2.0          1   \n",
       "997            1                     0       0       2.0          0   \n",
       "998            0                     1       0       1.0          1   \n",
       "\n",
       "     parent_age  parent_salary  house_area  average_grades  \\\n",
       "0            56        6950000        83.0           84.09   \n",
       "1            57        4410000        76.8           86.91   \n",
       "2            50        6500000        80.6           87.43   \n",
       "3            49        6600000        78.2           82.12   \n",
       "4            57        5250000        75.1           86.79   \n",
       "..          ...            ...         ...             ...   \n",
       "994          52        3270000        65.0           85.16   \n",
       "995          49        7420000        63.6           85.99   \n",
       "996          51        7480000        84.3           89.72   \n",
       "997          49        5550000        75.2           79.56   \n",
       "998          53        5840000       105.8           87.18   \n",
       "\n",
       "     parent_was_in_college  \n",
       "0                        0  \n",
       "1                        0  \n",
       "2                        0  \n",
       "3                        1  \n",
       "4                        0  \n",
       "..                     ...  \n",
       "994                      0  \n",
       "995                      1  \n",
       "996                      1  \n",
       "997                      0  \n",
       "998                      1  \n",
       "\n",
       "[900 rows x 10 columns]"
      ]
     },
     "execution_count": 61,
     "metadata": {},
     "output_type": "execute_result"
    }
   ],
   "source": [
    "X"
   ]
  },
  {
   "cell_type": "code",
   "execution_count": 62,
   "id": "f722c2a0",
   "metadata": {},
   "outputs": [
    {
     "data": {
      "text/plain": [
       "type_school              0\n",
       "school_accreditation     0\n",
       "gender                   0\n",
       "interest                 0\n",
       "residence                0\n",
       "parent_age               0\n",
       "parent_salary            0\n",
       "house_area               0\n",
       "average_grades           0\n",
       "parent_was_in_college    0\n",
       "dtype: int64"
      ]
     },
     "execution_count": 62,
     "metadata": {},
     "output_type": "execute_result"
    }
   ],
   "source": [
    "X.isna().sum()"
   ]
  },
  {
   "cell_type": "code",
   "execution_count": 63,
   "id": "02126df6",
   "metadata": {},
   "outputs": [],
   "source": [
    "X.dropna(inplace=True)"
   ]
  },
  {
   "cell_type": "code",
   "execution_count": 64,
   "id": "1158ece2",
   "metadata": {
    "execution": {
     "iopub.execute_input": "2022-05-30T21:50:17.823315Z",
     "iopub.status.busy": "2022-05-30T21:50:17.822454Z",
     "iopub.status.idle": "2022-05-30T21:50:18.338333Z",
     "shell.execute_reply": "2022-05-30T21:50:18.337197Z"
    },
    "papermill": {
     "duration": 0.562101,
     "end_time": "2022-05-30T21:50:18.341868",
     "exception": false,
     "start_time": "2022-05-30T21:50:17.779767",
     "status": "completed"
    },
    "tags": []
   },
   "outputs": [],
   "source": [
    "# Classifiers\n",
    "from sklearn.linear_model import LogisticRegression\n",
    "from sklearn.svm import SVC\n",
    "from sklearn.neighbors import KNeighborsClassifier\n",
    "from sklearn.ensemble import RandomForestClassifier\n",
    "# Evaluation Mertics \n",
    "from sklearn.metrics import accuracy_score, confusion_matrix, classification_report, plot_confusion_matrix, ConfusionMatrixDisplay\n",
    "from sklearn.metrics import roc_curve, auc\n",
    "# Other \n",
    "from sklearn.model_selection import cross_val_score, KFold\n",
    "from sklearn.pipeline import make_pipeline\n",
    "from sklearn.preprocessing import StandardScaler\n",
    "from sklearn.model_selection import train_test_split\n",
    "from sklearn import metrics, preprocessing"
   ]
  },
  {
   "cell_type": "code",
   "execution_count": 65,
   "id": "31e9a876",
   "metadata": {},
   "outputs": [
    {
     "data": {
      "text/plain": [
       "(900, 10)"
      ]
     },
     "execution_count": 65,
     "metadata": {},
     "output_type": "execute_result"
    }
   ],
   "source": [
    "X.shape"
   ]
  },
  {
   "cell_type": "code",
   "execution_count": 66,
   "id": "5587d8a9",
   "metadata": {},
   "outputs": [
    {
     "data": {
      "text/plain": [
       "(900,)"
      ]
     },
     "execution_count": 66,
     "metadata": {},
     "output_type": "execute_result"
    }
   ],
   "source": [
    "y.shape"
   ]
  },
  {
   "cell_type": "code",
   "execution_count": 67,
   "id": "764a1fa8",
   "metadata": {
    "execution": {
     "iopub.execute_input": "2022-05-30T21:50:18.428526Z",
     "iopub.status.busy": "2022-05-30T21:50:18.427996Z",
     "iopub.status.idle": "2022-05-30T21:50:18.444632Z",
     "shell.execute_reply": "2022-05-30T21:50:18.443553Z"
    },
    "papermill": {
     "duration": 0.062588,
     "end_time": "2022-05-30T21:50:18.447030",
     "exception": false,
     "start_time": "2022-05-30T21:50:18.384442",
     "status": "completed"
    },
    "tags": []
   },
   "outputs": [],
   "source": [
    "# Scaling the data \n",
    "scaler =StandardScaler()\n",
    "Xs = scaler.fit_transform(X)"
   ]
  },
  {
   "cell_type": "code",
   "execution_count": 68,
   "id": "01ef2a2b",
   "metadata": {},
   "outputs": [
    {
     "data": {
      "text/plain": [
       "((720, 10), (720,), (180, 10), (180,))"
      ]
     },
     "execution_count": 68,
     "metadata": {},
     "output_type": "execute_result"
    }
   ],
   "source": [
    "X_train, X_test, y_train, y_test = train_test_split(Xs, y, test_size=0.20, random_state=42)\n",
    "X_train.shape, y_train.shape, X_test.shape, y_test.shape"
   ]
  },
  {
   "cell_type": "markdown",
   "id": "e87109e7",
   "metadata": {
    "papermill": {
     "duration": 0.04009,
     "end_time": "2022-05-30T21:50:18.526215",
     "exception": false,
     "start_time": "2022-05-30T21:50:18.486125",
     "status": "completed"
    },
    "tags": []
   },
   "source": [
    "## Logistic Regression"
   ]
  },
  {
   "cell_type": "code",
   "execution_count": 69,
   "id": "b390953f",
   "metadata": {
    "execution": {
     "iopub.execute_input": "2022-05-30T21:50:18.607502Z",
     "iopub.status.busy": "2022-05-30T21:50:18.606407Z",
     "iopub.status.idle": "2022-05-30T21:50:18.620462Z",
     "shell.execute_reply": "2022-05-30T21:50:18.619360Z"
    },
    "papermill": {
     "duration": 0.057404,
     "end_time": "2022-05-30T21:50:18.623160",
     "exception": false,
     "start_time": "2022-05-30T21:50:18.565756",
     "status": "completed"
    },
    "tags": []
   },
   "outputs": [
    {
     "name": "stdout",
     "output_type": "stream",
     "text": [
      "\n",
      "The Logistic Regression accuracy score is 0.83\n",
      "\n"
     ]
    }
   ],
   "source": [
    "log = LogisticRegression()\n",
    "log.fit(X_train, y_train)\n",
    "\n",
    "log_score = log.score(X_test, y_test)\n",
    "print('\\nThe Logistic Regression accuracy score is {:03.2f}\\n'.format(log_score))"
   ]
  },
  {
   "cell_type": "code",
   "execution_count": 70,
   "id": "fed8fea2",
   "metadata": {
    "execution": {
     "iopub.execute_input": "2022-05-30T21:50:18.704823Z",
     "iopub.status.busy": "2022-05-30T21:50:18.704292Z",
     "iopub.status.idle": "2022-05-30T21:50:18.774510Z",
     "shell.execute_reply": "2022-05-30T21:50:18.773327Z"
    },
    "papermill": {
     "duration": 0.113857,
     "end_time": "2022-05-30T21:50:18.777039",
     "exception": false,
     "start_time": "2022-05-30T21:50:18.663182",
     "status": "completed"
    },
    "tags": []
   },
   "outputs": [
    {
     "name": "stdout",
     "output_type": "stream",
     "text": [
      "\n",
      "The 3-fold cross-validation accuracy score for this classifier is 0.84000\n",
      "\n"
     ]
    }
   ],
   "source": [
    "from sklearn.feature_selection import SelectKBest, f_regression\n",
    "\n",
    "clf2 = make_pipeline(SelectKBest(f_regression, k=4),LogisticRegression())\n",
    "\n",
    "scores = cross_val_score(clf2, Xs, y, cv=3)\n",
    "\n",
    "# Get average of 3-fold cross-validation score using an LR estimator.\n",
    "n_folds = 3\n",
    "cv_error = np.average(cross_val_score(LogisticRegression(), Xs, y, cv=n_folds))\n",
    "print('\\nThe {}-fold cross-validation accuracy score for this classifier is {:.5f}\\n'.format(n_folds, cv_error))\n"
   ]
  },
  {
   "cell_type": "code",
   "execution_count": 71,
   "id": "7a0fae4c",
   "metadata": {
    "execution": {
     "iopub.execute_input": "2022-05-30T21:50:18.859733Z",
     "iopub.status.busy": "2022-05-30T21:50:18.858836Z",
     "iopub.status.idle": "2022-05-30T21:50:18.867077Z",
     "shell.execute_reply": "2022-05-30T21:50:18.865201Z"
    },
    "papermill": {
     "duration": 0.052262,
     "end_time": "2022-05-30T21:50:18.869832",
     "exception": false,
     "start_time": "2022-05-30T21:50:18.817570",
     "status": "completed"
    },
    "tags": []
   },
   "outputs": [
    {
     "name": "stdout",
     "output_type": "stream",
     "text": [
      "[0.80333333 0.79666667 0.79666667]\n",
      "Average score and uncertainty: (79.89 +- 0.181)%\n"
     ]
    }
   ],
   "source": [
    "print(scores)\n",
    "avg = (100*np.mean(scores), 100*np.std(scores)/np.sqrt(scores.shape[0]))\n",
    "print(\"Average score and uncertainty: (%.2f +- %.3f)%%\"%avg)"
   ]
  },
  {
   "cell_type": "code",
   "execution_count": 72,
   "id": "0850b724",
   "metadata": {
    "execution": {
     "iopub.execute_input": "2022-05-30T21:50:18.953177Z",
     "iopub.status.busy": "2022-05-30T21:50:18.952400Z",
     "iopub.status.idle": "2022-05-30T21:50:19.188331Z",
     "shell.execute_reply": "2022-05-30T21:50:19.187176Z"
    },
    "papermill": {
     "duration": 0.279775,
     "end_time": "2022-05-30T21:50:19.190646",
     "exception": false,
     "start_time": "2022-05-30T21:50:18.910871",
     "status": "completed"
    },
    "tags": []
   },
   "outputs": [
    {
     "name": "stdout",
     "output_type": "stream",
     "text": [
      "\n",
      "The Logistic Regression accuracy score is 0.83\n",
      "\n",
      "Classification Report:\n",
      "               precision    recall  f1-score   support\n",
      "\n",
      "           0       0.82      0.79      0.81        81\n",
      "           1       0.83      0.86      0.85        99\n",
      "\n",
      "    accuracy                           0.83       180\n",
      "   macro avg       0.83      0.82      0.83       180\n",
      "weighted avg       0.83      0.83      0.83       180\n",
      "\n",
      "The Confusion Matrix:\n",
      " [[64 17]\n",
      " [14 85]]\n"
     ]
    },
    {
     "data": {
      "image/png": "[encoded data removed]",
      "text/plain": [
       "<Figure size 432x288 with 2 Axes>"
      ]
     },
     "metadata": {
      "needs_background": "light"
     },
     "output_type": "display_data"
    }
   ],
   "source": [
    "log.fit(X_train, y_train)\n",
    "y_pred = log.predict(X_test)\n",
    "\n",
    "print('\\nThe Logistic Regression accuracy score is {:03.2f}\\n'.format(log_score))\n",
    "print(\"Classification Report:\\n\", classification_report(y_test, y_pred))\n",
    "print(\"The Confusion Matrix:\\n\",confusion_matrix(y_test, y_pred))\n",
    "cm = confusion_matrix(y_test, y_pred, labels=log.classes_)\n",
    "disp = ConfusionMatrixDisplay(confusion_matrix=cm, display_labels=log.classes_)\n",
    "disp.plot()\n",
    "plt.show()"
   ]
  },
  {
   "cell_type": "code",
   "execution_count": 73,
   "id": "c98ed6ed",
   "metadata": {
    "execution": {
     "iopub.execute_input": "2022-05-30T21:50:19.274497Z",
     "iopub.status.busy": "2022-05-30T21:50:19.273610Z",
     "iopub.status.idle": "2022-05-30T21:50:19.283021Z",
     "shell.execute_reply": "2022-05-30T21:50:19.281717Z"
    },
    "papermill": {
     "duration": 0.054266,
     "end_time": "2022-05-30T21:50:19.285751",
     "exception": false,
     "start_time": "2022-05-30T21:50:19.231485",
     "status": "completed"
    },
    "tags": []
   },
   "outputs": [
    {
     "name": "stdout",
     "output_type": "stream",
     "text": [
      "0.824354657687991\n"
     ]
    }
   ],
   "source": [
    "from sklearn.metrics import roc_curve, auc\n",
    "size = metrics.roc_auc_score(y_test, y_pred)\n",
    "print(size)"
   ]
  },
  {
   "cell_type": "markdown",
   "id": "42ffb991",
   "metadata": {
    "papermill": {
     "duration": 0.040123,
     "end_time": "2022-05-30T21:50:19.365700",
     "exception": false,
     "start_time": "2022-05-30T21:50:19.325577",
     "status": "completed"
    },
    "tags": []
   },
   "source": [
    "## K-Neighbors"
   ]
  },
  {
   "cell_type": "code",
   "execution_count": 74,
   "id": "8ace0172",
   "metadata": {
    "execution": {
     "iopub.execute_input": "2022-05-30T21:50:19.448510Z",
     "iopub.status.busy": "2022-05-30T21:50:19.447572Z",
     "iopub.status.idle": "2022-05-30T21:50:19.472237Z",
     "shell.execute_reply": "2022-05-30T21:50:19.470690Z"
    },
    "papermill": {
     "duration": 0.070165,
     "end_time": "2022-05-30T21:50:19.476305",
     "exception": false,
     "start_time": "2022-05-30T21:50:19.406140",
     "status": "completed"
    },
    "tags": []
   },
   "outputs": [
    {
     "name": "stdout",
     "output_type": "stream",
     "text": [
      "\n",
      "The K-Neighbors accuracy score is 0.86\n",
      "\n"
     ]
    }
   ],
   "source": [
    "kn = KNeighborsClassifier()\n",
    "kn.fit(X_train, y_train)\n",
    "\n",
    "kn_score = kn.score(X_test, y_test)\n",
    "print('\\nThe K-Neighbors accuracy score is {:03.2f}\\n'.format(kn_score))"
   ]
  },
  {
   "cell_type": "code",
   "execution_count": 75,
   "id": "e912a8f2",
   "metadata": {
    "execution": {
     "iopub.execute_input": "2022-05-30T21:50:19.561369Z",
     "iopub.status.busy": "2022-05-30T21:50:19.560063Z",
     "iopub.status.idle": "2022-05-30T21:50:19.680083Z",
     "shell.execute_reply": "2022-05-30T21:50:19.678801Z"
    },
    "papermill": {
     "duration": 0.164725,
     "end_time": "2022-05-30T21:50:19.682809",
     "exception": false,
     "start_time": "2022-05-30T21:50:19.518084",
     "status": "completed"
    },
    "tags": []
   },
   "outputs": [
    {
     "name": "stdout",
     "output_type": "stream",
     "text": [
      "\n",
      "The 3-fold cross-validation accuracy score for this classifier is 0.82111\n",
      "\n"
     ]
    }
   ],
   "source": [
    "from sklearn.feature_selection import SelectKBest, f_regression\n",
    "\n",
    "clf2 = make_pipeline(SelectKBest(f_regression, k=4),KNeighborsClassifier())\n",
    "\n",
    "scores = cross_val_score(clf2, Xs, y, cv=3)\n",
    "\n",
    "# Get average of 3-fold cross-validation score using an KN estimator.\n",
    "n_folds = 3\n",
    "cv_error = np.average(cross_val_score(KNeighborsClassifier(), Xs, y, cv=n_folds))\n",
    "print('\\nThe {}-fold cross-validation accuracy score for this classifier is {:.5f}\\n'.format(n_folds, cv_error))\n"
   ]
  },
  {
   "cell_type": "code",
   "execution_count": 76,
   "id": "8d78d519",
   "metadata": {
    "execution": {
     "iopub.execute_input": "2022-05-30T21:50:19.767432Z",
     "iopub.status.busy": "2022-05-30T21:50:19.765812Z",
     "iopub.status.idle": "2022-05-30T21:50:19.774795Z",
     "shell.execute_reply": "2022-05-30T21:50:19.772993Z"
    },
    "papermill": {
     "duration": 0.054036,
     "end_time": "2022-05-30T21:50:19.777444",
     "exception": false,
     "start_time": "2022-05-30T21:50:19.723408",
     "status": "completed"
    },
    "tags": []
   },
   "outputs": [
    {
     "name": "stdout",
     "output_type": "stream",
     "text": [
      "[0.82333333 0.82666667 0.79666667]\n",
      "Average score and uncertainty: (81.56 +- 0.775)%\n"
     ]
    }
   ],
   "source": [
    "print(scores)\n",
    "avg = (100*np.mean(scores), 100*np.std(scores)/np.sqrt(scores.shape[0]))\n",
    "print(\"Average score and uncertainty: (%.2f +- %.3f)%%\"%avg)"
   ]
  },
  {
   "cell_type": "code",
   "execution_count": 77,
   "id": "a4f56d94",
   "metadata": {
    "execution": {
     "iopub.execute_input": "2022-05-30T21:50:19.863229Z",
     "iopub.status.busy": "2022-05-30T21:50:19.862421Z",
     "iopub.status.idle": "2022-05-30T21:50:20.118454Z",
     "shell.execute_reply": "2022-05-30T21:50:20.117353Z"
    },
    "papermill": {
     "duration": 0.30026,
     "end_time": "2022-05-30T21:50:20.120530",
     "exception": false,
     "start_time": "2022-05-30T21:50:19.820270",
     "status": "completed"
    },
    "tags": []
   },
   "outputs": [
    {
     "name": "stdout",
     "output_type": "stream",
     "text": [
      "\n",
      "The K-Neighbors accuracy score is 0.86\n",
      "\n",
      "Classification Report:\n",
      "               precision    recall  f1-score   support\n",
      "\n",
      "           0       0.81      0.89      0.85        81\n",
      "           1       0.90      0.83      0.86        99\n",
      "\n",
      "    accuracy                           0.86       180\n",
      "   macro avg       0.86      0.86      0.86       180\n",
      "weighted avg       0.86      0.86      0.86       180\n",
      "\n",
      "The Confusion Matrix:\n",
      " [[72  9]\n",
      " [17 82]]\n"
     ]
    },
    {
     "data": {
      "image/png": "[encoded data removed]",
      "text/plain": [
       "<Figure size 432x288 with 2 Axes>"
      ]
     },
     "metadata": {
      "needs_background": "light"
     },
     "output_type": "display_data"
    }
   ],
   "source": [
    "kn.fit(X_train, y_train)\n",
    "y_pred = kn.predict(X_test)\n",
    "\n",
    "print('\\nThe K-Neighbors accuracy score is {:03.2f}\\n'.format(kn_score))\n",
    "print(\"Classification Report:\\n\", classification_report(y_test, y_pred))\n",
    "print(\"The Confusion Matrix:\\n\",confusion_matrix(y_test, y_pred))\n",
    "cm = confusion_matrix(y_test, y_pred, labels=kn.classes_)\n",
    "disp = ConfusionMatrixDisplay(confusion_matrix=cm, display_labels=kn.classes_)\n",
    "disp.plot()\n",
    "plt.show()"
   ]
  },
  {
   "cell_type": "code",
   "execution_count": 78,
   "id": "a901dc2e",
   "metadata": {
    "execution": {
     "iopub.execute_input": "2022-05-30T21:50:20.204618Z",
     "iopub.status.busy": "2022-05-30T21:50:20.204057Z",
     "iopub.status.idle": "2022-05-30T21:50:20.214228Z",
     "shell.execute_reply": "2022-05-30T21:50:20.212739Z"
    },
    "papermill": {
     "duration": 0.055781,
     "end_time": "2022-05-30T21:50:20.217341",
     "exception": false,
     "start_time": "2022-05-30T21:50:20.161560",
     "status": "completed"
    },
    "tags": []
   },
   "outputs": [
    {
     "name": "stdout",
     "output_type": "stream",
     "text": [
      "0.8585858585858586\n"
     ]
    }
   ],
   "source": [
    "from sklearn.metrics import roc_curve, auc\n",
    "size = metrics.roc_auc_score(y_test, y_pred)\n",
    "print(size)"
   ]
  },
  {
   "cell_type": "markdown",
   "id": "40ea81f8",
   "metadata": {
    "papermill": {
     "duration": 0.041902,
     "end_time": "2022-05-30T21:50:20.299847",
     "exception": false,
     "start_time": "2022-05-30T21:50:20.257945",
     "status": "completed"
    },
    "tags": []
   },
   "source": [
    "## SVM"
   ]
  },
  {
   "cell_type": "code",
   "execution_count": 79,
   "id": "9e6339f8",
   "metadata": {
    "execution": {
     "iopub.execute_input": "2022-05-30T21:50:20.384872Z",
     "iopub.status.busy": "2022-05-30T21:50:20.384176Z",
     "iopub.status.idle": "2022-05-30T21:50:20.459673Z",
     "shell.execute_reply": "2022-05-30T21:50:20.458580Z"
    },
    "papermill": {
     "duration": 0.11979,
     "end_time": "2022-05-30T21:50:20.461851",
     "exception": false,
     "start_time": "2022-05-30T21:50:20.342061",
     "status": "completed"
    },
    "tags": []
   },
   "outputs": [
    {
     "name": "stdout",
     "output_type": "stream",
     "text": [
      "\n",
      "The classifier accuracy score is 0.89\n",
      "\n"
     ]
    }
   ],
   "source": [
    "svm = SVC(probability=True)\n",
    "svm.fit(X_train, y_train)\n",
    "\n",
    "svm_score = svm.score(X_test, y_test)\n",
    "print('\\nThe classifier accuracy score is {:03.2f}\\n'.format(svm_score))"
   ]
  },
  {
   "cell_type": "code",
   "execution_count": 80,
   "id": "6c4c8e3c",
   "metadata": {
    "execution": {
     "iopub.execute_input": "2022-05-30T21:50:20.546052Z",
     "iopub.status.busy": "2022-05-30T21:50:20.545219Z",
     "iopub.status.idle": "2022-05-30T21:50:20.805658Z",
     "shell.execute_reply": "2022-05-30T21:50:20.804126Z"
    },
    "papermill": {
     "duration": 0.306718,
     "end_time": "2022-05-30T21:50:20.809627",
     "exception": false,
     "start_time": "2022-05-30T21:50:20.502909",
     "status": "completed"
    },
    "tags": []
   },
   "outputs": [
    {
     "name": "stdout",
     "output_type": "stream",
     "text": [
      "\n",
      "The 3-fold cross-validation accuracy score for this classifier is 0.87222\n",
      "\n"
     ]
    }
   ],
   "source": [
    "from sklearn.feature_selection import SelectKBest, f_regression\n",
    "\n",
    "clf2 = make_pipeline(SelectKBest(f_regression, k=4),SVC(probability=True))\n",
    "\n",
    "scores = cross_val_score(clf2, Xs, y, cv=3)\n",
    "\n",
    "# Get average of 3-fold cross-validation score using an SVC estimator.\n",
    "n_folds = 3\n",
    "cv_error = np.average(cross_val_score(SVC(), Xs, y, cv=n_folds))\n",
    "print('\\nThe {}-fold cross-validation accuracy score for this classifier is {:.5f}\\n'.format(n_folds, cv_error))\n"
   ]
  },
  {
   "cell_type": "code",
   "execution_count": 81,
   "id": "61ff317b",
   "metadata": {
    "execution": {
     "iopub.execute_input": "2022-05-30T21:50:20.893315Z",
     "iopub.status.busy": "2022-05-30T21:50:20.892137Z",
     "iopub.status.idle": "2022-05-30T21:50:20.900645Z",
     "shell.execute_reply": "2022-05-30T21:50:20.899487Z"
    },
    "papermill": {
     "duration": 0.052555,
     "end_time": "2022-05-30T21:50:20.902993",
     "exception": false,
     "start_time": "2022-05-30T21:50:20.850438",
     "status": "completed"
    },
    "tags": []
   },
   "outputs": [
    {
     "name": "stdout",
     "output_type": "stream",
     "text": [
      "[0.82666667 0.83       0.83333333]\n",
      "Average score and uncertainty: (83.00 +- 0.157)%\n"
     ]
    }
   ],
   "source": [
    "print(scores)\n",
    "avg = (100*np.mean(scores), 100*np.std(scores)/np.sqrt(scores.shape[0]))\n",
    "print(\"Average score and uncertainty: (%.2f +- %.3f)%%\"%avg)"
   ]
  },
  {
   "cell_type": "code",
   "execution_count": 82,
   "id": "3d2abbf4",
   "metadata": {
    "execution": {
     "iopub.execute_input": "2022-05-30T21:50:20.986117Z",
     "iopub.status.busy": "2022-05-30T21:50:20.985615Z",
     "iopub.status.idle": "2022-05-30T21:50:21.298569Z",
     "shell.execute_reply": "2022-05-30T21:50:21.297329Z"
    },
    "papermill": {
     "duration": 0.357844,
     "end_time": "2022-05-30T21:50:21.301283",
     "exception": false,
     "start_time": "2022-05-30T21:50:20.943439",
     "status": "completed"
    },
    "tags": []
   },
   "outputs": [
    {
     "name": "stdout",
     "output_type": "stream",
     "text": [
      "\n",
      "The Support Vector Machine accuracy score is 0.89\n",
      "\n",
      "Classification Report:\n",
      "               precision    recall  f1-score   support\n",
      "\n",
      "           0       0.89      0.88      0.88        81\n",
      "           1       0.90      0.91      0.90        99\n",
      "\n",
      "    accuracy                           0.89       180\n",
      "   macro avg       0.89      0.89      0.89       180\n",
      "weighted avg       0.89      0.89      0.89       180\n",
      "\n",
      "The Confusion Matrix:\n",
      " [[71 10]\n",
      " [ 9 90]]\n"
     ]
    },
    {
     "data": {
      "image/png": "[encoded data removed]",
      "text/plain": [
       "<Figure size 432x288 with 2 Axes>"
      ]
     },
     "metadata": {
      "needs_background": "light"
     },
     "output_type": "display_data"
    }
   ],
   "source": [
    "svm.fit(X_train, y_train)\n",
    "y_pred = svm.predict(X_test)\n",
    "\n",
    "print('\\nThe Support Vector Machine accuracy score is {:03.2f}\\n'.format(svm_score))\n",
    "print(\"Classification Report:\\n\", classification_report(y_test, y_pred))\n",
    "print(\"The Confusion Matrix:\\n\",confusion_matrix(y_test, y_pred))\n",
    "cm = confusion_matrix(y_test, y_pred, labels=svm.classes_)\n",
    "disp = ConfusionMatrixDisplay(confusion_matrix=cm, display_labels=svm.classes_)\n",
    "disp.plot()\n",
    "plt.show()"
   ]
  },
  {
   "cell_type": "code",
   "execution_count": 83,
   "id": "2501fee7",
   "metadata": {
    "execution": {
     "iopub.execute_input": "2022-05-30T21:50:21.386338Z",
     "iopub.status.busy": "2022-05-30T21:50:21.385734Z",
     "iopub.status.idle": "2022-05-30T21:50:21.396510Z",
     "shell.execute_reply": "2022-05-30T21:50:21.394819Z"
    },
    "papermill": {
     "duration": 0.055928,
     "end_time": "2022-05-30T21:50:21.399005",
     "exception": false,
     "start_time": "2022-05-30T21:50:21.343077",
     "status": "completed"
    },
    "tags": []
   },
   "outputs": [
    {
     "name": "stdout",
     "output_type": "stream",
     "text": [
      "0.8928170594837261\n"
     ]
    }
   ],
   "source": [
    "from sklearn.metrics import roc_curve, auc\n",
    "size = metrics.roc_auc_score(y_test, y_pred)\n",
    "print(size)"
   ]
  },
  {
   "cell_type": "markdown",
   "id": "4c6f5988",
   "metadata": {
    "papermill": {
     "duration": 0.040632,
     "end_time": "2022-05-30T21:50:21.481000",
     "exception": false,
     "start_time": "2022-05-30T21:50:21.440368",
     "status": "completed"
    },
    "tags": []
   },
   "source": [
    "## Random Forest Classifier"
   ]
  },
  {
   "cell_type": "code",
   "execution_count": 84,
   "id": "8ba07539",
   "metadata": {
    "execution": {
     "iopub.execute_input": "2022-05-30T21:50:21.566226Z",
     "iopub.status.busy": "2022-05-30T21:50:21.565713Z",
     "iopub.status.idle": "2022-05-30T21:50:21.824689Z",
     "shell.execute_reply": "2022-05-30T21:50:21.823130Z"
    },
    "papermill": {
     "duration": 0.30465,
     "end_time": "2022-05-30T21:50:21.827443",
     "exception": false,
     "start_time": "2022-05-30T21:50:21.522793",
     "status": "completed"
    },
    "tags": []
   },
   "outputs": [
    {
     "name": "stdout",
     "output_type": "stream",
     "text": [
      "\n",
      "The Random Forest Classifier accuracy score is 0.89\n",
      "\n"
     ]
    }
   ],
   "source": [
    "rfc = RandomForestClassifier()\n",
    "rfc.fit(X_train, y_train)\n",
    "\n",
    "rfc_score = rfc.score(X_test, y_test)\n",
    "print('\\nThe Random Forest Classifier accuracy score is {:03.2f}\\n'.format(rfc_score))"
   ]
  },
  {
   "cell_type": "code",
   "execution_count": 85,
   "id": "13a19091",
   "metadata": {
    "execution": {
     "iopub.execute_input": "2022-05-30T21:50:21.916753Z",
     "iopub.status.busy": "2022-05-30T21:50:21.915608Z",
     "iopub.status.idle": "2022-05-30T21:50:23.416228Z",
     "shell.execute_reply": "2022-05-30T21:50:23.415156Z"
    },
    "papermill": {
     "duration": 1.547318,
     "end_time": "2022-05-30T21:50:23.419060",
     "exception": false,
     "start_time": "2022-05-30T21:50:21.871742",
     "status": "completed"
    },
    "tags": []
   },
   "outputs": [
    {
     "name": "stdout",
     "output_type": "stream",
     "text": [
      "\n",
      "The 3-fold cross-validation accuracy score for this classifier is 0.88556\n",
      "\n"
     ]
    }
   ],
   "source": [
    "from sklearn.feature_selection import SelectKBest, f_regression\n",
    "\n",
    "clf2 = make_pipeline(SelectKBest(f_regression, k=4),RandomForestClassifier())\n",
    "\n",
    "scores = cross_val_score(clf2, Xs, y, cv=3)\n",
    "\n",
    "# Get average of 3-fold cross-validation score using an RF estimator.\n",
    "n_folds = 3\n",
    "cv_error = np.average(cross_val_score(RandomForestClassifier(), Xs, y, cv=n_folds))\n",
    "print('\\nThe {}-fold cross-validation accuracy score for this classifier is {:.5f}\\n'.format(n_folds, cv_error))\n"
   ]
  },
  {
   "cell_type": "code",
   "execution_count": 86,
   "id": "469dca62",
   "metadata": {
    "execution": {
     "iopub.execute_input": "2022-05-30T21:50:23.571517Z",
     "iopub.status.busy": "2022-05-30T21:50:23.571020Z",
     "iopub.status.idle": "2022-05-30T21:50:23.577572Z",
     "shell.execute_reply": "2022-05-30T21:50:23.576844Z"
    },
    "papermill": {
     "duration": 0.118804,
     "end_time": "2022-05-30T21:50:23.581291",
     "exception": false,
     "start_time": "2022-05-30T21:50:23.462487",
     "status": "completed"
    },
    "tags": []
   },
   "outputs": [
    {
     "name": "stdout",
     "output_type": "stream",
     "text": [
      "[0.83333333 0.82333333 0.79666667]\n",
      "Average score and uncertainty: (81.78 +- 0.894)%\n"
     ]
    }
   ],
   "source": [
    "print(scores)\n",
    "avg = (100*np.mean(scores), 100*np.std(scores)/np.sqrt(scores.shape[0]))\n",
    "print(\"Average score and uncertainty: (%.2f +- %.3f)%%\"%avg)"
   ]
  },
  {
   "cell_type": "code",
   "execution_count": 87,
   "id": "67acd33f",
   "metadata": {
    "execution": {
     "iopub.execute_input": "2022-05-30T21:50:23.668301Z",
     "iopub.status.busy": "2022-05-30T21:50:23.667787Z",
     "iopub.status.idle": "2022-05-30T21:50:24.193841Z",
     "shell.execute_reply": "2022-05-30T21:50:24.192400Z"
    },
    "papermill": {
     "duration": 0.572043,
     "end_time": "2022-05-30T21:50:24.196783",
     "exception": false,
     "start_time": "2022-05-30T21:50:23.624740",
     "status": "completed"
    },
    "tags": []
   },
   "outputs": [
    {
     "name": "stdout",
     "output_type": "stream",
     "text": [
      "\n",
      "The Random Forest Classifier accuracy score is 0.89\n",
      "\n",
      "Classification Report:\n",
      "               precision    recall  f1-score   support\n",
      "\n",
      "           0       0.91      0.84      0.87        81\n",
      "           1       0.88      0.93      0.90        99\n",
      "\n",
      "    accuracy                           0.89       180\n",
      "   macro avg       0.89      0.88      0.89       180\n",
      "weighted avg       0.89      0.89      0.89       180\n",
      "\n",
      "The Confusion Matrix:\n",
      " [[68 13]\n",
      " [ 7 92]]\n"
     ]
    },
    {
     "data": {
      "image/png": "[encoded data removed]",
      "text/plain": [
       "<Figure size 432x288 with 2 Axes>"
      ]
     },
     "metadata": {
      "needs_background": "light"
     },
     "output_type": "display_data"
    }
   ],
   "source": [
    "rfc.fit(X_train, y_train)\n",
    "y_pred = rfc.predict(X_test)\n",
    "\n",
    "print('\\nThe Random Forest Classifier accuracy score is {:03.2f}\\n'.format(rfc_score))\n",
    "print(\"Classification Report:\\n\", classification_report(y_test, y_pred))\n",
    "print(\"The Confusion Matrix:\\n\",confusion_matrix(y_test, y_pred))\n",
    "cm = confusion_matrix(y_test, y_pred, labels=rfc.classes_)\n",
    "disp = ConfusionMatrixDisplay(confusion_matrix=cm, display_labels=rfc.classes_)\n",
    "disp.plot()\n",
    "plt.show()"
   ]
  },
  {
   "cell_type": "code",
   "execution_count": 88,
   "id": "cdbb0f37",
   "metadata": {
    "execution": {
     "iopub.execute_input": "2022-05-30T21:50:24.284074Z",
     "iopub.status.busy": "2022-05-30T21:50:24.283339Z",
     "iopub.status.idle": "2022-05-30T21:50:24.291873Z",
     "shell.execute_reply": "2022-05-30T21:50:24.290751Z"
    },
    "papermill": {
     "duration": 0.05502,
     "end_time": "2022-05-30T21:50:24.294627",
     "exception": false,
     "start_time": "2022-05-30T21:50:24.239607",
     "status": "completed"
    },
    "tags": []
   },
   "outputs": [
    {
     "name": "stdout",
     "output_type": "stream",
     "text": [
      "0.8843995510662177\n"
     ]
    }
   ],
   "source": [
    "from sklearn.metrics import roc_curve, auc\n",
    "size = metrics.roc_auc_score(y_test, y_pred)\n",
    "print(size)"
   ]
  },
  {
   "cell_type": "code",
   "execution_count": null,
   "id": "b0133cf5",
   "metadata": {},
   "outputs": [],
   "source": []
  }
 ],
 "metadata": {
  "kernelspec": {
   "display_name": "Python 3 (ipykernel)",
   "language": "python",
   "name": "python3"
  },
  "language_info": {
   "codemirror_mode": {
    "name": "ipython",
    "version": 3
   },
   "file_extension": ".py",
   "mimetype": "text/x-python",
   "name": "python",
   "nbconvert_exporter": "python",
   "pygments_lexer": "ipython3",
   "version": "3.9.12"
  },
  "papermill": {
   "default_parameters": {},
   "duration": 32.417104,
   "end_time": "2022-05-30T21:50:25.763726",
   "environment_variables": {},
   "exception": null,
   "input_path": "__notebook__.ipynb",
   "output_path": "__notebook__.ipynb",
   "parameters": {},
   "start_time": "2022-05-30T21:49:53.346622",
   "version": "2.3.4"
  }
 },
 "nbformat": 4,
 "nbformat_minor": 5
}
