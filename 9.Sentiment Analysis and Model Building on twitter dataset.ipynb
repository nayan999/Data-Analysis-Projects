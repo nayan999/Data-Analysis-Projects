{
 "cells": [
  {
   "cell_type": "code",
   "execution_count": 34,
   "id": "62cdc156",
   "metadata": {},
   "outputs": [],
   "source": [
    "import numpy as np\n",
    "import pandas as pd\n",
    "from matplotlib import pyplot as plt\n",
    "import seaborn as sns\n",
    "\n",
    "import warnings \n",
    "warnings.filterwarnings('ignore')\n",
    "\n",
    "import spacy \n",
    "from spacy.lang.en.stop_words import STOP_WORDS\n",
    "from textblob import TextBlob\n",
    "import nltk\n",
    "import re"
   ]
  },
  {
   "cell_type": "code",
   "execution_count": 8,
   "id": "05c729f0",
   "metadata": {},
   "outputs": [],
   "source": [
    "df = pd.read_csv(r'D:\\Excel files\\Sentiment140 dataset with 1.6 million tweets\\training.1600000.processed.noemoticon.csv',encoding='latin1',header=None).sample(8000,random_state=10)"
   ]
  },
  {
   "cell_type": "code",
   "execution_count": 9,
   "id": "efd0ddcb",
   "metadata": {},
   "outputs": [
    {
     "data": {
      "text/html": [
       "<div>\n",
       "<style scoped>\n",
       "    .dataframe tbody tr th:only-of-type {\n",
       "        vertical-align: middle;\n",
       "    }\n",
       "\n",
       "    .dataframe tbody tr th {\n",
       "        vertical-align: top;\n",
       "    }\n",
       "\n",
       "    .dataframe thead th {\n",
       "        text-align: right;\n",
       "    }\n",
       "</style>\n",
       "<table border=\"1\" class=\"dataframe\">\n",
       "  <thead>\n",
       "    <tr style=\"text-align: right;\">\n",
       "      <th></th>\n",
       "      <th>0</th>\n",
       "      <th>1</th>\n",
       "      <th>2</th>\n",
       "      <th>3</th>\n",
       "      <th>4</th>\n",
       "      <th>5</th>\n",
       "    </tr>\n",
       "  </thead>\n",
       "  <tbody>\n",
       "    <tr>\n",
       "      <th>685610</th>\n",
       "      <td>0</td>\n",
       "      <td>2250819430</td>\n",
       "      <td>Sat Jun 20 01:34:59 PDT 2009</td>\n",
       "      <td>NO_QUERY</td>\n",
       "      <td>The_Khristos</td>\n",
       "      <td>@MrDAprano, honnestly I'm not going to miss th...</td>\n",
       "    </tr>\n",
       "    <tr>\n",
       "      <th>446784</th>\n",
       "      <td>0</td>\n",
       "      <td>2068515884</td>\n",
       "      <td>Sun Jun 07 14:12:53 PDT 2009</td>\n",
       "      <td>NO_QUERY</td>\n",
       "      <td>teale</td>\n",
       "      <td>Tired after spending a restless night with Tie...</td>\n",
       "    </tr>\n",
       "    <tr>\n",
       "      <th>1231978</th>\n",
       "      <td>4</td>\n",
       "      <td>1991871464</td>\n",
       "      <td>Mon Jun 01 07:48:38 PDT 2009</td>\n",
       "      <td>NO_QUERY</td>\n",
       "      <td>jenjeahaly</td>\n",
       "      <td>@bradgallaway Yup popiscle  Not sure if you've...</td>\n",
       "    </tr>\n",
       "    <tr>\n",
       "      <th>1496263</th>\n",
       "      <td>4</td>\n",
       "      <td>2070090087</td>\n",
       "      <td>Sun Jun 07 17:04:40 PDT 2009</td>\n",
       "      <td>NO_QUERY</td>\n",
       "      <td>fashinator1985</td>\n",
       "      <td>@candydiaz LOL save a lil arse for me candy!</td>\n",
       "    </tr>\n",
       "    <tr>\n",
       "      <th>944257</th>\n",
       "      <td>4</td>\n",
       "      <td>1795457800</td>\n",
       "      <td>Thu May 14 07:48:29 PDT 2009</td>\n",
       "      <td>NO_QUERY</td>\n",
       "      <td>krrley</td>\n",
       "      <td>@StephanieFizer No problem!! Your stuff is so ...</td>\n",
       "    </tr>\n",
       "  </tbody>\n",
       "</table>\n",
       "</div>"
      ],
      "text/plain": [
       "         0           1                             2         3  \\\n",
       "685610   0  2250819430  Sat Jun 20 01:34:59 PDT 2009  NO_QUERY   \n",
       "446784   0  2068515884  Sun Jun 07 14:12:53 PDT 2009  NO_QUERY   \n",
       "1231978  4  1991871464  Mon Jun 01 07:48:38 PDT 2009  NO_QUERY   \n",
       "1496263  4  2070090087  Sun Jun 07 17:04:40 PDT 2009  NO_QUERY   \n",
       "944257   4  1795457800  Thu May 14 07:48:29 PDT 2009  NO_QUERY   \n",
       "\n",
       "                      4                                                  5  \n",
       "685610     The_Khristos  @MrDAprano, honnestly I'm not going to miss th...  \n",
       "446784            teale  Tired after spending a restless night with Tie...  \n",
       "1231978      jenjeahaly  @bradgallaway Yup popiscle  Not sure if you've...  \n",
       "1496263  fashinator1985      @candydiaz LOL save a lil arse for me candy!   \n",
       "944257           krrley  @StephanieFizer No problem!! Your stuff is so ...  "
      ]
     },
     "execution_count": 9,
     "metadata": {},
     "output_type": "execute_result"
    }
   ],
   "source": [
    "df.head()"
   ]
  },
  {
   "cell_type": "code",
   "execution_count": 10,
   "id": "43eb48b1",
   "metadata": {},
   "outputs": [
    {
     "data": {
      "text/html": [
       "<div>\n",
       "<style scoped>\n",
       "    .dataframe tbody tr th:only-of-type {\n",
       "        vertical-align: middle;\n",
       "    }\n",
       "\n",
       "    .dataframe tbody tr th {\n",
       "        vertical-align: top;\n",
       "    }\n",
       "\n",
       "    .dataframe thead th {\n",
       "        text-align: right;\n",
       "    }\n",
       "</style>\n",
       "<table border=\"1\" class=\"dataframe\">\n",
       "  <thead>\n",
       "    <tr style=\"text-align: right;\">\n",
       "      <th></th>\n",
       "      <th>tweets</th>\n",
       "      <th>sentiment</th>\n",
       "    </tr>\n",
       "  </thead>\n",
       "  <tbody>\n",
       "    <tr>\n",
       "      <th>685610</th>\n",
       "      <td>@MrDAprano, honnestly I'm not going to miss th...</td>\n",
       "      <td>0</td>\n",
       "    </tr>\n",
       "    <tr>\n",
       "      <th>446784</th>\n",
       "      <td>Tired after spending a restless night with Tie...</td>\n",
       "      <td>0</td>\n",
       "    </tr>\n",
       "    <tr>\n",
       "      <th>1231978</th>\n",
       "      <td>@bradgallaway Yup popiscle  Not sure if you've...</td>\n",
       "      <td>4</td>\n",
       "    </tr>\n",
       "    <tr>\n",
       "      <th>1496263</th>\n",
       "      <td>@candydiaz LOL save a lil arse for me candy!</td>\n",
       "      <td>4</td>\n",
       "    </tr>\n",
       "    <tr>\n",
       "      <th>944257</th>\n",
       "      <td>@StephanieFizer No problem!! Your stuff is so ...</td>\n",
       "      <td>4</td>\n",
       "    </tr>\n",
       "  </tbody>\n",
       "</table>\n",
       "</div>"
      ],
      "text/plain": [
       "                                                    tweets  sentiment\n",
       "685610   @MrDAprano, honnestly I'm not going to miss th...          0\n",
       "446784   Tired after spending a restless night with Tie...          0\n",
       "1231978  @bradgallaway Yup popiscle  Not sure if you've...          4\n",
       "1496263      @candydiaz LOL save a lil arse for me candy!           4\n",
       "944257   @StephanieFizer No problem!! Your stuff is so ...          4"
      ]
     },
     "execution_count": 10,
     "metadata": {},
     "output_type": "execute_result"
    }
   ],
   "source": [
    "df = df[[5,0]]\n",
    "df.columns = ['tweets','sentiment']\n",
    "df.head()"
   ]
  },
  {
   "cell_type": "code",
   "execution_count": 11,
   "id": "b54b9a78",
   "metadata": {},
   "outputs": [],
   "source": [
    "sent_map = {0:'negative',4:'positive'}"
   ]
  },
  {
   "cell_type": "markdown",
   "id": "17f66d3b",
   "metadata": {},
   "source": [
    "# Feature Engineering"
   ]
  },
  {
   "cell_type": "code",
   "execution_count": 12,
   "id": "1ac8bd10",
   "metadata": {},
   "outputs": [],
   "source": [
    "### 1.Word Counts\n",
    "\n",
    "df['word_counts'] = df['tweets'].apply(lambda x: len(str(x).split()))"
   ]
  },
  {
   "cell_type": "code",
   "execution_count": 13,
   "id": "18f88484",
   "metadata": {},
   "outputs": [
    {
     "data": {
      "text/html": [
       "<div>\n",
       "<style scoped>\n",
       "    .dataframe tbody tr th:only-of-type {\n",
       "        vertical-align: middle;\n",
       "    }\n",
       "\n",
       "    .dataframe tbody tr th {\n",
       "        vertical-align: top;\n",
       "    }\n",
       "\n",
       "    .dataframe thead th {\n",
       "        text-align: right;\n",
       "    }\n",
       "</style>\n",
       "<table border=\"1\" class=\"dataframe\">\n",
       "  <thead>\n",
       "    <tr style=\"text-align: right;\">\n",
       "      <th></th>\n",
       "      <th>tweets</th>\n",
       "      <th>sentiment</th>\n",
       "      <th>word_counts</th>\n",
       "    </tr>\n",
       "  </thead>\n",
       "  <tbody>\n",
       "    <tr>\n",
       "      <th>685610</th>\n",
       "      <td>@MrDAprano, honnestly I'm not going to miss th...</td>\n",
       "      <td>0</td>\n",
       "      <td>24</td>\n",
       "    </tr>\n",
       "    <tr>\n",
       "      <th>446784</th>\n",
       "      <td>Tired after spending a restless night with Tie...</td>\n",
       "      <td>0</td>\n",
       "      <td>22</td>\n",
       "    </tr>\n",
       "    <tr>\n",
       "      <th>1231978</th>\n",
       "      <td>@bradgallaway Yup popiscle  Not sure if you've...</td>\n",
       "      <td>4</td>\n",
       "      <td>21</td>\n",
       "    </tr>\n",
       "    <tr>\n",
       "      <th>1496263</th>\n",
       "      <td>@candydiaz LOL save a lil arse for me candy!</td>\n",
       "      <td>4</td>\n",
       "      <td>9</td>\n",
       "    </tr>\n",
       "    <tr>\n",
       "      <th>944257</th>\n",
       "      <td>@StephanieFizer No problem!! Your stuff is so ...</td>\n",
       "      <td>4</td>\n",
       "      <td>19</td>\n",
       "    </tr>\n",
       "  </tbody>\n",
       "</table>\n",
       "</div>"
      ],
      "text/plain": [
       "                                                    tweets  sentiment  \\\n",
       "685610   @MrDAprano, honnestly I'm not going to miss th...          0   \n",
       "446784   Tired after spending a restless night with Tie...          0   \n",
       "1231978  @bradgallaway Yup popiscle  Not sure if you've...          4   \n",
       "1496263      @candydiaz LOL save a lil arse for me candy!           4   \n",
       "944257   @StephanieFizer No problem!! Your stuff is so ...          4   \n",
       "\n",
       "         word_counts  \n",
       "685610            24  \n",
       "446784            22  \n",
       "1231978           21  \n",
       "1496263            9  \n",
       "944257            19  "
      ]
     },
     "execution_count": 13,
     "metadata": {},
     "output_type": "execute_result"
    }
   ],
   "source": [
    "df.head()"
   ]
  },
  {
   "cell_type": "code",
   "execution_count": 15,
   "id": "8dee431f",
   "metadata": {},
   "outputs": [],
   "source": [
    "### 2.Char Counts\n",
    "df['char_count'] = df['tweets'].apply(lambda x: len(x))"
   ]
  },
  {
   "cell_type": "code",
   "execution_count": 16,
   "id": "af681b78",
   "metadata": {},
   "outputs": [],
   "source": [
    "def get_avg_word_len(x):\n",
    "    words = x.split()\n",
    "    word_len = 0\n",
    "    for word in words:\n",
    "        word_len = word_len+len(word)\n",
    "    return word_len/len(words)"
   ]
  },
  {
   "cell_type": "code",
   "execution_count": 17,
   "id": "1b872ed6",
   "metadata": {},
   "outputs": [],
   "source": [
    "### 3 . Avg Word Length\n",
    "\n",
    "df['avg_word_len'] = df['tweets'].apply(lambda x: get_avg_word_len(x))"
   ]
  },
  {
   "cell_type": "code",
   "execution_count": 20,
   "id": "892d83b6",
   "metadata": {},
   "outputs": [
    {
     "data": {
      "text/plain": [
       "5.0"
      ]
     },
     "execution_count": 20,
     "metadata": {},
     "output_type": "execute_result"
    }
   ],
   "source": [
    "len(\"nayan agal\")/2\n"
   ]
  },
  {
   "cell_type": "code",
   "execution_count": 23,
   "id": "e0edc0a2",
   "metadata": {},
   "outputs": [],
   "source": [
    "### 4.Stop Words count\n",
    "df['stop_words_count'] = df['tweets'].apply(lambda x: len([t for t in x.split() if t in STOP_WORDS]))"
   ]
  },
  {
   "cell_type": "code",
   "execution_count": 25,
   "id": "d087712a",
   "metadata": {},
   "outputs": [],
   "source": [
    "### 5.Hashtag and Mentions count\n",
    "\n",
    "df['hashtag_count'] = df['tweets'].apply(lambda x: len([t for t in x.split() if t.startswith(\"#\")]))\n",
    "df['mentions_count'] = df['tweets'].apply(lambda x: len([t for t in x.split() if t.startswith(\"@\")]))"
   ]
  },
  {
   "cell_type": "code",
   "execution_count": 26,
   "id": "237498bc",
   "metadata": {},
   "outputs": [],
   "source": [
    "### 6. Numeric count\n",
    "\n",
    "df['numeric_count'] = df['tweets'].apply(lambda x: len([t for t in x.split() if t.isdigit()]))"
   ]
  },
  {
   "cell_type": "code",
   "execution_count": 28,
   "id": "b1f8576e",
   "metadata": {},
   "outputs": [],
   "source": [
    "### 7.Upper Case \n",
    "\n",
    "df['uppercase_count'] = df['tweets'].apply(lambda x: len([t for t in x.split() if t.isupper() and len(x)>3]))"
   ]
  },
  {
   "cell_type": "markdown",
   "id": "88b24df3",
   "metadata": {},
   "source": [
    "# Text Cleaning"
   ]
  },
  {
   "cell_type": "code",
   "execution_count": 63,
   "id": "aea1cc45",
   "metadata": {},
   "outputs": [],
   "source": [
    "##1.\n",
    "df['tweets'] = df['tweets'].apply(lambda x: x.lower())"
   ]
  },
  {
   "cell_type": "code",
   "execution_count": 93,
   "id": "d1b071b5",
   "metadata": {},
   "outputs": [],
   "source": [
    "contractions = { \n",
    "\"ain't\": \"am not\",\n",
    "\"aren't\": \"are not\",\n",
    "\"can't\": \"cannot\",\n",
    "\"can't've\": \"cannot have\",\n",
    "\"'cause\": \"because\",\n",
    "\"could've\": \"could have\",\n",
    "\"couldn't\": \"could not\",\n",
    "\"couldn't've\": \"could not have\",\n",
    "\"didn't\": \"did not\",\n",
    "\"doesn't\": \"does not\",\n",
    "\"don't\": \"do not\",\n",
    "\"hadn't\": \"had not\",\n",
    "\"hadn't've\": \"had not have\",\n",
    "\"hasn't\": \"has not\",\n",
    "\"haven't\": \"have not\",\n",
    "\"he'd\": \"he would\",\n",
    "\"he'd've\": \"he would have\",\n",
    "\"he'll\": \"he will\",\n",
    "\"he'll've\": \"he will have\",\n",
    "\"he's\": \"he is\",\n",
    "\"how'd\": \"how did\",\n",
    "\"how'd'y\": \"how do you\",\n",
    "\"how'll\": \"how will\",\n",
    "\"how's\": \"how is\",\n",
    "\"I'd\": \"I would\",\n",
    "\"I'd've\": \"I would have\",\n",
    "\"I'll\": \"I will\",\n",
    "\"I'll've\": \"I will have\",\n",
    "\"I'm\": \"i am\",\n",
    "\"I've\": \"i have\",\n",
    "\"i'd\": \"i would\",\n",
    "\"i'd've\": \"i would have\",\n",
    "\"i'll\": \"I will\",\n",
    "\"i'll've\": \"I will have\",\n",
    "\"i'm\": \"i am\",\n",
    "\"i've\": \"i have\",\n",
    "\"isn't\": \"is not\",\n",
    "\"it'd\": \"it would\",\n",
    "\"it'd've\": \"it would have\",\n",
    "\"it'll\": \"it will\",\n",
    "\"it'll've\": \"it will have\",\n",
    "\"it's\": \"it is\",\n",
    "\"let's\": \"let us\",\n",
    "\"ma'am\": \"madam\",\n",
    "\"mayn't\": \"may not\",\n",
    "\"might've\": \"might have\",\n",
    "\"mightn't\": \"might not\",\n",
    "\"mightn't've\": \"might not have\",\n",
    "\"must've\": \"must have\",\n",
    "\"mustn't\": \"must not\",\n",
    "\"mustn't've\": \"must not have\",\n",
    "\"needn't\": \"need not\",\n",
    "\"needn't've\": \"need not have\",\n",
    "\"o'clock\": \"of the clock\",\n",
    "\"oughtn't\": \"ought not\",\n",
    "\"oughtn't've\": \"ought not have\",\n",
    "\"shan't\": \"shall not\",\n",
    "\"sha'n't\": \"shall not\",\n",
    "\"shan't've\": \"shall not have\",\n",
    "\"she'd\": \"she would\",\n",
    "\"she'd've\": \"she would have\",\n",
    "\"she'll\": \"she will\",\n",
    "\"she'll've\": \"she will have\",\n",
    "\"she's\": \"she is\",\n",
    "\"should've\": \"should have\",\n",
    "\"shouldn't\": \"should not\",\n",
    "\"shouldn't've\": \"should not have\",\n",
    "\"so've\": \"so have\",\n",
    "\"so's\": \"so as\",\n",
    "\"that'd\": \"that would\",\n",
    "\"that'd've\": \"that would have\",\n",
    "\"that's\": \"that has\",\n",
    "\"there'd\": \"there would\",\n",
    "\"there'd've\": \"there would have\",\n",
    "\"there's\": \"there is\",\n",
    "\"they'd\": \"they would\",\n",
    "\"they'd've\": \"they would have\",\n",
    "\"they'll\": \"they will\",\n",
    "\"they'll've\": \"they will have\",\n",
    "\"they're\": \"they are\",\n",
    "\"they've\": \"they have\",\n",
    "\"to've\": \"to have\",\n",
    "\"wasn't\": \"was not\",\n",
    "\"we'd\": \"we would\",\n",
    "\"we'd've\": \"we would have\",\n",
    "\"we'll\": \"we will\",\n",
    "\"we'll've\": \"we will have\",\n",
    "\"we're\": \"we are\",\n",
    "\"we've\": \"we have\",\n",
    "\"weren't\": \"were not\",\n",
    "\"what'll\": \"what will\",\n",
    "\"what'll've\": \"what will have\",\n",
    "\"what're\": \"what are\",\n",
    "\"what's\": \"what is\",\n",
    "\"what've\": \"what have\",\n",
    "\"when's\": \"when is\",\n",
    "\"when've\": \"when have\",\n",
    "\"where'd\": \"where did\",\n",
    "\"where's\": \"where is\",\n",
    "\"where've\": \"where have\",\n",
    "\"who'll\": \"who will\",\n",
    "\"who'll've\": \"who will have\",\n",
    "\"won't\": \"will not\",\n",
    "\"won't've\": \"will not have\",\n",
    "\"would've\": \"would have\",\n",
    "\"wouldn't\": \"would not\",\n",
    "\"wouldn't've\": \"would not have\",\n",
    "\"y'all\": \"you all\",\n",
    "\"y'all'd\": \"you all would\",\n",
    "\"y'all'd've\": \"you all would have\",\n",
    "\"y'all're\": \"you all are\",\n",
    "\"y'all've\": \"you all have\",\n",
    "\"you'd\": \"you would\",\n",
    "\"you'd've\": \"you would have\",\n",
    "\"you'll\": \"you will\",\n",
    "\"you'll've\": \"you will have\",\n",
    "\"you're\": \"you are\",\n",
    "\"you've\": \"you have\",\n",
    "\"u\":\"you\",\n",
    "\" ur \":\" your \",\n",
    "\" n \":\" and \",\n",
    "'bout':'about',\n",
    "\"cn\":\"can\",\n",
    "\"hve\":\"have\"\n",
    "}"
   ]
  },
  {
   "cell_type": "code",
   "execution_count": 94,
   "id": "b3af5140",
   "metadata": {},
   "outputs": [],
   "source": [
    "def cont_to_exp(x):\n",
    "    if type(x) is str:\n",
    "        for key in contractions:\n",
    "            value = contractions[key]\n",
    "            x = x.replace(key,value)\n",
    "        return x\n",
    "    else:\n",
    "        return x"
   ]
  },
  {
   "cell_type": "code",
   "execution_count": 95,
   "id": "a7a7ef9e",
   "metadata": {},
   "outputs": [],
   "source": [
    "##2.\n",
    "df['tweets'] = df['tweets'].apply(lambda x: cont_to_exp(x))"
   ]
  },
  {
   "cell_type": "code",
   "execution_count": 68,
   "id": "0f26f807",
   "metadata": {},
   "outputs": [],
   "source": [
    "## 3 To remove accented char\n",
    "import unicodedata\n",
    "def remove_accented_char(x):\n",
    "    x = unicodedata.normalize('NFKD',x).encode('ascii','ignore').decode('utf-8','ignore')\n",
    "    return x"
   ]
  },
  {
   "cell_type": "code",
   "execution_count": 69,
   "id": "ff19681f",
   "metadata": {},
   "outputs": [],
   "source": [
    "df['tweets'] = df['tweets'].apply(lambda x: remove_accented_char(x))"
   ]
  },
  {
   "cell_type": "code",
   "execution_count": 75,
   "id": "eb0e79a6",
   "metadata": {},
   "outputs": [],
   "source": [
    "## 4. Remove Emails\n",
    "\n",
    "df['tweets'] = df['tweets'].apply(lambda x: re.sub(r'([a-zA-z0-9+._-]+@[a-zA-z0-9._-]+\\.[a-zA-z0-9_-]+)','' , x))"
   ]
  },
  {
   "cell_type": "code",
   "execution_count": 77,
   "id": "44b1f48c",
   "metadata": {},
   "outputs": [],
   "source": [
    "## 5. Punctuation Removal\n",
    "import string\n",
    "string.punctuation\n",
    "\n",
    "df['tweets'] = df['tweets'].apply(lambda x : \"\".join(i for i in x if i not in string.punctuation))"
   ]
  },
  {
   "cell_type": "code",
   "execution_count": 79,
   "id": "064fee66",
   "metadata": {},
   "outputs": [],
   "source": [
    "## 6.Remove RT\n",
    "\n",
    "df['tweets'] = df['tweets'].apply(lambda x: re.sub('RT',\"\",x))"
   ]
  },
  {
   "cell_type": "code",
   "execution_count": 80,
   "id": "0f01bd14",
   "metadata": {},
   "outputs": [],
   "source": [
    "## 7. Remove multiple spaces\n",
    "\n",
    "df['tweets'] = df['tweets'].apply(lambda x : \" \".join(x.split()))"
   ]
  },
  {
   "cell_type": "code",
   "execution_count": 82,
   "id": "a5689fcf",
   "metadata": {},
   "outputs": [],
   "source": [
    "## 8.HTML TAGS removal\n",
    "\n",
    "from bs4 import BeautifulSoup\n",
    "df['tweets'] = df['tweets'].apply(lambda x : BeautifulSoup(x,'lxml').get_text())"
   ]
  },
  {
   "cell_type": "code",
   "execution_count": 83,
   "id": "4e42586d",
   "metadata": {},
   "outputs": [],
   "source": [
    "## 9.Remove Stopwords\n",
    "\n",
    "df['tweets'] = df['tweets'].apply(lambda x : \"\".join(i for i in x if i not in STOP_WORDS))"
   ]
  },
  {
   "cell_type": "code",
   "execution_count": 84,
   "id": "384bc088",
   "metadata": {},
   "outputs": [],
   "source": [
    "## 10.Lemmatize\n",
    "\n",
    "from textblob import Word\n",
    "df['tweets'] = df['tweets'].apply(lambda x: \" \".join([Word(word).lemmatize() for word in x.split()]))"
   ]
  },
  {
   "cell_type": "code",
   "execution_count": 96,
   "id": "521202a2",
   "metadata": {},
   "outputs": [
    {
     "name": "stdout",
     "output_type": "stream",
     "text": [
      "Processed review: \n",
      "drob23 y dd seen ll them but robert\n"
     ]
    }
   ],
   "source": [
    "# check some processed reviews\n",
    "import random\n",
    "\n",
    "i = random.choice(range(len(df)))\n",
    "print(f\"Processed review: \\n{df['tweets'].iloc[i]}\")  "
   ]
  },
  {
   "cell_type": "code",
   "execution_count": 97,
   "id": "e194ec9e",
   "metadata": {},
   "outputs": [],
   "source": [
    "#df.to_csv(r'D:\\Excel files\\Sentiment140 dataset with 1.6 million tweets\\df_preprocessed_12-09-2022.csv')"
   ]
  },
  {
   "cell_type": "markdown",
   "id": "2b78d45f",
   "metadata": {},
   "source": [
    "# Model Building"
   ]
  },
  {
   "cell_type": "code",
   "execution_count": 126,
   "id": "616fbce3",
   "metadata": {},
   "outputs": [],
   "source": [
    "from sklearn.feature_extraction.text import TfidfVectorizer,CountVectorizer\n",
    "from sklearn.model_selection import train_test_split\n",
    "from sklearn.metrics import classification_report,accuracy_score\n",
    "from sklearn.metrics import confusion_matrix\n",
    "from sklearn.naive_bayes import MultinomialNB\n",
    "from sklearn.linear_model import LogisticRegression,SGDClassifier\n",
    "from sklearn.ensemble import RandomForestClassifier\n",
    "from xgboost import XGBClassifier\n",
    "from sklearn.preprocessing import MinMaxScaler\n"
   ]
  },
  {
   "cell_type": "code",
   "execution_count": 102,
   "id": "26140e73",
   "metadata": {},
   "outputs": [
    {
     "name": "stdout",
     "output_type": "stream",
     "text": [
      "(8000, 10)\n"
     ]
    },
    {
     "data": {
      "text/html": [
       "<div>\n",
       "<style scoped>\n",
       "    .dataframe tbody tr th:only-of-type {\n",
       "        vertical-align: middle;\n",
       "    }\n",
       "\n",
       "    .dataframe tbody tr th {\n",
       "        vertical-align: top;\n",
       "    }\n",
       "\n",
       "    .dataframe thead th {\n",
       "        text-align: right;\n",
       "    }\n",
       "</style>\n",
       "<table border=\"1\" class=\"dataframe\">\n",
       "  <thead>\n",
       "    <tr style=\"text-align: right;\">\n",
       "      <th></th>\n",
       "      <th>tweets</th>\n",
       "      <th>sentiment</th>\n",
       "      <th>word_counts</th>\n",
       "      <th>char_count</th>\n",
       "      <th>avg_word_len</th>\n",
       "      <th>stop_words_count</th>\n",
       "      <th>hashtag_count</th>\n",
       "      <th>mentions_count</th>\n",
       "      <th>numeric_count</th>\n",
       "      <th>uppercase_count</th>\n",
       "    </tr>\n",
       "  </thead>\n",
       "  <tbody>\n",
       "    <tr>\n",
       "      <th>685610</th>\n",
       "      <td>mrdprno honnestly m not gong to ms the jntor s...</td>\n",
       "      <td>0</td>\n",
       "      <td>24</td>\n",
       "      <td>128</td>\n",
       "      <td>4.333333</td>\n",
       "      <td>11</td>\n",
       "      <td>0</td>\n",
       "      <td>1</td>\n",
       "      <td>2</td>\n",
       "      <td>0</td>\n",
       "    </tr>\n",
       "    <tr>\n",
       "      <th>446784</th>\n",
       "      <td>tred fter spendng restless nght wth ternn off ...</td>\n",
       "      <td>0</td>\n",
       "      <td>22</td>\n",
       "      <td>123</td>\n",
       "      <td>4.545455</td>\n",
       "      <td>10</td>\n",
       "      <td>0</td>\n",
       "      <td>0</td>\n",
       "      <td>0</td>\n",
       "      <td>1</td>\n",
       "    </tr>\n",
       "  </tbody>\n",
       "</table>\n",
       "</div>"
      ],
      "text/plain": [
       "                                                   tweets  sentiment  \\\n",
       "685610  mrdprno honnestly m not gong to ms the jntor s...          0   \n",
       "446784  tred fter spendng restless nght wth ternn off ...          0   \n",
       "\n",
       "        word_counts  char_count  avg_word_len  stop_words_count  \\\n",
       "685610           24         128      4.333333                11   \n",
       "446784           22         123      4.545455                10   \n",
       "\n",
       "        hashtag_count  mentions_count  numeric_count  uppercase_count  \n",
       "685610              0               1              2                0  \n",
       "446784              0               0              0                1  "
      ]
     },
     "execution_count": 102,
     "metadata": {},
     "output_type": "execute_result"
    }
   ],
   "source": [
    "print(df.shape)\n",
    "df.head(2)"
   ]
  },
  {
   "cell_type": "code",
   "execution_count": 131,
   "id": "acb9a1a6",
   "metadata": {},
   "outputs": [],
   "source": [
    "df_feat = df.drop(['tweets','sentiment'],axis=1).reset_index(drop=True)"
   ]
  },
  {
   "cell_type": "code",
   "execution_count": 105,
   "id": "4f3bb24f",
   "metadata": {},
   "outputs": [
    {
     "data": {
      "text/html": [
       "<div>\n",
       "<style scoped>\n",
       "    .dataframe tbody tr th:only-of-type {\n",
       "        vertical-align: middle;\n",
       "    }\n",
       "\n",
       "    .dataframe tbody tr th {\n",
       "        vertical-align: top;\n",
       "    }\n",
       "\n",
       "    .dataframe thead th {\n",
       "        text-align: right;\n",
       "    }\n",
       "</style>\n",
       "<table border=\"1\" class=\"dataframe\">\n",
       "  <thead>\n",
       "    <tr style=\"text-align: right;\">\n",
       "      <th></th>\n",
       "      <th>word_counts</th>\n",
       "      <th>char_count</th>\n",
       "      <th>avg_word_len</th>\n",
       "      <th>stop_words_count</th>\n",
       "      <th>hashtag_count</th>\n",
       "      <th>mentions_count</th>\n",
       "      <th>numeric_count</th>\n",
       "      <th>uppercase_count</th>\n",
       "    </tr>\n",
       "  </thead>\n",
       "  <tbody>\n",
       "    <tr>\n",
       "      <th>685610</th>\n",
       "      <td>24</td>\n",
       "      <td>128</td>\n",
       "      <td>4.333333</td>\n",
       "      <td>11</td>\n",
       "      <td>0</td>\n",
       "      <td>1</td>\n",
       "      <td>2</td>\n",
       "      <td>0</td>\n",
       "    </tr>\n",
       "    <tr>\n",
       "      <th>446784</th>\n",
       "      <td>22</td>\n",
       "      <td>123</td>\n",
       "      <td>4.545455</td>\n",
       "      <td>10</td>\n",
       "      <td>0</td>\n",
       "      <td>0</td>\n",
       "      <td>0</td>\n",
       "      <td>1</td>\n",
       "    </tr>\n",
       "  </tbody>\n",
       "</table>\n",
       "</div>"
      ],
      "text/plain": [
       "        word_counts  char_count  avg_word_len  stop_words_count  \\\n",
       "685610           24         128      4.333333                11   \n",
       "446784           22         123      4.545455                10   \n",
       "\n",
       "        hashtag_count  mentions_count  numeric_count  uppercase_count  \n",
       "685610              0               1              2                0  \n",
       "446784              0               0              0                1  "
      ]
     },
     "execution_count": 105,
     "metadata": {},
     "output_type": "execute_result"
    }
   ],
   "source": [
    "df_feat.head(2)"
   ]
  },
  {
   "cell_type": "code",
   "execution_count": 106,
   "id": "9e149725",
   "metadata": {},
   "outputs": [],
   "source": [
    "y = df['sentiment']"
   ]
  },
  {
   "cell_type": "code",
   "execution_count": 107,
   "id": "ed7bc086",
   "metadata": {},
   "outputs": [],
   "source": [
    "### 1 . BOW"
   ]
  },
  {
   "cell_type": "code",
   "execution_count": 109,
   "id": "ca603910",
   "metadata": {},
   "outputs": [
    {
     "data": {
      "text/html": [
       "<div>\n",
       "<style scoped>\n",
       "    .dataframe tbody tr th:only-of-type {\n",
       "        vertical-align: middle;\n",
       "    }\n",
       "\n",
       "    .dataframe tbody tr th {\n",
       "        vertical-align: top;\n",
       "    }\n",
       "\n",
       "    .dataframe thead th {\n",
       "        text-align: right;\n",
       "    }\n",
       "</style>\n",
       "<table border=\"1\" class=\"dataframe\">\n",
       "  <thead>\n",
       "    <tr style=\"text-align: right;\">\n",
       "      <th></th>\n",
       "      <th>016</th>\n",
       "      <th>01614948343</th>\n",
       "      <th>06</th>\n",
       "      <th>07</th>\n",
       "      <th>070409</th>\n",
       "      <th>0730</th>\n",
       "      <th>0745</th>\n",
       "      <th>09</th>\n",
       "      <th>0nlhumn</th>\n",
       "      <th>0o</th>\n",
       "      <th>...</th>\n",
       "      <th>zu</th>\n",
       "      <th>zudfunck</th>\n",
       "      <th>zukond</th>\n",
       "      <th>zuljlu</th>\n",
       "      <th>zulkey</th>\n",
       "      <th>zune</th>\n",
       "      <th>zurch</th>\n",
       "      <th>zurdh</th>\n",
       "      <th>zzs</th>\n",
       "      <th>zzzzzs</th>\n",
       "    </tr>\n",
       "  </thead>\n",
       "  <tbody>\n",
       "    <tr>\n",
       "      <th>0</th>\n",
       "      <td>0</td>\n",
       "      <td>0</td>\n",
       "      <td>0</td>\n",
       "      <td>0</td>\n",
       "      <td>0</td>\n",
       "      <td>0</td>\n",
       "      <td>0</td>\n",
       "      <td>0</td>\n",
       "      <td>0</td>\n",
       "      <td>0</td>\n",
       "      <td>...</td>\n",
       "      <td>0</td>\n",
       "      <td>0</td>\n",
       "      <td>0</td>\n",
       "      <td>0</td>\n",
       "      <td>0</td>\n",
       "      <td>0</td>\n",
       "      <td>0</td>\n",
       "      <td>0</td>\n",
       "      <td>0</td>\n",
       "      <td>0</td>\n",
       "    </tr>\n",
       "    <tr>\n",
       "      <th>1</th>\n",
       "      <td>0</td>\n",
       "      <td>0</td>\n",
       "      <td>0</td>\n",
       "      <td>0</td>\n",
       "      <td>0</td>\n",
       "      <td>0</td>\n",
       "      <td>0</td>\n",
       "      <td>0</td>\n",
       "      <td>0</td>\n",
       "      <td>0</td>\n",
       "      <td>...</td>\n",
       "      <td>0</td>\n",
       "      <td>0</td>\n",
       "      <td>0</td>\n",
       "      <td>0</td>\n",
       "      <td>0</td>\n",
       "      <td>0</td>\n",
       "      <td>0</td>\n",
       "      <td>0</td>\n",
       "      <td>0</td>\n",
       "      <td>0</td>\n",
       "    </tr>\n",
       "    <tr>\n",
       "      <th>2</th>\n",
       "      <td>0</td>\n",
       "      <td>0</td>\n",
       "      <td>0</td>\n",
       "      <td>0</td>\n",
       "      <td>0</td>\n",
       "      <td>0</td>\n",
       "      <td>0</td>\n",
       "      <td>0</td>\n",
       "      <td>0</td>\n",
       "      <td>0</td>\n",
       "      <td>...</td>\n",
       "      <td>0</td>\n",
       "      <td>0</td>\n",
       "      <td>0</td>\n",
       "      <td>0</td>\n",
       "      <td>0</td>\n",
       "      <td>0</td>\n",
       "      <td>0</td>\n",
       "      <td>0</td>\n",
       "      <td>0</td>\n",
       "      <td>0</td>\n",
       "    </tr>\n",
       "    <tr>\n",
       "      <th>3</th>\n",
       "      <td>0</td>\n",
       "      <td>0</td>\n",
       "      <td>0</td>\n",
       "      <td>0</td>\n",
       "      <td>0</td>\n",
       "      <td>0</td>\n",
       "      <td>0</td>\n",
       "      <td>0</td>\n",
       "      <td>0</td>\n",
       "      <td>0</td>\n",
       "      <td>...</td>\n",
       "      <td>0</td>\n",
       "      <td>0</td>\n",
       "      <td>0</td>\n",
       "      <td>0</td>\n",
       "      <td>0</td>\n",
       "      <td>0</td>\n",
       "      <td>0</td>\n",
       "      <td>0</td>\n",
       "      <td>0</td>\n",
       "      <td>0</td>\n",
       "    </tr>\n",
       "    <tr>\n",
       "      <th>4</th>\n",
       "      <td>0</td>\n",
       "      <td>0</td>\n",
       "      <td>0</td>\n",
       "      <td>0</td>\n",
       "      <td>0</td>\n",
       "      <td>0</td>\n",
       "      <td>0</td>\n",
       "      <td>0</td>\n",
       "      <td>0</td>\n",
       "      <td>0</td>\n",
       "      <td>...</td>\n",
       "      <td>0</td>\n",
       "      <td>0</td>\n",
       "      <td>0</td>\n",
       "      <td>0</td>\n",
       "      <td>0</td>\n",
       "      <td>0</td>\n",
       "      <td>0</td>\n",
       "      <td>0</td>\n",
       "      <td>0</td>\n",
       "      <td>0</td>\n",
       "    </tr>\n",
       "  </tbody>\n",
       "</table>\n",
       "<p>5 rows × 15479 columns</p>\n",
       "</div>"
      ],
      "text/plain": [
       "   016  01614948343  06  07  070409  0730  0745  09  0nlhumn  0o  ...  zu  \\\n",
       "0    0            0   0   0       0     0     0   0        0   0  ...   0   \n",
       "1    0            0   0   0       0     0     0   0        0   0  ...   0   \n",
       "2    0            0   0   0       0     0     0   0        0   0  ...   0   \n",
       "3    0            0   0   0       0     0     0   0        0   0  ...   0   \n",
       "4    0            0   0   0       0     0     0   0        0   0  ...   0   \n",
       "\n",
       "   zudfunck  zukond  zuljlu  zulkey  zune  zurch  zurdh  zzs  zzzzzs  \n",
       "0         0       0       0       0     0      0      0    0       0  \n",
       "1         0       0       0       0     0      0      0    0       0  \n",
       "2         0       0       0       0     0      0      0    0       0  \n",
       "3         0       0       0       0     0      0      0    0       0  \n",
       "4         0       0       0       0     0      0      0    0       0  \n",
       "\n",
       "[5 rows x 15479 columns]"
      ]
     },
     "execution_count": 109,
     "metadata": {},
     "output_type": "execute_result"
    }
   ],
   "source": [
    "cv = CountVectorizer()\n",
    "text_counts = cv.fit_transform(df['tweets'])\n",
    "df_bow = pd.DataFrame(text_counts.toarray(),columns = cv.get_feature_names())\n",
    "df_bow.head()"
   ]
  },
  {
   "cell_type": "code",
   "execution_count": 113,
   "id": "e7575524",
   "metadata": {},
   "outputs": [],
   "source": [
    "### ML Algos\n",
    "\n",
    "sgd = SGDClassifier(n_jobs=-1,random_state=42,max_iter=200)\n",
    "lgr = LogisticRegression(random_state=42,max_iter=200)\n",
    "mnb = MultinomialNB()\n",
    "rfc = RandomForestClassifier(random_state=42,n_jobs=-1,n_estimators=200)"
   ]
  },
  {
   "cell_type": "code",
   "execution_count": 114,
   "id": "dce59dca",
   "metadata": {},
   "outputs": [],
   "source": [
    "clf = {'SGD':sgd,'LGR':lgr,'MNB':mnb,'RFC':rfc}"
   ]
  },
  {
   "cell_type": "code",
   "execution_count": 124,
   "id": "1b44c8be",
   "metadata": {},
   "outputs": [],
   "source": [
    "def classify(X,y):\n",
    "    scaler = MinMaxScaler()\n",
    "    X = scaler.fit_transform(X)\n",
    "    X_train,X_test,y_train,y_test = train_test_split(X,y,test_size=0.2,stratify=y,random_state=42)\n",
    "    \n",
    "    for key in clf.keys():\n",
    "        clf[key].fit(X_train,y_train)\n",
    "        y_pred  = clf[key].predict(X_test)\n",
    "        accuracy = accuracy_score(y_test,y_pred)*100\n",
    "        print(f'The Accuracy of {key} model is {accuracy}%')"
   ]
  },
  {
   "cell_type": "code",
   "execution_count": 128,
   "id": "f018eddc",
   "metadata": {},
   "outputs": [
    {
     "name": "stdout",
     "output_type": "stream",
     "text": [
      "The Accuracy of SGD model is 71.5625%\n",
      "The Accuracy of LGR model is 73.625%\n",
      "The Accuracy of MNB model is 70.0625%\n",
      "The Accuracy of RFC model is 74.0%\n"
     ]
    }
   ],
   "source": [
    "##1 BOW\n",
    "classify(df_bow,y)"
   ]
  },
  {
   "cell_type": "code",
   "execution_count": 187,
   "id": "a45da868",
   "metadata": {},
   "outputs": [
    {
     "name": "stdout",
     "output_type": "stream",
     "text": [
      "The Accuracy of lgr2 model is 73.625%\n"
     ]
    }
   ],
   "source": [
    "scaler = MinMaxScaler()\n",
    "X = scaler.fit_transform(df_bow)\n",
    "X = pd.DataFrame(X)\n",
    "X_train,X_test,y_train,y_test = train_test_split(X,y,test_size=0.2,stratify=y,random_state=42)\n",
    "lgr2=LogisticRegression(random_state=42,max_iter=200)    \n",
    "lgr2.fit(X_train,y_train)\n",
    "y_pred  = lgr2.predict(X_test)\n",
    "accuracy = accuracy_score(y_test,y_pred)*100\n",
    "print(f'The Accuracy of lgr2 model is {accuracy}%')"
   ]
  },
  {
   "cell_type": "code",
   "execution_count": 129,
   "id": "98d224f5",
   "metadata": {},
   "outputs": [
    {
     "name": "stdout",
     "output_type": "stream",
     "text": [
      "The Accuracy of SGD model is 57.375%\n",
      "The Accuracy of LGR model is 57.4375%\n",
      "The Accuracy of MNB model is 58.3125%\n",
      "The Accuracy of RFC model is 55.50000000000001%\n"
     ]
    }
   ],
   "source": [
    "### 2. Manual Features(df_feat)\n",
    "classify(df_feat,y)"
   ]
  },
  {
   "cell_type": "code",
   "execution_count": 132,
   "id": "f780b47c",
   "metadata": {},
   "outputs": [],
   "source": [
    "### 3. BOW + Manual Features\n",
    "\n",
    "X = df_feat.join(df_bow)"
   ]
  },
  {
   "cell_type": "code",
   "execution_count": 133,
   "id": "c56279d4",
   "metadata": {},
   "outputs": [
    {
     "name": "stdout",
     "output_type": "stream",
     "text": [
      "The Accuracy of SGD model is 70.8125%\n",
      "The Accuracy of LGR model is 73.3125%\n",
      "The Accuracy of MNB model is 70.25%\n",
      "The Accuracy of RFC model is 71.8125%\n"
     ]
    }
   ],
   "source": [
    "classify(X,y)"
   ]
  },
  {
   "cell_type": "code",
   "execution_count": 134,
   "id": "215ed6ea",
   "metadata": {},
   "outputs": [],
   "source": [
    "### 4.TFIDF\n",
    "\n",
    "tfidf = TfidfVectorizer()\n",
    "X = tfidf.fit_transform(df['tweets'])"
   ]
  },
  {
   "cell_type": "code",
   "execution_count": 135,
   "id": "7ed3ca6d",
   "metadata": {},
   "outputs": [
    {
     "name": "stdout",
     "output_type": "stream",
     "text": [
      "The Accuracy of SGD model is 71.75%\n",
      "The Accuracy of LGR model is 73.9375%\n",
      "The Accuracy of MNB model is 69.1875%\n",
      "The Accuracy of RFC model is 73.4375%\n"
     ]
    }
   ],
   "source": [
    "classify(pd.DataFrame(X.toarray()),y)"
   ]
  },
  {
   "cell_type": "code",
   "execution_count": 139,
   "id": "143bd166",
   "metadata": {},
   "outputs": [],
   "source": [
    "### 5. Word2Vec\n",
    "\n",
    "def get_vec(x):\n",
    "    doc = nlp(x)\n",
    "    return doc.vector.reshape(1,-1)"
   ]
  },
  {
   "cell_type": "code",
   "execution_count": 138,
   "id": "669d72d7",
   "metadata": {},
   "outputs": [],
   "source": [
    "nlp=spacy.load('en_core_web_lg')"
   ]
  },
  {
   "cell_type": "code",
   "execution_count": 140,
   "id": "be7e3bab",
   "metadata": {},
   "outputs": [],
   "source": [
    "df['vec'] = df['tweets'].apply(lambda x: get_vec(x))"
   ]
  },
  {
   "cell_type": "code",
   "execution_count": 141,
   "id": "6f42efc7",
   "metadata": {},
   "outputs": [],
   "source": [
    "X = np.concatenate(df['vec'].to_numpy(),axis=0)"
   ]
  },
  {
   "cell_type": "code",
   "execution_count": 143,
   "id": "9e8d478c",
   "metadata": {},
   "outputs": [
    {
     "name": "stdout",
     "output_type": "stream",
     "text": [
      "The Accuracy of SGD model is 66.8125%\n",
      "The Accuracy of LGR model is 68.875%\n",
      "The Accuracy of MNB model is 61.25000000000001%\n",
      "The Accuracy of RFC model is 64.0%\n"
     ]
    }
   ],
   "source": [
    "classify(pd.DataFrame(X),y)"
   ]
  },
  {
   "cell_type": "code",
   "execution_count": 144,
   "id": "abd0d504",
   "metadata": {},
   "outputs": [],
   "source": [
    "def pred_w2v(x):\n",
    "    for key in clf.keys():\n",
    "        y_pred = clf[key].predict(get_vec(x))\n",
    "        print(key,\"--->\",y_pred)"
   ]
  },
  {
   "cell_type": "code",
   "execution_count": 145,
   "id": "6dce1ee7",
   "metadata": {},
   "outputs": [
    {
     "name": "stdout",
     "output_type": "stream",
     "text": [
      "SGD ---> [4]\n",
      "LGR ---> [4]\n",
      "MNB ---> [4]\n",
      "RFC ---> [4]\n"
     ]
    }
   ],
   "source": [
    "pred_w2v(\"hi beautiful\")"
   ]
  },
  {
   "cell_type": "code",
   "execution_count": 188,
   "id": "277ca291",
   "metadata": {},
   "outputs": [],
   "source": [
    "def predict_cv(text):\n",
    "    x = cv.transform([text]).toarray() \n",
    "    prediction = lgr2.predict(x)\n",
    "    return prediction"
   ]
  },
  {
   "cell_type": "code",
   "execution_count": 189,
   "id": "12e2ee3b",
   "metadata": {},
   "outputs": [
    {
     "data": {
      "text/plain": [
       "array([4], dtype=int64)"
      ]
     },
     "execution_count": 189,
     "metadata": {},
     "output_type": "execute_result"
    }
   ],
   "source": [
    "predict_cv('hi beautiful')"
   ]
  },
  {
   "cell_type": "code",
   "execution_count": null,
   "id": "f1f4f873",
   "metadata": {},
   "outputs": [],
   "source": []
  }
 ],
 "metadata": {
  "kernelspec": {
   "display_name": "Python 3 (ipykernel)",
   "language": "python",
   "name": "python3"
  },
  "language_info": {
   "codemirror_mode": {
    "name": "ipython",
    "version": 3
   },
   "file_extension": ".py",
   "mimetype": "text/x-python",
   "name": "python",
   "nbconvert_exporter": "python",
   "pygments_lexer": "ipython3",
   "version": "3.9.12"
  }
 },
 "nbformat": 4,
 "nbformat_minor": 5
}
