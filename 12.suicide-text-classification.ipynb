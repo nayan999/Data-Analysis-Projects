{
 "cells": [
  {
   "cell_type": "markdown",
   "id": "8ddf39b9",
   "metadata": {
    "papermill": {
     "duration": 0.045696,
     "end_time": "2021-11-13T16:30:04.304831",
     "exception": false,
     "start_time": "2021-11-13T16:30:04.259135",
     "status": "completed"
    },
    "tags": []
   },
   "source": [
    "# Suicide Text Classification"
   ]
  },
  {
   "cell_type": "markdown",
   "id": "0e56da1b",
   "metadata": {
    "papermill": {
     "duration": 0.043621,
     "end_time": "2021-11-13T16:30:04.393921",
     "exception": false,
     "start_time": "2021-11-13T16:30:04.350300",
     "status": "completed"
    },
    "tags": []
   },
   "source": [
    "## Import Libraries"
   ]
  },
  {
   "cell_type": "code",
   "execution_count": 1,
   "id": "39406a77",
   "metadata": {
    "_cell_guid": "b1076dfc-b9ad-4769-8c92-a6c4dae69d19",
    "_uuid": "8f2839f25d086af736a60e9eeb907d3b93b6e0e5",
    "execution": {
     "iopub.execute_input": "2021-11-13T16:30:04.487990Z",
     "iopub.status.busy": "2021-11-13T16:30:04.486194Z",
     "iopub.status.idle": "2021-11-13T16:30:04.511749Z",
     "shell.execute_reply": "2021-11-13T16:30:04.510368Z",
     "shell.execute_reply.started": "2021-11-13T16:17:58.996356Z"
    },
    "papermill": {
     "duration": 0.074392,
     "end_time": "2021-11-13T16:30:04.512054",
     "exception": false,
     "start_time": "2021-11-13T16:30:04.437662",
     "status": "completed"
    },
    "tags": []
   },
   "outputs": [
    {
     "name": "stdout",
     "output_type": "stream",
     "text": [
      "/kaggle/input/suicide-watch/Suicide_Detection.csv\n"
     ]
    }
   ],
   "source": [
    "# This Python 3 environment comes with many helpful analytics libraries installed\n",
    "# It is defined by the kaggle/python Docker image: https://github.com/kaggle/docker-python\n",
    "# For example, here's several helpful packages to load\n",
    "\n",
    "import numpy as np # linear algebra\n",
    "import pandas as pd # data processing, CSV file I/O (e.g. pd.read_csv)\n",
    "\n",
    "# Input data files are available in the read-only \"../input/\" directory\n",
    "# For example, running this (by clicking run or pressing Shift+Enter) will list all files under the input directory\n",
    "\n",
    "import os\n",
    "for dirname, _, filenames in os.walk('/kaggle/input'):\n",
    "    for filename in filenames:\n",
    "        print(os.path.join(dirname, filename))\n",
    "\n",
    "# You can write up to 20GB to the current directory (/kaggle/working/) that gets preserved as output when you create a version using \"Save & Run All\" \n",
    "# You can also write temporary files to /kaggle/temp/, but they won't be saved outside of the current session"
   ]
  },
  {
   "cell_type": "code",
   "execution_count": 2,
   "id": "e5bc4de9",
   "metadata": {
    "execution": {
     "iopub.execute_input": "2021-11-13T16:30:04.606516Z",
     "iopub.status.busy": "2021-11-13T16:30:04.605523Z",
     "iopub.status.idle": "2021-11-13T16:30:20.864453Z",
     "shell.execute_reply": "2021-11-13T16:30:20.865046Z",
     "shell.execute_reply.started": "2021-11-13T16:17:59.037691Z"
    },
    "papermill": {
     "duration": 16.306798,
     "end_time": "2021-11-13T16:30:20.865242",
     "exception": false,
     "start_time": "2021-11-13T16:30:04.558444",
     "status": "completed"
    },
    "tags": []
   },
   "outputs": [],
   "source": [
    "import re\n",
    "import string\n",
    "\n",
    "from sklearn.base import TransformerMixin, BaseEstimator\n",
    "from sklearn.model_selection import train_test_split\n",
    "from sklearn.feature_extraction.text import TfidfVectorizer\n",
    "from sklearn.calibration import CalibratedClassifierCV\n",
    "from imblearn.under_sampling import InstanceHardnessThreshold\n",
    "from sklearn.svm import LinearSVC\n",
    "from sklearn.preprocessing import MinMaxScaler\n",
    "from sklearn.feature_selection import SelectFromModel\n",
    "from sklearn.linear_model import LogisticRegression, SGDClassifier\n",
    "from sklearn.ensemble import VotingClassifier\n",
    "from sklearn.naive_bayes import MultinomialNB, ComplementNB\n",
    "from sklearn.svm import LinearSVC\n",
    "\n",
    "from sklearn.model_selection import cross_val_score\n",
    "from sklearn.metrics import classification_report\n",
    "from sklearn.model_selection import train_test_split\n",
    "from sklearn.metrics import confusion_matrix\n",
    "from sklearn.utils.multiclass import unique_labels\n",
    "from sklearn.feature_selection import SelectFromModel\n",
    "\n",
    "from imblearn.pipeline import Pipeline\n",
    "import pickle\n",
    "\n",
    "\n",
    "import spacy\n",
    "nlp = spacy.load(\"en_core_web_lg\")\n",
    "\n",
    "import pandas as pd\n",
    "import matplotlib.pyplot as plt\n",
    "import seaborn as sns"
   ]
  },
  {
   "cell_type": "markdown",
   "id": "f455d186",
   "metadata": {
    "papermill": {
     "duration": 0.044272,
     "end_time": "2021-11-13T16:30:20.955457",
     "exception": false,
     "start_time": "2021-11-13T16:30:20.911185",
     "status": "completed"
    },
    "tags": []
   },
   "source": [
    "## Load & Preview dataset"
   ]
  },
  {
   "cell_type": "code",
   "execution_count": 3,
   "id": "db6dcfd8",
   "metadata": {
    "execution": {
     "iopub.execute_input": "2021-11-13T16:30:21.049711Z",
     "iopub.status.busy": "2021-11-13T16:30:21.048666Z",
     "iopub.status.idle": "2021-11-13T16:30:25.721826Z",
     "shell.execute_reply": "2021-11-13T16:30:25.722487Z",
     "shell.execute_reply.started": "2021-11-13T16:18:14.852220Z"
    },
    "papermill": {
     "duration": 4.72281,
     "end_time": "2021-11-13T16:30:25.722678",
     "exception": false,
     "start_time": "2021-11-13T16:30:20.999868",
     "status": "completed"
    },
    "tags": []
   },
   "outputs": [
    {
     "data": {
      "text/html": [
       "<div>\n",
       "<style scoped>\n",
       "    .dataframe tbody tr th:only-of-type {\n",
       "        vertical-align: middle;\n",
       "    }\n",
       "\n",
       "    .dataframe tbody tr th {\n",
       "        vertical-align: top;\n",
       "    }\n",
       "\n",
       "    .dataframe thead th {\n",
       "        text-align: right;\n",
       "    }\n",
       "</style>\n",
       "<table border=\"1\" class=\"dataframe\">\n",
       "  <thead>\n",
       "    <tr style=\"text-align: right;\">\n",
       "      <th></th>\n",
       "      <th>Unnamed: 0</th>\n",
       "      <th>text</th>\n",
       "      <th>class</th>\n",
       "    </tr>\n",
       "  </thead>\n",
       "  <tbody>\n",
       "    <tr>\n",
       "      <th>0</th>\n",
       "      <td>2</td>\n",
       "      <td>Ex Wife Threatening SuicideRecently I left my ...</td>\n",
       "      <td>suicide</td>\n",
       "    </tr>\n",
       "    <tr>\n",
       "      <th>1</th>\n",
       "      <td>3</td>\n",
       "      <td>Am I weird I don't get affected by compliments...</td>\n",
       "      <td>non-suicide</td>\n",
       "    </tr>\n",
       "    <tr>\n",
       "      <th>2</th>\n",
       "      <td>4</td>\n",
       "      <td>Finally 2020 is almost over... So I can never ...</td>\n",
       "      <td>non-suicide</td>\n",
       "    </tr>\n",
       "    <tr>\n",
       "      <th>3</th>\n",
       "      <td>8</td>\n",
       "      <td>i need helpjust help me im crying so hard</td>\n",
       "      <td>suicide</td>\n",
       "    </tr>\n",
       "    <tr>\n",
       "      <th>4</th>\n",
       "      <td>9</td>\n",
       "      <td>I’m so lostHello, my name is Adam (16) and I’v...</td>\n",
       "      <td>suicide</td>\n",
       "    </tr>\n",
       "  </tbody>\n",
       "</table>\n",
       "</div>"
      ],
      "text/plain": [
       "   Unnamed: 0                                               text        class\n",
       "0           2  Ex Wife Threatening SuicideRecently I left my ...      suicide\n",
       "1           3  Am I weird I don't get affected by compliments...  non-suicide\n",
       "2           4  Finally 2020 is almost over... So I can never ...  non-suicide\n",
       "3           8          i need helpjust help me im crying so hard      suicide\n",
       "4           9  I’m so lostHello, my name is Adam (16) and I’v...      suicide"
      ]
     },
     "execution_count": 3,
     "metadata": {},
     "output_type": "execute_result"
    }
   ],
   "source": [
    "data = pd.read_csv(\"../input/suicide-watch/Suicide_Detection.csv\")\n",
    "data.head()"
   ]
  },
  {
   "cell_type": "code",
   "execution_count": 4,
   "id": "e47dfdeb",
   "metadata": {
    "execution": {
     "iopub.execute_input": "2021-11-13T16:30:25.878383Z",
     "iopub.status.busy": "2021-11-13T16:30:25.877382Z",
     "iopub.status.idle": "2021-11-13T16:30:25.883798Z",
     "shell.execute_reply": "2021-11-13T16:30:25.883131Z",
     "shell.execute_reply.started": "2021-11-13T16:18:19.235848Z"
    },
    "papermill": {
     "duration": 0.054365,
     "end_time": "2021-11-13T16:30:25.883935",
     "exception": false,
     "start_time": "2021-11-13T16:30:25.829570",
     "status": "completed"
    },
    "tags": []
   },
   "outputs": [
    {
     "data": {
      "text/plain": [
       "(232074, 3)"
      ]
     },
     "execution_count": 4,
     "metadata": {},
     "output_type": "execute_result"
    }
   ],
   "source": [
    "data.shape"
   ]
  },
  {
   "cell_type": "code",
   "execution_count": 5,
   "id": "d34d9716",
   "metadata": {
    "execution": {
     "iopub.execute_input": "2021-11-13T16:30:25.981975Z",
     "iopub.status.busy": "2021-11-13T16:30:25.980964Z",
     "iopub.status.idle": "2021-11-13T16:30:26.002943Z",
     "shell.execute_reply": "2021-11-13T16:30:26.002235Z",
     "shell.execute_reply.started": "2021-11-13T16:18:19.242756Z"
    },
    "papermill": {
     "duration": 0.073644,
     "end_time": "2021-11-13T16:30:26.003105",
     "exception": false,
     "start_time": "2021-11-13T16:30:25.929461",
     "status": "completed"
    },
    "tags": []
   },
   "outputs": [],
   "source": [
    "#split data for easy training\n",
    "\n",
    "data_split = np.array_split(data, 20)\n",
    "\n",
    "df = data_split[0].copy()\n",
    "df2 = data_split[1].copy()\n",
    "df3 = data_split[2]\n",
    "df4 = data_split[3]\n",
    "df5 = data_split[4]\n",
    "df6 = data_split[5]"
   ]
  },
  {
   "cell_type": "code",
   "execution_count": 6,
   "id": "f5e82635",
   "metadata": {
    "execution": {
     "iopub.execute_input": "2021-11-13T16:30:26.113681Z",
     "iopub.status.busy": "2021-11-13T16:30:26.106254Z",
     "iopub.status.idle": "2021-11-13T16:30:26.116093Z",
     "shell.execute_reply": "2021-11-13T16:30:26.115105Z",
     "shell.execute_reply.started": "2021-11-13T16:18:19.279434Z"
    },
    "papermill": {
     "duration": 0.067062,
     "end_time": "2021-11-13T16:30:26.116339",
     "exception": false,
     "start_time": "2021-11-13T16:30:26.049277",
     "status": "completed"
    },
    "tags": []
   },
   "outputs": [],
   "source": [
    "df = df.rename(columns = {\"class\": \"target\"})"
   ]
  },
  {
   "cell_type": "code",
   "execution_count": 7,
   "id": "b9d41fe1",
   "metadata": {
    "execution": {
     "iopub.execute_input": "2021-11-13T16:30:26.235963Z",
     "iopub.status.busy": "2021-11-13T16:30:26.234687Z",
     "iopub.status.idle": "2021-11-13T16:30:26.238170Z",
     "shell.execute_reply": "2021-11-13T16:30:26.238642Z",
     "shell.execute_reply.started": "2021-11-13T16:18:19.290249Z"
    },
    "papermill": {
     "duration": 0.064285,
     "end_time": "2021-11-13T16:30:26.238814",
     "exception": false,
     "start_time": "2021-11-13T16:30:26.174529",
     "status": "completed"
    },
    "tags": []
   },
   "outputs": [
    {
     "data": {
      "text/html": [
       "<div>\n",
       "<style scoped>\n",
       "    .dataframe tbody tr th:only-of-type {\n",
       "        vertical-align: middle;\n",
       "    }\n",
       "\n",
       "    .dataframe tbody tr th {\n",
       "        vertical-align: top;\n",
       "    }\n",
       "\n",
       "    .dataframe thead th {\n",
       "        text-align: right;\n",
       "    }\n",
       "</style>\n",
       "<table border=\"1\" class=\"dataframe\">\n",
       "  <thead>\n",
       "    <tr style=\"text-align: right;\">\n",
       "      <th></th>\n",
       "      <th>Unnamed: 0</th>\n",
       "      <th>text</th>\n",
       "      <th>target</th>\n",
       "    </tr>\n",
       "  </thead>\n",
       "  <tbody>\n",
       "    <tr>\n",
       "      <th>0</th>\n",
       "      <td>2</td>\n",
       "      <td>Ex Wife Threatening SuicideRecently I left my ...</td>\n",
       "      <td>suicide</td>\n",
       "    </tr>\n",
       "    <tr>\n",
       "      <th>1</th>\n",
       "      <td>3</td>\n",
       "      <td>Am I weird I don't get affected by compliments...</td>\n",
       "      <td>non-suicide</td>\n",
       "    </tr>\n",
       "    <tr>\n",
       "      <th>2</th>\n",
       "      <td>4</td>\n",
       "      <td>Finally 2020 is almost over... So I can never ...</td>\n",
       "      <td>non-suicide</td>\n",
       "    </tr>\n",
       "    <tr>\n",
       "      <th>3</th>\n",
       "      <td>8</td>\n",
       "      <td>i need helpjust help me im crying so hard</td>\n",
       "      <td>suicide</td>\n",
       "    </tr>\n",
       "    <tr>\n",
       "      <th>4</th>\n",
       "      <td>9</td>\n",
       "      <td>I’m so lostHello, my name is Adam (16) and I’v...</td>\n",
       "      <td>suicide</td>\n",
       "    </tr>\n",
       "  </tbody>\n",
       "</table>\n",
       "</div>"
      ],
      "text/plain": [
       "   Unnamed: 0                                               text       target\n",
       "0           2  Ex Wife Threatening SuicideRecently I left my ...      suicide\n",
       "1           3  Am I weird I don't get affected by compliments...  non-suicide\n",
       "2           4  Finally 2020 is almost over... So I can never ...  non-suicide\n",
       "3           8          i need helpjust help me im crying so hard      suicide\n",
       "4           9  I’m so lostHello, my name is Adam (16) and I’v...      suicide"
      ]
     },
     "execution_count": 7,
     "metadata": {},
     "output_type": "execute_result"
    }
   ],
   "source": [
    "df.head()"
   ]
  },
  {
   "cell_type": "code",
   "execution_count": 8,
   "id": "19365302",
   "metadata": {
    "execution": {
     "iopub.execute_input": "2021-11-13T16:30:26.338824Z",
     "iopub.status.busy": "2021-11-13T16:30:26.338094Z",
     "iopub.status.idle": "2021-11-13T16:30:26.340933Z",
     "shell.execute_reply": "2021-11-13T16:30:26.341442Z",
     "shell.execute_reply.started": "2021-11-13T16:18:19.308380Z"
    },
    "papermill": {
     "duration": 0.054743,
     "end_time": "2021-11-13T16:30:26.341635",
     "exception": false,
     "start_time": "2021-11-13T16:30:26.286892",
     "status": "completed"
    },
    "tags": []
   },
   "outputs": [
    {
     "data": {
      "text/plain": [
       "(11604, 3)"
      ]
     },
     "execution_count": 8,
     "metadata": {},
     "output_type": "execute_result"
    }
   ],
   "source": [
    "df.shape"
   ]
  },
  {
   "cell_type": "code",
   "execution_count": 9,
   "id": "50dfc8ef",
   "metadata": {
    "execution": {
     "iopub.execute_input": "2021-11-13T16:30:26.440670Z",
     "iopub.status.busy": "2021-11-13T16:30:26.439923Z",
     "iopub.status.idle": "2021-11-13T16:30:26.451213Z",
     "shell.execute_reply": "2021-11-13T16:30:26.451821Z",
     "shell.execute_reply.started": "2021-11-13T16:18:19.322439Z"
    },
    "papermill": {
     "duration": 0.063358,
     "end_time": "2021-11-13T16:30:26.452055",
     "exception": false,
     "start_time": "2021-11-13T16:30:26.388697",
     "status": "completed"
    },
    "tags": []
   },
   "outputs": [
    {
     "data": {
      "text/plain": [
       "non-suicide    5878\n",
       "suicide        5726\n",
       "Name: target, dtype: int64"
      ]
     },
     "execution_count": 9,
     "metadata": {},
     "output_type": "execute_result"
    }
   ],
   "source": [
    "df.target.value_counts()"
   ]
  },
  {
   "cell_type": "code",
   "execution_count": 10,
   "id": "0f3a1578",
   "metadata": {
    "execution": {
     "iopub.execute_input": "2021-11-13T16:30:26.550746Z",
     "iopub.status.busy": "2021-11-13T16:30:26.549943Z",
     "iopub.status.idle": "2021-11-13T16:30:26.802383Z",
     "shell.execute_reply": "2021-11-13T16:30:26.802996Z",
     "shell.execute_reply.started": "2021-11-13T16:18:19.345253Z"
    },
    "papermill": {
     "duration": 0.304318,
     "end_time": "2021-11-13T16:30:26.803171",
     "exception": false,
     "start_time": "2021-11-13T16:30:26.498853",
     "status": "completed"
    },
    "tags": []
   },
   "outputs": [
    {
     "data": {
      "text/plain": [
       "<AxesSubplot:>"
      ]
     },
     "execution_count": 10,
     "metadata": {},
     "output_type": "execute_result"
    },
    {
     "data": {
      "image/png": "[encoded data removed]",
      "text/plain": [
       "<Figure size 432x288 with 1 Axes>"
      ]
     },
     "metadata": {
      "needs_background": "light"
     },
     "output_type": "display_data"
    }
   ],
   "source": [
    "df.target.value_counts().plot.barh()"
   ]
  },
  {
   "cell_type": "code",
   "execution_count": null,
   "id": "fecc1748",
   "metadata": {
    "papermill": {
     "duration": 0.04922,
     "end_time": "2021-11-13T16:30:26.902951",
     "exception": false,
     "start_time": "2021-11-13T16:30:26.853731",
     "status": "completed"
    },
    "tags": []
   },
   "outputs": [],
   "source": []
  },
  {
   "cell_type": "markdown",
   "id": "99e6912d",
   "metadata": {
    "papermill": {
     "duration": 0.050145,
     "end_time": "2021-11-13T16:30:27.001906",
     "exception": false,
     "start_time": "2021-11-13T16:30:26.951761",
     "status": "completed"
    },
    "tags": []
   },
   "source": [
    "## Preprocess Text"
   ]
  },
  {
   "cell_type": "markdown",
   "id": "873e1e18",
   "metadata": {
    "papermill": {
     "duration": 0.051178,
     "end_time": "2021-11-13T16:30:27.103671",
     "exception": false,
     "start_time": "2021-11-13T16:30:27.052493",
     "status": "completed"
    },
    "tags": []
   },
   "source": [
    "<img src=\"https://i.ibb.co/Prrpgxg/nlp-preproc.png\" />"
   ]
  },
  {
   "cell_type": "code",
   "execution_count": 11,
   "id": "1af7dda6",
   "metadata": {
    "execution": {
     "iopub.execute_input": "2021-11-13T16:30:27.424715Z",
     "iopub.status.busy": "2021-11-13T16:30:27.204257Z",
     "iopub.status.idle": "2021-11-13T16:30:27.428064Z",
     "shell.execute_reply": "2021-11-13T16:30:27.427513Z",
     "shell.execute_reply.started": "2021-11-13T16:18:19.547544Z"
    },
    "papermill": {
     "duration": 0.274767,
     "end_time": "2021-11-13T16:30:27.428223",
     "exception": false,
     "start_time": "2021-11-13T16:30:27.153456",
     "status": "completed"
    },
    "tags": []
   },
   "outputs": [],
   "source": [
    "class TextPreprocessor(TransformerMixin):\n",
    "    def __init__(self, text_attribute):\n",
    "        self.text_attribute = text_attribute\n",
    "        \n",
    "    def transform(self, X, *_):\n",
    "        X_copy = X.copy()\n",
    "        X_copy[self.text_attribute] = X_copy[self.text_attribute].apply(self._preprocess_text)\n",
    "        return X_copy\n",
    "    \n",
    "    def _preprocess_text(self, text):\n",
    "        return self._lemmatize(self._leave_letters_only(self._clean(text)))\n",
    "    \n",
    "    def _clean(self, text):\n",
    "        bad_symbols = '!\"#%&\\'*+,-<=>?[\\\\]^_`{|}~'\n",
    "        text_without_symbols = text.translate(str.maketrans('', '', bad_symbols))\n",
    "\n",
    "        text_without_bad_words = ''\n",
    "        for line in text_without_symbols.split('\\n'):\n",
    "            if not line.lower().startswith('from:') and not line.lower().endswith('writes:'):\n",
    "                text_without_bad_words += line + '\\n'\n",
    "\n",
    "        clean_text = text_without_bad_words\n",
    "        email_regex = r'([a-zA-Z0-9_.+-]+@[a-zA-Z0-9-]+\\.[a-zA-Z0-9-.]+)'\n",
    "        regexes_to_remove = [email_regex, r'Subject:', r'Re:']\n",
    "        for r in regexes_to_remove:\n",
    "            clean_text = re.sub(r, '', clean_text)\n",
    "\n",
    "        return clean_text\n",
    "    \n",
    "    def _leave_letters_only(self, text):\n",
    "        text_without_punctuation = text.translate(str.maketrans('', '', string.punctuation))\n",
    "        return ' '.join(re.findall(\"[a-zA-Z]+\", text_without_punctuation))\n",
    "    \n",
    "    def _lemmatize(self, text):\n",
    "        doc = nlp(text)\n",
    "        words = [x.lemma_ for x in [y for y in doc if not y.is_stop and y.pos_ != 'PUNCT' \n",
    "                                    and y.pos_ != 'PART' and y.pos_ != 'X']]\n",
    "        return ' '.join(words)\n",
    "    \n",
    "    def fit(self, *_):\n",
    "        return self"
   ]
  },
  {
   "cell_type": "code",
   "execution_count": 12,
   "id": "f2533c6a",
   "metadata": {
    "execution": {
     "iopub.execute_input": "2021-11-13T16:30:27.529044Z",
     "iopub.status.busy": "2021-11-13T16:30:27.528307Z",
     "iopub.status.idle": "2021-11-13T16:35:49.071149Z",
     "shell.execute_reply": "2021-11-13T16:35:49.070547Z",
     "shell.execute_reply.started": "2021-11-13T16:18:19.765174Z"
    },
    "papermill": {
     "duration": 321.593986,
     "end_time": "2021-11-13T16:35:49.071308",
     "exception": false,
     "start_time": "2021-11-13T16:30:27.477322",
     "status": "completed"
    },
    "tags": []
   },
   "outputs": [],
   "source": [
    "text_preprocessor = TextPreprocessor(text_attribute='text')\n",
    "df_preprocessed = text_preprocessor.transform(df)"
   ]
  },
  {
   "cell_type": "markdown",
   "id": "ff12ec1a",
   "metadata": {
    "papermill": {
     "duration": 0.046798,
     "end_time": "2021-11-13T16:35:49.165786",
     "exception": false,
     "start_time": "2021-11-13T16:35:49.118988",
     "status": "completed"
    },
    "tags": []
   },
   "source": [
    "## Feature extraction & Split for Train & Test"
   ]
  },
  {
   "cell_type": "code",
   "execution_count": 13,
   "id": "f4b0fc42",
   "metadata": {
    "execution": {
     "iopub.execute_input": "2021-11-13T16:35:49.265089Z",
     "iopub.status.busy": "2021-11-13T16:35:49.264117Z",
     "iopub.status.idle": "2021-11-13T16:35:49.273779Z",
     "shell.execute_reply": "2021-11-13T16:35:49.274259Z",
     "shell.execute_reply.started": "2021-11-13T16:23:36.267190Z"
    },
    "papermill": {
     "duration": 0.061526,
     "end_time": "2021-11-13T16:35:49.274435",
     "exception": false,
     "start_time": "2021-11-13T16:35:49.212909",
     "status": "completed"
    },
    "tags": []
   },
   "outputs": [],
   "source": [
    "train, test = train_test_split(df_preprocessed, test_size=0.3)"
   ]
  },
  {
   "cell_type": "code",
   "execution_count": 14,
   "id": "5aae360e",
   "metadata": {
    "execution": {
     "iopub.execute_input": "2021-11-13T16:35:49.416251Z",
     "iopub.status.busy": "2021-11-13T16:35:49.405734Z",
     "iopub.status.idle": "2021-11-13T16:35:50.219235Z",
     "shell.execute_reply": "2021-11-13T16:35:50.218525Z",
     "shell.execute_reply.started": "2021-11-13T16:23:36.278651Z"
    },
    "papermill": {
     "duration": 0.897559,
     "end_time": "2021-11-13T16:35:50.219382",
     "exception": false,
     "start_time": "2021-11-13T16:35:49.321823",
     "status": "completed"
    },
    "tags": []
   },
   "outputs": [],
   "source": [
    "#Vectorize data\n",
    "\n",
    "tfidf_vectorizer = TfidfVectorizer(analyzer = \"word\", max_features=10000)\n",
    "\n",
    "X_tfidf_train = tfidf_vectorizer.fit_transform(train['text'])\n",
    "X_tfidf_test = tfidf_vectorizer.transform(test['text'])"
   ]
  },
  {
   "cell_type": "code",
   "execution_count": 15,
   "id": "6a6b834b",
   "metadata": {
    "execution": {
     "iopub.execute_input": "2021-11-13T16:35:50.324797Z",
     "iopub.status.busy": "2021-11-13T16:35:50.324103Z",
     "iopub.status.idle": "2021-11-13T16:35:50.326388Z",
     "shell.execute_reply": "2021-11-13T16:35:50.326984Z",
     "shell.execute_reply.started": "2021-11-13T16:23:37.139502Z"
    },
    "papermill": {
     "duration": 0.057169,
     "end_time": "2021-11-13T16:35:50.327244",
     "exception": false,
     "start_time": "2021-11-13T16:35:50.270075",
     "status": "completed"
    },
    "tags": []
   },
   "outputs": [],
   "source": [
    "y = train['target']\n",
    "y_test = test['target']"
   ]
  },
  {
   "cell_type": "code",
   "execution_count": 16,
   "id": "f40a8907",
   "metadata": {
    "execution": {
     "iopub.execute_input": "2021-11-13T16:35:50.428149Z",
     "iopub.status.busy": "2021-11-13T16:35:50.427421Z",
     "iopub.status.idle": "2021-11-13T16:35:50.429369Z",
     "shell.execute_reply": "2021-11-13T16:35:50.430036Z",
     "shell.execute_reply.started": "2021-11-13T16:23:37.148321Z"
    },
    "papermill": {
     "duration": 0.055116,
     "end_time": "2021-11-13T16:35:50.430203",
     "exception": false,
     "start_time": "2021-11-13T16:35:50.375087",
     "status": "completed"
    },
    "tags": []
   },
   "outputs": [],
   "source": [
    "X, y = X_tfidf_train, y\n",
    "X_test, y_test = X_tfidf_test, y_test"
   ]
  },
  {
   "cell_type": "markdown",
   "id": "c575023c",
   "metadata": {
    "papermill": {
     "duration": 0.047362,
     "end_time": "2021-11-13T16:35:50.528196",
     "exception": false,
     "start_time": "2021-11-13T16:35:50.480834",
     "status": "completed"
    },
    "tags": []
   },
   "source": [
    "## Feature Scaling"
   ]
  },
  {
   "cell_type": "code",
   "execution_count": 17,
   "id": "891e7f38",
   "metadata": {
    "execution": {
     "iopub.execute_input": "2021-11-13T16:35:50.626807Z",
     "iopub.status.busy": "2021-11-13T16:35:50.626154Z",
     "iopub.status.idle": "2021-11-13T16:35:52.436283Z",
     "shell.execute_reply": "2021-11-13T16:35:52.436858Z",
     "shell.execute_reply.started": "2021-11-13T16:23:37.159243Z"
    },
    "papermill": {
     "duration": 1.861039,
     "end_time": "2021-11-13T16:35:52.437041",
     "exception": false,
     "start_time": "2021-11-13T16:35:50.576002",
     "status": "completed"
    },
    "tags": []
   },
   "outputs": [],
   "source": [
    "scaler = MinMaxScaler()\n",
    "X_norm = scaler.fit_transform(X.toarray())\n",
    "X_test_norm = scaler.transform(X_test.toarray())"
   ]
  },
  {
   "cell_type": "markdown",
   "id": "bb1c2bd2",
   "metadata": {
    "papermill": {
     "duration": 0.048222,
     "end_time": "2021-11-13T16:35:52.535189",
     "exception": false,
     "start_time": "2021-11-13T16:35:52.486967",
     "status": "completed"
    },
    "tags": []
   },
   "source": [
    "## Feature Selection"
   ]
  },
  {
   "cell_type": "code",
   "execution_count": 18,
   "id": "7b84dba1",
   "metadata": {
    "execution": {
     "iopub.execute_input": "2021-11-13T16:35:52.636515Z",
     "iopub.status.busy": "2021-11-13T16:35:52.635770Z",
     "iopub.status.idle": "2021-11-13T16:35:54.873840Z",
     "shell.execute_reply": "2021-11-13T16:35:54.873233Z",
     "shell.execute_reply.started": "2021-11-13T16:23:38.936200Z"
    },
    "papermill": {
     "duration": 2.289437,
     "end_time": "2021-11-13T16:35:54.873981",
     "exception": false,
     "start_time": "2021-11-13T16:35:52.584544",
     "status": "completed"
    },
    "tags": []
   },
   "outputs": [
    {
     "name": "stderr",
     "output_type": "stream",
     "text": [
      "/opt/conda/lib/python3.7/site-packages/sklearn/svm/_base.py:977: ConvergenceWarning: Liblinear failed to converge, increase the number of iterations.\n",
      "  \"the number of iterations.\", ConvergenceWarning)\n"
     ]
    }
   ],
   "source": [
    "lsvc = LinearSVC(C=100, penalty='l1', max_iter=500, dual=False)\n",
    "lsvc.fit(X_norm, y)\n",
    "fs = SelectFromModel(lsvc, prefit=True)\n",
    "X_sel = fs.transform(X_norm)\n",
    "X_test_sel = fs.transform(X_test_norm)\n"
   ]
  },
  {
   "cell_type": "code",
   "execution_count": 19,
   "id": "892031e9",
   "metadata": {
    "execution": {
     "iopub.execute_input": "2021-11-13T16:35:54.975363Z",
     "iopub.status.busy": "2021-11-13T16:35:54.974265Z",
     "iopub.status.idle": "2021-11-13T16:35:54.980107Z",
     "shell.execute_reply": "2021-11-13T16:35:54.980694Z",
     "shell.execute_reply.started": "2021-11-13T16:23:40.982075Z"
    },
    "papermill": {
     "duration": 0.058823,
     "end_time": "2021-11-13T16:35:54.980863",
     "exception": false,
     "start_time": "2021-11-13T16:35:54.922040",
     "status": "completed"
    },
    "tags": []
   },
   "outputs": [],
   "source": [
    "from IPython.display import Markdown, display\n",
    "\n",
    "def show_top10_features(classifier, feature_names, categories):\n",
    "    for i, category in enumerate(categories):\n",
    "        top10 = np.argsort(classifier.coef_[0, i])[-100:]\n",
    "        display(Markdown(\"**%s**: %s\" % (category, \", \".join(feature_names[top10]))))"
   ]
  },
  {
   "cell_type": "code",
   "execution_count": 20,
   "id": "08850fd7",
   "metadata": {
    "execution": {
     "iopub.execute_input": "2021-11-13T16:35:55.081975Z",
     "iopub.status.busy": "2021-11-13T16:35:55.080916Z",
     "iopub.status.idle": "2021-11-13T16:35:55.107958Z",
     "shell.execute_reply": "2021-11-13T16:35:55.108524Z",
     "shell.execute_reply.started": "2021-11-13T16:23:40.989400Z"
    },
    "papermill": {
     "duration": 0.079371,
     "end_time": "2021-11-13T16:35:55.108696",
     "exception": false,
     "start_time": "2021-11-13T16:35:55.029325",
     "status": "completed"
    },
    "tags": []
   },
   "outputs": [
    {
     "data": {
      "text/markdown": [
       "**non-suicide**: aa"
      ],
      "text/plain": [
       "<IPython.core.display.Markdown object>"
      ]
     },
     "metadata": {},
     "output_type": "display_data"
    },
    {
     "data": {
      "text/markdown": [
       "**suicide**: aa"
      ],
      "text/plain": [
       "<IPython.core.display.Markdown object>"
      ]
     },
     "metadata": {},
     "output_type": "display_data"
    }
   ],
   "source": [
    "feature_names = np.array(tfidf_vectorizer.get_feature_names())\n",
    "show_top10_features(lsvc, feature_names, lsvc.classes_)"
   ]
  },
  {
   "cell_type": "code",
   "execution_count": 21,
   "id": "b08b904f",
   "metadata": {
    "execution": {
     "iopub.execute_input": "2021-11-13T16:35:55.210077Z",
     "iopub.status.busy": "2021-11-13T16:35:55.209091Z",
     "iopub.status.idle": "2021-11-13T16:35:55.215210Z",
     "shell.execute_reply": "2021-11-13T16:35:55.215754Z",
     "shell.execute_reply.started": "2021-11-13T16:23:41.023942Z"
    },
    "papermill": {
     "duration": 0.058628,
     "end_time": "2021-11-13T16:35:55.215925",
     "exception": false,
     "start_time": "2021-11-13T16:35:55.157297",
     "status": "completed"
    },
    "tags": []
   },
   "outputs": [
    {
     "name": "stdout",
     "output_type": "stream",
     "text": [
      "New dataset shape:  (8122, 2956)\n",
      "Features reducted:  7044\n"
     ]
    }
   ],
   "source": [
    "print(\"New dataset shape: \", X_sel.shape)\n",
    "print(\"Features reducted: \", X_norm.shape[1] - X_sel.shape[1])"
   ]
  },
  {
   "cell_type": "markdown",
   "id": "cac1f359",
   "metadata": {
    "papermill": {
     "duration": 0.049383,
     "end_time": "2021-11-13T16:35:55.315384",
     "exception": false,
     "start_time": "2021-11-13T16:35:55.266001",
     "status": "completed"
    },
    "tags": []
   },
   "source": [
    "## Predictive Models"
   ]
  },
  {
   "cell_type": "code",
   "execution_count": 22,
   "id": "7f09c644",
   "metadata": {
    "execution": {
     "iopub.execute_input": "2021-11-13T16:35:55.423257Z",
     "iopub.status.busy": "2021-11-13T16:35:55.422211Z",
     "iopub.status.idle": "2021-11-13T16:35:55.426719Z",
     "shell.execute_reply": "2021-11-13T16:35:55.427175Z",
     "shell.execute_reply.started": "2021-11-13T16:23:41.030868Z"
    },
    "papermill": {
     "duration": 0.06281,
     "end_time": "2021-11-13T16:35:55.427348",
     "exception": false,
     "start_time": "2021-11-13T16:35:55.364538",
     "status": "completed"
    },
    "tags": []
   },
   "outputs": [],
   "source": [
    "# Evaluation matrix \n",
    "\n",
    "# this snippet was taken from https://gist.github.com/shaypal5/94c53d765083101efc0240d776a23823\n",
    "\n",
    "from sklearn.model_selection import train_test_split\n",
    "from sklearn.metrics import confusion_matrix\n",
    "from sklearn.utils.multiclass import unique_labels\n",
    "\n",
    "import pandas as pd\n",
    "import matplotlib.pyplot as plt\n",
    "import seaborn as sns\n",
    "\n",
    "def print_confusion_matrix(confusion_matrix, \n",
    "                           class_names, \n",
    "                           figsize = (15,15), \n",
    "                           fontsize=12,\n",
    "                           ylabel='True label',\n",
    "                           xlabel='Predicted label'):\n",
    "    \"\"\"Prints a confusion matrix, as returned by sklearn.metrics.confusion_matrix, as a heatmap.\n",
    "    \n",
    "    Arguments\n",
    "    ---------\n",
    "    confusion_matrix: numpy.ndarray\n",
    "        The numpy.ndarray object returned from a call to sklearn.metrics.confusion_matrix. \n",
    "        Similarly constructed ndarrays can also be used.\n",
    "    class_names: list\n",
    "        An ordered list of class names, in the order they index the given confusion matrix.\n",
    "    figsize: tuple\n",
    "        A 2-long tuple, the first value determining the horizontal size of the ouputted figure,\n",
    "        the second determining the vertical size. Defaults to (10,7).\n",
    "    fontsize: int\n",
    "        Font size for axes labels. Defaults to 14.\n",
    "        \n",
    "    Returns\n",
    "    -------\n",
    "    matplotlib.figure.Figure\n",
    "        The resulting confusion matrix figure\n",
    "    \"\"\"\n",
    "    df_cm = pd.DataFrame(\n",
    "        confusion_matrix, index=class_names, columns=class_names, \n",
    "    )\n",
    "    fig = plt.figure(figsize=figsize)\n",
    "    try:\n",
    "        heatmap = sns.heatmap(df_cm, annot=True, fmt=\"d\")\n",
    "    except ValueError:\n",
    "        raise ValueError(\"Confusion matrix values must be integers.\")\n",
    "    heatmap.yaxis.set_ticklabels(heatmap.yaxis.get_ticklabels(), rotation=0, ha='right', fontsize=fontsize)\n",
    "    heatmap.xaxis.set_ticklabels(heatmap.xaxis.get_ticklabels(), rotation=45, ha='right', fontsize=fontsize)\n",
    "    plt.ylabel(ylabel)\n",
    "    plt.xlabel(xlabel)"
   ]
  },
  {
   "cell_type": "code",
   "execution_count": 23,
   "id": "b8940992",
   "metadata": {
    "execution": {
     "iopub.execute_input": "2021-11-13T16:35:55.536123Z",
     "iopub.status.busy": "2021-11-13T16:35:55.535021Z",
     "iopub.status.idle": "2021-11-13T16:35:55.536942Z",
     "shell.execute_reply": "2021-11-13T16:35:55.537437Z",
     "shell.execute_reply.started": "2021-11-13T16:23:41.043756Z"
    },
    "papermill": {
     "duration": 0.061077,
     "end_time": "2021-11-13T16:35:55.537618",
     "exception": false,
     "start_time": "2021-11-13T16:35:55.476541",
     "status": "completed"
    },
    "tags": []
   },
   "outputs": [],
   "source": [
    "def evaluate_model(model, X, y, X_test, y_test, target_names=None):\n",
    "    scores = cross_val_score(model, X, y, cv=5, scoring='accuracy')\n",
    "    scores_test = cross_val_score(model, X_test, y_test, cv=5, scoring='accuracy')\n",
    "    \n",
    "    print(\"Accuracy: %0.2f (+/- %0.2f)\" % (scores.mean(), scores.std()))\n",
    "    print(\"Accuracy test: %0.2f (+/- %0.2f)\" % (scores_test.mean(), scores_test.std()))\n",
    "    \n",
    "    print(\"Test classification report: \")\n",
    "    if target_names is None:\n",
    "        target_names = model.classes_\n",
    "    print(classification_report(y_test, model.predict(X_test), target_names=target_names))\n",
    "    print(\"Test confusion matrix: \")\n",
    "    print_confusion_matrix(confusion_matrix(y_test, model.predict(X_test)), class_names=target_names)"
   ]
  },
  {
   "cell_type": "code",
   "execution_count": null,
   "id": "7054e51e",
   "metadata": {
    "papermill": {
     "duration": 0.048383,
     "end_time": "2021-11-13T16:35:55.634925",
     "exception": false,
     "start_time": "2021-11-13T16:35:55.586542",
     "status": "completed"
    },
    "tags": []
   },
   "outputs": [],
   "source": []
  },
  {
   "cell_type": "markdown",
   "id": "cf6b8582",
   "metadata": {
    "papermill": {
     "duration": 0.048568,
     "end_time": "2021-11-13T16:35:55.732415",
     "exception": false,
     "start_time": "2021-11-13T16:35:55.683847",
     "status": "completed"
    },
    "tags": []
   },
   "source": [
    "## Multinomial Naive Bayes"
   ]
  },
  {
   "cell_type": "code",
   "execution_count": 24,
   "id": "dcbd60e1",
   "metadata": {
    "execution": {
     "iopub.execute_input": "2021-11-13T16:35:55.838456Z",
     "iopub.status.busy": "2021-11-13T16:35:55.836869Z",
     "iopub.status.idle": "2021-11-13T16:35:58.435161Z",
     "shell.execute_reply": "2021-11-13T16:35:58.435669Z",
     "shell.execute_reply.started": "2021-11-13T16:23:41.060538Z"
    },
    "papermill": {
     "duration": 2.654459,
     "end_time": "2021-11-13T16:35:58.435853",
     "exception": false,
     "start_time": "2021-11-13T16:35:55.781394",
     "status": "completed"
    },
    "tags": []
   },
   "outputs": [
    {
     "name": "stdout",
     "output_type": "stream",
     "text": [
      "Accuracy: 0.90 (+/- 0.01)\n",
      "Accuracy test: 0.86 (+/- 0.01)\n",
      "Test classification report: \n",
      "              precision    recall  f1-score   support\n",
      "\n",
      " non-suicide       0.93      0.81      0.87      1766\n",
      "     suicide       0.83      0.94      0.88      1716\n",
      "\n",
      "    accuracy                           0.88      3482\n",
      "   macro avg       0.88      0.88      0.88      3482\n",
      "weighted avg       0.88      0.88      0.87      3482\n",
      "\n",
      "Test confusion matrix: \n"
     ]
    },
    {
     "data": {
      "image/png": "[encoded data removed]",
      "text/plain": [
       "<Figure size 1080x1080 with 2 Axes>"
      ]
     },
     "metadata": {
      "needs_background": "light"
     },
     "output_type": "display_data"
    }
   ],
   "source": [
    "mb = MultinomialNB()\n",
    "mb.fit(X_sel, y)\n",
    "evaluate_model(mb, X_sel, y, X_test_sel, y_test)\n",
    "\n",
    "\n",
    "#save model\n",
    "pickle.dump(mb, open(\"MultinomialNB_Text_classification\", 'wb')) #90%\n"
   ]
  },
  {
   "cell_type": "markdown",
   "id": "e20e0623",
   "metadata": {
    "papermill": {
     "duration": 0.051389,
     "end_time": "2021-11-13T16:35:58.538536",
     "exception": false,
     "start_time": "2021-11-13T16:35:58.487147",
     "status": "completed"
    },
    "tags": []
   },
   "source": [
    "## Complement Naive Bayes"
   ]
  },
  {
   "cell_type": "code",
   "execution_count": 25,
   "id": "bafb623e",
   "metadata": {
    "execution": {
     "iopub.execute_input": "2021-11-13T16:35:58.648768Z",
     "iopub.status.busy": "2021-11-13T16:35:58.646375Z",
     "iopub.status.idle": "2021-11-13T16:36:01.169306Z",
     "shell.execute_reply": "2021-11-13T16:36:01.168650Z",
     "shell.execute_reply.started": "2021-11-13T16:23:43.530343Z"
    },
    "papermill": {
     "duration": 2.577166,
     "end_time": "2021-11-13T16:36:01.169445",
     "exception": false,
     "start_time": "2021-11-13T16:35:58.592279",
     "status": "completed"
    },
    "tags": []
   },
   "outputs": [
    {
     "name": "stdout",
     "output_type": "stream",
     "text": [
      "Accuracy: 0.90 (+/- 0.01)\n",
      "Accuracy test: 0.85 (+/- 0.01)\n",
      "Test classification report: \n",
      "              precision    recall  f1-score   support\n",
      "\n",
      " non-suicide       0.94      0.81      0.87      1766\n",
      "     suicide       0.83      0.94      0.88      1716\n",
      "\n",
      "    accuracy                           0.87      3482\n",
      "   macro avg       0.88      0.88      0.87      3482\n",
      "weighted avg       0.88      0.87      0.87      3482\n",
      "\n",
      "Test confusion matrix: \n"
     ]
    },
    {
     "data": {
      "image/png": "[encoded data removed]",
      "text/plain": [
       "<Figure size 1080x1080 with 2 Axes>"
      ]
     },
     "metadata": {
      "needs_background": "light"
     },
     "output_type": "display_data"
    }
   ],
   "source": [
    "cb = ComplementNB()\n",
    "cb.fit(X_sel, y)\n",
    "evaluate_model(cb, X_sel, y, X_test_sel, y_test)\n",
    "\n",
    "#save model\n",
    "pickle.dump(cb, open(\"ComplementNB_Text_classification\", 'wb')) #90%\n"
   ]
  },
  {
   "cell_type": "markdown",
   "id": "17b179a2",
   "metadata": {
    "papermill": {
     "duration": 0.05339,
     "end_time": "2021-11-13T16:36:01.276063",
     "exception": false,
     "start_time": "2021-11-13T16:36:01.222673",
     "status": "completed"
    },
    "tags": []
   },
   "source": [
    "## Logistic Regression"
   ]
  },
  {
   "cell_type": "code",
   "execution_count": 26,
   "id": "f965f18c",
   "metadata": {
    "execution": {
     "iopub.execute_input": "2021-11-13T16:36:01.389705Z",
     "iopub.status.busy": "2021-11-13T16:36:01.388996Z",
     "iopub.status.idle": "2021-11-13T16:36:04.733210Z",
     "shell.execute_reply": "2021-11-13T16:36:04.733746Z",
     "shell.execute_reply.started": "2021-11-13T16:23:46.069709Z"
    },
    "papermill": {
     "duration": 3.404382,
     "end_time": "2021-11-13T16:36:04.733920",
     "exception": false,
     "start_time": "2021-11-13T16:36:01.329538",
     "status": "completed"
    },
    "tags": []
   },
   "outputs": [
    {
     "name": "stdout",
     "output_type": "stream",
     "text": [
      "Accuracy: 0.92 (+/- 0.00)\n",
      "Accuracy test: 0.89 (+/- 0.01)\n",
      "Test classification report: \n",
      "              precision    recall  f1-score   support\n",
      "\n",
      " non-suicide       0.89      0.90      0.90      1766\n",
      "     suicide       0.90      0.89      0.89      1716\n",
      "\n",
      "    accuracy                           0.90      3482\n",
      "   macro avg       0.90      0.90      0.90      3482\n",
      "weighted avg       0.90      0.90      0.90      3482\n",
      "\n",
      "Test confusion matrix: \n"
     ]
    },
    {
     "data": {
      "image/png": "[encoded data removed]",
      "text/plain": [
       "<Figure size 1080x1080 with 2 Axes>"
      ]
     },
     "metadata": {
      "needs_background": "light"
     },
     "output_type": "display_data"
    }
   ],
   "source": [
    "lr = LogisticRegression(multi_class='ovr', solver = 'liblinear', C=10, penalty = 'l2')\n",
    "lr.fit(X_sel, y)\n",
    "evaluate_model(lr, X_sel, y, X_test_sel, y_test)\n",
    "\n",
    "#save model\n",
    "pickle.dump(lr, open(\"LogisticRegression_Text_classification\", 'wb')) #92%\n"
   ]
  },
  {
   "cell_type": "markdown",
   "id": "42de99a1",
   "metadata": {
    "papermill": {
     "duration": 0.055179,
     "end_time": "2021-11-13T16:36:04.843297",
     "exception": false,
     "start_time": "2021-11-13T16:36:04.788118",
     "status": "completed"
    },
    "tags": []
   },
   "source": [
    "## Linear SVC"
   ]
  },
  {
   "cell_type": "code",
   "execution_count": 27,
   "id": "28131c20",
   "metadata": {
    "execution": {
     "iopub.execute_input": "2021-11-13T16:36:04.960811Z",
     "iopub.status.busy": "2021-11-13T16:36:04.959617Z",
     "iopub.status.idle": "2021-11-13T16:36:14.746674Z",
     "shell.execute_reply": "2021-11-13T16:36:14.747194Z",
     "shell.execute_reply.started": "2021-11-13T16:23:49.271334Z"
    },
    "papermill": {
     "duration": 9.848697,
     "end_time": "2021-11-13T16:36:14.747366",
     "exception": false,
     "start_time": "2021-11-13T16:36:04.898669",
     "status": "completed"
    },
    "tags": []
   },
   "outputs": [
    {
     "name": "stderr",
     "output_type": "stream",
     "text": [
      "/opt/conda/lib/python3.7/site-packages/sklearn/svm/_base.py:977: ConvergenceWarning: Liblinear failed to converge, increase the number of iterations.\n",
      "  \"the number of iterations.\", ConvergenceWarning)\n",
      "/opt/conda/lib/python3.7/site-packages/sklearn/svm/_base.py:977: ConvergenceWarning: Liblinear failed to converge, increase the number of iterations.\n",
      "  \"the number of iterations.\", ConvergenceWarning)\n",
      "/opt/conda/lib/python3.7/site-packages/sklearn/svm/_base.py:977: ConvergenceWarning: Liblinear failed to converge, increase the number of iterations.\n",
      "  \"the number of iterations.\", ConvergenceWarning)\n",
      "/opt/conda/lib/python3.7/site-packages/sklearn/svm/_base.py:977: ConvergenceWarning: Liblinear failed to converge, increase the number of iterations.\n",
      "  \"the number of iterations.\", ConvergenceWarning)\n",
      "/opt/conda/lib/python3.7/site-packages/sklearn/svm/_base.py:977: ConvergenceWarning: Liblinear failed to converge, increase the number of iterations.\n",
      "  \"the number of iterations.\", ConvergenceWarning)\n",
      "/opt/conda/lib/python3.7/site-packages/sklearn/svm/_base.py:977: ConvergenceWarning: Liblinear failed to converge, increase the number of iterations.\n",
      "  \"the number of iterations.\", ConvergenceWarning)\n",
      "/opt/conda/lib/python3.7/site-packages/sklearn/svm/_base.py:977: ConvergenceWarning: Liblinear failed to converge, increase the number of iterations.\n",
      "  \"the number of iterations.\", ConvergenceWarning)\n",
      "/opt/conda/lib/python3.7/site-packages/sklearn/svm/_base.py:977: ConvergenceWarning: Liblinear failed to converge, increase the number of iterations.\n",
      "  \"the number of iterations.\", ConvergenceWarning)\n",
      "/opt/conda/lib/python3.7/site-packages/sklearn/svm/_base.py:977: ConvergenceWarning: Liblinear failed to converge, increase the number of iterations.\n",
      "  \"the number of iterations.\", ConvergenceWarning)\n",
      "/opt/conda/lib/python3.7/site-packages/sklearn/svm/_base.py:977: ConvergenceWarning: Liblinear failed to converge, increase the number of iterations.\n",
      "  \"the number of iterations.\", ConvergenceWarning)\n",
      "/opt/conda/lib/python3.7/site-packages/sklearn/svm/_base.py:977: ConvergenceWarning: Liblinear failed to converge, increase the number of iterations.\n",
      "  \"the number of iterations.\", ConvergenceWarning)\n"
     ]
    },
    {
     "name": "stdout",
     "output_type": "stream",
     "text": [
      "Accuracy: 0.90 (+/- 0.01)\n",
      "Accuracy test: 0.84 (+/- 0.02)\n",
      "Test classification report: \n",
      "              precision    recall  f1-score   support\n",
      "\n",
      " non-suicide       0.88      0.85      0.87      1766\n",
      "     suicide       0.85      0.88      0.87      1716\n",
      "\n",
      "    accuracy                           0.87      3482\n",
      "   macro avg       0.87      0.87      0.87      3482\n",
      "weighted avg       0.87      0.87      0.87      3482\n",
      "\n",
      "Test confusion matrix: \n"
     ]
    },
    {
     "data": {
      "image/png": "[encoded data removed]",
      "text/plain": [
       "<Figure size 1080x1080 with 2 Axes>"
      ]
     },
     "metadata": {
      "needs_background": "light"
     },
     "output_type": "display_data"
    }
   ],
   "source": [
    "lsvc = LinearSVC(C=1000, penalty='l1', max_iter=500, dual=False)\n",
    "lsvc.fit(X_sel, y)\n",
    "evaluate_model(lsvc, X_sel, y, X_test_sel, y_test)\n",
    "\n",
    "#save model\n",
    "pickle.dump(lsvc, open(\"LinearSVC_Text_classification\", 'wb')) #90%\n"
   ]
  },
  {
   "cell_type": "markdown",
   "id": "cab2c0e1",
   "metadata": {
    "papermill": {
     "duration": 0.059491,
     "end_time": "2021-11-13T16:36:14.867267",
     "exception": false,
     "start_time": "2021-11-13T16:36:14.807776",
     "status": "completed"
    },
    "tags": []
   },
   "source": [
    "## SGDClaccifier"
   ]
  },
  {
   "cell_type": "code",
   "execution_count": 28,
   "id": "200671ec",
   "metadata": {
    "execution": {
     "iopub.execute_input": "2021-11-13T16:36:14.993595Z",
     "iopub.status.busy": "2021-11-13T16:36:14.992729Z",
     "iopub.status.idle": "2021-11-13T16:36:33.222747Z",
     "shell.execute_reply": "2021-11-13T16:36:33.221730Z",
     "shell.execute_reply.started": "2021-11-13T16:23:58.347262Z"
    },
    "papermill": {
     "duration": 18.295749,
     "end_time": "2021-11-13T16:36:33.222896",
     "exception": false,
     "start_time": "2021-11-13T16:36:14.927147",
     "status": "completed"
    },
    "tags": []
   },
   "outputs": [
    {
     "name": "stdout",
     "output_type": "stream",
     "text": [
      "Accuracy: 0.91 (+/- 0.00)\n",
      "Accuracy test: 0.89 (+/- 0.01)\n",
      "Test classification report: \n",
      "              precision    recall  f1-score   support\n",
      "\n",
      " non-suicide       0.89      0.93      0.91      1766\n",
      "     suicide       0.92      0.89      0.90      1716\n",
      "\n",
      "    accuracy                           0.91      3482\n",
      "   macro avg       0.91      0.91      0.91      3482\n",
      "weighted avg       0.91      0.91      0.91      3482\n",
      "\n",
      "Test confusion matrix: \n"
     ]
    },
    {
     "data": {
      "image/png": "[encoded data removed]",
      "text/plain": [
       "<Figure size 1080x1080 with 2 Axes>"
      ]
     },
     "metadata": {
      "needs_background": "light"
     },
     "output_type": "display_data"
    }
   ],
   "source": [
    "sgd = SGDClassifier(alpha=.0001, max_iter=50, loss='log',\n",
    "                                       penalty=\"elasticnet\", n_jobs=-1)\n",
    "sgd.fit(X_sel, y)\n",
    "evaluate_model(sgd, X_sel, y, X_test_sel, y_test)\n",
    "\n",
    "#save model\n",
    "pickle.dump(sgd, open(\"SGDClassifier_Text_classification\", 'wb')) #91%"
   ]
  },
  {
   "cell_type": "markdown",
   "id": "e1f4c044",
   "metadata": {
    "papermill": {
     "duration": 0.063164,
     "end_time": "2021-11-13T16:36:33.348190",
     "exception": false,
     "start_time": "2021-11-13T16:36:33.285026",
     "status": "completed"
    },
    "tags": []
   },
   "source": [
    "## Soft Voting"
   ]
  },
  {
   "cell_type": "code",
   "execution_count": 29,
   "id": "2ea02530",
   "metadata": {
    "execution": {
     "iopub.execute_input": "2021-11-13T16:36:33.475088Z",
     "iopub.status.busy": "2021-11-13T16:36:33.474407Z",
     "iopub.status.idle": "2021-11-13T16:36:56.467828Z",
     "shell.execute_reply": "2021-11-13T16:36:56.467260Z",
     "shell.execute_reply.started": "2021-11-13T16:24:14.408656Z"
    },
    "papermill": {
     "duration": 23.058406,
     "end_time": "2021-11-13T16:36:56.467977",
     "exception": false,
     "start_time": "2021-11-13T16:36:33.409571",
     "status": "completed"
    },
    "tags": []
   },
   "outputs": [
    {
     "name": "stdout",
     "output_type": "stream",
     "text": [
      "Accuracy: 0.93 (+/- 0.01)\n",
      "Accuracy test: 0.90 (+/- 0.01)\n",
      "Test classification report: \n",
      "              precision    recall  f1-score   support\n",
      "\n",
      " non-suicide       0.91      0.91      0.91      1766\n",
      "     suicide       0.90      0.90      0.90      1716\n",
      "\n",
      "    accuracy                           0.91      3482\n",
      "   macro avg       0.91      0.91      0.91      3482\n",
      "weighted avg       0.91      0.91      0.91      3482\n",
      "\n",
      "Test confusion matrix: \n"
     ]
    },
    {
     "data": {
      "image/png": "[encoded data removed]",
      "text/plain": [
       "<Figure size 1080x1080 with 2 Axes>"
      ]
     },
     "metadata": {
      "needs_background": "light"
     },
     "output_type": "display_data"
    }
   ],
   "source": [
    "vclf_sgd = VotingClassifier(estimators=[\n",
    "         ('lr', LogisticRegression(multi_class='ovr', solver = 'liblinear', C=10, penalty = 'l2')),\n",
    "        ('mb', MultinomialNB()),\n",
    "        ('sgd', SGDClassifier(alpha=.0001, max_iter=50, loss='log', penalty=\"elasticnet\"))\n",
    "], voting='soft', n_jobs=-1)\n",
    "vclf_sgd.fit(X_sel, y)\n",
    "evaluate_model(vclf_sgd, X_sel, y, X_test_sel, y_test)\n",
    "\n",
    "#save model\n",
    "pickle.dump(vclf_sgd, open(\"VotingClassifier_Text_classification\", 'wb')) #93%"
   ]
  },
  {
   "cell_type": "markdown",
   "id": "9c7c6a27",
   "metadata": {
    "papermill": {
     "duration": 0.064043,
     "end_time": "2021-11-13T16:36:56.596398",
     "exception": false,
     "start_time": "2021-11-13T16:36:56.532355",
     "status": "completed"
    },
    "tags": []
   },
   "source": [
    "# Create Pipeline"
   ]
  },
  {
   "cell_type": "code",
   "execution_count": 30,
   "id": "efaed215",
   "metadata": {
    "execution": {
     "iopub.execute_input": "2021-11-13T16:36:56.738337Z",
     "iopub.status.busy": "2021-11-13T16:36:56.737631Z",
     "iopub.status.idle": "2021-11-13T16:36:56.739340Z",
     "shell.execute_reply": "2021-11-13T16:36:56.739842Z",
     "shell.execute_reply.started": "2021-11-13T16:24:35.370254Z"
    },
    "papermill": {
     "duration": 0.079183,
     "end_time": "2021-11-13T16:36:56.740016",
     "exception": false,
     "start_time": "2021-11-13T16:36:56.660833",
     "status": "completed"
    },
    "tags": []
   },
   "outputs": [],
   "source": [
    "# Text Proccessing\n",
    "\n",
    "class TextPreprocessor(BaseEstimator, TransformerMixin):\n",
    "    def __init__(self, text_attribute):\n",
    "        self.text_attribute = text_attribute\n",
    "    \n",
    "    def fit(self, X, y=None):\n",
    "        return self\n",
    "        \n",
    "    def transform(self, X, *_):\n",
    "        X_copy = X.copy()\n",
    "        return X_copy[self.text_attribute].apply(self._preprocess_text)\n",
    "    \n",
    "    def _preprocess_text(self, text):\n",
    "        return self._lemmatize(self._leave_letters_only(self._clean(text)))\n",
    "    \n",
    "    def _clean(self, text):\n",
    "        bad_symbols = '!\"#%&\\'*+,-<=>?[\\\\]^_`{|}~'\n",
    "        text_without_symbols = text.translate(str.maketrans('', '', bad_symbols))\n",
    "\n",
    "        text_without_bad_words = ''\n",
    "        for line in text_without_symbols.split('\\n'):\n",
    "            if not line.lower().startswith('from:') and not line.lower().endswith('writes:'):\n",
    "                text_without_bad_words += line + '\\n'\n",
    "\n",
    "        clean_text = text_without_bad_words\n",
    "        email_regex = r'([a-zA-Z0-9_.+-]+@[a-zA-Z0-9-]+\\.[a-zA-Z0-9-.]+)'\n",
    "        regexes_to_remove = [email_regex, r'Subject:', r'Re:']\n",
    "        for r in regexes_to_remove:\n",
    "            clean_text = re.sub(r, '', clean_text)\n",
    "\n",
    "        return clean_text\n",
    "    \n",
    "    def _leave_letters_only(self, text):\n",
    "        text_without_punctuation = text.translate(str.maketrans('', '', string.punctuation))\n",
    "        return ' '.join(re.findall(\"[a-zA-Z]+\", text_without_punctuation))\n",
    "    \n",
    "    def _lemmatize(self, text):\n",
    "        doc = nlp(text)\n",
    "        words = [x.lemma_ for x in [y for y in doc if not y.is_stop and y.pos_ != 'PUNCT' \n",
    "                                    and y.pos_ != 'PART' and y.pos_ != 'X']]\n",
    "        return ' '.join(words)"
   ]
  },
  {
   "cell_type": "code",
   "execution_count": 31,
   "id": "d00e1c4d",
   "metadata": {
    "execution": {
     "iopub.execute_input": "2021-11-13T16:36:56.871244Z",
     "iopub.status.busy": "2021-11-13T16:36:56.870576Z",
     "iopub.status.idle": "2021-11-13T16:36:56.875122Z",
     "shell.execute_reply": "2021-11-13T16:36:56.875672Z",
     "shell.execute_reply.started": "2021-11-13T16:24:35.385341Z"
    },
    "papermill": {
     "duration": 0.071331,
     "end_time": "2021-11-13T16:36:56.875844",
     "exception": false,
     "start_time": "2021-11-13T16:36:56.804513",
     "status": "completed"
    },
    "tags": []
   },
   "outputs": [],
   "source": [
    "class DenseTransformer(TransformerMixin):\n",
    "\n",
    "    def fit(self, X, y=None, **fit_params):\n",
    "        return self\n",
    "\n",
    "    def transform(self, X, y=None, **fit_params):\n",
    "        return X.todense()"
   ]
  },
  {
   "cell_type": "code",
   "execution_count": 32,
   "id": "8f484116",
   "metadata": {
    "execution": {
     "iopub.execute_input": "2021-11-13T16:36:57.009605Z",
     "iopub.status.busy": "2021-11-13T16:36:57.008885Z",
     "iopub.status.idle": "2021-11-13T16:36:57.017225Z",
     "shell.execute_reply": "2021-11-13T16:36:57.016559Z",
     "shell.execute_reply.started": "2021-11-13T16:24:35.405301Z"
    },
    "papermill": {
     "duration": 0.076643,
     "end_time": "2021-11-13T16:36:57.017392",
     "exception": false,
     "start_time": "2021-11-13T16:36:56.940749",
     "status": "completed"
    },
    "tags": []
   },
   "outputs": [],
   "source": [
    "#Pipeline\n",
    "\n",
    "text_classification_pipeline = Pipeline([\n",
    "    ('text_preprocessor', TextPreprocessor(text_attribute='text')),\n",
    "    ('vectorizer', TfidfVectorizer(analyzer = \"word\", max_features=10000)),\n",
    "    ('todense_converter', DenseTransformer()),\n",
    "    ('scaler', MinMaxScaler()),\n",
    "    ('classifier', VotingClassifier(estimators=[\n",
    "                         ('lr', LogisticRegression(multi_class='ovr', solver = 'liblinear', C=10, penalty = 'l2')),\n",
    "                        ('mb', MultinomialNB()),\n",
    "                        ('sgd', SGDClassifier(alpha=.0001, max_iter=50, loss='log', penalty=\"elasticnet\"))\n",
    "                        ], \n",
    "                                    voting='soft', n_jobs=-1))\n",
    "     ])"
   ]
  },
  {
   "cell_type": "code",
   "execution_count": 33,
   "id": "40b5ab6b",
   "metadata": {
    "execution": {
     "iopub.execute_input": "2021-11-13T16:36:57.149621Z",
     "iopub.status.busy": "2021-11-13T16:36:57.148893Z",
     "iopub.status.idle": "2021-11-13T16:36:57.154787Z",
     "shell.execute_reply": "2021-11-13T16:36:57.155348Z",
     "shell.execute_reply.started": "2021-11-13T16:25:14.834653Z"
    },
    "papermill": {
     "duration": 0.074421,
     "end_time": "2021-11-13T16:36:57.155538",
     "exception": false,
     "start_time": "2021-11-13T16:36:57.081117",
     "status": "completed"
    },
    "tags": []
   },
   "outputs": [
    {
     "data": {
      "text/plain": [
       "['Suicide_text_classification.joblib']"
      ]
     },
     "execution_count": 33,
     "metadata": {},
     "output_type": "execute_result"
    }
   ],
   "source": [
    "#save Pipeline\n",
    "from joblib import dump\n",
    "\n",
    "# dump the pipeline model\n",
    "dump(text_classification_pipeline, filename=\"Suicide_text_classification.joblib\")"
   ]
  },
  {
   "cell_type": "markdown",
   "id": "7250256c",
   "metadata": {
    "papermill": {
     "duration": 0.063201,
     "end_time": "2021-11-13T16:36:57.283540",
     "exception": false,
     "start_time": "2021-11-13T16:36:57.220339",
     "status": "completed"
    },
    "tags": []
   },
   "source": [
    "### Test Pipeline on other dataset"
   ]
  },
  {
   "cell_type": "code",
   "execution_count": 34,
   "id": "7f44a0c9",
   "metadata": {
    "execution": {
     "iopub.execute_input": "2021-11-13T16:36:57.417065Z",
     "iopub.status.busy": "2021-11-13T16:36:57.416266Z",
     "iopub.status.idle": "2021-11-13T16:36:57.425216Z",
     "shell.execute_reply": "2021-11-13T16:36:57.425694Z",
     "shell.execute_reply.started": "2021-11-13T16:25:18.830457Z"
    },
    "papermill": {
     "duration": 0.076686,
     "end_time": "2021-11-13T16:36:57.425865",
     "exception": false,
     "start_time": "2021-11-13T16:36:57.349179",
     "status": "completed"
    },
    "tags": []
   },
   "outputs": [
    {
     "data": {
      "text/html": [
       "<div>\n",
       "<style scoped>\n",
       "    .dataframe tbody tr th:only-of-type {\n",
       "        vertical-align: middle;\n",
       "    }\n",
       "\n",
       "    .dataframe tbody tr th {\n",
       "        vertical-align: top;\n",
       "    }\n",
       "\n",
       "    .dataframe thead th {\n",
       "        text-align: right;\n",
       "    }\n",
       "</style>\n",
       "<table border=\"1\" class=\"dataframe\">\n",
       "  <thead>\n",
       "    <tr style=\"text-align: right;\">\n",
       "      <th></th>\n",
       "      <th>Unnamed: 0</th>\n",
       "      <th>text</th>\n",
       "      <th>class</th>\n",
       "    </tr>\n",
       "  </thead>\n",
       "  <tbody>\n",
       "    <tr>\n",
       "      <th>11604</th>\n",
       "      <td>17436</td>\n",
       "      <td>I haven't done or been in remote classes and I...</td>\n",
       "      <td>non-suicide</td>\n",
       "    </tr>\n",
       "    <tr>\n",
       "      <th>11605</th>\n",
       "      <td>17437</td>\n",
       "      <td>Let's mess up the billionaires And since we le...</td>\n",
       "      <td>non-suicide</td>\n",
       "    </tr>\n",
       "    <tr>\n",
       "      <th>11606</th>\n",
       "      <td>17439</td>\n",
       "      <td>Why do people think every mistake can be fixed...</td>\n",
       "      <td>suicide</td>\n",
       "    </tr>\n",
       "    <tr>\n",
       "      <th>11607</th>\n",
       "      <td>17442</td>\n",
       "      <td>Sweden, a tool to further your political agend...</td>\n",
       "      <td>non-suicide</td>\n",
       "    </tr>\n",
       "    <tr>\n",
       "      <th>11608</th>\n",
       "      <td>17444</td>\n",
       "      <td>My Mother is suicidal and has a plan, not sure...</td>\n",
       "      <td>suicide</td>\n",
       "    </tr>\n",
       "  </tbody>\n",
       "</table>\n",
       "</div>"
      ],
      "text/plain": [
       "       Unnamed: 0                                               text  \\\n",
       "11604       17436  I haven't done or been in remote classes and I...   \n",
       "11605       17437  Let's mess up the billionaires And since we le...   \n",
       "11606       17439  Why do people think every mistake can be fixed...   \n",
       "11607       17442  Sweden, a tool to further your political agend...   \n",
       "11608       17444  My Mother is suicidal and has a plan, not sure...   \n",
       "\n",
       "             class  \n",
       "11604  non-suicide  \n",
       "11605  non-suicide  \n",
       "11606      suicide  \n",
       "11607  non-suicide  \n",
       "11608      suicide  "
      ]
     },
     "execution_count": 34,
     "metadata": {},
     "output_type": "execute_result"
    }
   ],
   "source": [
    "df2.head()"
   ]
  },
  {
   "cell_type": "code",
   "execution_count": 35,
   "id": "937e0d75",
   "metadata": {
    "execution": {
     "iopub.execute_input": "2021-11-13T16:36:57.557325Z",
     "iopub.status.busy": "2021-11-13T16:36:57.556680Z",
     "iopub.status.idle": "2021-11-13T16:36:57.571377Z",
     "shell.execute_reply": "2021-11-13T16:36:57.570713Z",
     "shell.execute_reply.started": "2021-11-13T16:25:19.259677Z"
    },
    "papermill": {
     "duration": 0.081311,
     "end_time": "2021-11-13T16:36:57.571545",
     "exception": false,
     "start_time": "2021-11-13T16:36:57.490234",
     "status": "completed"
    },
    "tags": []
   },
   "outputs": [],
   "source": [
    "train, test = train_test_split(df2, test_size=0.3)\n",
    "\n",
    "X_p = train.drop(columns=['class', \"Unnamed: 0\"])\n",
    "y_p = train['class']\n",
    "\n",
    "X_p_test = test.drop(columns=['class', \"Unnamed: 0\"])\n",
    "y_p_test = test['class']"
   ]
  },
  {
   "cell_type": "code",
   "execution_count": 36,
   "id": "e14bbc71",
   "metadata": {
    "execution": {
     "iopub.execute_input": "2021-11-13T16:36:57.704908Z",
     "iopub.status.busy": "2021-11-13T16:36:57.704174Z",
     "iopub.status.idle": "2021-11-13T16:40:57.797113Z",
     "shell.execute_reply": "2021-11-13T16:40:57.796385Z",
     "shell.execute_reply.started": "2021-11-13T16:25:19.710202Z"
    },
    "papermill": {
     "duration": 240.159838,
     "end_time": "2021-11-13T16:40:57.797374",
     "exception": false,
     "start_time": "2021-11-13T16:36:57.637536",
     "status": "completed"
    },
    "tags": []
   },
   "outputs": [
    {
     "name": "stdout",
     "output_type": "stream",
     "text": [
      "CPU times: user 3min 46s, sys: 1.97 s, total: 3min 48s\n",
      "Wall time: 3min 59s\n"
     ]
    },
    {
     "data": {
      "text/plain": [
       "Pipeline(steps=[('text_preprocessor', TextPreprocessor(text_attribute='text')),\n",
       "                ('vectorizer', TfidfVectorizer(max_features=10000)),\n",
       "                ('todense_converter',\n",
       "                 <__main__.DenseTransformer object at 0x7f39e1b44310>),\n",
       "                ('scaler', MinMaxScaler()),\n",
       "                ('classifier',\n",
       "                 VotingClassifier(estimators=[('lr',\n",
       "                                               LogisticRegression(C=10,\n",
       "                                                                  multi_class='ovr',\n",
       "                                                                  solver='liblinear')),\n",
       "                                              ('mb', MultinomialNB()),\n",
       "                                              ('sgd',\n",
       "                                               SGDClassifier(loss='log',\n",
       "                                                             max_iter=50,\n",
       "                                                             penalty='elasticnet'))],\n",
       "                                  n_jobs=-1, voting='soft'))])"
      ]
     },
     "execution_count": 36,
     "metadata": {},
     "output_type": "execute_result"
    }
   ],
   "source": [
    "%%time\n",
    "pipeline = text_classification_pipeline\n",
    "pipeline.fit(X_p, y_p)"
   ]
  },
  {
   "cell_type": "code",
   "execution_count": 37,
   "id": "4b44c3d5",
   "metadata": {
    "execution": {
     "iopub.execute_input": "2021-11-13T16:40:57.938804Z",
     "iopub.status.busy": "2021-11-13T16:40:57.937979Z",
     "iopub.status.idle": "2021-11-13T16:44:42.847280Z",
     "shell.execute_reply": "2021-11-13T16:44:42.847885Z"
    },
    "papermill": {
     "duration": 224.985456,
     "end_time": "2021-11-13T16:44:42.848090",
     "exception": false,
     "start_time": "2021-11-13T16:40:57.862634",
     "status": "completed"
    },
    "tags": []
   },
   "outputs": [
    {
     "name": "stdout",
     "output_type": "stream",
     "text": [
      "CPU times: user 3min 44s, sys: 1.26 s, total: 3min 45s\n",
      "Wall time: 3min 44s\n"
     ]
    }
   ],
   "source": [
    "%%time\n",
    "y_pred = pipeline.predict(X_p)"
   ]
  },
  {
   "cell_type": "code",
   "execution_count": 38,
   "id": "b141db66",
   "metadata": {
    "execution": {
     "iopub.execute_input": "2021-11-13T16:44:42.987381Z",
     "iopub.status.busy": "2021-11-13T16:44:42.986641Z",
     "iopub.status.idle": "2021-11-13T16:46:20.615242Z",
     "shell.execute_reply": "2021-11-13T16:46:20.615875Z"
    },
    "papermill": {
     "duration": 97.702306,
     "end_time": "2021-11-13T16:46:20.616168",
     "exception": false,
     "start_time": "2021-11-13T16:44:42.913862",
     "status": "completed"
    },
    "tags": []
   },
   "outputs": [
    {
     "name": "stdout",
     "output_type": "stream",
     "text": [
      "CPU times: user 1min 37s, sys: 710 ms, total: 1min 37s\n",
      "Wall time: 1min 37s\n"
     ]
    }
   ],
   "source": [
    "%%time\n",
    "y_test_pred = pipeline.predict(X_p_test)"
   ]
  },
  {
   "cell_type": "code",
   "execution_count": 39,
   "id": "f20b20a0",
   "metadata": {
    "execution": {
     "iopub.execute_input": "2021-11-13T16:46:20.754314Z",
     "iopub.status.busy": "2021-11-13T16:46:20.753299Z",
     "iopub.status.idle": "2021-11-13T16:46:20.756292Z",
     "shell.execute_reply": "2021-11-13T16:46:20.756933Z"
    },
    "papermill": {
     "duration": 0.075489,
     "end_time": "2021-11-13T16:46:20.757112",
     "exception": false,
     "start_time": "2021-11-13T16:46:20.681623",
     "status": "completed"
    },
    "tags": []
   },
   "outputs": [
    {
     "data": {
      "text/plain": [
       "array(['non-suicide', 'non-suicide', 'non-suicide', ..., 'non-suicide',\n",
       "       'non-suicide', 'suicide'], dtype=object)"
      ]
     },
     "execution_count": 39,
     "metadata": {},
     "output_type": "execute_result"
    }
   ],
   "source": [
    "y_test_pred"
   ]
  },
  {
   "cell_type": "code",
   "execution_count": 40,
   "id": "67b2a314",
   "metadata": {
    "execution": {
     "iopub.execute_input": "2021-11-13T16:46:20.893325Z",
     "iopub.status.busy": "2021-11-13T16:46:20.892644Z",
     "iopub.status.idle": "2021-11-13T16:46:21.750193Z",
     "shell.execute_reply": "2021-11-13T16:46:21.749694Z"
    },
    "papermill": {
     "duration": 0.92596,
     "end_time": "2021-11-13T16:46:21.750334",
     "exception": false,
     "start_time": "2021-11-13T16:46:20.824374",
     "status": "completed"
    },
    "tags": []
   },
   "outputs": [
    {
     "name": "stdout",
     "output_type": "stream",
     "text": [
      "              precision    recall  f1-score   support\n",
      "\n",
      " non-suicide       0.98      0.97      0.98      4080\n",
      "     suicide       0.97      0.98      0.98      4042\n",
      "\n",
      "    accuracy                           0.98      8122\n",
      "   macro avg       0.98      0.98      0.98      8122\n",
      "weighted avg       0.98      0.98      0.98      8122\n",
      "\n"
     ]
    },
    {
     "data": {
      "image/png": "[encoded data removed]",
      "text/plain": [
       "<Figure size 360x360 with 2 Axes>"
      ]
     },
     "metadata": {
      "needs_background": "light"
     },
     "output_type": "display_data"
    }
   ],
   "source": [
    "print(classification_report(y_p, y_pred, target_names=pipeline.classes_))\n",
    "print_confusion_matrix(confusion_matrix(y_p, y_pred), class_names=pipeline.classes_, figsize=(5,5), fontsize=12)"
   ]
  },
  {
   "cell_type": "code",
   "execution_count": 41,
   "id": "cc407266",
   "metadata": {
    "execution": {
     "iopub.execute_input": "2021-11-13T16:46:21.896119Z",
     "iopub.status.busy": "2021-11-13T16:46:21.895402Z",
     "iopub.status.idle": "2021-11-13T16:46:22.392165Z",
     "shell.execute_reply": "2021-11-13T16:46:22.391529Z"
    },
    "papermill": {
     "duration": 0.569971,
     "end_time": "2021-11-13T16:46:22.392300",
     "exception": false,
     "start_time": "2021-11-13T16:46:21.822329",
     "status": "completed"
    },
    "tags": []
   },
   "outputs": [
    {
     "name": "stdout",
     "output_type": "stream",
     "text": [
      "              precision    recall  f1-score   support\n",
      "\n",
      " non-suicide       0.93      0.89      0.91      1753\n",
      "     suicide       0.89      0.93      0.91      1729\n",
      "\n",
      "    accuracy                           0.91      3482\n",
      "   macro avg       0.91      0.91      0.91      3482\n",
      "weighted avg       0.91      0.91      0.91      3482\n",
      "\n"
     ]
    },
    {
     "data": {
      "image/png": "[encoded data removed]",
      "text/plain": [
       "<Figure size 360x360 with 2 Axes>"
      ]
     },
     "metadata": {
      "needs_background": "light"
     },
     "output_type": "display_data"
    }
   ],
   "source": [
    "print(classification_report(y_p_test, y_test_pred, target_names=pipeline.classes_))\n",
    "print_confusion_matrix(confusion_matrix(y_p_test, y_test_pred), class_names=pipeline.classes_, figsize=(5,5), fontsize=12)"
   ]
  },
  {
   "cell_type": "code",
   "execution_count": 42,
   "id": "cc73a4c2",
   "metadata": {
    "execution": {
     "iopub.execute_input": "2021-11-13T16:46:22.544806Z",
     "iopub.status.busy": "2021-11-13T16:46:22.543764Z",
     "iopub.status.idle": "2021-11-13T16:46:22.546573Z",
     "shell.execute_reply": "2021-11-13T16:46:22.546045Z"
    },
    "papermill": {
     "duration": 0.083617,
     "end_time": "2021-11-13T16:46:22.546715",
     "exception": false,
     "start_time": "2021-11-13T16:46:22.463098",
     "status": "completed"
    },
    "tags": []
   },
   "outputs": [],
   "source": [
    "#df3 \n",
    "\n",
    "df3.head()\n",
    "df_text = df3.drop(columns=['class', \"Unnamed: 0\"])\n",
    "df_target = df3[\"class\"]"
   ]
  },
  {
   "cell_type": "code",
   "execution_count": 43,
   "id": "73ad8126",
   "metadata": {
    "execution": {
     "iopub.execute_input": "2021-11-13T16:46:22.695505Z",
     "iopub.status.busy": "2021-11-13T16:46:22.694805Z",
     "iopub.status.idle": "2021-11-13T16:51:57.414764Z",
     "shell.execute_reply": "2021-11-13T16:51:57.415323Z"
    },
    "papermill": {
     "duration": 334.797743,
     "end_time": "2021-11-13T16:51:57.415542",
     "exception": false,
     "start_time": "2021-11-13T16:46:22.617799",
     "status": "completed"
    },
    "tags": []
   },
   "outputs": [
    {
     "name": "stdout",
     "output_type": "stream",
     "text": [
      "CPU times: user 5min 33s, sys: 2.57 s, total: 5min 35s\n",
      "Wall time: 5min 34s\n"
     ]
    }
   ],
   "source": [
    "%%time\n",
    "y_pred3 = pipeline.predict(df_text)"
   ]
  },
  {
   "cell_type": "code",
   "execution_count": 44,
   "id": "b96996ad",
   "metadata": {
    "execution": {
     "iopub.execute_input": "2021-11-13T16:51:57.561866Z",
     "iopub.status.busy": "2021-11-13T16:51:57.561179Z",
     "iopub.status.idle": "2021-11-13T16:51:58.611911Z",
     "shell.execute_reply": "2021-11-13T16:51:58.612399Z"
    },
    "papermill": {
     "duration": 1.127663,
     "end_time": "2021-11-13T16:51:58.612593",
     "exception": false,
     "start_time": "2021-11-13T16:51:57.484930",
     "status": "completed"
    },
    "tags": []
   },
   "outputs": [
    {
     "name": "stdout",
     "output_type": "stream",
     "text": [
      "              precision    recall  f1-score   support\n",
      "\n",
      " non-suicide       0.93      0.90      0.91      5822\n",
      "     suicide       0.90      0.93      0.92      5782\n",
      "\n",
      "    accuracy                           0.92     11604\n",
      "   macro avg       0.92      0.92      0.92     11604\n",
      "weighted avg       0.92      0.92      0.92     11604\n",
      "\n"
     ]
    },
    {
     "data": {
      "image/png": "[encoded data removed]",
      "text/plain": [
       "<Figure size 360x360 with 2 Axes>"
      ]
     },
     "metadata": {
      "needs_background": "light"
     },
     "output_type": "display_data"
    }
   ],
   "source": [
    "print(classification_report(df_target, y_pred3, target_names=pipeline.classes_))\n",
    "print_confusion_matrix(confusion_matrix(df_target, y_pred3), class_names=pipeline.classes_, figsize=(5,5), fontsize=12)"
   ]
  }
 ],
 "metadata": {
  "kernelspec": {
   "display_name": "Python 3 (ipykernel)",
   "language": "python",
   "name": "python3"
  },
  "language_info": {
   "codemirror_mode": {
    "name": "ipython",
    "version": 3
   },
   "file_extension": ".py",
   "mimetype": "text/x-python",
   "name": "python",
   "nbconvert_exporter": "python",
   "pygments_lexer": "ipython3",
   "version": "3.9.12"
  },
  "papermill": {
   "default_parameters": {},
   "duration": 1327.453843,
   "end_time": "2021-11-13T16:52:01.778085",
   "environment_variables": {},
   "exception": null,
   "input_path": "__notebook__.ipynb",
   "output_path": "__notebook__.ipynb",
   "parameters": {},
   "start_time": "2021-11-13T16:29:54.324242",
   "version": "2.3.3"
  }
 },
 "nbformat": 4,
 "nbformat_minor": 5
}
