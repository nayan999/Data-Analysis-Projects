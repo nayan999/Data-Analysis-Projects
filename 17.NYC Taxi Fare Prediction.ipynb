{
 "cells": [
  {
   "cell_type": "markdown",
   "id": "678d9ddb",
   "metadata": {},
   "source": [
    "# Import Libraries"
   ]
  },
  {
   "cell_type": "code",
   "execution_count": 1,
   "id": "444eee7c",
   "metadata": {},
   "outputs": [],
   "source": [
    "import pandas as pd\n",
    "import numpy as np\n",
    "\n",
    "import seaborn as sns\n",
    "from matplotlib import pyplot as plt\n",
    "import plotly.express as px\n",
    "\n",
    "import warnings\n",
    "warnings.filterwarnings('ignore')\n",
    "\n",
    "from geopy.distance import great_circle\n",
    "import datetime as dt"
   ]
  },
  {
   "cell_type": "code",
   "execution_count": 3,
   "id": "8d1de051",
   "metadata": {},
   "outputs": [],
   "source": [
    "df = pd.read_csv(r'D:\\Class Assesments and In class -Imarticus\\ML\\Decision Tree + Random Forest + Ensemble Techniques\\randomforest project\\Random Forest_ Project\\2 Project\\Taxi Fare Prediction\\Dataset\\Dataset\\TaxiFare.csv').sample(12000,random_state=20)"
   ]
  },
  {
   "cell_type": "code",
   "execution_count": 4,
   "id": "c8ef5e1d",
   "metadata": {},
   "outputs": [
    {
     "data": {
      "text/html": [
       "<div>\n",
       "<style scoped>\n",
       "    .dataframe tbody tr th:only-of-type {\n",
       "        vertical-align: middle;\n",
       "    }\n",
       "\n",
       "    .dataframe tbody tr th {\n",
       "        vertical-align: top;\n",
       "    }\n",
       "\n",
       "    .dataframe thead th {\n",
       "        text-align: right;\n",
       "    }\n",
       "</style>\n",
       "<table border=\"1\" class=\"dataframe\">\n",
       "  <thead>\n",
       "    <tr style=\"text-align: right;\">\n",
       "      <th></th>\n",
       "      <th>unique_id</th>\n",
       "      <th>amount</th>\n",
       "      <th>date_time_of_pickup</th>\n",
       "      <th>longitude_of_pickup</th>\n",
       "      <th>latitude_of_pickup</th>\n",
       "      <th>longitude_of_dropoff</th>\n",
       "      <th>latitude_of_dropoff</th>\n",
       "      <th>no_of_passenger</th>\n",
       "    </tr>\n",
       "  </thead>\n",
       "  <tbody>\n",
       "    <tr>\n",
       "      <th>18991</th>\n",
       "      <td>54:00.0</td>\n",
       "      <td>6.1</td>\n",
       "      <td>2011-11-28 15:54:00 UTC</td>\n",
       "      <td>-73.875380</td>\n",
       "      <td>40.773810</td>\n",
       "      <td>-73.967785</td>\n",
       "      <td>40.760247</td>\n",
       "      <td>1</td>\n",
       "    </tr>\n",
       "    <tr>\n",
       "      <th>41632</th>\n",
       "      <td>06:07.0</td>\n",
       "      <td>17.5</td>\n",
       "      <td>2015-06-04 23:06:07 UTC</td>\n",
       "      <td>-74.006149</td>\n",
       "      <td>40.727226</td>\n",
       "      <td>-73.981560</td>\n",
       "      <td>40.784142</td>\n",
       "      <td>1</td>\n",
       "    </tr>\n",
       "  </tbody>\n",
       "</table>\n",
       "</div>"
      ],
      "text/plain": [
       "      unique_id  amount      date_time_of_pickup  longitude_of_pickup  \\\n",
       "18991   54:00.0     6.1  2011-11-28 15:54:00 UTC           -73.875380   \n",
       "41632   06:07.0    17.5  2015-06-04 23:06:07 UTC           -74.006149   \n",
       "\n",
       "       latitude_of_pickup  longitude_of_dropoff  latitude_of_dropoff  \\\n",
       "18991           40.773810            -73.967785            40.760247   \n",
       "41632           40.727226            -73.981560            40.784142   \n",
       "\n",
       "       no_of_passenger  \n",
       "18991                1  \n",
       "41632                1  "
      ]
     },
     "execution_count": 4,
     "metadata": {},
     "output_type": "execute_result"
    }
   ],
   "source": [
    "df.head(2)"
   ]
  },
  {
   "cell_type": "code",
   "execution_count": 5,
   "id": "f62ded90",
   "metadata": {},
   "outputs": [
    {
     "data": {
      "text/plain": [
       "(12000, 8)"
      ]
     },
     "execution_count": 5,
     "metadata": {},
     "output_type": "execute_result"
    }
   ],
   "source": [
    "df.shape"
   ]
  },
  {
   "cell_type": "code",
   "execution_count": 6,
   "id": "03575a53",
   "metadata": {},
   "outputs": [
    {
     "data": {
      "text/plain": [
       "Index(['unique_id', 'amount', 'date_time_of_pickup', 'longitude_of_pickup',\n",
       "       'latitude_of_pickup', 'longitude_of_dropoff', 'latitude_of_dropoff',\n",
       "       'no_of_passenger'],\n",
       "      dtype='object')"
      ]
     },
     "execution_count": 6,
     "metadata": {},
     "output_type": "execute_result"
    }
   ],
   "source": [
    "df.columns"
   ]
  },
  {
   "cell_type": "code",
   "execution_count": 7,
   "id": "62100a87",
   "metadata": {},
   "outputs": [
    {
     "data": {
      "text/plain": [
       "unique_id                object\n",
       "amount                  float64\n",
       "date_time_of_pickup      object\n",
       "longitude_of_pickup     float64\n",
       "latitude_of_pickup      float64\n",
       "longitude_of_dropoff    float64\n",
       "latitude_of_dropoff     float64\n",
       "no_of_passenger           int64\n",
       "dtype: object"
      ]
     },
     "execution_count": 7,
     "metadata": {},
     "output_type": "execute_result"
    }
   ],
   "source": [
    "df.dtypes"
   ]
  },
  {
   "cell_type": "code",
   "execution_count": 8,
   "id": "9d7ab41d",
   "metadata": {},
   "outputs": [
    {
     "data": {
      "text/plain": [
       "unique_id               0\n",
       "amount                  0\n",
       "date_time_of_pickup     0\n",
       "longitude_of_pickup     0\n",
       "latitude_of_pickup      0\n",
       "longitude_of_dropoff    0\n",
       "latitude_of_dropoff     0\n",
       "no_of_passenger         0\n",
       "dtype: int64"
      ]
     },
     "execution_count": 8,
     "metadata": {},
     "output_type": "execute_result"
    }
   ],
   "source": [
    "df.isna().sum()"
   ]
  },
  {
   "cell_type": "code",
   "execution_count": 9,
   "id": "28eb0ce5",
   "metadata": {},
   "outputs": [
    {
     "data": {
      "text/html": [
       "<div>\n",
       "<style scoped>\n",
       "    .dataframe tbody tr th:only-of-type {\n",
       "        vertical-align: middle;\n",
       "    }\n",
       "\n",
       "    .dataframe tbody tr th {\n",
       "        vertical-align: top;\n",
       "    }\n",
       "\n",
       "    .dataframe thead th {\n",
       "        text-align: right;\n",
       "    }\n",
       "</style>\n",
       "<table border=\"1\" class=\"dataframe\">\n",
       "  <thead>\n",
       "    <tr style=\"text-align: right;\">\n",
       "      <th></th>\n",
       "      <th>amount</th>\n",
       "      <th>longitude_of_pickup</th>\n",
       "      <th>latitude_of_pickup</th>\n",
       "      <th>longitude_of_dropoff</th>\n",
       "      <th>latitude_of_dropoff</th>\n",
       "      <th>no_of_passenger</th>\n",
       "    </tr>\n",
       "  </thead>\n",
       "  <tbody>\n",
       "    <tr>\n",
       "      <th>count</th>\n",
       "      <td>12000.000000</td>\n",
       "      <td>12000.000000</td>\n",
       "      <td>12000.000000</td>\n",
       "      <td>12000.000000</td>\n",
       "      <td>12000.000000</td>\n",
       "      <td>12000.000000</td>\n",
       "    </tr>\n",
       "    <tr>\n",
       "      <th>mean</th>\n",
       "      <td>11.348416</td>\n",
       "      <td>-72.550196</td>\n",
       "      <td>39.978683</td>\n",
       "      <td>-72.524471</td>\n",
       "      <td>39.932146</td>\n",
       "      <td>1.668750</td>\n",
       "    </tr>\n",
       "    <tr>\n",
       "      <th>std</th>\n",
       "      <td>9.648357</td>\n",
       "      <td>10.245601</td>\n",
       "      <td>6.763680</td>\n",
       "      <td>10.330706</td>\n",
       "      <td>5.961991</td>\n",
       "      <td>1.295954</td>\n",
       "    </tr>\n",
       "    <tr>\n",
       "      <th>min</th>\n",
       "      <td>-2.500000</td>\n",
       "      <td>-74.689831</td>\n",
       "      <td>-73.987585</td>\n",
       "      <td>-74.689831</td>\n",
       "      <td>-73.978812</td>\n",
       "      <td>0.000000</td>\n",
       "    </tr>\n",
       "    <tr>\n",
       "      <th>25%</th>\n",
       "      <td>6.100000</td>\n",
       "      <td>-73.992204</td>\n",
       "      <td>40.734606</td>\n",
       "      <td>-73.991403</td>\n",
       "      <td>40.733790</td>\n",
       "      <td>1.000000</td>\n",
       "    </tr>\n",
       "    <tr>\n",
       "      <th>50%</th>\n",
       "      <td>8.500000</td>\n",
       "      <td>-73.981948</td>\n",
       "      <td>40.752580</td>\n",
       "      <td>-73.980445</td>\n",
       "      <td>40.753052</td>\n",
       "      <td>1.000000</td>\n",
       "    </tr>\n",
       "    <tr>\n",
       "      <th>75%</th>\n",
       "      <td>12.500000</td>\n",
       "      <td>-73.967712</td>\n",
       "      <td>40.766882</td>\n",
       "      <td>-73.963452</td>\n",
       "      <td>40.767983</td>\n",
       "      <td>2.000000</td>\n",
       "    </tr>\n",
       "    <tr>\n",
       "      <th>max</th>\n",
       "      <td>200.000000</td>\n",
       "      <td>40.783472</td>\n",
       "      <td>401.083332</td>\n",
       "      <td>40.782930</td>\n",
       "      <td>43.415190</td>\n",
       "      <td>6.000000</td>\n",
       "    </tr>\n",
       "  </tbody>\n",
       "</table>\n",
       "</div>"
      ],
      "text/plain": [
       "             amount  longitude_of_pickup  latitude_of_pickup  \\\n",
       "count  12000.000000         12000.000000        12000.000000   \n",
       "mean      11.348416           -72.550196           39.978683   \n",
       "std        9.648357            10.245601            6.763680   \n",
       "min       -2.500000           -74.689831          -73.987585   \n",
       "25%        6.100000           -73.992204           40.734606   \n",
       "50%        8.500000           -73.981948           40.752580   \n",
       "75%       12.500000           -73.967712           40.766882   \n",
       "max      200.000000            40.783472          401.083332   \n",
       "\n",
       "       longitude_of_dropoff  latitude_of_dropoff  no_of_passenger  \n",
       "count          12000.000000         12000.000000     12000.000000  \n",
       "mean             -72.524471            39.932146         1.668750  \n",
       "std               10.330706             5.961991         1.295954  \n",
       "min              -74.689831           -73.978812         0.000000  \n",
       "25%              -73.991403            40.733790         1.000000  \n",
       "50%              -73.980445            40.753052         1.000000  \n",
       "75%              -73.963452            40.767983         2.000000  \n",
       "max               40.782930            43.415190         6.000000  "
      ]
     },
     "execution_count": 9,
     "metadata": {},
     "output_type": "execute_result"
    }
   ],
   "source": [
    "df.describe()"
   ]
  },
  {
   "cell_type": "code",
   "execution_count": 10,
   "id": "6ee184dd",
   "metadata": {},
   "outputs": [],
   "source": [
    "### Changing date's datatype and adding more features\n",
    "\n",
    "df['date_time_of_pickup'] = df['date_time_of_pickup'].astype('datetime64[ns]')"
   ]
  },
  {
   "cell_type": "code",
   "execution_count": 11,
   "id": "43d407b2",
   "metadata": {},
   "outputs": [
    {
     "data": {
      "text/plain": [
       "unique_id                       object\n",
       "amount                         float64\n",
       "date_time_of_pickup     datetime64[ns]\n",
       "longitude_of_pickup            float64\n",
       "latitude_of_pickup             float64\n",
       "longitude_of_dropoff           float64\n",
       "latitude_of_dropoff            float64\n",
       "no_of_passenger                  int64\n",
       "dtype: object"
      ]
     },
     "execution_count": 11,
     "metadata": {},
     "output_type": "execute_result"
    }
   ],
   "source": [
    "df.dtypes"
   ]
  },
  {
   "cell_type": "code",
   "execution_count": 12,
   "id": "37512b09",
   "metadata": {},
   "outputs": [
    {
     "data": {
      "text/html": [
       "<div>\n",
       "<style scoped>\n",
       "    .dataframe tbody tr th:only-of-type {\n",
       "        vertical-align: middle;\n",
       "    }\n",
       "\n",
       "    .dataframe tbody tr th {\n",
       "        vertical-align: top;\n",
       "    }\n",
       "\n",
       "    .dataframe thead th {\n",
       "        text-align: right;\n",
       "    }\n",
       "</style>\n",
       "<table border=\"1\" class=\"dataframe\">\n",
       "  <thead>\n",
       "    <tr style=\"text-align: right;\">\n",
       "      <th></th>\n",
       "      <th>unique_id</th>\n",
       "      <th>amount</th>\n",
       "      <th>date_time_of_pickup</th>\n",
       "      <th>longitude_of_pickup</th>\n",
       "      <th>latitude_of_pickup</th>\n",
       "      <th>longitude_of_dropoff</th>\n",
       "      <th>latitude_of_dropoff</th>\n",
       "      <th>no_of_passenger</th>\n",
       "    </tr>\n",
       "  </thead>\n",
       "  <tbody>\n",
       "    <tr>\n",
       "      <th>18991</th>\n",
       "      <td>54:00.0</td>\n",
       "      <td>6.1</td>\n",
       "      <td>2011-11-28 15:54:00</td>\n",
       "      <td>-73.875380</td>\n",
       "      <td>40.773810</td>\n",
       "      <td>-73.967785</td>\n",
       "      <td>40.760247</td>\n",
       "      <td>1</td>\n",
       "    </tr>\n",
       "    <tr>\n",
       "      <th>41632</th>\n",
       "      <td>06:07.0</td>\n",
       "      <td>17.5</td>\n",
       "      <td>2015-06-04 23:06:07</td>\n",
       "      <td>-74.006149</td>\n",
       "      <td>40.727226</td>\n",
       "      <td>-73.981560</td>\n",
       "      <td>40.784142</td>\n",
       "      <td>1</td>\n",
       "    </tr>\n",
       "    <tr>\n",
       "      <th>36306</th>\n",
       "      <td>27:00.0</td>\n",
       "      <td>21.0</td>\n",
       "      <td>2014-07-25 18:27:00</td>\n",
       "      <td>-73.974907</td>\n",
       "      <td>40.765105</td>\n",
       "      <td>-74.006922</td>\n",
       "      <td>40.740757</td>\n",
       "      <td>2</td>\n",
       "    </tr>\n",
       "    <tr>\n",
       "      <th>26881</th>\n",
       "      <td>50:32.0</td>\n",
       "      <td>5.5</td>\n",
       "      <td>2015-05-24 08:50:32</td>\n",
       "      <td>-73.968468</td>\n",
       "      <td>40.799229</td>\n",
       "      <td>-73.961601</td>\n",
       "      <td>40.811104</td>\n",
       "      <td>5</td>\n",
       "    </tr>\n",
       "    <tr>\n",
       "      <th>3469</th>\n",
       "      <td>30:38.0</td>\n",
       "      <td>13.3</td>\n",
       "      <td>2012-01-31 03:30:38</td>\n",
       "      <td>-73.939994</td>\n",
       "      <td>40.793948</td>\n",
       "      <td>-73.994143</td>\n",
       "      <td>40.755829</td>\n",
       "      <td>1</td>\n",
       "    </tr>\n",
       "  </tbody>\n",
       "</table>\n",
       "</div>"
      ],
      "text/plain": [
       "      unique_id  amount date_time_of_pickup  longitude_of_pickup  \\\n",
       "18991   54:00.0     6.1 2011-11-28 15:54:00           -73.875380   \n",
       "41632   06:07.0    17.5 2015-06-04 23:06:07           -74.006149   \n",
       "36306   27:00.0    21.0 2014-07-25 18:27:00           -73.974907   \n",
       "26881   50:32.0     5.5 2015-05-24 08:50:32           -73.968468   \n",
       "3469    30:38.0    13.3 2012-01-31 03:30:38           -73.939994   \n",
       "\n",
       "       latitude_of_pickup  longitude_of_dropoff  latitude_of_dropoff  \\\n",
       "18991           40.773810            -73.967785            40.760247   \n",
       "41632           40.727226            -73.981560            40.784142   \n",
       "36306           40.765105            -74.006922            40.740757   \n",
       "26881           40.799229            -73.961601            40.811104   \n",
       "3469            40.793948            -73.994143            40.755829   \n",
       "\n",
       "       no_of_passenger  \n",
       "18991                1  \n",
       "41632                1  \n",
       "36306                2  \n",
       "26881                5  \n",
       "3469                 1  "
      ]
     },
     "execution_count": 12,
     "metadata": {},
     "output_type": "execute_result"
    }
   ],
   "source": [
    "df.head()"
   ]
  },
  {
   "cell_type": "code",
   "execution_count": 13,
   "id": "aae2c8ce",
   "metadata": {},
   "outputs": [
    {
     "data": {
      "text/html": [
       "<div>\n",
       "<style scoped>\n",
       "    .dataframe tbody tr th:only-of-type {\n",
       "        vertical-align: middle;\n",
       "    }\n",
       "\n",
       "    .dataframe tbody tr th {\n",
       "        vertical-align: top;\n",
       "    }\n",
       "\n",
       "    .dataframe thead th {\n",
       "        text-align: right;\n",
       "    }\n",
       "</style>\n",
       "<table border=\"1\" class=\"dataframe\">\n",
       "  <thead>\n",
       "    <tr style=\"text-align: right;\">\n",
       "      <th></th>\n",
       "      <th>unique_id</th>\n",
       "      <th>amount</th>\n",
       "      <th>date_time_of_pickup</th>\n",
       "      <th>longitude_of_pickup</th>\n",
       "      <th>latitude_of_pickup</th>\n",
       "      <th>longitude_of_dropoff</th>\n",
       "      <th>latitude_of_dropoff</th>\n",
       "      <th>no_of_passenger</th>\n",
       "      <th>pickup_day</th>\n",
       "      <th>pickup_month</th>\n",
       "      <th>year</th>\n",
       "      <th>pickup_hour</th>\n",
       "      <th>pickup_day_no</th>\n",
       "      <th>minute</th>\n",
       "    </tr>\n",
       "  </thead>\n",
       "  <tbody>\n",
       "    <tr>\n",
       "      <th>18991</th>\n",
       "      <td>54:00.0</td>\n",
       "      <td>6.1</td>\n",
       "      <td>2011-11-28 15:54:00</td>\n",
       "      <td>-73.875380</td>\n",
       "      <td>40.773810</td>\n",
       "      <td>-73.967785</td>\n",
       "      <td>40.760247</td>\n",
       "      <td>1</td>\n",
       "      <td>Monday</td>\n",
       "      <td>November</td>\n",
       "      <td>2011</td>\n",
       "      <td>15</td>\n",
       "      <td>0</td>\n",
       "      <td>54</td>\n",
       "    </tr>\n",
       "    <tr>\n",
       "      <th>41632</th>\n",
       "      <td>06:07.0</td>\n",
       "      <td>17.5</td>\n",
       "      <td>2015-06-04 23:06:07</td>\n",
       "      <td>-74.006149</td>\n",
       "      <td>40.727226</td>\n",
       "      <td>-73.981560</td>\n",
       "      <td>40.784142</td>\n",
       "      <td>1</td>\n",
       "      <td>Thursday</td>\n",
       "      <td>June</td>\n",
       "      <td>2015</td>\n",
       "      <td>23</td>\n",
       "      <td>3</td>\n",
       "      <td>6</td>\n",
       "    </tr>\n",
       "    <tr>\n",
       "      <th>36306</th>\n",
       "      <td>27:00.0</td>\n",
       "      <td>21.0</td>\n",
       "      <td>2014-07-25 18:27:00</td>\n",
       "      <td>-73.974907</td>\n",
       "      <td>40.765105</td>\n",
       "      <td>-74.006922</td>\n",
       "      <td>40.740757</td>\n",
       "      <td>2</td>\n",
       "      <td>Friday</td>\n",
       "      <td>July</td>\n",
       "      <td>2014</td>\n",
       "      <td>18</td>\n",
       "      <td>4</td>\n",
       "      <td>27</td>\n",
       "    </tr>\n",
       "    <tr>\n",
       "      <th>26881</th>\n",
       "      <td>50:32.0</td>\n",
       "      <td>5.5</td>\n",
       "      <td>2015-05-24 08:50:32</td>\n",
       "      <td>-73.968468</td>\n",
       "      <td>40.799229</td>\n",
       "      <td>-73.961601</td>\n",
       "      <td>40.811104</td>\n",
       "      <td>5</td>\n",
       "      <td>Sunday</td>\n",
       "      <td>May</td>\n",
       "      <td>2015</td>\n",
       "      <td>8</td>\n",
       "      <td>6</td>\n",
       "      <td>50</td>\n",
       "    </tr>\n",
       "    <tr>\n",
       "      <th>3469</th>\n",
       "      <td>30:38.0</td>\n",
       "      <td>13.3</td>\n",
       "      <td>2012-01-31 03:30:38</td>\n",
       "      <td>-73.939994</td>\n",
       "      <td>40.793948</td>\n",
       "      <td>-73.994143</td>\n",
       "      <td>40.755829</td>\n",
       "      <td>1</td>\n",
       "      <td>Tuesday</td>\n",
       "      <td>January</td>\n",
       "      <td>2012</td>\n",
       "      <td>3</td>\n",
       "      <td>1</td>\n",
       "      <td>30</td>\n",
       "    </tr>\n",
       "  </tbody>\n",
       "</table>\n",
       "</div>"
      ],
      "text/plain": [
       "      unique_id  amount date_time_of_pickup  longitude_of_pickup  \\\n",
       "18991   54:00.0     6.1 2011-11-28 15:54:00           -73.875380   \n",
       "41632   06:07.0    17.5 2015-06-04 23:06:07           -74.006149   \n",
       "36306   27:00.0    21.0 2014-07-25 18:27:00           -73.974907   \n",
       "26881   50:32.0     5.5 2015-05-24 08:50:32           -73.968468   \n",
       "3469    30:38.0    13.3 2012-01-31 03:30:38           -73.939994   \n",
       "\n",
       "       latitude_of_pickup  longitude_of_dropoff  latitude_of_dropoff  \\\n",
       "18991           40.773810            -73.967785            40.760247   \n",
       "41632           40.727226            -73.981560            40.784142   \n",
       "36306           40.765105            -74.006922            40.740757   \n",
       "26881           40.799229            -73.961601            40.811104   \n",
       "3469            40.793948            -73.994143            40.755829   \n",
       "\n",
       "       no_of_passenger pickup_day pickup_month  year  pickup_hour  \\\n",
       "18991                1     Monday     November  2011           15   \n",
       "41632                1   Thursday         June  2015           23   \n",
       "36306                2     Friday         July  2014           18   \n",
       "26881                5     Sunday          May  2015            8   \n",
       "3469                 1    Tuesday      January  2012            3   \n",
       "\n",
       "       pickup_day_no  minute  \n",
       "18991              0      54  \n",
       "41632              3       6  \n",
       "36306              4      27  \n",
       "26881              6      50  \n",
       "3469               1      30  "
      ]
     },
     "execution_count": 13,
     "metadata": {},
     "output_type": "execute_result"
    }
   ],
   "source": [
    "df['pickup_day'] = df['date_time_of_pickup'].dt.day_name()\n",
    "df['pickup_month'] = df['date_time_of_pickup'].dt.month_name()\n",
    "df['year'] = df['date_time_of_pickup'].dt.year\n",
    "df['pickup_hour'] = df['date_time_of_pickup'].dt.hour\n",
    "df['pickup_day_no'] = df['date_time_of_pickup'].dt.weekday\n",
    "df['minute'] = df['date_time_of_pickup'].dt.minute\n",
    "\n",
    "df.head()"
   ]
  },
  {
   "cell_type": "code",
   "execution_count": 14,
   "id": "58df281d",
   "metadata": {},
   "outputs": [
    {
     "name": "stdout",
     "output_type": "stream",
     "text": [
      "(11465, 14)\n"
     ]
    }
   ],
   "source": [
    "## Outlier removal\n",
    "\n",
    "df.drop(df[df['longitude_of_pickup'] == 0].index, axis=0, inplace = True)\n",
    "df.drop(df[df['latitude_of_pickup'] == 0].index, axis=0, inplace = True)\n",
    "df.drop(df[df['longitude_of_dropoff'] == 0].index, axis=0, inplace = True)\n",
    "df.drop(df[df['latitude_of_dropoff'] == 0].index, axis=0, inplace = True)\n",
    "df.drop(df[df['no_of_passenger'] > 5].index, axis=0, inplace = True)\n",
    "df.drop(df[df['no_of_passenger'] == 0].index, axis=0, inplace = True)\n",
    "\n",
    "df.drop(df.index[(df.longitude_of_pickup < -75) | \n",
    "           (df.longitude_of_pickup > -72) | \n",
    "           (df.latitude_of_pickup < 40) | \n",
    "           (df.latitude_of_pickup > 42)],inplace=True)\n",
    "df.drop(df.index[(df.longitude_of_dropoff < -75) | \n",
    "           (df.longitude_of_dropoff > -72) | \n",
    "           (df.latitude_of_dropoff < 40) | \n",
    "           (df.latitude_of_dropoff > 42)],inplace=True)\n",
    "\n",
    "print(df.shape)"
   ]
  },
  {
   "cell_type": "code",
   "execution_count": 15,
   "id": "061987e2",
   "metadata": {},
   "outputs": [],
   "source": [
    "### Distance\n",
    "\n",
    "def Distance(latitude_of_pickup,longitude_of_pickup,latitude_of_dropoff,longitude_of_dropoff):\n",
    "    start_points = (latitude_of_pickup,longitude_of_pickup)\n",
    "    end_points = (latitude_of_dropoff,longitude_of_dropoff)\n",
    "    \n",
    "    return great_circle(start_points,end_points).km"
   ]
  },
  {
   "cell_type": "code",
   "execution_count": 16,
   "id": "1b7b30f9",
   "metadata": {},
   "outputs": [],
   "source": [
    "df['Distance'] = df.apply(lambda x: Distance(x['latitude_of_pickup'],x['longitude_of_pickup'],x['latitude_of_dropoff'],x['longitude_of_dropoff']), axis=1)"
   ]
  },
  {
   "cell_type": "code",
   "execution_count": 17,
   "id": "039b408a",
   "metadata": {},
   "outputs": [
    {
     "data": {
      "text/html": [
       "<div>\n",
       "<style scoped>\n",
       "    .dataframe tbody tr th:only-of-type {\n",
       "        vertical-align: middle;\n",
       "    }\n",
       "\n",
       "    .dataframe tbody tr th {\n",
       "        vertical-align: top;\n",
       "    }\n",
       "\n",
       "    .dataframe thead th {\n",
       "        text-align: right;\n",
       "    }\n",
       "</style>\n",
       "<table border=\"1\" class=\"dataframe\">\n",
       "  <thead>\n",
       "    <tr style=\"text-align: right;\">\n",
       "      <th></th>\n",
       "      <th>unique_id</th>\n",
       "      <th>amount</th>\n",
       "      <th>date_time_of_pickup</th>\n",
       "      <th>longitude_of_pickup</th>\n",
       "      <th>latitude_of_pickup</th>\n",
       "      <th>longitude_of_dropoff</th>\n",
       "      <th>latitude_of_dropoff</th>\n",
       "      <th>no_of_passenger</th>\n",
       "      <th>pickup_day</th>\n",
       "      <th>pickup_month</th>\n",
       "      <th>year</th>\n",
       "      <th>pickup_hour</th>\n",
       "      <th>pickup_day_no</th>\n",
       "      <th>minute</th>\n",
       "      <th>Distance</th>\n",
       "    </tr>\n",
       "  </thead>\n",
       "  <tbody>\n",
       "    <tr>\n",
       "      <th>18991</th>\n",
       "      <td>54:00.0</td>\n",
       "      <td>6.1</td>\n",
       "      <td>2011-11-28 15:54:00</td>\n",
       "      <td>-73.875380</td>\n",
       "      <td>40.773810</td>\n",
       "      <td>-73.967785</td>\n",
       "      <td>40.760247</td>\n",
       "      <td>1</td>\n",
       "      <td>Monday</td>\n",
       "      <td>November</td>\n",
       "      <td>2011</td>\n",
       "      <td>15</td>\n",
       "      <td>0</td>\n",
       "      <td>54</td>\n",
       "      <td>7.926763</td>\n",
       "    </tr>\n",
       "    <tr>\n",
       "      <th>41632</th>\n",
       "      <td>06:07.0</td>\n",
       "      <td>17.5</td>\n",
       "      <td>2015-06-04 23:06:07</td>\n",
       "      <td>-74.006149</td>\n",
       "      <td>40.727226</td>\n",
       "      <td>-73.981560</td>\n",
       "      <td>40.784142</td>\n",
       "      <td>1</td>\n",
       "      <td>Thursday</td>\n",
       "      <td>June</td>\n",
       "      <td>2015</td>\n",
       "      <td>23</td>\n",
       "      <td>3</td>\n",
       "      <td>6</td>\n",
       "      <td>6.658997</td>\n",
       "    </tr>\n",
       "  </tbody>\n",
       "</table>\n",
       "</div>"
      ],
      "text/plain": [
       "      unique_id  amount date_time_of_pickup  longitude_of_pickup  \\\n",
       "18991   54:00.0     6.1 2011-11-28 15:54:00           -73.875380   \n",
       "41632   06:07.0    17.5 2015-06-04 23:06:07           -74.006149   \n",
       "\n",
       "       latitude_of_pickup  longitude_of_dropoff  latitude_of_dropoff  \\\n",
       "18991           40.773810            -73.967785            40.760247   \n",
       "41632           40.727226            -73.981560            40.784142   \n",
       "\n",
       "       no_of_passenger pickup_day pickup_month  year  pickup_hour  \\\n",
       "18991                1     Monday     November  2011           15   \n",
       "41632                1   Thursday         June  2015           23   \n",
       "\n",
       "       pickup_day_no  minute  Distance  \n",
       "18991              0      54  7.926763  \n",
       "41632              3       6  6.658997  "
      ]
     },
     "execution_count": 17,
     "metadata": {},
     "output_type": "execute_result"
    }
   ],
   "source": [
    "df.head(2)"
   ]
  },
  {
   "cell_type": "code",
   "execution_count": 18,
   "id": "917dc3e6",
   "metadata": {},
   "outputs": [
    {
     "data": {
      "text/plain": [
       "(11342, 15)"
      ]
     },
     "execution_count": 18,
     "metadata": {},
     "output_type": "execute_result"
    }
   ],
   "source": [
    "## Removing data with Distance == 0 \n",
    "df = df[~(df['Distance']==0)]\n",
    "df.shape"
   ]
  },
  {
   "cell_type": "code",
   "execution_count": 19,
   "id": "a9ace5b6",
   "metadata": {},
   "outputs": [
    {
     "data": {
      "text/plain": [
       "array([15, 23, 18,  8,  3,  9, 16, 20, 14, 22, 10, 17,  1,  0, 11, 13, 12,\n",
       "       19, 21,  2,  4,  6,  7,  5], dtype=int64)"
      ]
     },
     "execution_count": 19,
     "metadata": {},
     "output_type": "execute_result"
    }
   ],
   "source": [
    "df.pickup_hour.unique()"
   ]
  },
  {
   "cell_type": "code",
   "execution_count": 20,
   "id": "d4729b29",
   "metadata": {},
   "outputs": [],
   "source": [
    "## pickup timeof day feature\n",
    "def Duration(x):\n",
    "    if x in range(6,12):\n",
    "        return 'Morning'\n",
    "    elif x in range(12,16):\n",
    "        return 'Afternoon'\n",
    "    elif x in range(16,22):\n",
    "        return 'Evening'\n",
    "    else:\n",
    "        return 'Late Night'"
   ]
  },
  {
   "cell_type": "code",
   "execution_count": 21,
   "id": "f920ac4a",
   "metadata": {},
   "outputs": [
    {
     "data": {
      "text/html": [
       "<div>\n",
       "<style scoped>\n",
       "    .dataframe tbody tr th:only-of-type {\n",
       "        vertical-align: middle;\n",
       "    }\n",
       "\n",
       "    .dataframe tbody tr th {\n",
       "        vertical-align: top;\n",
       "    }\n",
       "\n",
       "    .dataframe thead th {\n",
       "        text-align: right;\n",
       "    }\n",
       "</style>\n",
       "<table border=\"1\" class=\"dataframe\">\n",
       "  <thead>\n",
       "    <tr style=\"text-align: right;\">\n",
       "      <th></th>\n",
       "      <th>unique_id</th>\n",
       "      <th>amount</th>\n",
       "      <th>date_time_of_pickup</th>\n",
       "      <th>longitude_of_pickup</th>\n",
       "      <th>latitude_of_pickup</th>\n",
       "      <th>longitude_of_dropoff</th>\n",
       "      <th>latitude_of_dropoff</th>\n",
       "      <th>no_of_passenger</th>\n",
       "      <th>pickup_day</th>\n",
       "      <th>pickup_month</th>\n",
       "      <th>year</th>\n",
       "      <th>pickup_hour</th>\n",
       "      <th>pickup_day_no</th>\n",
       "      <th>minute</th>\n",
       "      <th>Distance</th>\n",
       "      <th>Pickup_timeofday</th>\n",
       "    </tr>\n",
       "  </thead>\n",
       "  <tbody>\n",
       "    <tr>\n",
       "      <th>18991</th>\n",
       "      <td>54:00.0</td>\n",
       "      <td>6.1</td>\n",
       "      <td>2011-11-28 15:54:00</td>\n",
       "      <td>-73.875380</td>\n",
       "      <td>40.773810</td>\n",
       "      <td>-73.967785</td>\n",
       "      <td>40.760247</td>\n",
       "      <td>1</td>\n",
       "      <td>Monday</td>\n",
       "      <td>November</td>\n",
       "      <td>2011</td>\n",
       "      <td>15</td>\n",
       "      <td>0</td>\n",
       "      <td>54</td>\n",
       "      <td>7.926763</td>\n",
       "      <td>Afternoon</td>\n",
       "    </tr>\n",
       "    <tr>\n",
       "      <th>41632</th>\n",
       "      <td>06:07.0</td>\n",
       "      <td>17.5</td>\n",
       "      <td>2015-06-04 23:06:07</td>\n",
       "      <td>-74.006149</td>\n",
       "      <td>40.727226</td>\n",
       "      <td>-73.981560</td>\n",
       "      <td>40.784142</td>\n",
       "      <td>1</td>\n",
       "      <td>Thursday</td>\n",
       "      <td>June</td>\n",
       "      <td>2015</td>\n",
       "      <td>23</td>\n",
       "      <td>3</td>\n",
       "      <td>6</td>\n",
       "      <td>6.658997</td>\n",
       "      <td>Late Night</td>\n",
       "    </tr>\n",
       "    <tr>\n",
       "      <th>36306</th>\n",
       "      <td>27:00.0</td>\n",
       "      <td>21.0</td>\n",
       "      <td>2014-07-25 18:27:00</td>\n",
       "      <td>-73.974907</td>\n",
       "      <td>40.765105</td>\n",
       "      <td>-74.006922</td>\n",
       "      <td>40.740757</td>\n",
       "      <td>2</td>\n",
       "      <td>Friday</td>\n",
       "      <td>July</td>\n",
       "      <td>2014</td>\n",
       "      <td>18</td>\n",
       "      <td>4</td>\n",
       "      <td>27</td>\n",
       "      <td>3.821299</td>\n",
       "      <td>Evening</td>\n",
       "    </tr>\n",
       "    <tr>\n",
       "      <th>26881</th>\n",
       "      <td>50:32.0</td>\n",
       "      <td>5.5</td>\n",
       "      <td>2015-05-24 08:50:32</td>\n",
       "      <td>-73.968468</td>\n",
       "      <td>40.799229</td>\n",
       "      <td>-73.961601</td>\n",
       "      <td>40.811104</td>\n",
       "      <td>5</td>\n",
       "      <td>Sunday</td>\n",
       "      <td>May</td>\n",
       "      <td>2015</td>\n",
       "      <td>8</td>\n",
       "      <td>6</td>\n",
       "      <td>50</td>\n",
       "      <td>1.441394</td>\n",
       "      <td>Morning</td>\n",
       "    </tr>\n",
       "    <tr>\n",
       "      <th>3469</th>\n",
       "      <td>30:38.0</td>\n",
       "      <td>13.3</td>\n",
       "      <td>2012-01-31 03:30:38</td>\n",
       "      <td>-73.939994</td>\n",
       "      <td>40.793948</td>\n",
       "      <td>-73.994143</td>\n",
       "      <td>40.755829</td>\n",
       "      <td>1</td>\n",
       "      <td>Tuesday</td>\n",
       "      <td>January</td>\n",
       "      <td>2012</td>\n",
       "      <td>3</td>\n",
       "      <td>1</td>\n",
       "      <td>30</td>\n",
       "      <td>6.225487</td>\n",
       "      <td>Late Night</td>\n",
       "    </tr>\n",
       "  </tbody>\n",
       "</table>\n",
       "</div>"
      ],
      "text/plain": [
       "      unique_id  amount date_time_of_pickup  longitude_of_pickup  \\\n",
       "18991   54:00.0     6.1 2011-11-28 15:54:00           -73.875380   \n",
       "41632   06:07.0    17.5 2015-06-04 23:06:07           -74.006149   \n",
       "36306   27:00.0    21.0 2014-07-25 18:27:00           -73.974907   \n",
       "26881   50:32.0     5.5 2015-05-24 08:50:32           -73.968468   \n",
       "3469    30:38.0    13.3 2012-01-31 03:30:38           -73.939994   \n",
       "\n",
       "       latitude_of_pickup  longitude_of_dropoff  latitude_of_dropoff  \\\n",
       "18991           40.773810            -73.967785            40.760247   \n",
       "41632           40.727226            -73.981560            40.784142   \n",
       "36306           40.765105            -74.006922            40.740757   \n",
       "26881           40.799229            -73.961601            40.811104   \n",
       "3469            40.793948            -73.994143            40.755829   \n",
       "\n",
       "       no_of_passenger pickup_day pickup_month  year  pickup_hour  \\\n",
       "18991                1     Monday     November  2011           15   \n",
       "41632                1   Thursday         June  2015           23   \n",
       "36306                2     Friday         July  2014           18   \n",
       "26881                5     Sunday          May  2015            8   \n",
       "3469                 1    Tuesday      January  2012            3   \n",
       "\n",
       "       pickup_day_no  minute  Distance Pickup_timeofday  \n",
       "18991              0      54  7.926763        Afternoon  \n",
       "41632              3       6  6.658997       Late Night  \n",
       "36306              4      27  3.821299          Evening  \n",
       "26881              6      50  1.441394          Morning  \n",
       "3469               1      30  6.225487       Late Night  "
      ]
     },
     "execution_count": 21,
     "metadata": {},
     "output_type": "execute_result"
    }
   ],
   "source": [
    "df['Pickup_timeofday'] = df['pickup_hour'].apply(Duration)\n",
    "df.head()"
   ]
  },
  {
   "cell_type": "markdown",
   "id": "a4a0c75d",
   "metadata": {},
   "source": [
    "# EDA"
   ]
  },
  {
   "cell_type": "code",
   "execution_count": 22,
   "id": "85929421",
   "metadata": {},
   "outputs": [
    {
     "data": {
      "text/html": [
       "<div>\n",
       "<style scoped>\n",
       "    .dataframe tbody tr th:only-of-type {\n",
       "        vertical-align: middle;\n",
       "    }\n",
       "\n",
       "    .dataframe tbody tr th {\n",
       "        vertical-align: top;\n",
       "    }\n",
       "\n",
       "    .dataframe thead th {\n",
       "        text-align: right;\n",
       "    }\n",
       "</style>\n",
       "<table border=\"1\" class=\"dataframe\">\n",
       "  <thead>\n",
       "    <tr style=\"text-align: right;\">\n",
       "      <th></th>\n",
       "      <th>unique_id</th>\n",
       "      <th>amount</th>\n",
       "      <th>date_time_of_pickup</th>\n",
       "      <th>longitude_of_pickup</th>\n",
       "      <th>latitude_of_pickup</th>\n",
       "      <th>longitude_of_dropoff</th>\n",
       "      <th>latitude_of_dropoff</th>\n",
       "      <th>no_of_passenger</th>\n",
       "      <th>pickup_day</th>\n",
       "      <th>pickup_month</th>\n",
       "      <th>year</th>\n",
       "      <th>pickup_hour</th>\n",
       "      <th>pickup_day_no</th>\n",
       "      <th>minute</th>\n",
       "      <th>Distance</th>\n",
       "      <th>Pickup_timeofday</th>\n",
       "    </tr>\n",
       "  </thead>\n",
       "  <tbody>\n",
       "    <tr>\n",
       "      <th>18991</th>\n",
       "      <td>54:00.0</td>\n",
       "      <td>6.1</td>\n",
       "      <td>2011-11-28 15:54:00</td>\n",
       "      <td>-73.875380</td>\n",
       "      <td>40.773810</td>\n",
       "      <td>-73.967785</td>\n",
       "      <td>40.760247</td>\n",
       "      <td>1</td>\n",
       "      <td>Monday</td>\n",
       "      <td>November</td>\n",
       "      <td>2011</td>\n",
       "      <td>15</td>\n",
       "      <td>0</td>\n",
       "      <td>54</td>\n",
       "      <td>7.926763</td>\n",
       "      <td>Afternoon</td>\n",
       "    </tr>\n",
       "    <tr>\n",
       "      <th>41632</th>\n",
       "      <td>06:07.0</td>\n",
       "      <td>17.5</td>\n",
       "      <td>2015-06-04 23:06:07</td>\n",
       "      <td>-74.006149</td>\n",
       "      <td>40.727226</td>\n",
       "      <td>-73.981560</td>\n",
       "      <td>40.784142</td>\n",
       "      <td>1</td>\n",
       "      <td>Thursday</td>\n",
       "      <td>June</td>\n",
       "      <td>2015</td>\n",
       "      <td>23</td>\n",
       "      <td>3</td>\n",
       "      <td>6</td>\n",
       "      <td>6.658997</td>\n",
       "      <td>Late Night</td>\n",
       "    </tr>\n",
       "    <tr>\n",
       "      <th>36306</th>\n",
       "      <td>27:00.0</td>\n",
       "      <td>21.0</td>\n",
       "      <td>2014-07-25 18:27:00</td>\n",
       "      <td>-73.974907</td>\n",
       "      <td>40.765105</td>\n",
       "      <td>-74.006922</td>\n",
       "      <td>40.740757</td>\n",
       "      <td>2</td>\n",
       "      <td>Friday</td>\n",
       "      <td>July</td>\n",
       "      <td>2014</td>\n",
       "      <td>18</td>\n",
       "      <td>4</td>\n",
       "      <td>27</td>\n",
       "      <td>3.821299</td>\n",
       "      <td>Evening</td>\n",
       "    </tr>\n",
       "    <tr>\n",
       "      <th>26881</th>\n",
       "      <td>50:32.0</td>\n",
       "      <td>5.5</td>\n",
       "      <td>2015-05-24 08:50:32</td>\n",
       "      <td>-73.968468</td>\n",
       "      <td>40.799229</td>\n",
       "      <td>-73.961601</td>\n",
       "      <td>40.811104</td>\n",
       "      <td>5</td>\n",
       "      <td>Sunday</td>\n",
       "      <td>May</td>\n",
       "      <td>2015</td>\n",
       "      <td>8</td>\n",
       "      <td>6</td>\n",
       "      <td>50</td>\n",
       "      <td>1.441394</td>\n",
       "      <td>Morning</td>\n",
       "    </tr>\n",
       "    <tr>\n",
       "      <th>3469</th>\n",
       "      <td>30:38.0</td>\n",
       "      <td>13.3</td>\n",
       "      <td>2012-01-31 03:30:38</td>\n",
       "      <td>-73.939994</td>\n",
       "      <td>40.793948</td>\n",
       "      <td>-73.994143</td>\n",
       "      <td>40.755829</td>\n",
       "      <td>1</td>\n",
       "      <td>Tuesday</td>\n",
       "      <td>January</td>\n",
       "      <td>2012</td>\n",
       "      <td>3</td>\n",
       "      <td>1</td>\n",
       "      <td>30</td>\n",
       "      <td>6.225487</td>\n",
       "      <td>Late Night</td>\n",
       "    </tr>\n",
       "  </tbody>\n",
       "</table>\n",
       "</div>"
      ],
      "text/plain": [
       "      unique_id  amount date_time_of_pickup  longitude_of_pickup  \\\n",
       "18991   54:00.0     6.1 2011-11-28 15:54:00           -73.875380   \n",
       "41632   06:07.0    17.5 2015-06-04 23:06:07           -74.006149   \n",
       "36306   27:00.0    21.0 2014-07-25 18:27:00           -73.974907   \n",
       "26881   50:32.0     5.5 2015-05-24 08:50:32           -73.968468   \n",
       "3469    30:38.0    13.3 2012-01-31 03:30:38           -73.939994   \n",
       "\n",
       "       latitude_of_pickup  longitude_of_dropoff  latitude_of_dropoff  \\\n",
       "18991           40.773810            -73.967785            40.760247   \n",
       "41632           40.727226            -73.981560            40.784142   \n",
       "36306           40.765105            -74.006922            40.740757   \n",
       "26881           40.799229            -73.961601            40.811104   \n",
       "3469            40.793948            -73.994143            40.755829   \n",
       "\n",
       "       no_of_passenger pickup_day pickup_month  year  pickup_hour  \\\n",
       "18991                1     Monday     November  2011           15   \n",
       "41632                1   Thursday         June  2015           23   \n",
       "36306                2     Friday         July  2014           18   \n",
       "26881                5     Sunday          May  2015            8   \n",
       "3469                 1    Tuesday      January  2012            3   \n",
       "\n",
       "       pickup_day_no  minute  Distance Pickup_timeofday  \n",
       "18991              0      54  7.926763        Afternoon  \n",
       "41632              3       6  6.658997       Late Night  \n",
       "36306              4      27  3.821299          Evening  \n",
       "26881              6      50  1.441394          Morning  \n",
       "3469               1      30  6.225487       Late Night  "
      ]
     },
     "execution_count": 22,
     "metadata": {},
     "output_type": "execute_result"
    }
   ],
   "source": [
    "df.head()"
   ]
  },
  {
   "cell_type": "code",
   "execution_count": 23,
   "id": "56caa61e",
   "metadata": {},
   "outputs": [],
   "source": [
    "## Univariate Analysis"
   ]
  },
  {
   "cell_type": "code",
   "execution_count": 24,
   "id": "e6e5a950",
   "metadata": {},
   "outputs": [
    {
     "data": {
      "text/plain": [
       "<matplotlib.lines.Line2D at 0x1eb9fc0ffd0>"
      ]
     },
     "execution_count": 24,
     "metadata": {},
     "output_type": "execute_result"
    },
    {
     "data": {
      "image/png": "[encoded data removed]",
      "text/plain": [
       "<Figure size 864x576 with 1 Axes>"
      ]
     },
     "metadata": {
      "needs_background": "light"
     },
     "output_type": "display_data"
    }
   ],
   "source": [
    "#1.Amount\n",
    "\n",
    "plt.figure(figsize=(12,8))\n",
    "sns.distplot(df['amount'],color='orange')\n",
    "mean = df['amount'].mean()\n",
    "plt.axvline(mean,0,1,color='red')"
   ]
  },
  {
   "cell_type": "code",
   "execution_count": 25,
   "id": "df61f487",
   "metadata": {},
   "outputs": [
    {
     "data": {
      "text/plain": [
       "<matplotlib.lines.Line2D at 0x1eba9031640>"
      ]
     },
     "execution_count": 25,
     "metadata": {},
     "output_type": "execute_result"
    },
    {
     "data": {
      "image/png": "[encoded data removed]",
      "text/plain": [
       "<Figure size 864x576 with 1 Axes>"
      ]
     },
     "metadata": {
      "needs_background": "light"
     },
     "output_type": "display_data"
    }
   ],
   "source": [
    "# 2.Distance\n",
    "\n",
    "plt.figure(figsize=(12,8))\n",
    "sns.distplot(df['Distance'],color='orange')\n",
    "mean = df['Distance'].mean()\n",
    "plt.axvline(mean,0,1,color='red')"
   ]
  },
  {
   "cell_type": "code",
   "execution_count": 26,
   "id": "17acd7eb",
   "metadata": {},
   "outputs": [
    {
     "data": {
      "image/png": "[encoded data removed]",
      "text/plain": [
       "<Figure size 864x576 with 1 Axes>"
      ]
     },
     "metadata": {
      "needs_background": "light"
     },
     "output_type": "display_data"
    }
   ],
   "source": [
    "# 3. Pasenger Count\n",
    "plt.figure(figsize=(12,8))\n",
    "ax = sns.countplot(df['no_of_passenger'],palette ='Set2')\n",
    "ax.bar_label(ax.containers[0]);"
   ]
  },
  {
   "cell_type": "code",
   "execution_count": 27,
   "id": "ec30081c",
   "metadata": {},
   "outputs": [
    {
     "data": {
      "image/png": "[encoded data removed]",
      "text/plain": [
       "<Figure size 864x576 with 1 Axes>"
      ]
     },
     "metadata": {
      "needs_background": "light"
     },
     "output_type": "display_data"
    }
   ],
   "source": [
    "# 4.pickup_timeofday\n",
    "plt.figure(figsize=(12,8))\n",
    "ax = sns.countplot(df['Pickup_timeofday'],palette ='icefire')\n",
    "ax.bar_label(ax.containers[0]);"
   ]
  },
  {
   "cell_type": "code",
   "execution_count": 28,
   "id": "dbe88aea",
   "metadata": {},
   "outputs": [
    {
     "data": {
      "image/png": "[encoded data removed]",
      "text/plain": [
       "<Figure size 864x576 with 1 Axes>"
      ]
     },
     "metadata": {
      "needs_background": "light"
     },
     "output_type": "display_data"
    }
   ],
   "source": [
    "# 5.Year\n",
    "plt.figure(figsize=(12,8))\n",
    "ax = sns.countplot(df['year'],palette ='icefire')\n",
    "ax.bar_label(ax.containers[0]);"
   ]
  },
  {
   "cell_type": "code",
   "execution_count": 29,
   "id": "9f5d6b8c",
   "metadata": {},
   "outputs": [
    {
     "data": {
      "image/png": "[encoded data removed]",
      "text/plain": [
       "<Figure size 1728x720 with 1 Axes>"
      ]
     },
     "metadata": {
      "needs_background": "light"
     },
     "output_type": "display_data"
    }
   ],
   "source": [
    "# 5.pickup_hour\n",
    "plt.figure(figsize=(24,10))\n",
    "ax = sns.countplot(df['pickup_hour'],palette ='cubehelix')\n",
    "plt.xticks(fontsize=10,weight='bold')\n",
    "plt.yticks(fontsize=10,weight='bold')\n",
    "ax.bar_label(ax.containers[0]);"
   ]
  },
  {
   "cell_type": "code",
   "execution_count": 30,
   "id": "92470250",
   "metadata": {},
   "outputs": [
    {
     "data": {
      "image/png": "[encoded data removed]",
      "text/plain": [
       "<Figure size 1080x576 with 1 Axes>"
      ]
     },
     "metadata": {
      "needs_background": "light"
     },
     "output_type": "display_data"
    }
   ],
   "source": [
    "# 6.pickup_month\n",
    "plt.figure(figsize=(15,8))\n",
    "ax = sns.countplot(df['pickup_month'],palette ='icefire')\n",
    "plt.xticks(rotation=25)\n",
    "ax.bar_label(ax.containers[0]);"
   ]
  },
  {
   "cell_type": "code",
   "execution_count": 31,
   "id": "09b49fab",
   "metadata": {},
   "outputs": [
    {
     "data": {
      "image/png": "[encoded data removed]",
      "text/plain": [
       "<Figure size 1080x576 with 1 Axes>"
      ]
     },
     "metadata": {
      "needs_background": "light"
     },
     "output_type": "display_data"
    }
   ],
   "source": [
    "# 7.pickup_day\n",
    "plt.figure(figsize=(15,8))\n",
    "ax = sns.countplot(df['pickup_day'],palette ='coolwarm')\n",
    "plt.xticks(rotation=25)\n",
    "ax.bar_label(ax.containers[0]);"
   ]
  },
  {
   "cell_type": "code",
   "execution_count": 32,
   "id": "26ded18c",
   "metadata": {},
   "outputs": [],
   "source": [
    "## MultiVariate Analysis"
   ]
  },
  {
   "cell_type": "code",
   "execution_count": 33,
   "id": "55162699",
   "metadata": {},
   "outputs": [
    {
     "data": {
      "text/html": [
       "<div>\n",
       "<style scoped>\n",
       "    .dataframe tbody tr th:only-of-type {\n",
       "        vertical-align: middle;\n",
       "    }\n",
       "\n",
       "    .dataframe tbody tr th {\n",
       "        vertical-align: top;\n",
       "    }\n",
       "\n",
       "    .dataframe thead th {\n",
       "        text-align: right;\n",
       "    }\n",
       "</style>\n",
       "<table border=\"1\" class=\"dataframe\">\n",
       "  <thead>\n",
       "    <tr style=\"text-align: right;\">\n",
       "      <th></th>\n",
       "      <th>unique_id</th>\n",
       "      <th>amount</th>\n",
       "      <th>date_time_of_pickup</th>\n",
       "      <th>longitude_of_pickup</th>\n",
       "      <th>latitude_of_pickup</th>\n",
       "      <th>longitude_of_dropoff</th>\n",
       "      <th>latitude_of_dropoff</th>\n",
       "      <th>no_of_passenger</th>\n",
       "      <th>pickup_day</th>\n",
       "      <th>pickup_month</th>\n",
       "      <th>year</th>\n",
       "      <th>pickup_hour</th>\n",
       "      <th>pickup_day_no</th>\n",
       "      <th>minute</th>\n",
       "      <th>Distance</th>\n",
       "      <th>Pickup_timeofday</th>\n",
       "    </tr>\n",
       "  </thead>\n",
       "  <tbody>\n",
       "    <tr>\n",
       "      <th>18991</th>\n",
       "      <td>54:00.0</td>\n",
       "      <td>6.1</td>\n",
       "      <td>2011-11-28 15:54:00</td>\n",
       "      <td>-73.875380</td>\n",
       "      <td>40.773810</td>\n",
       "      <td>-73.967785</td>\n",
       "      <td>40.760247</td>\n",
       "      <td>1</td>\n",
       "      <td>Monday</td>\n",
       "      <td>November</td>\n",
       "      <td>2011</td>\n",
       "      <td>15</td>\n",
       "      <td>0</td>\n",
       "      <td>54</td>\n",
       "      <td>7.926763</td>\n",
       "      <td>Afternoon</td>\n",
       "    </tr>\n",
       "    <tr>\n",
       "      <th>41632</th>\n",
       "      <td>06:07.0</td>\n",
       "      <td>17.5</td>\n",
       "      <td>2015-06-04 23:06:07</td>\n",
       "      <td>-74.006149</td>\n",
       "      <td>40.727226</td>\n",
       "      <td>-73.981560</td>\n",
       "      <td>40.784142</td>\n",
       "      <td>1</td>\n",
       "      <td>Thursday</td>\n",
       "      <td>June</td>\n",
       "      <td>2015</td>\n",
       "      <td>23</td>\n",
       "      <td>3</td>\n",
       "      <td>6</td>\n",
       "      <td>6.658997</td>\n",
       "      <td>Late Night</td>\n",
       "    </tr>\n",
       "  </tbody>\n",
       "</table>\n",
       "</div>"
      ],
      "text/plain": [
       "      unique_id  amount date_time_of_pickup  longitude_of_pickup  \\\n",
       "18991   54:00.0     6.1 2011-11-28 15:54:00           -73.875380   \n",
       "41632   06:07.0    17.5 2015-06-04 23:06:07           -74.006149   \n",
       "\n",
       "       latitude_of_pickup  longitude_of_dropoff  latitude_of_dropoff  \\\n",
       "18991           40.773810            -73.967785            40.760247   \n",
       "41632           40.727226            -73.981560            40.784142   \n",
       "\n",
       "       no_of_passenger pickup_day pickup_month  year  pickup_hour  \\\n",
       "18991                1     Monday     November  2011           15   \n",
       "41632                1   Thursday         June  2015           23   \n",
       "\n",
       "       pickup_day_no  minute  Distance Pickup_timeofday  \n",
       "18991              0      54  7.926763        Afternoon  \n",
       "41632              3       6  6.658997       Late Night  "
      ]
     },
     "execution_count": 33,
     "metadata": {},
     "output_type": "execute_result"
    }
   ],
   "source": [
    "df.head(2)"
   ]
  },
  {
   "cell_type": "code",
   "execution_count": 34,
   "id": "a141faf8",
   "metadata": {},
   "outputs": [
    {
     "data": {
      "text/plain": [
       "<AxesSubplot:xlabel='Distance', ylabel='amount'>"
      ]
     },
     "execution_count": 34,
     "metadata": {},
     "output_type": "execute_result"
    },
    {
     "data": {
      "image/png": "[encoded data removed]",
      "text/plain": [
       "<Figure size 864x576 with 1 Axes>"
      ]
     },
     "metadata": {
      "needs_background": "light"
     },
     "output_type": "display_data"
    }
   ],
   "source": [
    "# 1. Price vs Distance\n",
    "\n",
    "plt.figure(figsize=(12,8))\n",
    "sns.scatterplot(x='Distance',y='amount',data=df,hue = 'no_of_passenger',markers='*',palette='Set2')\n"
   ]
  },
  {
   "cell_type": "code",
   "execution_count": 35,
   "id": "d316f57e",
   "metadata": {},
   "outputs": [
    {
     "data": {
      "image/png": "[encoded data removed]",
      "text/plain": [
       "<Figure size 720x432 with 1 Axes>"
      ]
     },
     "metadata": {
      "needs_background": "light"
     },
     "output_type": "display_data"
    }
   ],
   "source": [
    "## 2. Amount Total vs number of passenger\n",
    "\n",
    "Amount_total_bypassenger = df.groupby('no_of_passenger')['amount'].sum().reset_index(name='Total Amount')\n",
    "plt.figure(figsize=(10,6))\n",
    "ax = sns.barplot(Amount_total_bypassenger['no_of_passenger'],Amount_total_bypassenger['Total Amount'],palette ='coolwarm')\n",
    "ax.bar_label(ax.containers[0]);"
   ]
  },
  {
   "cell_type": "code",
   "execution_count": 36,
   "id": "46e3ed68",
   "metadata": {},
   "outputs": [
    {
     "data": {
      "image/png": "[encoded data removed]",
      "text/plain": [
       "<Figure size 720x432 with 1 Axes>"
      ]
     },
     "metadata": {
      "needs_background": "light"
     },
     "output_type": "display_data"
    }
   ],
   "source": [
    "## 3. Amount Total vs pickup time\n",
    "\n",
    "Amount_total_bypickuptime = df.groupby('Pickup_timeofday')['amount'].sum().reset_index(name='Total Amount')\n",
    "plt.figure(figsize=(10,6))\n",
    "ax = sns.barplot(Amount_total_bypickuptime['Pickup_timeofday'],Amount_total_bypickuptime['Total Amount'],palette ='coolwarm')\n",
    "ax.bar_label(ax.containers[0]);"
   ]
  },
  {
   "cell_type": "markdown",
   "id": "3bc543d3",
   "metadata": {},
   "source": [
    "# Data Preprocessing"
   ]
  },
  {
   "cell_type": "code",
   "execution_count": 37,
   "id": "420dda0b",
   "metadata": {},
   "outputs": [],
   "source": [
    "df.drop(['unique_id','date_time_of_pickup'],axis=1,inplace=True)"
   ]
  },
  {
   "cell_type": "code",
   "execution_count": 38,
   "id": "034eb422",
   "metadata": {},
   "outputs": [
    {
     "data": {
      "text/html": [
       "<div>\n",
       "<style scoped>\n",
       "    .dataframe tbody tr th:only-of-type {\n",
       "        vertical-align: middle;\n",
       "    }\n",
       "\n",
       "    .dataframe tbody tr th {\n",
       "        vertical-align: top;\n",
       "    }\n",
       "\n",
       "    .dataframe thead th {\n",
       "        text-align: right;\n",
       "    }\n",
       "</style>\n",
       "<table border=\"1\" class=\"dataframe\">\n",
       "  <thead>\n",
       "    <tr style=\"text-align: right;\">\n",
       "      <th></th>\n",
       "      <th>amount</th>\n",
       "      <th>longitude_of_pickup</th>\n",
       "      <th>latitude_of_pickup</th>\n",
       "      <th>longitude_of_dropoff</th>\n",
       "      <th>latitude_of_dropoff</th>\n",
       "      <th>no_of_passenger</th>\n",
       "      <th>pickup_day</th>\n",
       "      <th>pickup_month</th>\n",
       "      <th>year</th>\n",
       "      <th>pickup_hour</th>\n",
       "      <th>pickup_day_no</th>\n",
       "      <th>minute</th>\n",
       "      <th>Distance</th>\n",
       "      <th>Pickup_timeofday</th>\n",
       "    </tr>\n",
       "  </thead>\n",
       "  <tbody>\n",
       "    <tr>\n",
       "      <th>18991</th>\n",
       "      <td>6.1</td>\n",
       "      <td>-73.875380</td>\n",
       "      <td>40.773810</td>\n",
       "      <td>-73.967785</td>\n",
       "      <td>40.760247</td>\n",
       "      <td>1</td>\n",
       "      <td>Monday</td>\n",
       "      <td>November</td>\n",
       "      <td>2011</td>\n",
       "      <td>15</td>\n",
       "      <td>0</td>\n",
       "      <td>54</td>\n",
       "      <td>7.926763</td>\n",
       "      <td>Afternoon</td>\n",
       "    </tr>\n",
       "    <tr>\n",
       "      <th>41632</th>\n",
       "      <td>17.5</td>\n",
       "      <td>-74.006149</td>\n",
       "      <td>40.727226</td>\n",
       "      <td>-73.981560</td>\n",
       "      <td>40.784142</td>\n",
       "      <td>1</td>\n",
       "      <td>Thursday</td>\n",
       "      <td>June</td>\n",
       "      <td>2015</td>\n",
       "      <td>23</td>\n",
       "      <td>3</td>\n",
       "      <td>6</td>\n",
       "      <td>6.658997</td>\n",
       "      <td>Late Night</td>\n",
       "    </tr>\n",
       "    <tr>\n",
       "      <th>36306</th>\n",
       "      <td>21.0</td>\n",
       "      <td>-73.974907</td>\n",
       "      <td>40.765105</td>\n",
       "      <td>-74.006922</td>\n",
       "      <td>40.740757</td>\n",
       "      <td>2</td>\n",
       "      <td>Friday</td>\n",
       "      <td>July</td>\n",
       "      <td>2014</td>\n",
       "      <td>18</td>\n",
       "      <td>4</td>\n",
       "      <td>27</td>\n",
       "      <td>3.821299</td>\n",
       "      <td>Evening</td>\n",
       "    </tr>\n",
       "    <tr>\n",
       "      <th>26881</th>\n",
       "      <td>5.5</td>\n",
       "      <td>-73.968468</td>\n",
       "      <td>40.799229</td>\n",
       "      <td>-73.961601</td>\n",
       "      <td>40.811104</td>\n",
       "      <td>5</td>\n",
       "      <td>Sunday</td>\n",
       "      <td>May</td>\n",
       "      <td>2015</td>\n",
       "      <td>8</td>\n",
       "      <td>6</td>\n",
       "      <td>50</td>\n",
       "      <td>1.441394</td>\n",
       "      <td>Morning</td>\n",
       "    </tr>\n",
       "    <tr>\n",
       "      <th>3469</th>\n",
       "      <td>13.3</td>\n",
       "      <td>-73.939994</td>\n",
       "      <td>40.793948</td>\n",
       "      <td>-73.994143</td>\n",
       "      <td>40.755829</td>\n",
       "      <td>1</td>\n",
       "      <td>Tuesday</td>\n",
       "      <td>January</td>\n",
       "      <td>2012</td>\n",
       "      <td>3</td>\n",
       "      <td>1</td>\n",
       "      <td>30</td>\n",
       "      <td>6.225487</td>\n",
       "      <td>Late Night</td>\n",
       "    </tr>\n",
       "  </tbody>\n",
       "</table>\n",
       "</div>"
      ],
      "text/plain": [
       "       amount  longitude_of_pickup  latitude_of_pickup  longitude_of_dropoff  \\\n",
       "18991     6.1           -73.875380           40.773810            -73.967785   \n",
       "41632    17.5           -74.006149           40.727226            -73.981560   \n",
       "36306    21.0           -73.974907           40.765105            -74.006922   \n",
       "26881     5.5           -73.968468           40.799229            -73.961601   \n",
       "3469     13.3           -73.939994           40.793948            -73.994143   \n",
       "\n",
       "       latitude_of_dropoff  no_of_passenger pickup_day pickup_month  year  \\\n",
       "18991            40.760247                1     Monday     November  2011   \n",
       "41632            40.784142                1   Thursday         June  2015   \n",
       "36306            40.740757                2     Friday         July  2014   \n",
       "26881            40.811104                5     Sunday          May  2015   \n",
       "3469             40.755829                1    Tuesday      January  2012   \n",
       "\n",
       "       pickup_hour  pickup_day_no  minute  Distance Pickup_timeofday  \n",
       "18991           15              0      54  7.926763        Afternoon  \n",
       "41632           23              3       6  6.658997       Late Night  \n",
       "36306           18              4      27  3.821299          Evening  \n",
       "26881            8              6      50  1.441394          Morning  \n",
       "3469             3              1      30  6.225487       Late Night  "
      ]
     },
     "execution_count": 38,
     "metadata": {},
     "output_type": "execute_result"
    }
   ],
   "source": [
    "df.head()"
   ]
  },
  {
   "cell_type": "code",
   "execution_count": 39,
   "id": "57204264",
   "metadata": {},
   "outputs": [],
   "source": [
    "df2 = df.copy()"
   ]
  },
  {
   "cell_type": "code",
   "execution_count": 40,
   "id": "b80a4683",
   "metadata": {},
   "outputs": [
    {
     "data": {
      "text/plain": [
       "array(['Monday', 'Thursday', 'Friday', 'Sunday', 'Tuesday', 'Wednesday',\n",
       "       'Saturday'], dtype=object)"
      ]
     },
     "execution_count": 40,
     "metadata": {},
     "output_type": "execute_result"
    }
   ],
   "source": [
    "df2['pickup_day'].unique()"
   ]
  },
  {
   "cell_type": "code",
   "execution_count": 41,
   "id": "372b2bbf",
   "metadata": {},
   "outputs": [],
   "source": [
    "df2.drop(['pickup_day'],axis=1,inplace=True)"
   ]
  },
  {
   "cell_type": "code",
   "execution_count": 42,
   "id": "96a20f5a",
   "metadata": {},
   "outputs": [
    {
     "data": {
      "text/plain": [
       "array([0, 3, 4, 6, 1, 2, 5], dtype=int64)"
      ]
     },
     "execution_count": 42,
     "metadata": {},
     "output_type": "execute_result"
    }
   ],
   "source": [
    "df2['pickup_day_no'].unique()"
   ]
  },
  {
   "cell_type": "code",
   "execution_count": 43,
   "id": "0afab71e",
   "metadata": {},
   "outputs": [
    {
     "data": {
      "text/plain": [
       "amount                  float64\n",
       "longitude_of_pickup     float64\n",
       "latitude_of_pickup      float64\n",
       "longitude_of_dropoff    float64\n",
       "latitude_of_dropoff     float64\n",
       "no_of_passenger           int64\n",
       "pickup_month             object\n",
       "year                      int64\n",
       "pickup_hour               int64\n",
       "pickup_day_no             int64\n",
       "minute                    int64\n",
       "Distance                float64\n",
       "Pickup_timeofday         object\n",
       "dtype: object"
      ]
     },
     "execution_count": 43,
     "metadata": {},
     "output_type": "execute_result"
    }
   ],
   "source": [
    "df2.dtypes"
   ]
  },
  {
   "cell_type": "code",
   "execution_count": 44,
   "id": "4b87af07",
   "metadata": {},
   "outputs": [
    {
     "data": {
      "text/html": [
       "<div>\n",
       "<style scoped>\n",
       "    .dataframe tbody tr th:only-of-type {\n",
       "        vertical-align: middle;\n",
       "    }\n",
       "\n",
       "    .dataframe tbody tr th {\n",
       "        vertical-align: top;\n",
       "    }\n",
       "\n",
       "    .dataframe thead th {\n",
       "        text-align: right;\n",
       "    }\n",
       "</style>\n",
       "<table border=\"1\" class=\"dataframe\">\n",
       "  <thead>\n",
       "    <tr style=\"text-align: right;\">\n",
       "      <th></th>\n",
       "      <th>amount</th>\n",
       "      <th>longitude_of_pickup</th>\n",
       "      <th>latitude_of_pickup</th>\n",
       "      <th>longitude_of_dropoff</th>\n",
       "      <th>latitude_of_dropoff</th>\n",
       "      <th>no_of_passenger</th>\n",
       "      <th>year</th>\n",
       "      <th>pickup_hour</th>\n",
       "      <th>pickup_day_no</th>\n",
       "      <th>minute</th>\n",
       "      <th>...</th>\n",
       "      <th>pickup_month_June</th>\n",
       "      <th>pickup_month_March</th>\n",
       "      <th>pickup_month_May</th>\n",
       "      <th>pickup_month_November</th>\n",
       "      <th>pickup_month_October</th>\n",
       "      <th>pickup_month_September</th>\n",
       "      <th>Pickup_timeofday_Afternoon</th>\n",
       "      <th>Pickup_timeofday_Evening</th>\n",
       "      <th>Pickup_timeofday_Late Night</th>\n",
       "      <th>Pickup_timeofday_Morning</th>\n",
       "    </tr>\n",
       "  </thead>\n",
       "  <tbody>\n",
       "    <tr>\n",
       "      <th>18991</th>\n",
       "      <td>6.1</td>\n",
       "      <td>-73.875380</td>\n",
       "      <td>40.773810</td>\n",
       "      <td>-73.967785</td>\n",
       "      <td>40.760247</td>\n",
       "      <td>1</td>\n",
       "      <td>2011</td>\n",
       "      <td>15</td>\n",
       "      <td>0</td>\n",
       "      <td>54</td>\n",
       "      <td>...</td>\n",
       "      <td>0</td>\n",
       "      <td>0</td>\n",
       "      <td>0</td>\n",
       "      <td>1</td>\n",
       "      <td>0</td>\n",
       "      <td>0</td>\n",
       "      <td>1</td>\n",
       "      <td>0</td>\n",
       "      <td>0</td>\n",
       "      <td>0</td>\n",
       "    </tr>\n",
       "    <tr>\n",
       "      <th>41632</th>\n",
       "      <td>17.5</td>\n",
       "      <td>-74.006149</td>\n",
       "      <td>40.727226</td>\n",
       "      <td>-73.981560</td>\n",
       "      <td>40.784142</td>\n",
       "      <td>1</td>\n",
       "      <td>2015</td>\n",
       "      <td>23</td>\n",
       "      <td>3</td>\n",
       "      <td>6</td>\n",
       "      <td>...</td>\n",
       "      <td>1</td>\n",
       "      <td>0</td>\n",
       "      <td>0</td>\n",
       "      <td>0</td>\n",
       "      <td>0</td>\n",
       "      <td>0</td>\n",
       "      <td>0</td>\n",
       "      <td>0</td>\n",
       "      <td>1</td>\n",
       "      <td>0</td>\n",
       "    </tr>\n",
       "    <tr>\n",
       "      <th>36306</th>\n",
       "      <td>21.0</td>\n",
       "      <td>-73.974907</td>\n",
       "      <td>40.765105</td>\n",
       "      <td>-74.006922</td>\n",
       "      <td>40.740757</td>\n",
       "      <td>2</td>\n",
       "      <td>2014</td>\n",
       "      <td>18</td>\n",
       "      <td>4</td>\n",
       "      <td>27</td>\n",
       "      <td>...</td>\n",
       "      <td>0</td>\n",
       "      <td>0</td>\n",
       "      <td>0</td>\n",
       "      <td>0</td>\n",
       "      <td>0</td>\n",
       "      <td>0</td>\n",
       "      <td>0</td>\n",
       "      <td>1</td>\n",
       "      <td>0</td>\n",
       "      <td>0</td>\n",
       "    </tr>\n",
       "    <tr>\n",
       "      <th>26881</th>\n",
       "      <td>5.5</td>\n",
       "      <td>-73.968468</td>\n",
       "      <td>40.799229</td>\n",
       "      <td>-73.961601</td>\n",
       "      <td>40.811104</td>\n",
       "      <td>5</td>\n",
       "      <td>2015</td>\n",
       "      <td>8</td>\n",
       "      <td>6</td>\n",
       "      <td>50</td>\n",
       "      <td>...</td>\n",
       "      <td>0</td>\n",
       "      <td>0</td>\n",
       "      <td>1</td>\n",
       "      <td>0</td>\n",
       "      <td>0</td>\n",
       "      <td>0</td>\n",
       "      <td>0</td>\n",
       "      <td>0</td>\n",
       "      <td>0</td>\n",
       "      <td>1</td>\n",
       "    </tr>\n",
       "    <tr>\n",
       "      <th>3469</th>\n",
       "      <td>13.3</td>\n",
       "      <td>-73.939994</td>\n",
       "      <td>40.793948</td>\n",
       "      <td>-73.994143</td>\n",
       "      <td>40.755829</td>\n",
       "      <td>1</td>\n",
       "      <td>2012</td>\n",
       "      <td>3</td>\n",
       "      <td>1</td>\n",
       "      <td>30</td>\n",
       "      <td>...</td>\n",
       "      <td>0</td>\n",
       "      <td>0</td>\n",
       "      <td>0</td>\n",
       "      <td>0</td>\n",
       "      <td>0</td>\n",
       "      <td>0</td>\n",
       "      <td>0</td>\n",
       "      <td>0</td>\n",
       "      <td>1</td>\n",
       "      <td>0</td>\n",
       "    </tr>\n",
       "  </tbody>\n",
       "</table>\n",
       "<p>5 rows × 27 columns</p>\n",
       "</div>"
      ],
      "text/plain": [
       "       amount  longitude_of_pickup  latitude_of_pickup  longitude_of_dropoff  \\\n",
       "18991     6.1           -73.875380           40.773810            -73.967785   \n",
       "41632    17.5           -74.006149           40.727226            -73.981560   \n",
       "36306    21.0           -73.974907           40.765105            -74.006922   \n",
       "26881     5.5           -73.968468           40.799229            -73.961601   \n",
       "3469     13.3           -73.939994           40.793948            -73.994143   \n",
       "\n",
       "       latitude_of_dropoff  no_of_passenger  year  pickup_hour  pickup_day_no  \\\n",
       "18991            40.760247                1  2011           15              0   \n",
       "41632            40.784142                1  2015           23              3   \n",
       "36306            40.740757                2  2014           18              4   \n",
       "26881            40.811104                5  2015            8              6   \n",
       "3469             40.755829                1  2012            3              1   \n",
       "\n",
       "       minute  ...  pickup_month_June  pickup_month_March  pickup_month_May  \\\n",
       "18991      54  ...                  0                   0                 0   \n",
       "41632       6  ...                  1                   0                 0   \n",
       "36306      27  ...                  0                   0                 0   \n",
       "26881      50  ...                  0                   0                 1   \n",
       "3469       30  ...                  0                   0                 0   \n",
       "\n",
       "       pickup_month_November  pickup_month_October  pickup_month_September  \\\n",
       "18991                      1                     0                       0   \n",
       "41632                      0                     0                       0   \n",
       "36306                      0                     0                       0   \n",
       "26881                      0                     0                       0   \n",
       "3469                       0                     0                       0   \n",
       "\n",
       "       Pickup_timeofday_Afternoon  Pickup_timeofday_Evening  \\\n",
       "18991                           1                         0   \n",
       "41632                           0                         0   \n",
       "36306                           0                         1   \n",
       "26881                           0                         0   \n",
       "3469                            0                         0   \n",
       "\n",
       "       Pickup_timeofday_Late Night  Pickup_timeofday_Morning  \n",
       "18991                            0                         0  \n",
       "41632                            1                         0  \n",
       "36306                            0                         0  \n",
       "26881                            0                         1  \n",
       "3469                             1                         0  \n",
       "\n",
       "[5 rows x 27 columns]"
      ]
     },
     "execution_count": 44,
     "metadata": {},
     "output_type": "execute_result"
    }
   ],
   "source": [
    "df2 = pd.get_dummies(df2,columns = ['pickup_month','Pickup_timeofday'])\n",
    "df2.head()"
   ]
  },
  {
   "cell_type": "code",
   "execution_count": 45,
   "id": "6abcccec",
   "metadata": {},
   "outputs": [],
   "source": [
    "X = df2.drop('amount',axis=1)\n",
    "y = df2['amount']"
   ]
  },
  {
   "cell_type": "markdown",
   "id": "3fe961f8",
   "metadata": {},
   "source": [
    "# Model Building"
   ]
  },
  {
   "cell_type": "code",
   "execution_count": 46,
   "id": "16c83dcc",
   "metadata": {},
   "outputs": [],
   "source": [
    "from sklearn.experimental import enable_halving_search_cv\n",
    "from sklearn.model_selection import HalvingGridSearchCV\n",
    "from sklearn.model_selection import train_test_split\n",
    "from sklearn.metrics import r2_score,mean_absolute_error\n",
    "from sklearn import metrics\n",
    "from sklearn.ensemble import RandomForestRegressor\n",
    "from sklearn.ensemble import GradientBoostingRegressor\n",
    "from xgboost import XGBRegressor\n",
    "from lightgbm import LGBMRegressor\n",
    "\n",
    "import optuna\n",
    "\n",
    "from flaml import AutoML\n",
    "from flaml.ml import sklearn_metric_loss_score"
   ]
  },
  {
   "cell_type": "code",
   "execution_count": 48,
   "id": "af512dd7",
   "metadata": {},
   "outputs": [],
   "source": [
    "X_train,X_test,y_train,y_test = train_test_split(X,y,test_size=0.20,random_state=20)"
   ]
  },
  {
   "cell_type": "code",
   "execution_count": 49,
   "id": "08423d81",
   "metadata": {},
   "outputs": [
    {
     "data": {
      "text/html": [
       "<div>\n",
       "<style scoped>\n",
       "    .dataframe tbody tr th:only-of-type {\n",
       "        vertical-align: middle;\n",
       "    }\n",
       "\n",
       "    .dataframe tbody tr th {\n",
       "        vertical-align: top;\n",
       "    }\n",
       "\n",
       "    .dataframe thead th {\n",
       "        text-align: right;\n",
       "    }\n",
       "</style>\n",
       "<table border=\"1\" class=\"dataframe\">\n",
       "  <thead>\n",
       "    <tr style=\"text-align: right;\">\n",
       "      <th></th>\n",
       "      <th>longitude_of_pickup</th>\n",
       "      <th>latitude_of_pickup</th>\n",
       "      <th>longitude_of_dropoff</th>\n",
       "      <th>latitude_of_dropoff</th>\n",
       "      <th>no_of_passenger</th>\n",
       "      <th>year</th>\n",
       "      <th>pickup_hour</th>\n",
       "      <th>pickup_day_no</th>\n",
       "      <th>minute</th>\n",
       "      <th>Distance</th>\n",
       "      <th>...</th>\n",
       "      <th>pickup_month_June</th>\n",
       "      <th>pickup_month_March</th>\n",
       "      <th>pickup_month_May</th>\n",
       "      <th>pickup_month_November</th>\n",
       "      <th>pickup_month_October</th>\n",
       "      <th>pickup_month_September</th>\n",
       "      <th>Pickup_timeofday_Afternoon</th>\n",
       "      <th>Pickup_timeofday_Evening</th>\n",
       "      <th>Pickup_timeofday_Late Night</th>\n",
       "      <th>Pickup_timeofday_Morning</th>\n",
       "    </tr>\n",
       "  </thead>\n",
       "  <tbody>\n",
       "    <tr>\n",
       "      <th>28109</th>\n",
       "      <td>-74.005535</td>\n",
       "      <td>40.745772</td>\n",
       "      <td>-73.984122</td>\n",
       "      <td>40.757762</td>\n",
       "      <td>1</td>\n",
       "      <td>2013</td>\n",
       "      <td>14</td>\n",
       "      <td>0</td>\n",
       "      <td>21</td>\n",
       "      <td>2.242976</td>\n",
       "      <td>...</td>\n",
       "      <td>0</td>\n",
       "      <td>0</td>\n",
       "      <td>0</td>\n",
       "      <td>0</td>\n",
       "      <td>0</td>\n",
       "      <td>0</td>\n",
       "      <td>1</td>\n",
       "      <td>0</td>\n",
       "      <td>0</td>\n",
       "      <td>0</td>\n",
       "    </tr>\n",
       "    <tr>\n",
       "      <th>1212</th>\n",
       "      <td>-73.989740</td>\n",
       "      <td>40.733347</td>\n",
       "      <td>-73.987527</td>\n",
       "      <td>40.733556</td>\n",
       "      <td>1</td>\n",
       "      <td>2010</td>\n",
       "      <td>21</td>\n",
       "      <td>1</td>\n",
       "      <td>3</td>\n",
       "      <td>0.187907</td>\n",
       "      <td>...</td>\n",
       "      <td>0</td>\n",
       "      <td>1</td>\n",
       "      <td>0</td>\n",
       "      <td>0</td>\n",
       "      <td>0</td>\n",
       "      <td>0</td>\n",
       "      <td>0</td>\n",
       "      <td>1</td>\n",
       "      <td>0</td>\n",
       "      <td>0</td>\n",
       "    </tr>\n",
       "  </tbody>\n",
       "</table>\n",
       "<p>2 rows × 26 columns</p>\n",
       "</div>"
      ],
      "text/plain": [
       "       longitude_of_pickup  latitude_of_pickup  longitude_of_dropoff  \\\n",
       "28109           -74.005535           40.745772            -73.984122   \n",
       "1212            -73.989740           40.733347            -73.987527   \n",
       "\n",
       "       latitude_of_dropoff  no_of_passenger  year  pickup_hour  pickup_day_no  \\\n",
       "28109            40.757762                1  2013           14              0   \n",
       "1212             40.733556                1  2010           21              1   \n",
       "\n",
       "       minute  Distance  ...  pickup_month_June  pickup_month_March  \\\n",
       "28109      21  2.242976  ...                  0                   0   \n",
       "1212        3  0.187907  ...                  0                   1   \n",
       "\n",
       "       pickup_month_May  pickup_month_November  pickup_month_October  \\\n",
       "28109                 0                      0                     0   \n",
       "1212                  0                      0                     0   \n",
       "\n",
       "       pickup_month_September  Pickup_timeofday_Afternoon  \\\n",
       "28109                       0                           1   \n",
       "1212                        0                           0   \n",
       "\n",
       "       Pickup_timeofday_Evening  Pickup_timeofday_Late Night  \\\n",
       "28109                         0                            0   \n",
       "1212                          1                            0   \n",
       "\n",
       "       Pickup_timeofday_Morning  \n",
       "28109                         0  \n",
       "1212                          0  \n",
       "\n",
       "[2 rows x 26 columns]"
      ]
     },
     "execution_count": 49,
     "metadata": {},
     "output_type": "execute_result"
    }
   ],
   "source": [
    "X_train.head(2)"
   ]
  },
  {
   "cell_type": "code",
   "execution_count": 33,
   "id": "5e50fbaa",
   "metadata": {},
   "outputs": [
    {
     "data": {
      "text/plain": [
       "longitude_of_pickup            float64\n",
       "latitude_of_pickup             float64\n",
       "longitude_of_dropoff           float64\n",
       "latitude_of_dropoff            float64\n",
       "no_of_passenger                  int64\n",
       "year                             int64\n",
       "pickup_hour                      int64\n",
       "pickup_day_no                    int64\n",
       "minute                           int64\n",
       "Distance                       float64\n",
       "pickup_month_April               uint8\n",
       "pickup_month_August              uint8\n",
       "pickup_month_December            uint8\n",
       "pickup_month_February            uint8\n",
       "pickup_month_January             uint8\n",
       "pickup_month_July                uint8\n",
       "pickup_month_June                uint8\n",
       "pickup_month_March               uint8\n",
       "pickup_month_May                 uint8\n",
       "pickup_month_November            uint8\n",
       "pickup_month_October             uint8\n",
       "pickup_month_September           uint8\n",
       "Pickup_timeofday_Afternoon       uint8\n",
       "Pickup_timeofday_Evening         uint8\n",
       "Pickup_timeofday_Late Night      uint8\n",
       "Pickup_timeofday_Morning         uint8\n",
       "dtype: object"
      ]
     },
     "execution_count": 33,
     "metadata": {},
     "output_type": "execute_result"
    }
   ],
   "source": [
    "X_train.dtypes"
   ]
  },
  {
   "cell_type": "code",
   "execution_count": 50,
   "id": "674cb627",
   "metadata": {},
   "outputs": [],
   "source": [
    "import sklearn\n",
    "from sklearn import metrics"
   ]
  },
  {
   "cell_type": "code",
   "execution_count": 35,
   "id": "74110765",
   "metadata": {},
   "outputs": [
    {
     "name": "stdout",
     "output_type": "stream",
     "text": [
      "r2_score 0.762636707533258\n",
      "RMSE 4.333663688299345\n",
      "Score 0.9510428285159471\n"
     ]
    }
   ],
   "source": [
    "model1 = XGBRegressor(random_state=10)\n",
    "model1.fit(X_train,y_train)\n",
    "testing_predictions = model1.predict(X_test)\n",
    "training_predictions = model1.predict(X_train)\n",
    "print('r2_score',r2_score(testing_predictions,y_test))\n",
    "print('RMSE',np.sqrt(sklearn.metrics.mean_squared_error(testing_predictions,y_test)))\n",
    "print('Score',model1.score(X_train,y_train))"
   ]
  },
  {
   "cell_type": "code",
   "execution_count": 38,
   "id": "824ee3d5",
   "metadata": {},
   "outputs": [
    {
     "data": {
      "text/html": [
       "<div>\n",
       "<style scoped>\n",
       "    .dataframe tbody tr th:only-of-type {\n",
       "        vertical-align: middle;\n",
       "    }\n",
       "\n",
       "    .dataframe tbody tr th {\n",
       "        vertical-align: top;\n",
       "    }\n",
       "\n",
       "    .dataframe thead th {\n",
       "        text-align: right;\n",
       "    }\n",
       "</style>\n",
       "<table border=\"1\" class=\"dataframe\">\n",
       "  <thead>\n",
       "    <tr style=\"text-align: right;\">\n",
       "      <th></th>\n",
       "      <th>Predicted Price</th>\n",
       "      <th>Actual Price</th>\n",
       "    </tr>\n",
       "  </thead>\n",
       "  <tbody>\n",
       "    <tr>\n",
       "      <th>16801</th>\n",
       "      <td>10.758490</td>\n",
       "      <td>8.9</td>\n",
       "    </tr>\n",
       "    <tr>\n",
       "      <th>33957</th>\n",
       "      <td>6.163814</td>\n",
       "      <td>4.5</td>\n",
       "    </tr>\n",
       "    <tr>\n",
       "      <th>35121</th>\n",
       "      <td>12.227164</td>\n",
       "      <td>11.7</td>\n",
       "    </tr>\n",
       "    <tr>\n",
       "      <th>33552</th>\n",
       "      <td>6.428948</td>\n",
       "      <td>8.1</td>\n",
       "    </tr>\n",
       "    <tr>\n",
       "      <th>5967</th>\n",
       "      <td>4.554190</td>\n",
       "      <td>4.9</td>\n",
       "    </tr>\n",
       "  </tbody>\n",
       "</table>\n",
       "</div>"
      ],
      "text/plain": [
       "       Predicted Price  Actual Price\n",
       "16801        10.758490           8.9\n",
       "33957         6.163814           4.5\n",
       "35121        12.227164          11.7\n",
       "33552         6.428948           8.1\n",
       "5967          4.554190           4.9"
      ]
     },
     "execution_count": 38,
     "metadata": {},
     "output_type": "execute_result"
    }
   ],
   "source": [
    "model1_predictions = pd.DataFrame({'Predicted Price':testing_predictions,'Actual Price':y_test})\n",
    "model1_predictions.tail(5)"
   ]
  },
  {
   "cell_type": "markdown",
   "id": "e8da7b07",
   "metadata": {},
   "source": [
    "## Let's see which Models are best for our data\n",
    "\n",
    "Lazy Predict"
   ]
  },
  {
   "cell_type": "code",
   "execution_count": 47,
   "id": "0a671f47",
   "metadata": {},
   "outputs": [
    {
     "name": "stderr",
     "output_type": "stream",
     "text": [
      "100%|██████████████████████████████████████████████████████████████████████████████████| 41/41 [01:58<00:00,  2.89s/it]"
     ]
    },
    {
     "name": "stdout",
     "output_type": "stream",
     "text": [
      "                               Adjusted R-Squared  R-Squared  RMSE  Time Taken\n",
      "Model                                                                         \n",
      "LGBMRegressor                                0.82       0.82  3.70        0.58\n",
      "HistGradientBoostingRegressor                0.82       0.82  3.70        3.17\n",
      "RandomForestRegressor                        0.82       0.82  3.73       15.06\n",
      "ExtraTreesRegressor                          0.82       0.82  3.74        6.47\n",
      "XGBRegressor                                 0.82       0.82  3.75        2.33\n",
      "GradientBoostingRegressor                    0.81       0.81  3.80        4.11\n",
      "BaggingRegressor                             0.79       0.79  4.03        1.55\n",
      "MLPRegressor                                 0.77       0.77  4.22       15.57\n",
      "NuSVR                                        0.71       0.72  4.69       10.00\n",
      "SVR                                          0.71       0.71  4.73       14.26\n",
      "ExtraTreeRegressor                           0.66       0.67  5.09        0.07\n",
      "DecisionTreeRegressor                        0.66       0.66  5.13        0.99\n",
      "ElasticNetCV                                 0.62       0.62  5.43        0.85\n",
      "BayesianRidge                                0.62       0.62  5.44        1.92\n",
      "RidgeCV                                      0.62       0.62  5.44        0.06\n",
      "Ridge                                        0.62       0.62  5.44        0.04\n",
      "LinearRegression                             0.62       0.62  5.44        1.25\n",
      "TransformedTargetRegressor                   0.62       0.62  5.44        0.04\n",
      "Lars                                         0.62       0.62  5.44        0.36\n",
      "LassoLarsIC                                  0.61       0.62  5.45        0.06\n",
      "LassoCV                                      0.60       0.61  5.53        0.33\n",
      "LarsCV                                       0.60       0.61  5.54        0.19\n",
      "LassoLarsCV                                  0.60       0.61  5.54        0.17\n",
      "OrthogonalMatchingPursuitCV                  0.58       0.59  5.68        0.16\n",
      "OrthogonalMatchingPursuit                    0.58       0.59  5.68        0.33\n",
      "Lasso                                        0.57       0.58  5.73        0.05\n",
      "SGDRegressor                                 0.57       0.57  5.77        0.07\n",
      "KNeighborsRegressor                          0.57       0.57  5.79        0.71\n",
      "ElasticNet                                   0.54       0.55  5.95        0.26\n",
      "HuberRegressor                               0.54       0.54  5.96        0.81\n",
      "LinearSVR                                    0.54       0.54  5.98        0.55\n",
      "TweedieRegressor                             0.50       0.51  6.18        0.05\n",
      "RANSACRegressor                              0.49       0.50  6.26        0.23\n",
      "PassiveAggressiveRegressor                   0.42       0.42  6.70        0.11\n",
      "LassoLars                                   -0.01      -0.00  8.84        0.06\n",
      "DummyRegressor                              -0.01      -0.00  8.84        0.04\n",
      "GaussianProcessRegressor                    -0.47      -0.46 10.66       23.51\n",
      "KernelRidge                                 -1.06      -1.03 12.59       10.18\n",
      "AdaBoostRegressor                           -1.78      -1.74 14.63        1.70\n"
     ]
    },
    {
     "name": "stderr",
     "output_type": "stream",
     "text": [
      "\n"
     ]
    }
   ],
   "source": [
    "import lazypredict\n",
    "from lazypredict.Supervised import LazyRegressor\n",
    "\n",
    "X_train, X_test, y_train, y_test = train_test_split(X, y, test_size=.20 , random_state = 10)\n",
    "\n",
    "reg = LazyRegressor(verbose=0,ignore_warnings=True)\n",
    "models,predictions = reg.fit(X_train, X_test, y_train, y_test)\n",
    "print(models)"
   ]
  },
  {
   "cell_type": "markdown",
   "id": "c3b5c15c",
   "metadata": {},
   "source": [
    "# Model Optimisation"
   ]
  },
  {
   "cell_type": "markdown",
   "id": "278a0bfe",
   "metadata": {},
   "source": [
    "### 1.HalvingGridSearchCV"
   ]
  },
  {
   "cell_type": "code",
   "execution_count": 56,
   "id": "2c808466",
   "metadata": {},
   "outputs": [],
   "source": [
    "model_params = {\n",
    "     'xgboost':{\n",
    "        'model':XGBRegressor(),\n",
    "        'params':{\n",
    "            'n_estimators':[int(x) for x in np.linspace(100,1000,5)],\n",
    "            'learning_rate':[0.05,0.1],\n",
    "             'max_depth':[6, 8, 10, 12, 15],\n",
    "             \"gamma\":[ 0.0, 0.1, 0.2],\n",
    "        }\n",
    "    },\n",
    "    'lightgbm':{\n",
    "        'model':LGBMRegressor(),\n",
    "        'params':{\n",
    "            'num_leaves':[int(x) for x in np.linspace(start = 30,stop = 200,num = 5)],\n",
    "            'max_depth':[10,20,30],\n",
    "            'learning_rate':[0.05,0.1,0.001],\n",
    "            'n_estimators':[int(x) for x in np.linspace(start = 100,stop = 1000 ,num = 5)],\n",
    "            'boosting_type':['gbdt','dart']\n",
    "        }\n",
    "    }\n",
    "        \n",
    "}"
   ]
  },
  {
   "cell_type": "code",
   "execution_count": 57,
   "id": "4fbc1412",
   "metadata": {},
   "outputs": [
    {
     "name": "stdout",
     "output_type": "stream",
     "text": [
      "CPU times: total: 14min 12s\n",
      "Wall time: 3min 11s\n"
     ]
    }
   ],
   "source": [
    "%%time\n",
    "scores = []\n",
    "for model_name,mp in model_params.items():\n",
    "    clf = HalvingGridSearchCV(mp['model'],mp['params'],max_resources=40,random_state=100,n_jobs=-1,return_train_score=False)\n",
    "    clf.fit(X_train,y_train)\n",
    "    scores.append({\n",
    "        'model':model_name,\n",
    "        'best score':clf.best_score_,\n",
    "        'best_params':clf.best_params_\n",
    "    })"
   ]
  },
  {
   "cell_type": "code",
   "execution_count": 58,
   "id": "61c64b9c",
   "metadata": {},
   "outputs": [
    {
     "data": {
      "text/html": [
       "<div>\n",
       "<style scoped>\n",
       "    .dataframe tbody tr th:only-of-type {\n",
       "        vertical-align: middle;\n",
       "    }\n",
       "\n",
       "    .dataframe tbody tr th {\n",
       "        vertical-align: top;\n",
       "    }\n",
       "\n",
       "    .dataframe thead th {\n",
       "        text-align: right;\n",
       "    }\n",
       "</style>\n",
       "<table border=\"1\" class=\"dataframe\">\n",
       "  <thead>\n",
       "    <tr style=\"text-align: right;\">\n",
       "      <th></th>\n",
       "      <th>model</th>\n",
       "      <th>best_score</th>\n",
       "      <th>best_params</th>\n",
       "    </tr>\n",
       "  </thead>\n",
       "  <tbody>\n",
       "    <tr>\n",
       "      <th>0</th>\n",
       "      <td>xgboost</td>\n",
       "      <td>NaN</td>\n",
       "      <td>{'gamma': 0.2, 'learning_rate': 0.1, 'max_dept...</td>\n",
       "    </tr>\n",
       "    <tr>\n",
       "      <th>1</th>\n",
       "      <td>lightgbm</td>\n",
       "      <td>NaN</td>\n",
       "      <td>{'boosting_type': 'gbdt', 'learning_rate': 0.0...</td>\n",
       "    </tr>\n",
       "  </tbody>\n",
       "</table>\n",
       "</div>"
      ],
      "text/plain": [
       "      model  best_score                                        best_params\n",
       "0   xgboost         NaN  {'gamma': 0.2, 'learning_rate': 0.1, 'max_dept...\n",
       "1  lightgbm         NaN  {'boosting_type': 'gbdt', 'learning_rate': 0.0..."
      ]
     },
     "execution_count": 58,
     "metadata": {},
     "output_type": "execute_result"
    }
   ],
   "source": [
    "hcv_df = pd.DataFrame(scores,columns=['model','best_score','best_params'])\n",
    "hcv_df"
   ]
  },
  {
   "cell_type": "code",
   "execution_count": 60,
   "id": "19e8b5fe",
   "metadata": {},
   "outputs": [
    {
     "data": {
      "text/html": [
       "<style>#sk-container-id-1 {color: black;background-color: white;}#sk-container-id-1 pre{padding: 0;}#sk-container-id-1 div.sk-toggleable {background-color: white;}#sk-container-id-1 label.sk-toggleable__label {cursor: pointer;display: block;width: 100%;margin-bottom: 0;padding: 0.3em;box-sizing: border-box;text-align: center;}#sk-container-id-1 label.sk-toggleable__label-arrow:before {content: \"▸\";float: left;margin-right: 0.25em;color: #696969;}#sk-container-id-1 label.sk-toggleable__label-arrow:hover:before {color: black;}#sk-container-id-1 div.sk-estimator:hover label.sk-toggleable__label-arrow:before {color: black;}#sk-container-id-1 div.sk-toggleable__content {max-height: 0;max-width: 0;overflow: hidden;text-align: left;background-color: #f0f8ff;}#sk-container-id-1 div.sk-toggleable__content pre {margin: 0.2em;color: black;border-radius: 0.25em;background-color: #f0f8ff;}#sk-container-id-1 input.sk-toggleable__control:checked~div.sk-toggleable__content {max-height: 200px;max-width: 100%;overflow: auto;}#sk-container-id-1 input.sk-toggleable__control:checked~label.sk-toggleable__label-arrow:before {content: \"▾\";}#sk-container-id-1 div.sk-estimator input.sk-toggleable__control:checked~label.sk-toggleable__label {background-color: #d4ebff;}#sk-container-id-1 div.sk-label input.sk-toggleable__control:checked~label.sk-toggleable__label {background-color: #d4ebff;}#sk-container-id-1 input.sk-hidden--visually {border: 0;clip: rect(1px 1px 1px 1px);clip: rect(1px, 1px, 1px, 1px);height: 1px;margin: -1px;overflow: hidden;padding: 0;position: absolute;width: 1px;}#sk-container-id-1 div.sk-estimator {font-family: monospace;background-color: #f0f8ff;border: 1px dotted black;border-radius: 0.25em;box-sizing: border-box;margin-bottom: 0.5em;}#sk-container-id-1 div.sk-estimator:hover {background-color: #d4ebff;}#sk-container-id-1 div.sk-parallel-item::after {content: \"\";width: 100%;border-bottom: 1px solid gray;flex-grow: 1;}#sk-container-id-1 div.sk-label:hover label.sk-toggleable__label {background-color: #d4ebff;}#sk-container-id-1 div.sk-serial::before {content: \"\";position: absolute;border-left: 1px solid gray;box-sizing: border-box;top: 0;bottom: 0;left: 50%;z-index: 0;}#sk-container-id-1 div.sk-serial {display: flex;flex-direction: column;align-items: center;background-color: white;padding-right: 0.2em;padding-left: 0.2em;position: relative;}#sk-container-id-1 div.sk-item {position: relative;z-index: 1;}#sk-container-id-1 div.sk-parallel {display: flex;align-items: stretch;justify-content: center;background-color: white;position: relative;}#sk-container-id-1 div.sk-item::before, #sk-container-id-1 div.sk-parallel-item::before {content: \"\";position: absolute;border-left: 1px solid gray;box-sizing: border-box;top: 0;bottom: 0;left: 50%;z-index: -1;}#sk-container-id-1 div.sk-parallel-item {display: flex;flex-direction: column;z-index: 1;position: relative;background-color: white;}#sk-container-id-1 div.sk-parallel-item:first-child::after {align-self: flex-end;width: 50%;}#sk-container-id-1 div.sk-parallel-item:last-child::after {align-self: flex-start;width: 50%;}#sk-container-id-1 div.sk-parallel-item:only-child::after {width: 0;}#sk-container-id-1 div.sk-dashed-wrapped {border: 1px dashed gray;margin: 0 0.4em 0.5em 0.4em;box-sizing: border-box;padding-bottom: 0.4em;background-color: white;}#sk-container-id-1 div.sk-label label {font-family: monospace;font-weight: bold;display: inline-block;line-height: 1.2em;}#sk-container-id-1 div.sk-label-container {text-align: center;}#sk-container-id-1 div.sk-container {/* jupyter's `normalize.less` sets `[hidden] { display: none; }` but bootstrap.min.css set `[hidden] { display: none !important; }` so we also need the `!important` here to be able to override the default hidden behavior on the sphinx rendered scikit-learn.org. See: https://github.com/scikit-learn/scikit-learn/issues/21755 */display: inline-block !important;position: relative;}#sk-container-id-1 div.sk-text-repr-fallback {display: none;}</style><div id=\"sk-container-id-1\" class=\"sk-top-container\"><div class=\"sk-text-repr-fallback\"><pre>LGBMRegressor(learning_rate=0.05, max_depth=10, n_estimators=325, num_leaves=72)</pre><b>In a Jupyter environment, please rerun this cell to show the HTML representation or trust the notebook. <br />On GitHub, the HTML representation is unable to render, please try loading this page with nbviewer.org.</b></div><div class=\"sk-container\" hidden><div class=\"sk-item\"><div class=\"sk-estimator sk-toggleable\"><input class=\"sk-toggleable__control sk-hidden--visually\" id=\"sk-estimator-id-1\" type=\"checkbox\" checked><label for=\"sk-estimator-id-1\" class=\"sk-toggleable__label sk-toggleable__label-arrow\">LGBMRegressor</label><div class=\"sk-toggleable__content\"><pre>LGBMRegressor(learning_rate=0.05, max_depth=10, n_estimators=325, num_leaves=72)</pre></div></div></div></div></div>"
      ],
      "text/plain": [
       "LGBMRegressor(learning_rate=0.05, max_depth=10, n_estimators=325, num_leaves=72)"
      ]
     },
     "execution_count": 60,
     "metadata": {},
     "output_type": "execute_result"
    }
   ],
   "source": [
    "model2 = clf.best_estimator_\n",
    "model2"
   ]
  },
  {
   "cell_type": "code",
   "execution_count": 61,
   "id": "516a2edb",
   "metadata": {},
   "outputs": [
    {
     "name": "stdout",
     "output_type": "stream",
     "text": [
      "r2_score 0.794415312706064\n",
      "RMSE 3.9562872089535577\n",
      "Score 0.926980662017192\n"
     ]
    }
   ],
   "source": [
    "predictions = model2.predict(X_test)\n",
    "print('r2_score',r2_score(predictions,y_test))\n",
    "print('RMSE',np.sqrt(sklearn.metrics.mean_squared_error(predictions,y_test)))\n",
    "print('Score',model2.score(X_train,y_train))"
   ]
  },
  {
   "cell_type": "markdown",
   "id": "f8812704",
   "metadata": {},
   "source": [
    "# FLAML"
   ]
  },
  {
   "cell_type": "code",
   "execution_count": 43,
   "id": "6b763169",
   "metadata": {},
   "outputs": [],
   "source": [
    "from flaml import AutoML\n",
    "from flaml.ml import sklearn_metric_loss_score"
   ]
  },
  {
   "cell_type": "code",
   "execution_count": 46,
   "id": "2937e477",
   "metadata": {},
   "outputs": [],
   "source": [
    "Auto_model = AutoML()\n",
    "settings = {\n",
    "  \"time_budget\": 400, # seconds\n",
    "  \"metric\": 'r2',\n",
    "  \"task\": 'regression',\n",
    "  \"verbose\": 0,\n",
    "  \"n_jobs\": -1,\n",
    "  \"eval_method\": \"cv\",\n",
    "  \"n_splits\": 5,\n",
    "  \"seed\" : 100\n",
    "  }\n",
    "\n",
    "Auto_model.fit(X_train,y_train, **settings)"
   ]
  },
  {
   "cell_type": "code",
   "execution_count": 47,
   "id": "29694016",
   "metadata": {},
   "outputs": [
    {
     "name": "stdout",
     "output_type": "stream",
     "text": [
      "Best ML leaner: lgbm\n",
      "Best hyperparmeter: LGBMRegressor(colsample_bytree=0.6496328996015014,\n",
      "              learning_rate=0.10522982357318153, max_bin=511,\n",
      "              min_child_samples=47, n_estimators=680, num_leaves=4,\n",
      "              reg_alpha=0.004266403384675684, reg_lambda=0.03272345795749387,\n",
      "              verbose=-1)\n"
     ]
    }
   ],
   "source": [
    "best_model_name = Auto_model.best_estimator\n",
    "print('Best ML leaner:', best_model_name)\n",
    "print('Best hyperparmeter:', Auto_model.model.estimator)"
   ]
  },
  {
   "cell_type": "code",
   "execution_count": 49,
   "id": "10a5eaa8",
   "metadata": {},
   "outputs": [],
   "source": [
    "model3 = Auto_model.model.estimator\n",
    "predictions = model3.predict(X_test)"
   ]
  },
  {
   "cell_type": "code",
   "execution_count": 54,
   "id": "2d8f73b8",
   "metadata": {},
   "outputs": [
    {
     "name": "stdout",
     "output_type": "stream",
     "text": [
      "r2_score 0.7779025312136192\n",
      "RMSE 4.068992736745956\n",
      "Score 0.8569366304875614\n"
     ]
    }
   ],
   "source": [
    "print('r2_score',r2_score(predictions,y_test))\n",
    "print('RMSE',np.sqrt(sklearn.metrics.mean_squared_error(predictions,y_test)))\n",
    "print('Score',model3.score(X_train,y_train))"
   ]
  },
  {
   "cell_type": "code",
   "execution_count": 55,
   "id": "fa6dc792",
   "metadata": {},
   "outputs": [
    {
     "name": "stdout",
     "output_type": "stream",
     "text": [
      "r2 = 0.8144816113538811\n"
     ]
    }
   ],
   "source": [
    "print('r2', '=', 1 - sklearn_metric_loss_score('r2',predictions, y_test))"
   ]
  }
 ],
 "metadata": {
  "kernelspec": {
   "display_name": "Python 3 (ipykernel)",
   "language": "python",
   "name": "python3"
  },
  "language_info": {
   "codemirror_mode": {
    "name": "ipython",
    "version": 3
   },
   "file_extension": ".py",
   "mimetype": "text/x-python",
   "name": "python",
   "nbconvert_exporter": "python",
   "pygments_lexer": "ipython3",
   "version": "3.9.12"
  }
 },
 "nbformat": 4,
 "nbformat_minor": 5
}
