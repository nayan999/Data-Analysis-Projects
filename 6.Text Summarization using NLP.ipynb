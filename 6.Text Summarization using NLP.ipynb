{
 "cells": [
  {
   "cell_type": "markdown",
   "id": "45c93ec7",
   "metadata": {},
   "source": [
    "# Text Summarization using the Conventional Method and  Hugging Face Transformer"
   ]
  },
  {
   "cell_type": "markdown",
   "id": "2247d8c4",
   "metadata": {},
   "source": [
    "### Types of Text Summarization\n",
    "\n",
    "There are two types of Text Summarization, one is Extractive Type and another one is Abstractive Type. Extractive summarization takes the original text and extracts information that is identical to it.On the other hand, abstractive seeks to construct a one-of-a-kind summary by learning the most significant points from the original text."
   ]
  },
  {
   "cell_type": "markdown",
   "id": "e5b9b8ff",
   "metadata": {},
   "source": [
    "## 1.Conventional"
   ]
  },
  {
   "cell_type": "markdown",
   "id": "0c9df530",
   "metadata": {},
   "source": [
    "### Steps involved:-\n",
    "-Text Cleaning\n",
    "\n",
    "-Sentence Tokenization\n",
    "\n",
    "-Word Tokenization\n",
    "\n",
    "-Word Frequency Table\n",
    "\n",
    "-Summarization"
   ]
  },
  {
   "cell_type": "code",
   "execution_count": 1,
   "id": "fab56a4f",
   "metadata": {},
   "outputs": [],
   "source": [
    "text = \"\"\"\n",
    "Lionel Messi, in full Lionel Andrés Messi, also called Leo Messi, (born June 24, 1987, Rosario, Argentina), Argentine-born football (soccer) player who was named Fédération Internationale de Football Association (FIFA) world player of the year six times (2009–12, 2015, and 2019).\n",
    "Messi started playing football as a boy and in 1995 joined the youth team of Newell’s Old Boys (a Rosario-based top-division football club). Messi’s phenomenal skills garnered the attention of prestigious clubs on both sides of the Atlantic. At age 13 Messi and his family relocated to Barcelona, and he began playing for FC Barcelona’s under-14 team. He scored 21 goals in 14 games for the junior team, and he quickly graduated through the higher-level teams until at age 16 he was given his informal debut with FC Barcelona in a friendly match.\n",
    "In the 2004–05 season Messi, then 17, became the youngest official player and goal scorer in the Spanish La Liga (the country’s highest division of football). Though only 5 feet 7 inches (1.7 metres) tall and weighing 148 pounds (67 kg), he was strong, well-balanced, and versatile on the field. Naturally left-footed, quick, and precise in control of the ball, Messi was a keen pass distributor and could readily thread his way through packed defenses. In 2005 he was granted Spanish citizenship, an honour greeted with mixed feelings by the fiercely Catalan supporters of Barcelona. The next year Messi and Barcelona won the Champions League (the European club championship) title.\n",
    "Messi’s play continued to rapidly improve over the years, and by 2008 he was one of the most dominant players in the world, finishing second to Manchester United’s Cristiano Ronaldo in the voting for the 2008 FIFA World Player of the Year. In early 2009 Messi capped off a spectacular 2008–09 season by helping FC Barcelona capture the club’s first “treble” (winning three major European club titles in one season): the team won the La Liga championship, the Copa del Rey (Spain’s major domestic cup), and the Champions League title. He scored 38 goals in 51 matches during that season, and he bested Ronaldo in the balloting for FIFA World Player of the Year honours by a record margin. During the 2009–10 season Messi scored 34 goals in domestic games as Barcelona repeated as La Liga champions. He earned the Golden Shoe award as Europe’s leading scorer, and he was named the 2010 world player of the year (the award was renamed the FIFA Ballon d’Or that year).\n",
    "\"\"\""
   ]
  },
  {
   "cell_type": "code",
   "execution_count": 14,
   "id": "2aecc8c9",
   "metadata": {},
   "outputs": [],
   "source": [
    "import spacy\n",
    "from spacy.lang.en.stop_words import STOP_WORDS\n",
    "from string import punctuation\n",
    "import nltk"
   ]
  },
  {
   "cell_type": "code",
   "execution_count": 8,
   "id": "02af0640",
   "metadata": {},
   "outputs": [],
   "source": [
    "nlp = spacy.load('en_core_web_sm')"
   ]
  },
  {
   "cell_type": "code",
   "execution_count": 9,
   "id": "8d49b63e",
   "metadata": {},
   "outputs": [],
   "source": [
    "doc = nlp(text)"
   ]
  },
  {
   "cell_type": "code",
   "execution_count": 10,
   "id": "2af88a08",
   "metadata": {},
   "outputs": [
    {
     "name": "stdout",
     "output_type": "stream",
     "text": [
      "['\\n', 'Lionel', 'Messi', ',', 'in', 'full', 'Lionel', 'Andrés', 'Messi', ',', 'also', 'called', 'Leo', 'Messi', ',', '(', 'born', 'June', '24', ',', '1987', ',', 'Rosario', ',', 'Argentina', ')', ',', 'Argentine', '-', 'born', 'football', '(', 'soccer', ')', 'player', 'who', 'was', 'named', 'Fédération', 'Internationale', 'de', 'Football', 'Association', '(', 'FIFA', ')', 'world', 'player', 'of', 'the', 'year', 'six', 'times', '(', '2009–12', ',', '2015', ',', 'and', '2019', ')', '.', '\\n', 'Messi', 'started', 'playing', 'football', 'as', 'a', 'boy', 'and', 'in', '1995', 'joined', 'the', 'youth', 'team', 'of', 'Newell', '’s', 'Old', 'Boys', '(', 'a', 'Rosario', '-', 'based', 'top', '-', 'division', 'football', 'club', ')', '.', 'Messi', '’s', 'phenomenal', 'skills', 'garnered', 'the', 'attention', 'of', 'prestigious', 'clubs', 'on', 'both', 'sides', 'of', 'the', 'Atlantic', '.', 'At', 'age', '13', 'Messi', 'and', 'his', 'family', 'relocated', 'to', 'Barcelona', ',', 'and', 'he', 'began', 'playing', 'for', 'FC', 'Barcelona', '’s', 'under-14', 'team', '.', 'He', 'scored', '21', 'goals', 'in', '14', 'games', 'for', 'the', 'junior', 'team', ',', 'and', 'he', 'quickly', 'graduated', 'through', 'the', 'higher', '-', 'level', 'teams', 'until', 'at', 'age', '16', 'he', 'was', 'given', 'his', 'informal', 'debut', 'with', 'FC', 'Barcelona', 'in', 'a', 'friendly', 'match', '.', '\\n', 'In', 'the', '2004–05', 'season', 'Messi', ',', 'then', '17', ',', 'became', 'the', 'youngest', 'official', 'player', 'and', 'goal', 'scorer', 'in', 'the', 'Spanish', 'La', 'Liga', '(', 'the', 'country', '’s', 'highest', 'division', 'of', 'football', ')', '.', 'Though', 'only', '5', 'feet', '7', 'inches', '(', '1.7', 'metres', ')', 'tall', 'and', 'weighing', '148', 'pounds', '(', '67', 'kg', ')', ',', 'he', 'was', 'strong', ',', 'well', '-', 'balanced', ',', 'and', 'versatile', 'on', 'the', 'field', '.', 'Naturally', 'left', '-', 'footed', ',', 'quick', ',', 'and', 'precise', 'in', 'control', 'of', 'the', 'ball', ',', 'Messi', 'was', 'a', 'keen', 'pass', 'distributor', 'and', 'could', 'readily', 'thread', 'his', 'way', 'through', 'packed', 'defenses', '.', 'In', '2005', 'he', 'was', 'granted', 'Spanish', 'citizenship', ',', 'an', 'honour', 'greeted', 'with', 'mixed', 'feelings', 'by', 'the', 'fiercely', 'Catalan', 'supporters', 'of', 'Barcelona', '.', 'The', 'next', 'year', 'Messi', 'and', 'Barcelona', 'won', 'the', 'Champions', 'League', '(', 'the', 'European', 'club', 'championship', ')', 'title', '.', '\\n', 'Messi', '’s', 'play', 'continued', 'to', 'rapidly', 'improve', 'over', 'the', 'years', ',', 'and', 'by', '2008', 'he', 'was', 'one', 'of', 'the', 'most', 'dominant', 'players', 'in', 'the', 'world', ',', 'finishing', 'second', 'to', 'Manchester', 'United', '’s', 'Cristiano', 'Ronaldo', 'in', 'the', 'voting', 'for', 'the', '2008', 'FIFA', 'World', 'Player', 'of', 'the', 'Year', '.', 'In', 'early', '2009', 'Messi', 'capped', 'off', 'a', 'spectacular', '2008–09', 'season', 'by', 'helping', 'FC', 'Barcelona', 'capture', 'the', 'club', '’s', 'first', '“', 'treble', '”', '(', 'winning', 'three', 'major', 'European', 'club', 'titles', 'in', 'one', 'season', '):', 'the', 'team', 'won', 'the', 'La', 'Liga', 'championship', ',', 'the', 'Copa', 'del', 'Rey', '(', 'Spain', '’s', 'major', 'domestic', 'cup', ')', ',', 'and', 'the', 'Champions', 'League', 'title', '.', 'He', 'scored', '38', 'goals', 'in', '51', 'matches', 'during', 'that', 'season', ',', 'and', 'he', 'bested', 'Ronaldo', 'in', 'the', 'balloting', 'for', 'FIFA', 'World', 'Player', 'of', 'the', 'Year', 'honours', 'by', 'a', 'record', 'margin', '.', 'During', 'the', '2009–10', 'season', 'Messi', 'scored', '34', 'goals', 'in', 'domestic', 'games', 'as', 'Barcelona', 'repeated', 'as', 'La', 'Liga', 'champions', '.', 'He', 'earned', 'the', 'Golden', 'Shoe', 'award', 'as', 'Europe', '’s', 'leading', 'scorer', ',', 'and', 'he', 'was', 'named', 'the', '2010', 'world', 'player', 'of', 'the', 'year', '(', 'the', 'award', 'was', 'renamed', 'the', 'FIFA', 'Ballon', 'd’Or', 'that', 'year', ')', '.', '\\n']\n"
     ]
    }
   ],
   "source": [
    "tokens=[token.text for token in doc]\n",
    "print(tokens)"
   ]
  },
  {
   "cell_type": "code",
   "execution_count": 11,
   "id": "7ba814c1",
   "metadata": {},
   "outputs": [
    {
     "data": {
      "text/plain": [
       "'!\"#$%&\\'()*+,-./:;<=>?@[\\\\]^_`{|}~'"
      ]
     },
     "execution_count": 11,
     "metadata": {},
     "output_type": "execute_result"
    }
   ],
   "source": [
    "punctuation"
   ]
  },
  {
   "cell_type": "code",
   "execution_count": 19,
   "id": "80c10566",
   "metadata": {},
   "outputs": [
    {
     "data": {
      "text/plain": [
       "'!\"#$%&\\'()*+,-./:;<=>?@[\\\\]^_`{|}~\\n'"
      ]
     },
     "execution_count": 19,
     "metadata": {},
     "output_type": "execute_result"
    }
   ],
   "source": [
    "punctuation = punctuation+'\\n'\n",
    "punctuation"
   ]
  },
  {
   "cell_type": "code",
   "execution_count": 15,
   "id": "e07a64b3",
   "metadata": {},
   "outputs": [
    {
     "data": {
      "text/plain": [
       "FreqDist({'the': 34, ',': 26, 'and': 15, '.': 15, 'Messi': 12, 'in': 12, '(': 12, ')': 12, 'of': 11, '’': 10, ...})"
      ]
     },
     "execution_count": 15,
     "metadata": {},
     "output_type": "execute_result"
    }
   ],
   "source": [
    "#from nltk.probability import FreqDist\n",
    "#tokens = nltk.tokenize.word_tokenize(text)\n",
    "#fdist=FreqDist(tokens)\n",
    "#fdist"
   ]
  },
  {
   "cell_type": "code",
   "execution_count": 20,
   "id": "72a0ae93",
   "metadata": {},
   "outputs": [],
   "source": [
    "stopwords = list(STOP_WORDS)"
   ]
  },
  {
   "cell_type": "code",
   "execution_count": 24,
   "id": "707047be",
   "metadata": {},
   "outputs": [],
   "source": [
    "### finding word frequencies\n",
    "word_frequencies = {}\n",
    "for word in doc:\n",
    "    if word.text.lower() not in stopwords:\n",
    "        if word.text.lower() not in punctuation:\n",
    "            if word.text not in word_frequencies.keys():\n",
    "                word_frequencies[word.text]=1  # if word is appearing first time\n",
    "            else:\n",
    "                word_frequencies[word.text]+=1  # if same word is appearing more than 1 time"
   ]
  },
  {
   "cell_type": "code",
   "execution_count": 25,
   "id": "1e444cd5",
   "metadata": {
    "scrolled": true
   },
   "outputs": [
    {
     "data": {
      "text/plain": [
       "{'Lionel': 2,\n",
       " 'Messi': 12,\n",
       " 'Andrés': 1,\n",
       " 'called': 1,\n",
       " 'Leo': 1,\n",
       " 'born': 2,\n",
       " 'June': 1,\n",
       " '24': 1,\n",
       " '1987': 1,\n",
       " 'Rosario': 2,\n",
       " 'Argentina': 1,\n",
       " 'Argentine': 1,\n",
       " 'football': 4,\n",
       " 'soccer': 1,\n",
       " 'player': 4,\n",
       " 'named': 2,\n",
       " 'Fédération': 1,\n",
       " 'Internationale': 1,\n",
       " 'de': 1,\n",
       " 'Football': 1,\n",
       " 'Association': 1,\n",
       " 'FIFA': 4,\n",
       " 'world': 3,\n",
       " 'year': 4,\n",
       " 'times': 1,\n",
       " '2009–12': 1,\n",
       " '2015': 1,\n",
       " '2019': 1,\n",
       " 'started': 1,\n",
       " 'playing': 2,\n",
       " 'boy': 1,\n",
       " '1995': 1,\n",
       " 'joined': 1,\n",
       " 'youth': 1,\n",
       " 'team': 4,\n",
       " 'Newell': 1,\n",
       " 'Old': 1,\n",
       " 'Boys': 1,\n",
       " 'based': 1,\n",
       " 'division': 2,\n",
       " 'club': 4,\n",
       " 'phenomenal': 1,\n",
       " 'skills': 1,\n",
       " 'garnered': 1,\n",
       " 'attention': 1,\n",
       " 'prestigious': 1,\n",
       " 'clubs': 1,\n",
       " 'sides': 1,\n",
       " 'Atlantic': 1,\n",
       " 'age': 2,\n",
       " '13': 1,\n",
       " 'family': 1,\n",
       " 'relocated': 1,\n",
       " 'Barcelona': 7,\n",
       " 'began': 1,\n",
       " 'FC': 3,\n",
       " 'under-14': 1,\n",
       " 'scored': 3,\n",
       " '21': 1,\n",
       " 'goals': 3,\n",
       " '14': 1,\n",
       " 'games': 2,\n",
       " 'junior': 1,\n",
       " 'quickly': 1,\n",
       " 'graduated': 1,\n",
       " 'higher': 1,\n",
       " 'level': 1,\n",
       " 'teams': 1,\n",
       " '16': 1,\n",
       " 'given': 1,\n",
       " 'informal': 1,\n",
       " 'debut': 1,\n",
       " 'friendly': 1,\n",
       " 'match': 1,\n",
       " '2004–05': 1,\n",
       " 'season': 5,\n",
       " '17': 1,\n",
       " 'youngest': 1,\n",
       " 'official': 1,\n",
       " 'goal': 1,\n",
       " 'scorer': 2,\n",
       " 'Spanish': 2,\n",
       " 'La': 3,\n",
       " 'Liga': 3,\n",
       " 'country': 1,\n",
       " 'highest': 1,\n",
       " '5': 1,\n",
       " 'feet': 1,\n",
       " '7': 1,\n",
       " 'inches': 1,\n",
       " '1.7': 1,\n",
       " 'metres': 1,\n",
       " 'tall': 1,\n",
       " 'weighing': 1,\n",
       " '148': 1,\n",
       " 'pounds': 1,\n",
       " '67': 1,\n",
       " 'kg': 1,\n",
       " 'strong': 1,\n",
       " 'balanced': 1,\n",
       " 'versatile': 1,\n",
       " 'field': 1,\n",
       " 'Naturally': 1,\n",
       " 'left': 1,\n",
       " 'footed': 1,\n",
       " 'quick': 1,\n",
       " 'precise': 1,\n",
       " 'control': 1,\n",
       " 'ball': 1,\n",
       " 'keen': 1,\n",
       " 'pass': 1,\n",
       " 'distributor': 1,\n",
       " 'readily': 1,\n",
       " 'thread': 1,\n",
       " 'way': 1,\n",
       " 'packed': 1,\n",
       " 'defenses': 1,\n",
       " '2005': 1,\n",
       " 'granted': 1,\n",
       " 'citizenship': 1,\n",
       " 'honour': 1,\n",
       " 'greeted': 1,\n",
       " 'mixed': 1,\n",
       " 'feelings': 1,\n",
       " 'fiercely': 1,\n",
       " 'Catalan': 1,\n",
       " 'supporters': 1,\n",
       " 'won': 2,\n",
       " 'Champions': 2,\n",
       " 'League': 2,\n",
       " 'European': 2,\n",
       " 'championship': 2,\n",
       " 'title': 2,\n",
       " 'play': 1,\n",
       " 'continued': 1,\n",
       " 'rapidly': 1,\n",
       " 'improve': 1,\n",
       " 'years': 1,\n",
       " '2008': 2,\n",
       " 'dominant': 1,\n",
       " 'players': 1,\n",
       " 'finishing': 1,\n",
       " 'second': 1,\n",
       " 'Manchester': 1,\n",
       " 'United': 1,\n",
       " 'Cristiano': 1,\n",
       " 'Ronaldo': 2,\n",
       " 'voting': 1,\n",
       " 'World': 2,\n",
       " 'Player': 2,\n",
       " 'Year': 2,\n",
       " 'early': 1,\n",
       " '2009': 1,\n",
       " 'capped': 1,\n",
       " 'spectacular': 1,\n",
       " '2008–09': 1,\n",
       " 'helping': 1,\n",
       " 'capture': 1,\n",
       " '“': 1,\n",
       " 'treble': 1,\n",
       " '”': 1,\n",
       " 'winning': 1,\n",
       " 'major': 2,\n",
       " 'titles': 1,\n",
       " '):': 1,\n",
       " 'Copa': 1,\n",
       " 'del': 1,\n",
       " 'Rey': 1,\n",
       " 'Spain': 1,\n",
       " 'domestic': 2,\n",
       " 'cup': 1,\n",
       " '38': 1,\n",
       " '51': 1,\n",
       " 'matches': 1,\n",
       " 'bested': 1,\n",
       " 'balloting': 1,\n",
       " 'honours': 1,\n",
       " 'record': 1,\n",
       " 'margin': 1,\n",
       " '2009–10': 1,\n",
       " '34': 1,\n",
       " 'repeated': 1,\n",
       " 'champions': 1,\n",
       " 'earned': 1,\n",
       " 'Golden': 1,\n",
       " 'Shoe': 1,\n",
       " 'award': 2,\n",
       " 'Europe': 1,\n",
       " 'leading': 1,\n",
       " '2010': 1,\n",
       " 'renamed': 1,\n",
       " 'Ballon': 1,\n",
       " 'd’Or': 1}"
      ]
     },
     "execution_count": 25,
     "metadata": {},
     "output_type": "execute_result"
    }
   ],
   "source": [
    "word_frequencies"
   ]
  },
  {
   "cell_type": "code",
   "execution_count": 28,
   "id": "934b9626",
   "metadata": {},
   "outputs": [
    {
     "data": {
      "text/plain": [
       "12"
      ]
     },
     "execution_count": 28,
     "metadata": {},
     "output_type": "execute_result"
    }
   ],
   "source": [
    "### max frequency val\n",
    "max_frequency = max(word_frequencies.values())\n",
    "max_frequency"
   ]
  },
  {
   "cell_type": "code",
   "execution_count": 29,
   "id": "a2a32a18",
   "metadata": {},
   "outputs": [],
   "source": [
    "### Now we will divide each of other freq values to 11 to cal normalised frequency\n",
    "\n",
    "for word in word_frequencies.keys():\n",
    "    word_frequencies[word] = word_frequencies[word]/max_frequency"
   ]
  },
  {
   "cell_type": "code",
   "execution_count": 30,
   "id": "853341ea",
   "metadata": {},
   "outputs": [
    {
     "data": {
      "text/plain": [
       "{'Lionel': 0.16666666666666666,\n",
       " 'Messi': 1.0,\n",
       " 'Andrés': 0.08333333333333333,\n",
       " 'called': 0.08333333333333333,\n",
       " 'Leo': 0.08333333333333333,\n",
       " 'born': 0.16666666666666666,\n",
       " 'June': 0.08333333333333333,\n",
       " '24': 0.08333333333333333,\n",
       " '1987': 0.08333333333333333,\n",
       " 'Rosario': 0.16666666666666666,\n",
       " 'Argentina': 0.08333333333333333,\n",
       " 'Argentine': 0.08333333333333333,\n",
       " 'football': 0.3333333333333333,\n",
       " 'soccer': 0.08333333333333333,\n",
       " 'player': 0.3333333333333333,\n",
       " 'named': 0.16666666666666666,\n",
       " 'Fédération': 0.08333333333333333,\n",
       " 'Internationale': 0.08333333333333333,\n",
       " 'de': 0.08333333333333333,\n",
       " 'Football': 0.08333333333333333,\n",
       " 'Association': 0.08333333333333333,\n",
       " 'FIFA': 0.3333333333333333,\n",
       " 'world': 0.25,\n",
       " 'year': 0.3333333333333333,\n",
       " 'times': 0.08333333333333333,\n",
       " '2009–12': 0.08333333333333333,\n",
       " '2015': 0.08333333333333333,\n",
       " '2019': 0.08333333333333333,\n",
       " 'started': 0.08333333333333333,\n",
       " 'playing': 0.16666666666666666,\n",
       " 'boy': 0.08333333333333333,\n",
       " '1995': 0.08333333333333333,\n",
       " 'joined': 0.08333333333333333,\n",
       " 'youth': 0.08333333333333333,\n",
       " 'team': 0.3333333333333333,\n",
       " 'Newell': 0.08333333333333333,\n",
       " 'Old': 0.08333333333333333,\n",
       " 'Boys': 0.08333333333333333,\n",
       " 'based': 0.08333333333333333,\n",
       " 'division': 0.16666666666666666,\n",
       " 'club': 0.3333333333333333,\n",
       " 'phenomenal': 0.08333333333333333,\n",
       " 'skills': 0.08333333333333333,\n",
       " 'garnered': 0.08333333333333333,\n",
       " 'attention': 0.08333333333333333,\n",
       " 'prestigious': 0.08333333333333333,\n",
       " 'clubs': 0.08333333333333333,\n",
       " 'sides': 0.08333333333333333,\n",
       " 'Atlantic': 0.08333333333333333,\n",
       " 'age': 0.16666666666666666,\n",
       " '13': 0.08333333333333333,\n",
       " 'family': 0.08333333333333333,\n",
       " 'relocated': 0.08333333333333333,\n",
       " 'Barcelona': 0.5833333333333334,\n",
       " 'began': 0.08333333333333333,\n",
       " 'FC': 0.25,\n",
       " 'under-14': 0.08333333333333333,\n",
       " 'scored': 0.25,\n",
       " '21': 0.08333333333333333,\n",
       " 'goals': 0.25,\n",
       " '14': 0.08333333333333333,\n",
       " 'games': 0.16666666666666666,\n",
       " 'junior': 0.08333333333333333,\n",
       " 'quickly': 0.08333333333333333,\n",
       " 'graduated': 0.08333333333333333,\n",
       " 'higher': 0.08333333333333333,\n",
       " 'level': 0.08333333333333333,\n",
       " 'teams': 0.08333333333333333,\n",
       " '16': 0.08333333333333333,\n",
       " 'given': 0.08333333333333333,\n",
       " 'informal': 0.08333333333333333,\n",
       " 'debut': 0.08333333333333333,\n",
       " 'friendly': 0.08333333333333333,\n",
       " 'match': 0.08333333333333333,\n",
       " '2004–05': 0.08333333333333333,\n",
       " 'season': 0.4166666666666667,\n",
       " '17': 0.08333333333333333,\n",
       " 'youngest': 0.08333333333333333,\n",
       " 'official': 0.08333333333333333,\n",
       " 'goal': 0.08333333333333333,\n",
       " 'scorer': 0.16666666666666666,\n",
       " 'Spanish': 0.16666666666666666,\n",
       " 'La': 0.25,\n",
       " 'Liga': 0.25,\n",
       " 'country': 0.08333333333333333,\n",
       " 'highest': 0.08333333333333333,\n",
       " '5': 0.08333333333333333,\n",
       " 'feet': 0.08333333333333333,\n",
       " '7': 0.08333333333333333,\n",
       " 'inches': 0.08333333333333333,\n",
       " '1.7': 0.08333333333333333,\n",
       " 'metres': 0.08333333333333333,\n",
       " 'tall': 0.08333333333333333,\n",
       " 'weighing': 0.08333333333333333,\n",
       " '148': 0.08333333333333333,\n",
       " 'pounds': 0.08333333333333333,\n",
       " '67': 0.08333333333333333,\n",
       " 'kg': 0.08333333333333333,\n",
       " 'strong': 0.08333333333333333,\n",
       " 'balanced': 0.08333333333333333,\n",
       " 'versatile': 0.08333333333333333,\n",
       " 'field': 0.08333333333333333,\n",
       " 'Naturally': 0.08333333333333333,\n",
       " 'left': 0.08333333333333333,\n",
       " 'footed': 0.08333333333333333,\n",
       " 'quick': 0.08333333333333333,\n",
       " 'precise': 0.08333333333333333,\n",
       " 'control': 0.08333333333333333,\n",
       " 'ball': 0.08333333333333333,\n",
       " 'keen': 0.08333333333333333,\n",
       " 'pass': 0.08333333333333333,\n",
       " 'distributor': 0.08333333333333333,\n",
       " 'readily': 0.08333333333333333,\n",
       " 'thread': 0.08333333333333333,\n",
       " 'way': 0.08333333333333333,\n",
       " 'packed': 0.08333333333333333,\n",
       " 'defenses': 0.08333333333333333,\n",
       " '2005': 0.08333333333333333,\n",
       " 'granted': 0.08333333333333333,\n",
       " 'citizenship': 0.08333333333333333,\n",
       " 'honour': 0.08333333333333333,\n",
       " 'greeted': 0.08333333333333333,\n",
       " 'mixed': 0.08333333333333333,\n",
       " 'feelings': 0.08333333333333333,\n",
       " 'fiercely': 0.08333333333333333,\n",
       " 'Catalan': 0.08333333333333333,\n",
       " 'supporters': 0.08333333333333333,\n",
       " 'won': 0.16666666666666666,\n",
       " 'Champions': 0.16666666666666666,\n",
       " 'League': 0.16666666666666666,\n",
       " 'European': 0.16666666666666666,\n",
       " 'championship': 0.16666666666666666,\n",
       " 'title': 0.16666666666666666,\n",
       " 'play': 0.08333333333333333,\n",
       " 'continued': 0.08333333333333333,\n",
       " 'rapidly': 0.08333333333333333,\n",
       " 'improve': 0.08333333333333333,\n",
       " 'years': 0.08333333333333333,\n",
       " '2008': 0.16666666666666666,\n",
       " 'dominant': 0.08333333333333333,\n",
       " 'players': 0.08333333333333333,\n",
       " 'finishing': 0.08333333333333333,\n",
       " 'second': 0.08333333333333333,\n",
       " 'Manchester': 0.08333333333333333,\n",
       " 'United': 0.08333333333333333,\n",
       " 'Cristiano': 0.08333333333333333,\n",
       " 'Ronaldo': 0.16666666666666666,\n",
       " 'voting': 0.08333333333333333,\n",
       " 'World': 0.16666666666666666,\n",
       " 'Player': 0.16666666666666666,\n",
       " 'Year': 0.16666666666666666,\n",
       " 'early': 0.08333333333333333,\n",
       " '2009': 0.08333333333333333,\n",
       " 'capped': 0.08333333333333333,\n",
       " 'spectacular': 0.08333333333333333,\n",
       " '2008–09': 0.08333333333333333,\n",
       " 'helping': 0.08333333333333333,\n",
       " 'capture': 0.08333333333333333,\n",
       " '“': 0.08333333333333333,\n",
       " 'treble': 0.08333333333333333,\n",
       " '”': 0.08333333333333333,\n",
       " 'winning': 0.08333333333333333,\n",
       " 'major': 0.16666666666666666,\n",
       " 'titles': 0.08333333333333333,\n",
       " '):': 0.08333333333333333,\n",
       " 'Copa': 0.08333333333333333,\n",
       " 'del': 0.08333333333333333,\n",
       " 'Rey': 0.08333333333333333,\n",
       " 'Spain': 0.08333333333333333,\n",
       " 'domestic': 0.16666666666666666,\n",
       " 'cup': 0.08333333333333333,\n",
       " '38': 0.08333333333333333,\n",
       " '51': 0.08333333333333333,\n",
       " 'matches': 0.08333333333333333,\n",
       " 'bested': 0.08333333333333333,\n",
       " 'balloting': 0.08333333333333333,\n",
       " 'honours': 0.08333333333333333,\n",
       " 'record': 0.08333333333333333,\n",
       " 'margin': 0.08333333333333333,\n",
       " '2009–10': 0.08333333333333333,\n",
       " '34': 0.08333333333333333,\n",
       " 'repeated': 0.08333333333333333,\n",
       " 'champions': 0.08333333333333333,\n",
       " 'earned': 0.08333333333333333,\n",
       " 'Golden': 0.08333333333333333,\n",
       " 'Shoe': 0.08333333333333333,\n",
       " 'award': 0.16666666666666666,\n",
       " 'Europe': 0.08333333333333333,\n",
       " 'leading': 0.08333333333333333,\n",
       " '2010': 0.08333333333333333,\n",
       " 'renamed': 0.08333333333333333,\n",
       " 'Ballon': 0.08333333333333333,\n",
       " 'd’Or': 0.08333333333333333}"
      ]
     },
     "execution_count": 30,
     "metadata": {},
     "output_type": "execute_result"
    }
   ],
   "source": [
    "word_frequencies"
   ]
  },
  {
   "cell_type": "code",
   "execution_count": 31,
   "id": "d6f444e6",
   "metadata": {},
   "outputs": [
    {
     "name": "stdout",
     "output_type": "stream",
     "text": [
      "[\n",
      ", Lionel Messi, in full Lionel Andrés Messi, also called Leo Messi, (born June 24, 1987, Rosario, Argentina), Argentine-born football (soccer) player who was named Fédération Internationale de Football Association (FIFA) world player of the year six times (2009–12, 2015, and 2019).\n",
      ", Messi started playing football as a boy and in 1995 joined the youth team of Newell’s Old Boys (a Rosario-based top-division football club)., Messi’s phenomenal skills garnered the attention of prestigious clubs on both sides of the Atlantic., At age 13 Messi and his family relocated to Barcelona, and he began playing for FC Barcelona’s under-14 team., He scored 21 goals in 14 games for the junior team, and he quickly graduated through the higher-level teams until at age 16 he was given his informal debut with FC Barcelona in a friendly match.\n",
      ", In the 2004–05 season Messi, then 17, became the youngest official player and goal scorer in the Spanish La Liga (the country’s highest division of football)., Though only 5 feet 7 inches (1.7 metres) tall and weighing 148 pounds (67 kg), he was strong, well-balanced, and versatile on the field., Naturally left-footed, quick, and precise in control of the ball, Messi was a keen pass distributor and could readily thread his way through packed defenses., In 2005 he was granted Spanish citizenship, an honour greeted with mixed feelings by the fiercely Catalan supporters of Barcelona., The next year Messi and Barcelona won the Champions League (the European club championship) title.\n",
      ", Messi’s play continued to rapidly improve over the years, and by 2008 he was one of the most dominant players in the world, finishing second to Manchester United’s Cristiano Ronaldo in the voting for the 2008 FIFA World Player of the Year., In early 2009 Messi capped off a spectacular 2008–09 season by helping FC Barcelona capture the club’s first “treble” (winning three major European club titles in one season): the team won the La Liga championship, the Copa del Rey (Spain’s major domestic cup), and the Champions League title., He scored 38 goals in 51 matches during that season, and he bested Ronaldo in the balloting for FIFA World Player of the Year honours by a record margin., During the 2009–10 season Messi scored 34 goals in domestic games as Barcelona repeated as La Liga champions., He earned the Golden Shoe award as Europe’s leading scorer, and he was named the 2010 world player of the year (the award was renamed the FIFA Ballon d’Or that year).\n",
      "]\n"
     ]
    }
   ],
   "source": [
    "### Sentence Tokenization\n",
    "\n",
    "sentence_tokens=[sent for sent in doc.sents]\n",
    "print(sentence_tokens)"
   ]
  },
  {
   "cell_type": "code",
   "execution_count": 32,
   "id": "ca4338dd",
   "metadata": {},
   "outputs": [],
   "source": [
    "### Sentence Score calculation\n",
    "\n",
    "sentence_scores = {}\n",
    "for sent in sentence_tokens:\n",
    "    for word in sent:\n",
    "        if word.text.lower() in word_frequencies.keys():\n",
    "            if sent not in sentence_scores.keys():\n",
    "                sentence_scores[sent] = word_frequencies[word.text.lower()]\n",
    "            else:\n",
    "                sentence_scores[sent] += word_frequencies[word.text.lower()]\n",
    "    "
   ]
  },
  {
   "cell_type": "code",
   "execution_count": 33,
   "id": "d0b1b7ec",
   "metadata": {},
   "outputs": [
    {
     "data": {
      "text/plain": [
       "{Lionel Messi, in full Lionel Andrés Messi, also called Leo Messi, (born June 24, 1987, Rosario, Argentina), Argentine-born football (soccer) player who was named Fédération Internationale de Football Association (FIFA) world player of the year six times (2009–12, 2015, and 2019).: 3.1666666666666674,\n",
       " Messi started playing football as a boy and in 1995 joined the youth team of Newell’s Old Boys (a Rosario-based top-division football club).: 2.1666666666666665,\n",
       " Messi’s phenomenal skills garnered the attention of prestigious clubs on both sides of the Atlantic.: 0.5833333333333333,\n",
       " At age 13 Messi and his family relocated to Barcelona, and he began playing for FC Barcelona’s under-14 team.: 1.0833333333333333,\n",
       " He scored 21 goals in 14 games for the junior team, and he quickly graduated through the higher-level teams until at age 16 he was given his informal debut with FC Barcelona in a friendly match.: 2.3333333333333335,\n",
       " In the 2004–05 season Messi, then 17, became the youngest official player and goal scorer in the Spanish La Liga (the country’s highest division of football).: 2.0,\n",
       " Though only 5 feet 7 inches (1.7 metres) tall and weighing 148 pounds (67 kg), he was strong, well-balanced, and versatile on the field.: 1.333333333333333,\n",
       " Naturally left-footed, quick, and precise in control of the ball, Messi was a keen pass distributor and could readily thread his way through packed defenses.: 1.1666666666666665,\n",
       " In 2005 he was granted Spanish citizenship, an honour greeted with mixed feelings by the fiercely Catalan supporters of Barcelona.: 0.75,\n",
       " The next year Messi and Barcelona won the Champions League (the European club championship) title.: 1.2500000000000002,\n",
       " Messi’s play continued to rapidly improve over the years, and by 2008 he was one of the most dominant players in the world, finishing second to Manchester United’s Cristiano Ronaldo in the voting for the 2008 FIFA World Player of the Year.: 2.333333333333333,\n",
       " In early 2009 Messi capped off a spectacular 2008–09 season by helping FC Barcelona capture the club’s first “treble” (winning three major European club titles in one season): the team won the La Liga championship, the Copa del Rey (Spain’s major domestic cup), and the Champions League title.: 4.166666666666667,\n",
       " He scored 38 goals in 51 matches during that season, and he bested Ronaldo in the balloting for FIFA World Player of the Year honours by a record margin.: 2.5000000000000004,\n",
       " During the 2009–10 season Messi scored 34 goals in domestic games as Barcelona repeated as La Liga champions.: 1.5833333333333335,\n",
       " He earned the Golden Shoe award as Europe’s leading scorer, and he was named the 2010 world player of the year (the award was renamed the FIFA Ballon d’Or that year).: 2.25}"
      ]
     },
     "execution_count": 33,
     "metadata": {},
     "output_type": "execute_result"
    }
   ],
   "source": [
    "sentence_scores"
   ]
  },
  {
   "cell_type": "code",
   "execution_count": 34,
   "id": "33e280e5",
   "metadata": {},
   "outputs": [],
   "source": [
    "from heapq import nlargest"
   ]
  },
  {
   "cell_type": "code",
   "execution_count": 36,
   "id": "cfb8545e",
   "metadata": {},
   "outputs": [
    {
     "data": {
      "text/plain": [
       "4"
      ]
     },
     "execution_count": 36,
     "metadata": {},
     "output_type": "execute_result"
    }
   ],
   "source": [
    "### 30 % of sentences with max score\n",
    "\n",
    "select_length = int(len(sentence_tokens) * 0.3)\n",
    "select_length"
   ]
  },
  {
   "cell_type": "code",
   "execution_count": 41,
   "id": "295e3eb7",
   "metadata": {},
   "outputs": [
    {
     "data": {
      "text/plain": [
       "[In early 2009 Messi capped off a spectacular 2008–09 season by helping FC Barcelona capture the club’s first “treble” (winning three major European club titles in one season): the team won the La Liga championship, the Copa del Rey (Spain’s major domestic cup), and the Champions League title.,\n",
       " Lionel Messi, in full Lionel Andrés Messi, also called Leo Messi, (born June 24, 1987, Rosario, Argentina), Argentine-born football (soccer) player who was named Fédération Internationale de Football Association (FIFA) world player of the year six times (2009–12, 2015, and 2019).,\n",
       " He scored 38 goals in 51 matches during that season, and he bested Ronaldo in the balloting for FIFA World Player of the Year honours by a record margin.,\n",
       " He scored 21 goals in 14 games for the junior team, and he quickly graduated through the higher-level teams until at age 16 he was given his informal debut with FC Barcelona in a friendly match.]"
      ]
     },
     "execution_count": 41,
     "metadata": {},
     "output_type": "execute_result"
    }
   ],
   "source": [
    "summary = nlargest(select_length,sentence_scores,key = sentence_scores.get)\n",
    "summary"
   ]
  },
  {
   "cell_type": "code",
   "execution_count": 42,
   "id": "b4431876",
   "metadata": {},
   "outputs": [
    {
     "data": {
      "text/plain": [
       "['In early 2009 Messi capped off a spectacular 2008–09 season by helping FC Barcelona capture the club’s first “treble” (winning three major European club titles in one season): the team won the La Liga championship, the Copa del Rey (Spain’s major domestic cup), and the Champions League title.',\n",
       " 'Lionel Messi, in full Lionel Andrés Messi, also called Leo Messi, (born June 24, 1987, Rosario, Argentina), Argentine-born football (soccer) player who was named Fédération Internationale de Football Association (FIFA) world player of the year six times (2009–12, 2015, and 2019).\\n',\n",
       " 'He scored 38 goals in 51 matches during that season, and he bested Ronaldo in the balloting for FIFA World Player of the Year honours by a record margin.',\n",
       " 'He scored 21 goals in 14 games for the junior team, and he quickly graduated through the higher-level teams until at age 16 he was given his informal debut with FC Barcelona in a friendly match.\\n']"
      ]
     },
     "execution_count": 42,
     "metadata": {},
     "output_type": "execute_result"
    }
   ],
   "source": [
    "final_summary=[word.text for word in summary]\n",
    "final_summary"
   ]
  },
  {
   "cell_type": "code",
   "execution_count": 46,
   "id": "0880713e",
   "metadata": {},
   "outputs": [
    {
     "data": {
      "text/plain": [
       "['In early 2009 Messi capped off a spectacular 2008–09 season by helping FC Barcelona capture the club’s first “treble” (winning three major European club titles in one season): the team won the La Liga championship, the Copa del Rey (Spain’s major domestic cup), and the Champions League title.',\n",
       " 'Lionel Messi, in full Lionel Andrés Messi, also called Leo Messi, (born June 24, 1987, Rosario, Argentina), Argentine-born football (soccer) player who was named Fédération Internationale de Football Association (FIFA) world player of the year six times (2009–12, 2015, and 2019).',\n",
       " 'He scored 38 goals in 51 matches during that season, and he bested Ronaldo in the balloting for FIFA World Player of the Year honours by a record margin.',\n",
       " 'He scored 21 goals in 14 games for the junior team, and he quickly graduated through the higher-level teams until at age 16 he was given his informal debut with FC Barcelona in a friendly match.']"
      ]
     },
     "execution_count": 46,
     "metadata": {},
     "output_type": "execute_result"
    }
   ],
   "source": [
    "import re\n",
    "f1=[]\n",
    "for sub in final_summary:\n",
    "    f1.append(re.sub('\\n','',sub))\n",
    "f1"
   ]
  },
  {
   "cell_type": "code",
   "execution_count": 47,
   "id": "3a85dc42",
   "metadata": {},
   "outputs": [
    {
     "data": {
      "text/plain": [
       "'In early 2009 Messi capped off a spectacular 2008–09 season by helping FC Barcelona capture the club’s first “treble” (winning three major European club titles in one season): the team won the La Liga championship, the Copa del Rey (Spain’s major domestic cup), and the Champions League title. Lionel Messi, in full Lionel Andrés Messi, also called Leo Messi, (born June 24, 1987, Rosario, Argentina), Argentine-born football (soccer) player who was named Fédération Internationale de Football Association (FIFA) world player of the year six times (2009–12, 2015, and 2019). He scored 38 goals in 51 matches during that season, and he bested Ronaldo in the balloting for FIFA World Player of the Year honours by a record margin. He scored 21 goals in 14 games for the junior team, and he quickly graduated through the higher-level teams until at age 16 he was given his informal debut with FC Barcelona in a friendly match.'"
      ]
     },
     "execution_count": 47,
     "metadata": {},
     "output_type": "execute_result"
    }
   ],
   "source": [
    "f2=\" \".join(f1)\n",
    "f2"
   ]
  },
  {
   "cell_type": "markdown",
   "id": "d6768558",
   "metadata": {},
   "source": [
    "# 2.Hugging Face Transformers"
   ]
  },
  {
   "cell_type": "raw",
   "id": "f5ec2e04",
   "metadata": {},
   "source": [
    "Hugging Face Transformer uses the Abstractive Summarization approach where the model develops new sentences in a new form, exactly like people do, and produces a whole distinct text that is shorter than the original."
   ]
  },
  {
   "cell_type": "code",
   "execution_count": 2,
   "id": "ea4850da",
   "metadata": {},
   "outputs": [],
   "source": [
    "import transformers\n",
    "from transformers import pipeline"
   ]
  },
  {
   "cell_type": "code",
   "execution_count": 3,
   "id": "85e74970",
   "metadata": {},
   "outputs": [],
   "source": [
    "to_tokenize = text"
   ]
  },
  {
   "cell_type": "code",
   "execution_count": 4,
   "id": "fd32da37",
   "metadata": {},
   "outputs": [
    {
     "name": "stderr",
     "output_type": "stream",
     "text": [
      "No model was supplied, defaulted to t5-small (https://huggingface.co/t5-small)\n"
     ]
    },
    {
     "data": {
      "application/vnd.jupyter.widget-view+json": {
       "model_id": "22eed678434140d183ca699f9cd81114",
       "version_major": 2,
       "version_minor": 0
      },
      "text/plain": [
       "Downloading:   0%|          | 0.00/231M [00:00<?, ?B/s]"
      ]
     },
     "metadata": {},
     "output_type": "display_data"
    },
    {
     "name": "stderr",
     "output_type": "stream",
     "text": [
      "All model checkpoint layers were used when initializing TFT5ForConditionalGeneration.\n",
      "\n",
      "All the layers of TFT5ForConditionalGeneration were initialized from the model checkpoint at t5-small.\n",
      "If your task is similar to the task the model of the checkpoint was trained on, you can already use TFT5ForConditionalGeneration for predictions without further training.\n"
     ]
    },
    {
     "data": {
      "application/vnd.jupyter.widget-view+json": {
       "model_id": "ae7ce4a8cb5a4814972e8c574227168f",
       "version_major": 2,
       "version_minor": 0
      },
      "text/plain": [
       "Downloading:   0%|          | 0.00/773k [00:00<?, ?B/s]"
      ]
     },
     "metadata": {},
     "output_type": "display_data"
    },
    {
     "data": {
      "application/vnd.jupyter.widget-view+json": {
       "model_id": "6f778a6ac9734d798d23069ec5fdb55a",
       "version_major": 2,
       "version_minor": 0
      },
      "text/plain": [
       "Downloading:   0%|          | 0.00/1.32M [00:00<?, ?B/s]"
      ]
     },
     "metadata": {},
     "output_type": "display_data"
    }
   ],
   "source": [
    "summarizer = pipeline(\"summarization\")"
   ]
  },
  {
   "cell_type": "code",
   "execution_count": 6,
   "id": "6207cfe6",
   "metadata": {},
   "outputs": [],
   "source": [
    "summarized = summarizer(to_tokenize, min_length=50, max_length=300)"
   ]
  },
  {
   "cell_type": "code",
   "execution_count": 7,
   "id": "409a4a41",
   "metadata": {},
   "outputs": [
    {
     "name": "stdout",
     "output_type": "stream",
     "text": [
      "[{'summary_text': 'Lionel Andrés Messi was named FIFA world player of the year six times . the 17-year-old was the youngest official player and goal scorer in the spanish laliga . he scored 38 goals in 51 matches during that season . in 2009 he was one of the most dominant players in the world .'}]\n"
     ]
    }
   ],
   "source": [
    "print(summarized)"
   ]
  },
  {
   "cell_type": "code",
   "execution_count": 8,
   "id": "ce205f14",
   "metadata": {},
   "outputs": [],
   "source": [
    "summ=' '.join([str(i) for i in summarized])"
   ]
  },
  {
   "cell_type": "code",
   "execution_count": 9,
   "id": "daead745",
   "metadata": {},
   "outputs": [
    {
     "data": {
      "text/plain": [
       "\"{'summary_text': 'Lionel Andrés Messi was named FIFA world player of the year six times . the 17-year-old was the youngest official player and goal scorer in the spanish laliga . he scored 38 goals in 51 matches during that season . in 2009 he was one of the most dominant players in the world .'}\""
      ]
     },
     "execution_count": 9,
     "metadata": {},
     "output_type": "execute_result"
    }
   ],
   "source": [
    "summ"
   ]
  },
  {
   "cell_type": "code",
   "execution_count": null,
   "id": "d912badb",
   "metadata": {},
   "outputs": [],
   "source": []
  }
 ],
 "metadata": {
  "kernelspec": {
   "display_name": "Python 3 (ipykernel)",
   "language": "python",
   "name": "python3"
  },
  "language_info": {
   "codemirror_mode": {
    "name": "ipython",
    "version": 3
   },
   "file_extension": ".py",
   "mimetype": "text/x-python",
   "name": "python",
   "nbconvert_exporter": "python",
   "pygments_lexer": "ipython3",
   "version": "3.9.12"
  }
 },
 "nbformat": 4,
 "nbformat_minor": 5
}
